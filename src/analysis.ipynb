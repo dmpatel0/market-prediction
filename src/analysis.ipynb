{
 "cells": [
  {
   "cell_type": "markdown",
   "metadata": {},
   "source": [
    "# Imports\n",
    "---"
   ]
  },
  {
   "cell_type": "code",
   "execution_count": 52,
   "metadata": {},
   "outputs": [],
   "source": [
    "import os\n",
    "import time\n",
    "import pandas as pd\n",
    "import yfinance as yf\n",
    "import talib\n",
    "from talib import MA_Type\n",
    "import numpy as np\n",
    "from tqdm.notebook import tqdm"
   ]
  },
  {
   "cell_type": "markdown",
   "metadata": {},
   "source": [
    "# Problem Statement and Background\n",
    "---"
   ]
  },
  {
   "cell_type": "markdown",
   "metadata": {},
   "source": [
    "### Research Question\n",
    "Using a regression-based model such as XGBoost, can several technical indicators such as various moving averages, Bollinger Bands, Releative Strength Index, etc. predict the following weeks's stock price percent return with an RMSE of +- 2%. \n",
    "\n",
    "### Addtional Details\n",
    "This project will compare the performance of several models such as XGBoost, linear regression, random forest, and nueral networks, along with a couple time-series specific methods such as ARIMA and LSTM. A benchmark model of using the previous weeks's return to predict the current weeks's return will be used to measure performance as well. To adapt to the time-series nature of the data, the dataset will be sorted by time, and the train-test-split will simply use the first 60% of data to train and the final 40% to test. The dataset contains 2000 different companies' stock data. The model will be trained and tested on all the companies at once instead of by each company.  \n",
    "\n",
    "### Background\n",
    "Stock prediction is an extremely common yet incredibly difficult task. The two most common techniques for this task are [fundemental and technical analysis](https://www.investopedia.com/articles/active-trading/101713/technical-vs-fundamental-investing-friends-or-foes.asp#:~:text=While%20technical%20analysis%20focuses%20on,better%20serves%20longer%20investment%20horizons.). Fundemental analysis focuses on the 'bigger picture,' looking at factors like company balance sheets, business strengths and industry state, and various macroeconomic factors. Technical analysis on the other hand focuses more on uncovering patterns in the historical data and numbers to predict future prices. Overall, fundemental analysis is usually more useful for long-term investors due to its believed 'self-correcting' nature, whereas technical analysis is preferred for short-term investors looking to capitalize on historical patterns with quick entries and exits. This project will apply technical analysis in an attempt to predict stock prices.\n",
    "\n",
    "\n"
   ]
  },
  {
   "cell_type": "markdown",
   "metadata": {},
   "source": [
    "# Dataset\n",
    "---"
   ]
  },
  {
   "cell_type": "markdown",
   "metadata": {},
   "source": [
    "The dataset was sourced using the [Yahoo Finance API](https://pypi.org/project/yfinance/). As there is no fixed dataset, I created a python script to pull data from the API, store it in a dataframe, and finally output it a csv for future use. If the data ever needs to be updated, running the script once should update the entire csv. Potential future updates can including different interval lengths, a larger/shorter overall dataset time period, or a different set of companies. An initial time period of 10 years with an interval of 1 week was chosen and stock data from 2000 companies was gathered. The final shape of the raw dataset was (1,014,887, 11). The features in this raw dataset will be used to construct various technical indicators such as several moving averages, Bollinger Bands, RSI, among others. This updated dataset will also be saved as a csv for resuseabliity and efficiency. "
   ]
  },
  {
   "cell_type": "code",
   "execution_count": null,
   "metadata": {},
   "outputs": [],
   "source": [
    "master_df = pd.read_csv('master_stock_dataset.csv')\n",
    "master_df.sort_values(by='Date', ascending=True).head()"
   ]
  },
  {
   "cell_type": "markdown",
   "metadata": {},
   "source": [
    "# Data Cleaning & Preprocessing\n",
    "---"
   ]
  },
  {
   "cell_type": "code",
   "execution_count": 54,
   "metadata": {},
   "outputs": [],
   "source": [
    "master_df.drop(['Capital Gains', 'Adj Close', 'Stock Splits', 'Dividends'], axis=1, inplace=True)\n",
    "\n",
    "master_df['Date'] = pd.to_datetime(master_df['Date'], utc=True)\n",
    "master_df['Date'] = master_df['Date'].dt.date\n",
    "\n",
    "master_df.set_index('Date', inplace=True)\n",
    "master_df.sort_index(inplace=True)\n",
    "master_df.head(20)\n",
    "\n",
    "headers = ['Date', 'Open', 'High', 'Low', 'Close', 'Volume', 'Ticker']"
   ]
  },
  {
   "cell_type": "markdown",
   "metadata": {},
   "source": [
    "## Additional Technical Indicators\n"
   ]
  },
  {
   "cell_type": "markdown",
   "metadata": {},
   "source": [
    "### Log Returns"
   ]
  },
  {
   "cell_type": "code",
   "execution_count": 55,
   "metadata": {},
   "outputs": [
    {
     "name": "stderr",
     "output_type": "stream",
     "text": [
      "/Users/divinity/wpi/cs539/final-project/src/venv/lib/python3.13/site-packages/pandas/core/arraylike.py:399: RuntimeWarning:\n",
      "\n",
      "invalid value encountered in log\n",
      "\n",
      "/Users/divinity/wpi/cs539/final-project/src/venv/lib/python3.13/site-packages/pandas/core/arraylike.py:399: RuntimeWarning:\n",
      "\n",
      "invalid value encountered in log\n",
      "\n"
     ]
    }
   ],
   "source": [
    "try:\n",
    "    os.remove('modified_dataset.csv')\n",
    "except:\n",
    "    pass\n",
    "\n",
    "for ticker in tqdm(master_df['Ticker'].unique(), desc='Calculating Log Return'):\n",
    "    subdf = master_df[master_df['Ticker'] == ticker].copy()\n",
    "\n",
    "    # Calculate the log of the return % for each entry (excluding the first occurance)\n",
    "    subdf['Log Return'] = np.log(subdf['Close'] / subdf['Close'].shift(1))\n",
    "    subdf.head()\n",
    "    subdf.to_csv('modified_dataset.csv', mode='a', header=False, index=True)"
   ]
  },
  {
   "cell_type": "code",
   "execution_count": 56,
   "metadata": {},
   "outputs": [
    {
     "data": {
      "text/html": [
       "<div>\n",
       "<style scoped>\n",
       "    .dataframe tbody tr th:only-of-type {\n",
       "        vertical-align: middle;\n",
       "    }\n",
       "\n",
       "    .dataframe tbody tr th {\n",
       "        vertical-align: top;\n",
       "    }\n",
       "\n",
       "    .dataframe thead th {\n",
       "        text-align: right;\n",
       "    }\n",
       "</style>\n",
       "<table border=\"1\" class=\"dataframe\">\n",
       "  <thead>\n",
       "    <tr style=\"text-align: right;\">\n",
       "      <th></th>\n",
       "      <th>Open</th>\n",
       "      <th>High</th>\n",
       "      <th>Low</th>\n",
       "      <th>Close</th>\n",
       "      <th>Volume</th>\n",
       "      <th>Ticker</th>\n",
       "      <th>Log Return</th>\n",
       "    </tr>\n",
       "    <tr>\n",
       "      <th>Date</th>\n",
       "      <th></th>\n",
       "      <th></th>\n",
       "      <th></th>\n",
       "      <th></th>\n",
       "      <th></th>\n",
       "      <th></th>\n",
       "      <th></th>\n",
       "    </tr>\n",
       "  </thead>\n",
       "  <tbody>\n",
       "    <tr>\n",
       "      <th>2015-02-09</th>\n",
       "      <td>0.486744</td>\n",
       "      <td>0.540026</td>\n",
       "      <td>0.483624</td>\n",
       "      <td>0.535466</td>\n",
       "      <td>1.807968e+09</td>\n",
       "      <td>NVDA</td>\n",
       "      <td>0.089500</td>\n",
       "    </tr>\n",
       "    <tr>\n",
       "      <th>2015-02-16</th>\n",
       "      <td>0.534506</td>\n",
       "      <td>0.539786</td>\n",
       "      <td>0.528026</td>\n",
       "      <td>0.536186</td>\n",
       "      <td>7.014720e+08</td>\n",
       "      <td>NVDA</td>\n",
       "      <td>0.001344</td>\n",
       "    </tr>\n",
       "    <tr>\n",
       "      <th>2015-02-23</th>\n",
       "      <td>0.535946</td>\n",
       "      <td>0.535946</td>\n",
       "      <td>0.527066</td>\n",
       "      <td>0.529466</td>\n",
       "      <td>7.085400e+08</td>\n",
       "      <td>NVDA</td>\n",
       "      <td>-0.012613</td>\n",
       "    </tr>\n",
       "    <tr>\n",
       "      <th>2015-03-02</th>\n",
       "      <td>0.530059</td>\n",
       "      <td>0.551743</td>\n",
       "      <td>0.529336</td>\n",
       "      <td>0.543310</td>\n",
       "      <td>1.269144e+09</td>\n",
       "      <td>NVDA</td>\n",
       "      <td>0.025812</td>\n",
       "    </tr>\n",
       "    <tr>\n",
       "      <th>2015-03-09</th>\n",
       "      <td>0.543551</td>\n",
       "      <td>0.561381</td>\n",
       "      <td>0.535841</td>\n",
       "      <td>0.546924</td>\n",
       "      <td>1.777980e+09</td>\n",
       "      <td>NVDA</td>\n",
       "      <td>0.006630</td>\n",
       "    </tr>\n",
       "    <tr>\n",
       "      <th>...</th>\n",
       "      <td>...</td>\n",
       "      <td>...</td>\n",
       "      <td>...</td>\n",
       "      <td>...</td>\n",
       "      <td>...</td>\n",
       "      <td>...</td>\n",
       "      <td>...</td>\n",
       "    </tr>\n",
       "    <tr>\n",
       "      <th>2025-01-06</th>\n",
       "      <td>148.589996</td>\n",
       "      <td>153.130005</td>\n",
       "      <td>134.220001</td>\n",
       "      <td>135.910004</td>\n",
       "      <td>1.052112e+09</td>\n",
       "      <td>NVDA</td>\n",
       "      <td>-0.061079</td>\n",
       "    </tr>\n",
       "    <tr>\n",
       "      <th>2025-01-13</th>\n",
       "      <td>129.990005</td>\n",
       "      <td>138.750000</td>\n",
       "      <td>129.509995</td>\n",
       "      <td>137.710007</td>\n",
       "      <td>9.960411e+08</td>\n",
       "      <td>NVDA</td>\n",
       "      <td>0.013157</td>\n",
       "    </tr>\n",
       "    <tr>\n",
       "      <th>2025-01-20</th>\n",
       "      <td>139.160004</td>\n",
       "      <td>148.970001</td>\n",
       "      <td>137.089996</td>\n",
       "      <td>142.619995</td>\n",
       "      <td>8.259735e+08</td>\n",
       "      <td>NVDA</td>\n",
       "      <td>0.035034</td>\n",
       "    </tr>\n",
       "    <tr>\n",
       "      <th>2025-01-27</th>\n",
       "      <td>124.800003</td>\n",
       "      <td>129.000000</td>\n",
       "      <td>116.250000</td>\n",
       "      <td>120.070000</td>\n",
       "      <td>2.648916e+09</td>\n",
       "      <td>NVDA</td>\n",
       "      <td>-0.172109</td>\n",
       "    </tr>\n",
       "    <tr>\n",
       "      <th>2025-02-03</th>\n",
       "      <td>114.750000</td>\n",
       "      <td>128.750000</td>\n",
       "      <td>113.010002</td>\n",
       "      <td>128.679993</td>\n",
       "      <td>1.133854e+09</td>\n",
       "      <td>NVDA</td>\n",
       "      <td>0.069254</td>\n",
       "    </tr>\n",
       "  </tbody>\n",
       "</table>\n",
       "<p>522 rows × 7 columns</p>\n",
       "</div>"
      ],
      "text/plain": [
       "                  Open        High         Low       Close        Volume  \\\n",
       "Date                                                                       \n",
       "2015-02-09    0.486744    0.540026    0.483624    0.535466  1.807968e+09   \n",
       "2015-02-16    0.534506    0.539786    0.528026    0.536186  7.014720e+08   \n",
       "2015-02-23    0.535946    0.535946    0.527066    0.529466  7.085400e+08   \n",
       "2015-03-02    0.530059    0.551743    0.529336    0.543310  1.269144e+09   \n",
       "2015-03-09    0.543551    0.561381    0.535841    0.546924  1.777980e+09   \n",
       "...                ...         ...         ...         ...           ...   \n",
       "2025-01-06  148.589996  153.130005  134.220001  135.910004  1.052112e+09   \n",
       "2025-01-13  129.990005  138.750000  129.509995  137.710007  9.960411e+08   \n",
       "2025-01-20  139.160004  148.970001  137.089996  142.619995  8.259735e+08   \n",
       "2025-01-27  124.800003  129.000000  116.250000  120.070000  2.648916e+09   \n",
       "2025-02-03  114.750000  128.750000  113.010002  128.679993  1.133854e+09   \n",
       "\n",
       "           Ticker  Log Return  \n",
       "Date                           \n",
       "2015-02-09   NVDA    0.089500  \n",
       "2015-02-16   NVDA    0.001344  \n",
       "2015-02-23   NVDA   -0.012613  \n",
       "2015-03-02   NVDA    0.025812  \n",
       "2015-03-09   NVDA    0.006630  \n",
       "...           ...         ...  \n",
       "2025-01-06   NVDA   -0.061079  \n",
       "2025-01-13   NVDA    0.013157  \n",
       "2025-01-20   NVDA    0.035034  \n",
       "2025-01-27   NVDA   -0.172109  \n",
       "2025-02-03   NVDA    0.069254  \n",
       "\n",
       "[522 rows x 7 columns]"
      ]
     },
     "execution_count": 56,
     "metadata": {},
     "output_type": "execute_result"
    }
   ],
   "source": [
    "mod_df = pd.read_csv('modified_dataset.csv')\n",
    "headers.append('Log Return')\n",
    "mod_df.columns = headers\n",
    "mod_df.set_index('Date', inplace=True)\n",
    "mod_df.sort_index(inplace=True)\n",
    "mod_df[mod_df['Ticker'] == 'NVDA'].head(3000)"
   ]
  },
  {
   "cell_type": "markdown",
   "metadata": {},
   "source": [
    "### Simple Moving Average"
   ]
  },
  {
   "cell_type": "code",
   "execution_count": 57,
   "metadata": {},
   "outputs": [
    {
     "data": {
      "application/vnd.jupyter.widget-view+json": {
       "model_id": "7c10eb4adc8d48de88dad5864315d66c",
       "version_major": 2,
       "version_minor": 0
      },
      "text/plain": [
       "Calculating Simple Moving Average:   0%|          | 0/1986 [00:00<?, ?it/s]"
      ]
     },
     "metadata": {},
     "output_type": "display_data"
    }
   ],
   "source": [
    "try:\n",
    "    os.remove('modified_dataset.csv')\n",
    "except:\n",
    "    pass\n",
    "\n",
    "for ticker in tqdm(mod_df['Ticker'].unique(), desc=\"Calculating Simple Moving Average\"):\n",
    "    subdf = mod_df[mod_df['Ticker'] == ticker].copy()\n",
    "\n",
    "    # A timeperiod of 10 refers to a 10 week moving average\n",
    "    subdf['SMA'] = talib.SMA(subdf['Close'], timeperiod=10)\n",
    "    \n",
    "    subdf.to_csv('modified_dataset.csv', mode='a', header=False, index=True)"
   ]
  },
  {
   "cell_type": "code",
   "execution_count": 58,
   "metadata": {},
   "outputs": [
    {
     "data": {
      "text/html": [
       "<div>\n",
       "<style scoped>\n",
       "    .dataframe tbody tr th:only-of-type {\n",
       "        vertical-align: middle;\n",
       "    }\n",
       "\n",
       "    .dataframe tbody tr th {\n",
       "        vertical-align: top;\n",
       "    }\n",
       "\n",
       "    .dataframe thead th {\n",
       "        text-align: right;\n",
       "    }\n",
       "</style>\n",
       "<table border=\"1\" class=\"dataframe\">\n",
       "  <thead>\n",
       "    <tr style=\"text-align: right;\">\n",
       "      <th></th>\n",
       "      <th>Open</th>\n",
       "      <th>High</th>\n",
       "      <th>Low</th>\n",
       "      <th>Close</th>\n",
       "      <th>Volume</th>\n",
       "      <th>Ticker</th>\n",
       "      <th>Log Return</th>\n",
       "      <th>SMA</th>\n",
       "    </tr>\n",
       "    <tr>\n",
       "      <th>Date</th>\n",
       "      <th></th>\n",
       "      <th></th>\n",
       "      <th></th>\n",
       "      <th></th>\n",
       "      <th></th>\n",
       "      <th></th>\n",
       "      <th></th>\n",
       "      <th></th>\n",
       "    </tr>\n",
       "  </thead>\n",
       "  <tbody>\n",
       "    <tr>\n",
       "      <th>2015-02-09</th>\n",
       "      <td>0.486744</td>\n",
       "      <td>0.540026</td>\n",
       "      <td>0.483624</td>\n",
       "      <td>0.535466</td>\n",
       "      <td>1.807968e+09</td>\n",
       "      <td>NVDA</td>\n",
       "      <td>0.089500</td>\n",
       "      <td>NaN</td>\n",
       "    </tr>\n",
       "    <tr>\n",
       "      <th>2015-02-16</th>\n",
       "      <td>0.534506</td>\n",
       "      <td>0.539786</td>\n",
       "      <td>0.528026</td>\n",
       "      <td>0.536186</td>\n",
       "      <td>7.014720e+08</td>\n",
       "      <td>NVDA</td>\n",
       "      <td>0.001344</td>\n",
       "      <td>NaN</td>\n",
       "    </tr>\n",
       "    <tr>\n",
       "      <th>2015-02-23</th>\n",
       "      <td>0.535946</td>\n",
       "      <td>0.535946</td>\n",
       "      <td>0.527066</td>\n",
       "      <td>0.529466</td>\n",
       "      <td>7.085400e+08</td>\n",
       "      <td>NVDA</td>\n",
       "      <td>-0.012613</td>\n",
       "      <td>NaN</td>\n",
       "    </tr>\n",
       "    <tr>\n",
       "      <th>2015-03-02</th>\n",
       "      <td>0.530059</td>\n",
       "      <td>0.551743</td>\n",
       "      <td>0.529336</td>\n",
       "      <td>0.543310</td>\n",
       "      <td>1.269144e+09</td>\n",
       "      <td>NVDA</td>\n",
       "      <td>0.025812</td>\n",
       "      <td>NaN</td>\n",
       "    </tr>\n",
       "    <tr>\n",
       "      <th>2015-03-09</th>\n",
       "      <td>0.543551</td>\n",
       "      <td>0.561381</td>\n",
       "      <td>0.535841</td>\n",
       "      <td>0.546924</td>\n",
       "      <td>1.777980e+09</td>\n",
       "      <td>NVDA</td>\n",
       "      <td>0.006630</td>\n",
       "      <td>NaN</td>\n",
       "    </tr>\n",
       "    <tr>\n",
       "      <th>...</th>\n",
       "      <td>...</td>\n",
       "      <td>...</td>\n",
       "      <td>...</td>\n",
       "      <td>...</td>\n",
       "      <td>...</td>\n",
       "      <td>...</td>\n",
       "      <td>...</td>\n",
       "      <td>...</td>\n",
       "    </tr>\n",
       "    <tr>\n",
       "      <th>2025-01-06</th>\n",
       "      <td>148.589996</td>\n",
       "      <td>153.130005</td>\n",
       "      <td>134.220001</td>\n",
       "      <td>135.910004</td>\n",
       "      <td>1.052112e+09</td>\n",
       "      <td>NVDA</td>\n",
       "      <td>-0.061079</td>\n",
       "      <td>139.854092</td>\n",
       "    </tr>\n",
       "    <tr>\n",
       "      <th>2025-01-13</th>\n",
       "      <td>129.990005</td>\n",
       "      <td>138.750000</td>\n",
       "      <td>129.509995</td>\n",
       "      <td>137.710007</td>\n",
       "      <td>9.960411e+08</td>\n",
       "      <td>NVDA</td>\n",
       "      <td>0.013157</td>\n",
       "      <td>138.863110</td>\n",
       "    </tr>\n",
       "    <tr>\n",
       "      <th>2025-01-20</th>\n",
       "      <td>139.160004</td>\n",
       "      <td>148.970001</td>\n",
       "      <td>137.089996</td>\n",
       "      <td>142.619995</td>\n",
       "      <td>8.259735e+08</td>\n",
       "      <td>NVDA</td>\n",
       "      <td>0.035034</td>\n",
       "      <td>138.928088</td>\n",
       "    </tr>\n",
       "    <tr>\n",
       "      <th>2025-01-27</th>\n",
       "      <td>124.800003</td>\n",
       "      <td>129.000000</td>\n",
       "      <td>116.250000</td>\n",
       "      <td>120.070000</td>\n",
       "      <td>2.648916e+09</td>\n",
       "      <td>NVDA</td>\n",
       "      <td>-0.172109</td>\n",
       "      <td>136.741067</td>\n",
       "    </tr>\n",
       "    <tr>\n",
       "      <th>2025-02-03</th>\n",
       "      <td>114.750000</td>\n",
       "      <td>128.750000</td>\n",
       "      <td>113.010002</td>\n",
       "      <td>128.679993</td>\n",
       "      <td>1.133854e+09</td>\n",
       "      <td>NVDA</td>\n",
       "      <td>0.069254</td>\n",
       "      <td>135.785018</td>\n",
       "    </tr>\n",
       "  </tbody>\n",
       "</table>\n",
       "<p>522 rows × 8 columns</p>\n",
       "</div>"
      ],
      "text/plain": [
       "                  Open        High         Low       Close        Volume  \\\n",
       "Date                                                                       \n",
       "2015-02-09    0.486744    0.540026    0.483624    0.535466  1.807968e+09   \n",
       "2015-02-16    0.534506    0.539786    0.528026    0.536186  7.014720e+08   \n",
       "2015-02-23    0.535946    0.535946    0.527066    0.529466  7.085400e+08   \n",
       "2015-03-02    0.530059    0.551743    0.529336    0.543310  1.269144e+09   \n",
       "2015-03-09    0.543551    0.561381    0.535841    0.546924  1.777980e+09   \n",
       "...                ...         ...         ...         ...           ...   \n",
       "2025-01-06  148.589996  153.130005  134.220001  135.910004  1.052112e+09   \n",
       "2025-01-13  129.990005  138.750000  129.509995  137.710007  9.960411e+08   \n",
       "2025-01-20  139.160004  148.970001  137.089996  142.619995  8.259735e+08   \n",
       "2025-01-27  124.800003  129.000000  116.250000  120.070000  2.648916e+09   \n",
       "2025-02-03  114.750000  128.750000  113.010002  128.679993  1.133854e+09   \n",
       "\n",
       "           Ticker  Log Return         SMA  \n",
       "Date                                       \n",
       "2015-02-09   NVDA    0.089500         NaN  \n",
       "2015-02-16   NVDA    0.001344         NaN  \n",
       "2015-02-23   NVDA   -0.012613         NaN  \n",
       "2015-03-02   NVDA    0.025812         NaN  \n",
       "2015-03-09   NVDA    0.006630         NaN  \n",
       "...           ...         ...         ...  \n",
       "2025-01-06   NVDA   -0.061079  139.854092  \n",
       "2025-01-13   NVDA    0.013157  138.863110  \n",
       "2025-01-20   NVDA    0.035034  138.928088  \n",
       "2025-01-27   NVDA   -0.172109  136.741067  \n",
       "2025-02-03   NVDA    0.069254  135.785018  \n",
       "\n",
       "[522 rows x 8 columns]"
      ]
     },
     "execution_count": 58,
     "metadata": {},
     "output_type": "execute_result"
    }
   ],
   "source": [
    "mod_df = pd.read_csv('modified_dataset.csv')\n",
    "headers.append('SMA')\n",
    "mod_df.columns = headers\n",
    "mod_df.set_index('Date', inplace=True)\n",
    "mod_df.sort_index(inplace=True)\n",
    "mod_df[mod_df['Ticker'] == 'NVDA'].head(3000)"
   ]
  },
  {
   "cell_type": "markdown",
   "metadata": {},
   "source": [
    "### Weighted Moving Average"
   ]
  },
  {
   "cell_type": "code",
   "execution_count": 59,
   "metadata": {},
   "outputs": [
    {
     "data": {
      "application/vnd.jupyter.widget-view+json": {
       "model_id": "9a3380ab063a4a9dac0fb5898904ea9a",
       "version_major": 2,
       "version_minor": 0
      },
      "text/plain": [
       "Calculating Weighted Moving Average:   0%|          | 0/1986 [00:00<?, ?it/s]"
      ]
     },
     "metadata": {},
     "output_type": "display_data"
    }
   ],
   "source": [
    "try:\n",
    "    os.remove('modified_dataset.csv')\n",
    "except:\n",
    "    pass\n",
    "\n",
    "for ticker in tqdm(mod_df['Ticker'].unique(), desc=\"Calculating Weighted Moving Average\"):\n",
    "    subdf = mod_df[mod_df['Ticker'] == ticker].copy()\n",
    "\n",
    "    # A timeperiod of 10 refers to a 10 week moving average\n",
    "    subdf['WMA'] = talib.WMA(subdf['Close'], timeperiod=10)\n",
    "    \n",
    "    subdf.to_csv('modified_dataset.csv', mode='a', header=False, index=True)"
   ]
  },
  {
   "cell_type": "code",
   "execution_count": 60,
   "metadata": {},
   "outputs": [
    {
     "data": {
      "text/html": [
       "<div>\n",
       "<style scoped>\n",
       "    .dataframe tbody tr th:only-of-type {\n",
       "        vertical-align: middle;\n",
       "    }\n",
       "\n",
       "    .dataframe tbody tr th {\n",
       "        vertical-align: top;\n",
       "    }\n",
       "\n",
       "    .dataframe thead th {\n",
       "        text-align: right;\n",
       "    }\n",
       "</style>\n",
       "<table border=\"1\" class=\"dataframe\">\n",
       "  <thead>\n",
       "    <tr style=\"text-align: right;\">\n",
       "      <th></th>\n",
       "      <th>Open</th>\n",
       "      <th>High</th>\n",
       "      <th>Low</th>\n",
       "      <th>Close</th>\n",
       "      <th>Volume</th>\n",
       "      <th>Ticker</th>\n",
       "      <th>Log Return</th>\n",
       "      <th>SMA</th>\n",
       "      <th>WMA</th>\n",
       "    </tr>\n",
       "    <tr>\n",
       "      <th>Date</th>\n",
       "      <th></th>\n",
       "      <th></th>\n",
       "      <th></th>\n",
       "      <th></th>\n",
       "      <th></th>\n",
       "      <th></th>\n",
       "      <th></th>\n",
       "      <th></th>\n",
       "      <th></th>\n",
       "    </tr>\n",
       "  </thead>\n",
       "  <tbody>\n",
       "    <tr>\n",
       "      <th>2015-02-09</th>\n",
       "      <td>0.486744</td>\n",
       "      <td>0.540026</td>\n",
       "      <td>0.483624</td>\n",
       "      <td>0.535466</td>\n",
       "      <td>1.807968e+09</td>\n",
       "      <td>NVDA</td>\n",
       "      <td>0.089500</td>\n",
       "      <td>NaN</td>\n",
       "      <td>NaN</td>\n",
       "    </tr>\n",
       "    <tr>\n",
       "      <th>2015-02-16</th>\n",
       "      <td>0.534506</td>\n",
       "      <td>0.539786</td>\n",
       "      <td>0.528026</td>\n",
       "      <td>0.536186</td>\n",
       "      <td>7.014720e+08</td>\n",
       "      <td>NVDA</td>\n",
       "      <td>0.001344</td>\n",
       "      <td>NaN</td>\n",
       "      <td>NaN</td>\n",
       "    </tr>\n",
       "    <tr>\n",
       "      <th>2015-02-23</th>\n",
       "      <td>0.535946</td>\n",
       "      <td>0.535946</td>\n",
       "      <td>0.527066</td>\n",
       "      <td>0.529466</td>\n",
       "      <td>7.085400e+08</td>\n",
       "      <td>NVDA</td>\n",
       "      <td>-0.012613</td>\n",
       "      <td>NaN</td>\n",
       "      <td>NaN</td>\n",
       "    </tr>\n",
       "    <tr>\n",
       "      <th>2015-03-02</th>\n",
       "      <td>0.530059</td>\n",
       "      <td>0.551743</td>\n",
       "      <td>0.529336</td>\n",
       "      <td>0.543310</td>\n",
       "      <td>1.269144e+09</td>\n",
       "      <td>NVDA</td>\n",
       "      <td>0.025812</td>\n",
       "      <td>NaN</td>\n",
       "      <td>NaN</td>\n",
       "    </tr>\n",
       "    <tr>\n",
       "      <th>2015-03-09</th>\n",
       "      <td>0.543551</td>\n",
       "      <td>0.561381</td>\n",
       "      <td>0.535841</td>\n",
       "      <td>0.546924</td>\n",
       "      <td>1.777980e+09</td>\n",
       "      <td>NVDA</td>\n",
       "      <td>0.006630</td>\n",
       "      <td>NaN</td>\n",
       "      <td>NaN</td>\n",
       "    </tr>\n",
       "    <tr>\n",
       "      <th>...</th>\n",
       "      <td>...</td>\n",
       "      <td>...</td>\n",
       "      <td>...</td>\n",
       "      <td>...</td>\n",
       "      <td>...</td>\n",
       "      <td>...</td>\n",
       "      <td>...</td>\n",
       "      <td>...</td>\n",
       "      <td>...</td>\n",
       "    </tr>\n",
       "    <tr>\n",
       "      <th>2025-01-06</th>\n",
       "      <td>148.589996</td>\n",
       "      <td>153.130005</td>\n",
       "      <td>134.220001</td>\n",
       "      <td>135.910004</td>\n",
       "      <td>1.052112e+09</td>\n",
       "      <td>NVDA</td>\n",
       "      <td>-0.061079</td>\n",
       "      <td>139.854092</td>\n",
       "      <td>138.660068</td>\n",
       "    </tr>\n",
       "    <tr>\n",
       "      <th>2025-01-13</th>\n",
       "      <td>129.990005</td>\n",
       "      <td>138.750000</td>\n",
       "      <td>129.509995</td>\n",
       "      <td>137.710007</td>\n",
       "      <td>9.960411e+08</td>\n",
       "      <td>NVDA</td>\n",
       "      <td>0.013157</td>\n",
       "      <td>138.863110</td>\n",
       "      <td>138.270235</td>\n",
       "    </tr>\n",
       "    <tr>\n",
       "      <th>2025-01-20</th>\n",
       "      <td>139.160004</td>\n",
       "      <td>148.970001</td>\n",
       "      <td>137.089996</td>\n",
       "      <td>142.619995</td>\n",
       "      <td>8.259735e+08</td>\n",
       "      <td>NVDA</td>\n",
       "      <td>0.035034</td>\n",
       "      <td>138.928088</td>\n",
       "      <td>138.953304</td>\n",
       "    </tr>\n",
       "    <tr>\n",
       "      <th>2025-01-27</th>\n",
       "      <td>124.800003</td>\n",
       "      <td>129.000000</td>\n",
       "      <td>116.250000</td>\n",
       "      <td>120.070000</td>\n",
       "      <td>2.648916e+09</td>\n",
       "      <td>NVDA</td>\n",
       "      <td>-0.172109</td>\n",
       "      <td>136.741067</td>\n",
       "      <td>135.524561</td>\n",
       "    </tr>\n",
       "    <tr>\n",
       "      <th>2025-02-03</th>\n",
       "      <td>114.750000</td>\n",
       "      <td>128.750000</td>\n",
       "      <td>113.010002</td>\n",
       "      <td>128.679993</td>\n",
       "      <td>1.133854e+09</td>\n",
       "      <td>NVDA</td>\n",
       "      <td>0.069254</td>\n",
       "      <td>135.785018</td>\n",
       "      <td>134.058911</td>\n",
       "    </tr>\n",
       "  </tbody>\n",
       "</table>\n",
       "<p>522 rows × 9 columns</p>\n",
       "</div>"
      ],
      "text/plain": [
       "                  Open        High         Low       Close        Volume  \\\n",
       "Date                                                                       \n",
       "2015-02-09    0.486744    0.540026    0.483624    0.535466  1.807968e+09   \n",
       "2015-02-16    0.534506    0.539786    0.528026    0.536186  7.014720e+08   \n",
       "2015-02-23    0.535946    0.535946    0.527066    0.529466  7.085400e+08   \n",
       "2015-03-02    0.530059    0.551743    0.529336    0.543310  1.269144e+09   \n",
       "2015-03-09    0.543551    0.561381    0.535841    0.546924  1.777980e+09   \n",
       "...                ...         ...         ...         ...           ...   \n",
       "2025-01-06  148.589996  153.130005  134.220001  135.910004  1.052112e+09   \n",
       "2025-01-13  129.990005  138.750000  129.509995  137.710007  9.960411e+08   \n",
       "2025-01-20  139.160004  148.970001  137.089996  142.619995  8.259735e+08   \n",
       "2025-01-27  124.800003  129.000000  116.250000  120.070000  2.648916e+09   \n",
       "2025-02-03  114.750000  128.750000  113.010002  128.679993  1.133854e+09   \n",
       "\n",
       "           Ticker  Log Return         SMA         WMA  \n",
       "Date                                                   \n",
       "2015-02-09   NVDA    0.089500         NaN         NaN  \n",
       "2015-02-16   NVDA    0.001344         NaN         NaN  \n",
       "2015-02-23   NVDA   -0.012613         NaN         NaN  \n",
       "2015-03-02   NVDA    0.025812         NaN         NaN  \n",
       "2015-03-09   NVDA    0.006630         NaN         NaN  \n",
       "...           ...         ...         ...         ...  \n",
       "2025-01-06   NVDA   -0.061079  139.854092  138.660068  \n",
       "2025-01-13   NVDA    0.013157  138.863110  138.270235  \n",
       "2025-01-20   NVDA    0.035034  138.928088  138.953304  \n",
       "2025-01-27   NVDA   -0.172109  136.741067  135.524561  \n",
       "2025-02-03   NVDA    0.069254  135.785018  134.058911  \n",
       "\n",
       "[522 rows x 9 columns]"
      ]
     },
     "execution_count": 60,
     "metadata": {},
     "output_type": "execute_result"
    }
   ],
   "source": [
    "mod_df = pd.read_csv('modified_dataset.csv')\n",
    "headers.append('WMA')\n",
    "mod_df.columns = headers\n",
    "mod_df.set_index('Date', inplace=True)\n",
    "mod_df.sort_index(inplace=True)\n",
    "mod_df[mod_df['Ticker'] == 'NVDA'].head(3000)"
   ]
  },
  {
   "cell_type": "markdown",
   "metadata": {},
   "source": [
    "### Bollinger Bands"
   ]
  },
  {
   "cell_type": "code",
   "execution_count": 61,
   "metadata": {},
   "outputs": [
    {
     "data": {
      "application/vnd.jupyter.widget-view+json": {
       "model_id": "534b0673b44b4687b86a632199061a72",
       "version_major": 2,
       "version_minor": 0
      },
      "text/plain": [
       "Calculating Bollinger Bands:   0%|          | 0/1986 [00:00<?, ?it/s]"
      ]
     },
     "metadata": {},
     "output_type": "display_data"
    }
   ],
   "source": [
    "try:\n",
    "    os.remove('modified_dataset.csv')\n",
    "except:\n",
    "    pass\n",
    "\n",
    "for ticker in tqdm(mod_df['Ticker'].unique(), desc=\"Calculating Bollinger Bands\"):\n",
    "    subdf = mod_df[mod_df['Ticker'] == ticker].copy()\n",
    "\n",
    "    upper_band, sma, lower_band = talib.BBANDS(subdf['Close'], matype=MA_Type.SMA, timeperiod=10)\n",
    "\n",
    "    subdf['BB Upper'] = upper_band\n",
    "    subdf['BB Lower'] = lower_band\n",
    "    \n",
    "    subdf.to_csv('modified_dataset.csv', mode='a', header=False, index=True)"
   ]
  },
  {
   "cell_type": "code",
   "execution_count": 62,
   "metadata": {},
   "outputs": [
    {
     "data": {
      "text/html": [
       "<div>\n",
       "<style scoped>\n",
       "    .dataframe tbody tr th:only-of-type {\n",
       "        vertical-align: middle;\n",
       "    }\n",
       "\n",
       "    .dataframe tbody tr th {\n",
       "        vertical-align: top;\n",
       "    }\n",
       "\n",
       "    .dataframe thead th {\n",
       "        text-align: right;\n",
       "    }\n",
       "</style>\n",
       "<table border=\"1\" class=\"dataframe\">\n",
       "  <thead>\n",
       "    <tr style=\"text-align: right;\">\n",
       "      <th></th>\n",
       "      <th>Open</th>\n",
       "      <th>High</th>\n",
       "      <th>Low</th>\n",
       "      <th>Close</th>\n",
       "      <th>Volume</th>\n",
       "      <th>Ticker</th>\n",
       "      <th>Log Return</th>\n",
       "      <th>SMA</th>\n",
       "      <th>WMA</th>\n",
       "      <th>BB_Upper</th>\n",
       "      <th>BB_Lower</th>\n",
       "    </tr>\n",
       "    <tr>\n",
       "      <th>Date</th>\n",
       "      <th></th>\n",
       "      <th></th>\n",
       "      <th></th>\n",
       "      <th></th>\n",
       "      <th></th>\n",
       "      <th></th>\n",
       "      <th></th>\n",
       "      <th></th>\n",
       "      <th></th>\n",
       "      <th></th>\n",
       "      <th></th>\n",
       "    </tr>\n",
       "  </thead>\n",
       "  <tbody>\n",
       "    <tr>\n",
       "      <th>2015-02-09</th>\n",
       "      <td>0.486744</td>\n",
       "      <td>0.540026</td>\n",
       "      <td>0.483624</td>\n",
       "      <td>0.535466</td>\n",
       "      <td>1.807968e+09</td>\n",
       "      <td>NVDA</td>\n",
       "      <td>0.089500</td>\n",
       "      <td>NaN</td>\n",
       "      <td>NaN</td>\n",
       "      <td>NaN</td>\n",
       "      <td>NaN</td>\n",
       "    </tr>\n",
       "    <tr>\n",
       "      <th>2015-02-16</th>\n",
       "      <td>0.534506</td>\n",
       "      <td>0.539786</td>\n",
       "      <td>0.528026</td>\n",
       "      <td>0.536186</td>\n",
       "      <td>7.014720e+08</td>\n",
       "      <td>NVDA</td>\n",
       "      <td>0.001344</td>\n",
       "      <td>NaN</td>\n",
       "      <td>NaN</td>\n",
       "      <td>NaN</td>\n",
       "      <td>NaN</td>\n",
       "    </tr>\n",
       "    <tr>\n",
       "      <th>2015-02-23</th>\n",
       "      <td>0.535946</td>\n",
       "      <td>0.535946</td>\n",
       "      <td>0.527066</td>\n",
       "      <td>0.529466</td>\n",
       "      <td>7.085400e+08</td>\n",
       "      <td>NVDA</td>\n",
       "      <td>-0.012613</td>\n",
       "      <td>NaN</td>\n",
       "      <td>NaN</td>\n",
       "      <td>NaN</td>\n",
       "      <td>NaN</td>\n",
       "    </tr>\n",
       "    <tr>\n",
       "      <th>2015-03-02</th>\n",
       "      <td>0.530059</td>\n",
       "      <td>0.551743</td>\n",
       "      <td>0.529336</td>\n",
       "      <td>0.543310</td>\n",
       "      <td>1.269144e+09</td>\n",
       "      <td>NVDA</td>\n",
       "      <td>0.025812</td>\n",
       "      <td>NaN</td>\n",
       "      <td>NaN</td>\n",
       "      <td>NaN</td>\n",
       "      <td>NaN</td>\n",
       "    </tr>\n",
       "    <tr>\n",
       "      <th>2015-03-09</th>\n",
       "      <td>0.543551</td>\n",
       "      <td>0.561381</td>\n",
       "      <td>0.535841</td>\n",
       "      <td>0.546924</td>\n",
       "      <td>1.777980e+09</td>\n",
       "      <td>NVDA</td>\n",
       "      <td>0.006630</td>\n",
       "      <td>NaN</td>\n",
       "      <td>NaN</td>\n",
       "      <td>NaN</td>\n",
       "      <td>NaN</td>\n",
       "    </tr>\n",
       "    <tr>\n",
       "      <th>...</th>\n",
       "      <td>...</td>\n",
       "      <td>...</td>\n",
       "      <td>...</td>\n",
       "      <td>...</td>\n",
       "      <td>...</td>\n",
       "      <td>...</td>\n",
       "      <td>...</td>\n",
       "      <td>...</td>\n",
       "      <td>...</td>\n",
       "      <td>...</td>\n",
       "      <td>...</td>\n",
       "    </tr>\n",
       "    <tr>\n",
       "      <th>2025-01-06</th>\n",
       "      <td>148.589996</td>\n",
       "      <td>153.130005</td>\n",
       "      <td>134.220001</td>\n",
       "      <td>135.910004</td>\n",
       "      <td>1.052112e+09</td>\n",
       "      <td>NVDA</td>\n",
       "      <td>-0.061079</td>\n",
       "      <td>139.854092</td>\n",
       "      <td>138.660068</td>\n",
       "      <td>148.369924</td>\n",
       "      <td>131.338261</td>\n",
       "    </tr>\n",
       "    <tr>\n",
       "      <th>2025-01-13</th>\n",
       "      <td>129.990005</td>\n",
       "      <td>138.750000</td>\n",
       "      <td>129.509995</td>\n",
       "      <td>137.710007</td>\n",
       "      <td>9.960411e+08</td>\n",
       "      <td>NVDA</td>\n",
       "      <td>0.013157</td>\n",
       "      <td>138.863110</td>\n",
       "      <td>138.270235</td>\n",
       "      <td>145.668063</td>\n",
       "      <td>132.058157</td>\n",
       "    </tr>\n",
       "    <tr>\n",
       "      <th>2025-01-20</th>\n",
       "      <td>139.160004</td>\n",
       "      <td>148.970001</td>\n",
       "      <td>137.089996</td>\n",
       "      <td>142.619995</td>\n",
       "      <td>8.259735e+08</td>\n",
       "      <td>NVDA</td>\n",
       "      <td>0.035034</td>\n",
       "      <td>138.928088</td>\n",
       "      <td>138.953304</td>\n",
       "      <td>145.861668</td>\n",
       "      <td>131.994508</td>\n",
       "    </tr>\n",
       "    <tr>\n",
       "      <th>2025-01-27</th>\n",
       "      <td>124.800003</td>\n",
       "      <td>129.000000</td>\n",
       "      <td>116.250000</td>\n",
       "      <td>120.070000</td>\n",
       "      <td>2.648916e+09</td>\n",
       "      <td>NVDA</td>\n",
       "      <td>-0.172109</td>\n",
       "      <td>136.741067</td>\n",
       "      <td>135.524561</td>\n",
       "      <td>149.685723</td>\n",
       "      <td>123.796411</td>\n",
       "    </tr>\n",
       "    <tr>\n",
       "      <th>2025-02-03</th>\n",
       "      <td>114.750000</td>\n",
       "      <td>128.750000</td>\n",
       "      <td>113.010002</td>\n",
       "      <td>128.679993</td>\n",
       "      <td>1.133854e+09</td>\n",
       "      <td>NVDA</td>\n",
       "      <td>0.069254</td>\n",
       "      <td>135.785018</td>\n",
       "      <td>134.058911</td>\n",
       "      <td>149.532784</td>\n",
       "      <td>122.037252</td>\n",
       "    </tr>\n",
       "  </tbody>\n",
       "</table>\n",
       "<p>522 rows × 11 columns</p>\n",
       "</div>"
      ],
      "text/plain": [
       "                  Open        High         Low       Close        Volume  \\\n",
       "Date                                                                       \n",
       "2015-02-09    0.486744    0.540026    0.483624    0.535466  1.807968e+09   \n",
       "2015-02-16    0.534506    0.539786    0.528026    0.536186  7.014720e+08   \n",
       "2015-02-23    0.535946    0.535946    0.527066    0.529466  7.085400e+08   \n",
       "2015-03-02    0.530059    0.551743    0.529336    0.543310  1.269144e+09   \n",
       "2015-03-09    0.543551    0.561381    0.535841    0.546924  1.777980e+09   \n",
       "...                ...         ...         ...         ...           ...   \n",
       "2025-01-06  148.589996  153.130005  134.220001  135.910004  1.052112e+09   \n",
       "2025-01-13  129.990005  138.750000  129.509995  137.710007  9.960411e+08   \n",
       "2025-01-20  139.160004  148.970001  137.089996  142.619995  8.259735e+08   \n",
       "2025-01-27  124.800003  129.000000  116.250000  120.070000  2.648916e+09   \n",
       "2025-02-03  114.750000  128.750000  113.010002  128.679993  1.133854e+09   \n",
       "\n",
       "           Ticker  Log Return         SMA         WMA    BB_Upper    BB_Lower  \n",
       "Date                                                                           \n",
       "2015-02-09   NVDA    0.089500         NaN         NaN         NaN         NaN  \n",
       "2015-02-16   NVDA    0.001344         NaN         NaN         NaN         NaN  \n",
       "2015-02-23   NVDA   -0.012613         NaN         NaN         NaN         NaN  \n",
       "2015-03-02   NVDA    0.025812         NaN         NaN         NaN         NaN  \n",
       "2015-03-09   NVDA    0.006630         NaN         NaN         NaN         NaN  \n",
       "...           ...         ...         ...         ...         ...         ...  \n",
       "2025-01-06   NVDA   -0.061079  139.854092  138.660068  148.369924  131.338261  \n",
       "2025-01-13   NVDA    0.013157  138.863110  138.270235  145.668063  132.058157  \n",
       "2025-01-20   NVDA    0.035034  138.928088  138.953304  145.861668  131.994508  \n",
       "2025-01-27   NVDA   -0.172109  136.741067  135.524561  149.685723  123.796411  \n",
       "2025-02-03   NVDA    0.069254  135.785018  134.058911  149.532784  122.037252  \n",
       "\n",
       "[522 rows x 11 columns]"
      ]
     },
     "execution_count": 62,
     "metadata": {},
     "output_type": "execute_result"
    }
   ],
   "source": [
    "mod_df = pd.read_csv('modified_dataset.csv')\n",
    "headers.append('BB_Upper')\n",
    "headers.append('BB_Lower')\n",
    "mod_df.columns = headers\n",
    "mod_df.set_index('Date', inplace=True)\n",
    "mod_df.sort_index(inplace=True)\n",
    "mod_df[mod_df['Ticker'] == 'NVDA'].head(3000)"
   ]
  },
  {
   "cell_type": "markdown",
   "metadata": {},
   "source": [
    "### Money Flow Index"
   ]
  },
  {
   "cell_type": "code",
   "execution_count": 63,
   "metadata": {},
   "outputs": [
    {
     "data": {
      "application/vnd.jupyter.widget-view+json": {
       "model_id": "98a741460dfb4d489598b974a15c102e",
       "version_major": 2,
       "version_minor": 0
      },
      "text/plain": [
       "Calculating Money Flow Index:   0%|          | 0/1986 [00:00<?, ?it/s]"
      ]
     },
     "metadata": {},
     "output_type": "display_data"
    }
   ],
   "source": [
    "try:\n",
    "    os.remove('modified_dataset.csv')\n",
    "except:\n",
    "    pass\n",
    "\n",
    "for ticker in tqdm(mod_df['Ticker'].unique(), desc=\"Calculating Money Flow Index\"):\n",
    "    subdf = mod_df[mod_df['Ticker'] == ticker].copy()\n",
    "\n",
    "    subdf['MFI'] = talib.MFI(subdf['High'], subdf['Low'], subdf['Close'], subdf['Volume'], timeperiod=10)\n",
    "\n",
    "    subdf.to_csv('modified_dataset.csv', mode='a', header=False, index=True)"
   ]
  },
  {
   "cell_type": "code",
   "execution_count": 64,
   "metadata": {},
   "outputs": [
    {
     "data": {
      "text/html": [
       "<div>\n",
       "<style scoped>\n",
       "    .dataframe tbody tr th:only-of-type {\n",
       "        vertical-align: middle;\n",
       "    }\n",
       "\n",
       "    .dataframe tbody tr th {\n",
       "        vertical-align: top;\n",
       "    }\n",
       "\n",
       "    .dataframe thead th {\n",
       "        text-align: right;\n",
       "    }\n",
       "</style>\n",
       "<table border=\"1\" class=\"dataframe\">\n",
       "  <thead>\n",
       "    <tr style=\"text-align: right;\">\n",
       "      <th></th>\n",
       "      <th>Open</th>\n",
       "      <th>High</th>\n",
       "      <th>Low</th>\n",
       "      <th>Close</th>\n",
       "      <th>Volume</th>\n",
       "      <th>Ticker</th>\n",
       "      <th>Log Return</th>\n",
       "      <th>SMA</th>\n",
       "      <th>WMA</th>\n",
       "      <th>BB_Upper</th>\n",
       "      <th>BB_Lower</th>\n",
       "      <th>MFI</th>\n",
       "    </tr>\n",
       "    <tr>\n",
       "      <th>Date</th>\n",
       "      <th></th>\n",
       "      <th></th>\n",
       "      <th></th>\n",
       "      <th></th>\n",
       "      <th></th>\n",
       "      <th></th>\n",
       "      <th></th>\n",
       "      <th></th>\n",
       "      <th></th>\n",
       "      <th></th>\n",
       "      <th></th>\n",
       "      <th></th>\n",
       "    </tr>\n",
       "  </thead>\n",
       "  <tbody>\n",
       "    <tr>\n",
       "      <th>2015-02-09</th>\n",
       "      <td>0.486744</td>\n",
       "      <td>0.540026</td>\n",
       "      <td>0.483624</td>\n",
       "      <td>0.535466</td>\n",
       "      <td>1.807968e+09</td>\n",
       "      <td>NVDA</td>\n",
       "      <td>0.089500</td>\n",
       "      <td>NaN</td>\n",
       "      <td>NaN</td>\n",
       "      <td>NaN</td>\n",
       "      <td>NaN</td>\n",
       "      <td>NaN</td>\n",
       "    </tr>\n",
       "    <tr>\n",
       "      <th>2015-02-16</th>\n",
       "      <td>0.534506</td>\n",
       "      <td>0.539786</td>\n",
       "      <td>0.528026</td>\n",
       "      <td>0.536186</td>\n",
       "      <td>7.014720e+08</td>\n",
       "      <td>NVDA</td>\n",
       "      <td>0.001344</td>\n",
       "      <td>NaN</td>\n",
       "      <td>NaN</td>\n",
       "      <td>NaN</td>\n",
       "      <td>NaN</td>\n",
       "      <td>NaN</td>\n",
       "    </tr>\n",
       "    <tr>\n",
       "      <th>2015-02-23</th>\n",
       "      <td>0.535946</td>\n",
       "      <td>0.535946</td>\n",
       "      <td>0.527066</td>\n",
       "      <td>0.529466</td>\n",
       "      <td>7.085400e+08</td>\n",
       "      <td>NVDA</td>\n",
       "      <td>-0.012613</td>\n",
       "      <td>NaN</td>\n",
       "      <td>NaN</td>\n",
       "      <td>NaN</td>\n",
       "      <td>NaN</td>\n",
       "      <td>NaN</td>\n",
       "    </tr>\n",
       "    <tr>\n",
       "      <th>2015-03-02</th>\n",
       "      <td>0.530059</td>\n",
       "      <td>0.551743</td>\n",
       "      <td>0.529336</td>\n",
       "      <td>0.543310</td>\n",
       "      <td>1.269144e+09</td>\n",
       "      <td>NVDA</td>\n",
       "      <td>0.025812</td>\n",
       "      <td>NaN</td>\n",
       "      <td>NaN</td>\n",
       "      <td>NaN</td>\n",
       "      <td>NaN</td>\n",
       "      <td>NaN</td>\n",
       "    </tr>\n",
       "    <tr>\n",
       "      <th>2015-03-09</th>\n",
       "      <td>0.543551</td>\n",
       "      <td>0.561381</td>\n",
       "      <td>0.535841</td>\n",
       "      <td>0.546924</td>\n",
       "      <td>1.777980e+09</td>\n",
       "      <td>NVDA</td>\n",
       "      <td>0.006630</td>\n",
       "      <td>NaN</td>\n",
       "      <td>NaN</td>\n",
       "      <td>NaN</td>\n",
       "      <td>NaN</td>\n",
       "      <td>NaN</td>\n",
       "    </tr>\n",
       "    <tr>\n",
       "      <th>2015-03-16</th>\n",
       "      <td>0.551261</td>\n",
       "      <td>0.568850</td>\n",
       "      <td>0.545961</td>\n",
       "      <td>0.565476</td>\n",
       "      <td>1.723540e+09</td>\n",
       "      <td>NVDA</td>\n",
       "      <td>0.033358</td>\n",
       "      <td>NaN</td>\n",
       "      <td>NaN</td>\n",
       "      <td>NaN</td>\n",
       "      <td>NaN</td>\n",
       "      <td>NaN</td>\n",
       "    </tr>\n",
       "    <tr>\n",
       "      <th>2015-03-23</th>\n",
       "      <td>0.548611</td>\n",
       "      <td>0.555839</td>\n",
       "      <td>0.492955</td>\n",
       "      <td>0.515121</td>\n",
       "      <td>1.929252e+09</td>\n",
       "      <td>NVDA</td>\n",
       "      <td>-0.093267</td>\n",
       "      <td>NaN</td>\n",
       "      <td>NaN</td>\n",
       "      <td>NaN</td>\n",
       "      <td>NaN</td>\n",
       "      <td>NaN</td>\n",
       "    </tr>\n",
       "    <tr>\n",
       "      <th>2015-03-30</th>\n",
       "      <td>0.517530</td>\n",
       "      <td>0.519939</td>\n",
       "      <td>0.497532</td>\n",
       "      <td>0.507411</td>\n",
       "      <td>1.133500e+09</td>\n",
       "      <td>NVDA</td>\n",
       "      <td>-0.015081</td>\n",
       "      <td>NaN</td>\n",
       "      <td>NaN</td>\n",
       "      <td>NaN</td>\n",
       "      <td>NaN</td>\n",
       "      <td>NaN</td>\n",
       "    </tr>\n",
       "    <tr>\n",
       "      <th>2015-04-06</th>\n",
       "      <td>0.505242</td>\n",
       "      <td>0.548611</td>\n",
       "      <td>0.499942</td>\n",
       "      <td>0.548370</td>\n",
       "      <td>1.934420e+09</td>\n",
       "      <td>NVDA</td>\n",
       "      <td>0.077629</td>\n",
       "      <td>NaN</td>\n",
       "      <td>NaN</td>\n",
       "      <td>NaN</td>\n",
       "      <td>NaN</td>\n",
       "      <td>NaN</td>\n",
       "    </tr>\n",
       "    <tr>\n",
       "      <th>2015-04-13</th>\n",
       "      <td>0.547165</td>\n",
       "      <td>0.550297</td>\n",
       "      <td>0.530300</td>\n",
       "      <td>0.534878</td>\n",
       "      <td>1.149480e+09</td>\n",
       "      <td>NVDA</td>\n",
       "      <td>-0.024912</td>\n",
       "      <td>0.536261</td>\n",
       "      <td>0.535385</td>\n",
       "      <td>0.567830</td>\n",
       "      <td>0.504692</td>\n",
       "      <td>NaN</td>\n",
       "    </tr>\n",
       "    <tr>\n",
       "      <th>2015-04-20</th>\n",
       "      <td>0.537287</td>\n",
       "      <td>0.540660</td>\n",
       "      <td>0.521626</td>\n",
       "      <td>0.530782</td>\n",
       "      <td>1.169840e+09</td>\n",
       "      <td>NVDA</td>\n",
       "      <td>-0.007687</td>\n",
       "      <td>0.535792</td>\n",
       "      <td>0.534389</td>\n",
       "      <td>0.567533</td>\n",
       "      <td>0.504051</td>\n",
       "      <td>64.325931</td>\n",
       "    </tr>\n",
       "    <tr>\n",
       "      <th>2015-04-27</th>\n",
       "      <td>0.532468</td>\n",
       "      <td>0.549816</td>\n",
       "      <td>0.527891</td>\n",
       "      <td>0.548129</td>\n",
       "      <td>1.153908e+09</td>\n",
       "      <td>NVDA</td>\n",
       "      <td>0.032160</td>\n",
       "      <td>0.536987</td>\n",
       "      <td>0.536632</td>\n",
       "      <td>0.569584</td>\n",
       "      <td>0.504389</td>\n",
       "      <td>65.519650</td>\n",
       "    </tr>\n",
       "    <tr>\n",
       "      <th>2015-05-04</th>\n",
       "      <td>0.547647</td>\n",
       "      <td>0.551261</td>\n",
       "      <td>0.493678</td>\n",
       "      <td>0.501869</td>\n",
       "      <td>2.491248e+09</td>\n",
       "      <td>NVDA</td>\n",
       "      <td>-0.088171</td>\n",
       "      <td>0.534227</td>\n",
       "      <td>0.530247</td>\n",
       "      <td>0.572993</td>\n",
       "      <td>0.495461</td>\n",
       "      <td>58.424665</td>\n",
       "    </tr>\n",
       "    <tr>\n",
       "      <th>2015-05-11</th>\n",
       "      <td>0.494882</td>\n",
       "      <td>0.517530</td>\n",
       "      <td>0.491027</td>\n",
       "      <td>0.513193</td>\n",
       "      <td>1.750344e+09</td>\n",
       "      <td>NVDA</td>\n",
       "      <td>0.022312</td>\n",
       "      <td>0.531215</td>\n",
       "      <td>0.526423</td>\n",
       "      <td>0.571346</td>\n",
       "      <td>0.491084</td>\n",
       "      <td>49.059087</td>\n",
       "    </tr>\n",
       "    <tr>\n",
       "      <th>2015-05-18</th>\n",
       "      <td>0.511989</td>\n",
       "      <td>0.515603</td>\n",
       "      <td>0.501388</td>\n",
       "      <td>0.502592</td>\n",
       "      <td>1.227888e+09</td>\n",
       "      <td>NVDA</td>\n",
       "      <td>-0.020873</td>\n",
       "      <td>0.526782</td>\n",
       "      <td>0.521219</td>\n",
       "      <td>0.568745</td>\n",
       "      <td>0.484819</td>\n",
       "      <td>39.328298</td>\n",
       "    </tr>\n",
       "  </tbody>\n",
       "</table>\n",
       "</div>"
      ],
      "text/plain": [
       "                Open      High       Low     Close        Volume Ticker  \\\n",
       "Date                                                                      \n",
       "2015-02-09  0.486744  0.540026  0.483624  0.535466  1.807968e+09   NVDA   \n",
       "2015-02-16  0.534506  0.539786  0.528026  0.536186  7.014720e+08   NVDA   \n",
       "2015-02-23  0.535946  0.535946  0.527066  0.529466  7.085400e+08   NVDA   \n",
       "2015-03-02  0.530059  0.551743  0.529336  0.543310  1.269144e+09   NVDA   \n",
       "2015-03-09  0.543551  0.561381  0.535841  0.546924  1.777980e+09   NVDA   \n",
       "2015-03-16  0.551261  0.568850  0.545961  0.565476  1.723540e+09   NVDA   \n",
       "2015-03-23  0.548611  0.555839  0.492955  0.515121  1.929252e+09   NVDA   \n",
       "2015-03-30  0.517530  0.519939  0.497532  0.507411  1.133500e+09   NVDA   \n",
       "2015-04-06  0.505242  0.548611  0.499942  0.548370  1.934420e+09   NVDA   \n",
       "2015-04-13  0.547165  0.550297  0.530300  0.534878  1.149480e+09   NVDA   \n",
       "2015-04-20  0.537287  0.540660  0.521626  0.530782  1.169840e+09   NVDA   \n",
       "2015-04-27  0.532468  0.549816  0.527891  0.548129  1.153908e+09   NVDA   \n",
       "2015-05-04  0.547647  0.551261  0.493678  0.501869  2.491248e+09   NVDA   \n",
       "2015-05-11  0.494882  0.517530  0.491027  0.513193  1.750344e+09   NVDA   \n",
       "2015-05-18  0.511989  0.515603  0.501388  0.502592  1.227888e+09   NVDA   \n",
       "\n",
       "            Log Return       SMA       WMA  BB_Upper  BB_Lower        MFI  \n",
       "Date                                                                       \n",
       "2015-02-09    0.089500       NaN       NaN       NaN       NaN        NaN  \n",
       "2015-02-16    0.001344       NaN       NaN       NaN       NaN        NaN  \n",
       "2015-02-23   -0.012613       NaN       NaN       NaN       NaN        NaN  \n",
       "2015-03-02    0.025812       NaN       NaN       NaN       NaN        NaN  \n",
       "2015-03-09    0.006630       NaN       NaN       NaN       NaN        NaN  \n",
       "2015-03-16    0.033358       NaN       NaN       NaN       NaN        NaN  \n",
       "2015-03-23   -0.093267       NaN       NaN       NaN       NaN        NaN  \n",
       "2015-03-30   -0.015081       NaN       NaN       NaN       NaN        NaN  \n",
       "2015-04-06    0.077629       NaN       NaN       NaN       NaN        NaN  \n",
       "2015-04-13   -0.024912  0.536261  0.535385  0.567830  0.504692        NaN  \n",
       "2015-04-20   -0.007687  0.535792  0.534389  0.567533  0.504051  64.325931  \n",
       "2015-04-27    0.032160  0.536987  0.536632  0.569584  0.504389  65.519650  \n",
       "2015-05-04   -0.088171  0.534227  0.530247  0.572993  0.495461  58.424665  \n",
       "2015-05-11    0.022312  0.531215  0.526423  0.571346  0.491084  49.059087  \n",
       "2015-05-18   -0.020873  0.526782  0.521219  0.568745  0.484819  39.328298  "
      ]
     },
     "execution_count": 64,
     "metadata": {},
     "output_type": "execute_result"
    }
   ],
   "source": [
    "mod_df = pd.read_csv('modified_dataset.csv')\n",
    "headers.append('MFI')\n",
    "mod_df.columns = headers\n",
    "mod_df.set_index('Date', inplace=True)\n",
    "mod_df.sort_index(inplace=True)\n",
    "mod_df[mod_df['Ticker'] == 'NVDA'].head(15)"
   ]
  },
  {
   "cell_type": "markdown",
   "metadata": {},
   "source": [
    "### AROON INDICATORS"
   ]
  },
  {
   "cell_type": "code",
   "execution_count": 65,
   "metadata": {},
   "outputs": [
    {
     "data": {
      "application/vnd.jupyter.widget-view+json": {
       "model_id": "c32a3b52cb564fcfbc603952518eb31f",
       "version_major": 2,
       "version_minor": 0
      },
      "text/plain": [
       "Calculating AROON Indicators:   0%|          | 0/1986 [00:00<?, ?it/s]"
      ]
     },
     "metadata": {},
     "output_type": "display_data"
    }
   ],
   "source": [
    "try:\n",
    "    os.remove('modified_dataset.csv')\n",
    "except:\n",
    "    pass\n",
    "\n",
    "for ticker in tqdm(mod_df['Ticker'].unique(), desc=\"Calculating AROON Indicators\"):\n",
    "    subdf = mod_df[mod_df['Ticker'] == ticker].copy()\n",
    "\n",
    "    a_down, a_up = talib.AROON(subdf['High'], subdf['Low'], timeperiod=10)\n",
    "    a_real = talib.AROONOSC(subdf['High'], subdf['Low'], timeperiod=10)\n",
    "    \n",
    "    subdf['Aroon Up'] = a_up\n",
    "    subdf['Aroon Down'] = a_down\n",
    "    subdf['Aroon Real'] = a_real\n",
    "\n",
    "    subdf.to_csv('modified_dataset.csv', mode='a', header=False, index=True)"
   ]
  },
  {
   "cell_type": "code",
   "execution_count": 66,
   "metadata": {},
   "outputs": [],
   "source": [
    "mod_df = pd.read_csv('modified_dataset.csv')\n",
    "headers.append('Aroon Up')\n",
    "headers.append('Aroon Down')\n",
    "headers.append('Aroon Real')\n",
    "mod_df.columns = headers\n",
    "mod_df.set_index('Date', inplace=True)\n",
    "mod_df.sort_index(inplace=True)\n",
    "mod_df[mod_df['Ticker'] == 'NVDA'].head(15)\n",
    "mod_df.to_csv('modified_dataset.csv', index=True)"
   ]
  },
  {
   "cell_type": "markdown",
   "metadata": {},
   "source": [
    "# Basic Data Characteristics\n",
    "---"
   ]
  },
  {
   "cell_type": "markdown",
   "metadata": {},
   "source": [
    "With a dataset containing over 2000 companies, and each company having a divserse set of financials, it is not practical to explore all of them. Instead, five hand-picked stocks of established companies from *different* industries (to explore different trends) will be analyzed at first, in conjunction with the technical indicators calculated above. The stocks that will be analyzed are Nvidia (NVDA), Disney (DIS), ExxonMobile (XOM), Bank of America (BAC), and Walmart (WMT). "
   ]
  },
  {
   "cell_type": "markdown",
   "metadata": {},
   "source": [
    "### Time Series Chart"
   ]
  },
  {
   "cell_type": "code",
   "execution_count": 67,
   "metadata": {},
   "outputs": [],
   "source": [
    "import plotly.express as px\n",
    "from plotly.subplots import make_subplots\n",
    "import plotly.graph_objects as go"
   ]
  },
  {
   "cell_type": "code",
   "execution_count": 68,
   "metadata": {},
   "outputs": [
    {
     "data": {
      "application/vnd.plotly.v1+json": {
       "config": {
        "plotlyServerURL": "https://plot.ly"
       },
       "data": [
        {
         "hovertemplate": "Ticker=DIS<br>Date=%{x}<br>Close=%{y}<extra></extra>",
         "legendgroup": "DIS",
         "line": {
          "color": "#636efa",
          "dash": "solid"
         },
         "marker": {
          "symbol": "circle"
         },
         "mode": "lines",
         "name": "DIS",
         "showlegend": true,
         "type": "scattergl",
         "x": [
          "2015-02-02",
          "2015-02-09",
          "2015-02-16",
          "2015-02-23",
          "2015-03-02",
          "2015-03-09",
          "2015-03-16",
          "2015-03-23",
          "2015-03-30",
          "2015-04-06",
          "2015-04-13",
          "2015-04-20",
          "2015-04-27",
          "2015-05-04",
          "2015-05-11",
          "2015-05-18",
          "2015-05-25",
          "2015-06-01",
          "2015-06-08",
          "2015-06-15",
          "2015-06-22",
          "2015-06-29",
          "2015-07-06",
          "2015-07-13",
          "2015-07-20",
          "2015-07-27",
          "2015-08-03",
          "2015-08-10",
          "2015-08-17",
          "2015-08-24",
          "2015-08-31",
          "2015-09-07",
          "2015-09-14",
          "2015-09-21",
          "2015-09-28",
          "2015-10-05",
          "2015-10-12",
          "2015-10-19",
          "2015-10-26",
          "2015-11-02",
          "2015-11-09",
          "2015-11-16",
          "2015-11-23",
          "2015-11-30",
          "2015-12-07",
          "2015-12-14",
          "2015-12-21",
          "2015-12-28",
          "2016-01-04",
          "2016-01-11",
          "2016-01-18",
          "2016-01-25",
          "2016-02-01",
          "2016-02-08",
          "2016-02-15",
          "2016-02-22",
          "2016-02-29",
          "2016-03-07",
          "2016-03-14",
          "2016-03-21",
          "2016-03-28",
          "2016-04-04",
          "2016-04-11",
          "2016-04-18",
          "2016-04-25",
          "2016-05-02",
          "2016-05-09",
          "2016-05-16",
          "2016-05-23",
          "2016-05-30",
          "2016-06-06",
          "2016-06-13",
          "2016-06-20",
          "2016-06-27",
          "2016-07-04",
          "2016-07-11",
          "2016-07-18",
          "2016-07-25",
          "2016-08-01",
          "2016-08-08",
          "2016-08-15",
          "2016-08-22",
          "2016-08-29",
          "2016-09-05",
          "2016-09-12",
          "2016-09-19",
          "2016-09-26",
          "2016-10-03",
          "2016-10-10",
          "2016-10-17",
          "2016-10-24",
          "2016-10-31",
          "2016-11-07",
          "2016-11-14",
          "2016-11-21",
          "2016-11-28",
          "2016-12-05",
          "2016-12-12",
          "2016-12-19",
          "2016-12-26",
          "2017-01-02",
          "2017-01-09",
          "2017-01-16",
          "2017-01-23",
          "2017-01-30",
          "2017-02-06",
          "2017-02-13",
          "2017-02-20",
          "2017-02-27",
          "2017-03-06",
          "2017-03-13",
          "2017-03-20",
          "2017-03-27",
          "2017-04-03",
          "2017-04-10",
          "2017-04-17",
          "2017-04-24",
          "2017-05-01",
          "2017-05-08",
          "2017-05-15",
          "2017-05-22",
          "2017-05-29",
          "2017-06-05",
          "2017-06-12",
          "2017-06-19",
          "2017-06-26",
          "2017-07-03",
          "2017-07-10",
          "2017-07-17",
          "2017-07-24",
          "2017-07-31",
          "2017-08-07",
          "2017-08-14",
          "2017-08-21",
          "2017-08-28",
          "2017-09-04",
          "2017-09-11",
          "2017-09-18",
          "2017-09-25",
          "2017-10-02",
          "2017-10-09",
          "2017-10-16",
          "2017-10-23",
          "2017-10-30",
          "2017-11-06",
          "2017-11-13",
          "2017-11-20",
          "2017-11-27",
          "2017-12-04",
          "2017-12-11",
          "2017-12-18",
          "2017-12-25",
          "2018-01-01",
          "2018-01-08",
          "2018-01-15",
          "2018-01-22",
          "2018-01-29",
          "2018-02-05",
          "2018-02-12",
          "2018-02-19",
          "2018-02-26",
          "2018-03-05",
          "2018-03-12",
          "2018-03-19",
          "2018-03-26",
          "2018-04-02",
          "2018-04-09",
          "2018-04-16",
          "2018-04-23",
          "2018-04-30",
          "2018-05-07",
          "2018-05-14",
          "2018-05-21",
          "2018-05-28",
          "2018-06-04",
          "2018-06-11",
          "2018-06-18",
          "2018-06-25",
          "2018-07-02",
          "2018-07-09",
          "2018-07-16",
          "2018-07-23",
          "2018-07-30",
          "2018-08-06",
          "2018-08-13",
          "2018-08-20",
          "2018-08-27",
          "2018-09-03",
          "2018-09-10",
          "2018-09-17",
          "2018-09-24",
          "2018-10-01",
          "2018-10-08",
          "2018-10-15",
          "2018-10-22",
          "2018-10-29",
          "2018-11-05",
          "2018-11-12",
          "2018-11-19",
          "2018-11-26",
          "2018-12-03",
          "2018-12-10",
          "2018-12-17",
          "2018-12-24",
          "2018-12-31",
          "2019-01-07",
          "2019-01-14",
          "2019-01-21",
          "2019-01-28",
          "2019-02-04",
          "2019-02-11",
          "2019-02-18",
          "2019-02-25",
          "2019-03-04",
          "2019-03-11",
          "2019-03-18",
          "2019-03-25",
          "2019-04-01",
          "2019-04-08",
          "2019-04-15",
          "2019-04-22",
          "2019-04-29",
          "2019-05-06",
          "2019-05-13",
          "2019-05-20",
          "2019-05-27",
          "2019-06-03",
          "2019-06-10",
          "2019-06-17",
          "2019-06-24",
          "2019-07-01",
          "2019-07-08",
          "2019-07-15",
          "2019-07-22",
          "2019-07-29",
          "2019-08-05",
          "2019-08-12",
          "2019-08-19",
          "2019-08-26",
          "2019-09-02",
          "2019-09-09",
          "2019-09-16",
          "2019-09-23",
          "2019-09-30",
          "2019-10-07",
          "2019-10-14",
          "2019-10-21",
          "2019-10-28",
          "2019-11-04",
          "2019-11-11",
          "2019-11-18",
          "2019-11-25",
          "2019-12-02",
          "2019-12-09",
          "2019-12-16",
          "2019-12-23",
          "2019-12-30",
          "2020-01-06",
          "2020-01-13",
          "2020-01-20",
          "2020-01-27",
          "2020-02-03",
          "2020-02-10",
          "2020-02-17",
          "2020-02-24",
          "2020-03-02",
          "2020-03-09",
          "2020-03-16",
          "2020-03-23",
          "2020-03-30",
          "2020-04-06",
          "2020-04-13",
          "2020-04-20",
          "2020-04-27",
          "2020-05-04",
          "2020-05-11",
          "2020-05-18",
          "2020-05-25",
          "2020-06-01",
          "2020-06-08",
          "2020-06-15",
          "2020-06-22",
          "2020-06-29",
          "2020-07-06",
          "2020-07-13",
          "2020-07-20",
          "2020-07-27",
          "2020-08-03",
          "2020-08-10",
          "2020-08-17",
          "2020-08-24",
          "2020-08-31",
          "2020-09-07",
          "2020-09-14",
          "2020-09-21",
          "2020-09-28",
          "2020-10-05",
          "2020-10-12",
          "2020-10-19",
          "2020-10-26",
          "2020-11-02",
          "2020-11-09",
          "2020-11-16",
          "2020-11-23",
          "2020-11-30",
          "2020-12-07",
          "2020-12-14",
          "2020-12-21",
          "2020-12-28",
          "2021-01-04",
          "2021-01-11",
          "2021-01-18",
          "2021-01-25",
          "2021-02-01",
          "2021-02-08",
          "2021-02-15",
          "2021-02-22",
          "2021-03-01",
          "2021-03-08",
          "2021-03-15",
          "2021-03-22",
          "2021-03-29",
          "2021-04-05",
          "2021-04-12",
          "2021-04-19",
          "2021-04-26",
          "2021-05-03",
          "2021-05-10",
          "2021-05-17",
          "2021-05-24",
          "2021-05-31",
          "2021-06-07",
          "2021-06-14",
          "2021-06-21",
          "2021-06-28",
          "2021-07-05",
          "2021-07-12",
          "2021-07-19",
          "2021-07-26",
          "2021-08-02",
          "2021-08-09",
          "2021-08-16",
          "2021-08-23",
          "2021-08-30",
          "2021-09-06",
          "2021-09-13",
          "2021-09-20",
          "2021-09-27",
          "2021-10-04",
          "2021-10-11",
          "2021-10-18",
          "2021-10-25",
          "2021-11-01",
          "2021-11-08",
          "2021-11-15",
          "2021-11-22",
          "2021-11-29",
          "2021-12-06",
          "2021-12-13",
          "2021-12-20",
          "2021-12-27",
          "2022-01-03",
          "2022-01-10",
          "2022-01-17",
          "2022-01-24",
          "2022-01-31",
          "2022-02-07",
          "2022-02-14",
          "2022-02-21",
          "2022-02-28",
          "2022-03-07",
          "2022-03-14",
          "2022-03-21",
          "2022-03-28",
          "2022-04-04",
          "2022-04-11",
          "2022-04-18",
          "2022-04-25",
          "2022-05-02",
          "2022-05-09",
          "2022-05-16",
          "2022-05-23",
          "2022-05-30",
          "2022-06-06",
          "2022-06-13",
          "2022-06-20",
          "2022-06-27",
          "2022-07-04",
          "2022-07-11",
          "2022-07-18",
          "2022-07-25",
          "2022-08-01",
          "2022-08-08",
          "2022-08-15",
          "2022-08-22",
          "2022-08-29",
          "2022-09-05",
          "2022-09-12",
          "2022-09-19",
          "2022-09-26",
          "2022-10-03",
          "2022-10-10",
          "2022-10-17",
          "2022-10-24",
          "2022-10-31",
          "2022-11-07",
          "2022-11-14",
          "2022-11-21",
          "2022-11-28",
          "2022-12-05",
          "2022-12-12",
          "2022-12-19",
          "2022-12-26",
          "2023-01-02",
          "2023-01-09",
          "2023-01-16",
          "2023-01-23",
          "2023-01-30",
          "2023-02-06",
          "2023-02-13",
          "2023-02-20",
          "2023-02-27",
          "2023-03-06",
          "2023-03-13",
          "2023-03-20",
          "2023-03-27",
          "2023-04-03",
          "2023-04-10",
          "2023-04-17",
          "2023-04-24",
          "2023-05-01",
          "2023-05-08",
          "2023-05-15",
          "2023-05-22",
          "2023-05-29",
          "2023-06-05",
          "2023-06-12",
          "2023-06-19",
          "2023-06-26",
          "2023-07-03",
          "2023-07-10",
          "2023-07-17",
          "2023-07-24",
          "2023-07-31",
          "2023-08-07",
          "2023-08-14",
          "2023-08-21",
          "2023-08-28",
          "2023-09-04",
          "2023-09-11",
          "2023-09-18",
          "2023-09-25",
          "2023-10-02",
          "2023-10-09",
          "2023-10-16",
          "2023-10-23",
          "2023-10-30",
          "2023-11-06",
          "2023-11-13",
          "2023-11-20",
          "2023-11-27",
          "2023-12-04",
          "2023-12-11",
          "2023-12-18",
          "2023-12-25",
          "2024-01-01",
          "2024-01-08",
          "2024-01-15",
          "2024-01-22",
          "2024-01-29",
          "2024-02-05",
          "2024-02-12",
          "2024-02-19",
          "2024-02-26",
          "2024-03-04",
          "2024-03-11",
          "2024-03-18",
          "2024-03-25",
          "2024-04-01",
          "2024-04-08",
          "2024-04-15",
          "2024-04-22",
          "2024-04-29",
          "2024-05-06",
          "2024-05-13",
          "2024-05-20",
          "2024-05-27",
          "2024-06-03",
          "2024-06-10",
          "2024-06-17",
          "2024-06-24",
          "2024-07-01",
          "2024-07-08",
          "2024-07-15",
          "2024-07-22",
          "2024-07-29",
          "2024-08-05",
          "2024-08-12",
          "2024-08-19",
          "2024-08-26",
          "2024-09-02",
          "2024-09-09",
          "2024-09-16",
          "2024-09-23",
          "2024-09-30",
          "2024-10-07",
          "2024-10-14",
          "2024-10-21",
          "2024-10-28",
          "2024-11-04",
          "2024-11-11",
          "2024-11-18",
          "2024-11-25",
          "2024-12-02",
          "2024-12-09",
          "2024-12-16",
          "2024-12-23",
          "2024-12-30",
          "2025-01-06",
          "2025-01-13",
          "2025-01-20",
          "2025-01-27",
          "2025-02-03"
         ],
         "xaxis": "x",
         "y": {
          "bdata": "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",
          "dtype": "f8"
         },
         "yaxis": "y"
        },
        {
         "hovertemplate": "Ticker=XOM<br>Date=%{x}<br>Close=%{y}<extra></extra>",
         "legendgroup": "XOM",
         "line": {
          "color": "#EF553B",
          "dash": "solid"
         },
         "marker": {
          "symbol": "circle"
         },
         "mode": "lines",
         "name": "XOM",
         "showlegend": true,
         "type": "scattergl",
         "x": [
          "2015-02-02",
          "2015-02-09",
          "2015-02-16",
          "2015-02-23",
          "2015-03-02",
          "2015-03-09",
          "2015-03-16",
          "2015-03-23",
          "2015-03-30",
          "2015-04-06",
          "2015-04-13",
          "2015-04-20",
          "2015-04-27",
          "2015-05-04",
          "2015-05-11",
          "2015-05-18",
          "2015-05-25",
          "2015-06-01",
          "2015-06-08",
          "2015-06-15",
          "2015-06-22",
          "2015-06-29",
          "2015-07-06",
          "2015-07-13",
          "2015-07-20",
          "2015-07-27",
          "2015-08-03",
          "2015-08-10",
          "2015-08-17",
          "2015-08-24",
          "2015-08-31",
          "2015-09-07",
          "2015-09-14",
          "2015-09-21",
          "2015-09-28",
          "2015-10-05",
          "2015-10-12",
          "2015-10-19",
          "2015-10-26",
          "2015-11-02",
          "2015-11-09",
          "2015-11-16",
          "2015-11-23",
          "2015-11-30",
          "2015-12-07",
          "2015-12-14",
          "2015-12-21",
          "2015-12-28",
          "2016-01-04",
          "2016-01-11",
          "2016-01-18",
          "2016-01-25",
          "2016-02-01",
          "2016-02-08",
          "2016-02-15",
          "2016-02-22",
          "2016-02-29",
          "2016-03-07",
          "2016-03-14",
          "2016-03-21",
          "2016-03-28",
          "2016-04-04",
          "2016-04-11",
          "2016-04-18",
          "2016-04-25",
          "2016-05-02",
          "2016-05-09",
          "2016-05-16",
          "2016-05-23",
          "2016-05-30",
          "2016-06-06",
          "2016-06-13",
          "2016-06-20",
          "2016-06-27",
          "2016-07-04",
          "2016-07-11",
          "2016-07-18",
          "2016-07-25",
          "2016-08-01",
          "2016-08-08",
          "2016-08-15",
          "2016-08-22",
          "2016-08-29",
          "2016-09-05",
          "2016-09-12",
          "2016-09-19",
          "2016-09-26",
          "2016-10-03",
          "2016-10-10",
          "2016-10-17",
          "2016-10-24",
          "2016-10-31",
          "2016-11-07",
          "2016-11-14",
          "2016-11-21",
          "2016-11-28",
          "2016-12-05",
          "2016-12-12",
          "2016-12-19",
          "2016-12-26",
          "2017-01-02",
          "2017-01-09",
          "2017-01-16",
          "2017-01-23",
          "2017-01-30",
          "2017-02-06",
          "2017-02-13",
          "2017-02-20",
          "2017-02-27",
          "2017-03-06",
          "2017-03-13",
          "2017-03-20",
          "2017-03-27",
          "2017-04-03",
          "2017-04-10",
          "2017-04-17",
          "2017-04-24",
          "2017-05-01",
          "2017-05-08",
          "2017-05-15",
          "2017-05-22",
          "2017-05-29",
          "2017-06-05",
          "2017-06-12",
          "2017-06-19",
          "2017-06-26",
          "2017-07-03",
          "2017-07-10",
          "2017-07-17",
          "2017-07-24",
          "2017-07-31",
          "2017-08-07",
          "2017-08-14",
          "2017-08-21",
          "2017-08-28",
          "2017-09-04",
          "2017-09-11",
          "2017-09-18",
          "2017-09-25",
          "2017-10-02",
          "2017-10-09",
          "2017-10-16",
          "2017-10-23",
          "2017-10-30",
          "2017-11-06",
          "2017-11-13",
          "2017-11-20",
          "2017-11-27",
          "2017-12-04",
          "2017-12-11",
          "2017-12-18",
          "2017-12-25",
          "2018-01-01",
          "2018-01-08",
          "2018-01-15",
          "2018-01-22",
          "2018-01-29",
          "2018-02-05",
          "2018-02-12",
          "2018-02-19",
          "2018-02-26",
          "2018-03-05",
          "2018-03-12",
          "2018-03-19",
          "2018-03-26",
          "2018-04-02",
          "2018-04-09",
          "2018-04-16",
          "2018-04-23",
          "2018-04-30",
          "2018-05-07",
          "2018-05-14",
          "2018-05-21",
          "2018-05-28",
          "2018-06-04",
          "2018-06-11",
          "2018-06-18",
          "2018-06-25",
          "2018-07-02",
          "2018-07-09",
          "2018-07-16",
          "2018-07-23",
          "2018-07-30",
          "2018-08-06",
          "2018-08-13",
          "2018-08-20",
          "2018-08-27",
          "2018-09-03",
          "2018-09-10",
          "2018-09-17",
          "2018-09-24",
          "2018-10-01",
          "2018-10-08",
          "2018-10-15",
          "2018-10-22",
          "2018-10-29",
          "2018-11-05",
          "2018-11-12",
          "2018-11-19",
          "2018-11-26",
          "2018-12-03",
          "2018-12-10",
          "2018-12-17",
          "2018-12-24",
          "2018-12-31",
          "2019-01-07",
          "2019-01-14",
          "2019-01-21",
          "2019-01-28",
          "2019-02-04",
          "2019-02-11",
          "2019-02-18",
          "2019-02-25",
          "2019-03-04",
          "2019-03-11",
          "2019-03-18",
          "2019-03-25",
          "2019-04-01",
          "2019-04-08",
          "2019-04-15",
          "2019-04-22",
          "2019-04-29",
          "2019-05-06",
          "2019-05-13",
          "2019-05-20",
          "2019-05-27",
          "2019-06-03",
          "2019-06-10",
          "2019-06-17",
          "2019-06-24",
          "2019-07-01",
          "2019-07-08",
          "2019-07-15",
          "2019-07-22",
          "2019-07-29",
          "2019-08-05",
          "2019-08-12",
          "2019-08-19",
          "2019-08-26",
          "2019-09-02",
          "2019-09-09",
          "2019-09-16",
          "2019-09-23",
          "2019-09-30",
          "2019-10-07",
          "2019-10-14",
          "2019-10-21",
          "2019-10-28",
          "2019-11-04",
          "2019-11-11",
          "2019-11-18",
          "2019-11-25",
          "2019-12-02",
          "2019-12-09",
          "2019-12-16",
          "2019-12-23",
          "2019-12-30",
          "2020-01-06",
          "2020-01-13",
          "2020-01-20",
          "2020-01-27",
          "2020-02-03",
          "2020-02-10",
          "2020-02-17",
          "2020-02-24",
          "2020-03-02",
          "2020-03-09",
          "2020-03-16",
          "2020-03-23",
          "2020-03-30",
          "2020-04-06",
          "2020-04-13",
          "2020-04-20",
          "2020-04-27",
          "2020-05-04",
          "2020-05-11",
          "2020-05-18",
          "2020-05-25",
          "2020-06-01",
          "2020-06-08",
          "2020-06-15",
          "2020-06-22",
          "2020-06-29",
          "2020-07-06",
          "2020-07-13",
          "2020-07-20",
          "2020-07-27",
          "2020-08-03",
          "2020-08-10",
          "2020-08-17",
          "2020-08-24",
          "2020-08-31",
          "2020-09-07",
          "2020-09-14",
          "2020-09-21",
          "2020-09-28",
          "2020-10-05",
          "2020-10-12",
          "2020-10-19",
          "2020-10-26",
          "2020-11-02",
          "2020-11-09",
          "2020-11-16",
          "2020-11-23",
          "2020-11-30",
          "2020-12-07",
          "2020-12-14",
          "2020-12-21",
          "2020-12-28",
          "2021-01-04",
          "2021-01-11",
          "2021-01-18",
          "2021-01-25",
          "2021-02-01",
          "2021-02-08",
          "2021-02-15",
          "2021-02-22",
          "2021-03-01",
          "2021-03-08",
          "2021-03-15",
          "2021-03-22",
          "2021-03-29",
          "2021-04-05",
          "2021-04-12",
          "2021-04-19",
          "2021-04-26",
          "2021-05-03",
          "2021-05-10",
          "2021-05-17",
          "2021-05-24",
          "2021-05-31",
          "2021-06-07",
          "2021-06-14",
          "2021-06-21",
          "2021-06-28",
          "2021-07-05",
          "2021-07-12",
          "2021-07-19",
          "2021-07-26",
          "2021-08-02",
          "2021-08-09",
          "2021-08-16",
          "2021-08-23",
          "2021-08-30",
          "2021-09-06",
          "2021-09-13",
          "2021-09-20",
          "2021-09-27",
          "2021-10-04",
          "2021-10-11",
          "2021-10-18",
          "2021-10-25",
          "2021-11-01",
          "2021-11-08",
          "2021-11-15",
          "2021-11-22",
          "2021-11-29",
          "2021-12-06",
          "2021-12-13",
          "2021-12-20",
          "2021-12-27",
          "2022-01-03",
          "2022-01-10",
          "2022-01-17",
          "2022-01-24",
          "2022-01-31",
          "2022-02-07",
          "2022-02-14",
          "2022-02-21",
          "2022-02-28",
          "2022-03-07",
          "2022-03-14",
          "2022-03-21",
          "2022-03-28",
          "2022-04-04",
          "2022-04-11",
          "2022-04-18",
          "2022-04-25",
          "2022-05-02",
          "2022-05-09",
          "2022-05-16",
          "2022-05-23",
          "2022-05-30",
          "2022-06-06",
          "2022-06-13",
          "2022-06-20",
          "2022-06-27",
          "2022-07-04",
          "2022-07-11",
          "2022-07-18",
          "2022-07-25",
          "2022-08-01",
          "2022-08-08",
          "2022-08-15",
          "2022-08-22",
          "2022-08-29",
          "2022-09-05",
          "2022-09-12",
          "2022-09-19",
          "2022-09-26",
          "2022-10-03",
          "2022-10-10",
          "2022-10-17",
          "2022-10-24",
          "2022-10-31",
          "2022-11-07",
          "2022-11-14",
          "2022-11-21",
          "2022-11-28",
          "2022-12-05",
          "2022-12-12",
          "2022-12-19",
          "2022-12-26",
          "2023-01-02",
          "2023-01-09",
          "2023-01-16",
          "2023-01-23",
          "2023-01-30",
          "2023-02-06",
          "2023-02-13",
          "2023-02-20",
          "2023-02-27",
          "2023-03-06",
          "2023-03-13",
          "2023-03-20",
          "2023-03-27",
          "2023-04-03",
          "2023-04-10",
          "2023-04-17",
          "2023-04-24",
          "2023-05-01",
          "2023-05-08",
          "2023-05-15",
          "2023-05-22",
          "2023-05-29",
          "2023-06-05",
          "2023-06-12",
          "2023-06-19",
          "2023-06-26",
          "2023-07-03",
          "2023-07-10",
          "2023-07-17",
          "2023-07-24",
          "2023-07-31",
          "2023-08-07",
          "2023-08-14",
          "2023-08-21",
          "2023-08-28",
          "2023-09-04",
          "2023-09-11",
          "2023-09-18",
          "2023-09-25",
          "2023-10-02",
          "2023-10-09",
          "2023-10-16",
          "2023-10-23",
          "2023-10-30",
          "2023-11-06",
          "2023-11-13",
          "2023-11-20",
          "2023-11-27",
          "2023-12-04",
          "2023-12-11",
          "2023-12-18",
          "2023-12-25",
          "2024-01-01",
          "2024-01-08",
          "2024-01-15",
          "2024-01-22",
          "2024-01-29",
          "2024-02-05",
          "2024-02-12",
          "2024-02-19",
          "2024-02-26",
          "2024-03-04",
          "2024-03-11",
          "2024-03-18",
          "2024-03-25",
          "2024-04-01",
          "2024-04-08",
          "2024-04-15",
          "2024-04-22",
          "2024-04-29",
          "2024-05-06",
          "2024-05-13",
          "2024-05-20",
          "2024-05-27",
          "2024-06-03",
          "2024-06-10",
          "2024-06-17",
          "2024-06-24",
          "2024-07-01",
          "2024-07-08",
          "2024-07-15",
          "2024-07-22",
          "2024-07-29",
          "2024-08-05",
          "2024-08-12",
          "2024-08-19",
          "2024-08-26",
          "2024-09-02",
          "2024-09-09",
          "2024-09-16",
          "2024-09-23",
          "2024-09-30",
          "2024-10-07",
          "2024-10-14",
          "2024-10-21",
          "2024-10-28",
          "2024-11-04",
          "2024-11-11",
          "2024-11-18",
          "2024-11-25",
          "2024-12-02",
          "2024-12-09",
          "2024-12-16",
          "2024-12-23",
          "2024-12-30",
          "2025-01-06",
          "2025-01-13",
          "2025-01-20",
          "2025-01-27",
          "2025-02-03"
         ],
         "xaxis": "x",
         "y": {
          "bdata": "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",
          "dtype": "f8"
         },
         "yaxis": "y"
        },
        {
         "hovertemplate": "Ticker=BAC<br>Date=%{x}<br>Close=%{y}<extra></extra>",
         "legendgroup": "BAC",
         "line": {
          "color": "#00cc96",
          "dash": "solid"
         },
         "marker": {
          "symbol": "circle"
         },
         "mode": "lines",
         "name": "BAC",
         "showlegend": true,
         "type": "scattergl",
         "x": [
          "2015-02-02",
          "2015-02-09",
          "2015-02-16",
          "2015-02-23",
          "2015-03-02",
          "2015-03-09",
          "2015-03-16",
          "2015-03-23",
          "2015-03-30",
          "2015-04-06",
          "2015-04-13",
          "2015-04-20",
          "2015-04-27",
          "2015-05-04",
          "2015-05-11",
          "2015-05-18",
          "2015-05-25",
          "2015-06-01",
          "2015-06-08",
          "2015-06-15",
          "2015-06-22",
          "2015-06-29",
          "2015-07-06",
          "2015-07-13",
          "2015-07-20",
          "2015-07-27",
          "2015-08-03",
          "2015-08-10",
          "2015-08-17",
          "2015-08-24",
          "2015-08-31",
          "2015-09-07",
          "2015-09-14",
          "2015-09-21",
          "2015-09-28",
          "2015-10-05",
          "2015-10-12",
          "2015-10-19",
          "2015-10-26",
          "2015-11-02",
          "2015-11-09",
          "2015-11-16",
          "2015-11-23",
          "2015-11-30",
          "2015-12-07",
          "2015-12-14",
          "2015-12-21",
          "2015-12-28",
          "2016-01-04",
          "2016-01-11",
          "2016-01-18",
          "2016-01-25",
          "2016-02-01",
          "2016-02-08",
          "2016-02-15",
          "2016-02-22",
          "2016-02-29",
          "2016-03-07",
          "2016-03-14",
          "2016-03-21",
          "2016-03-28",
          "2016-04-04",
          "2016-04-11",
          "2016-04-18",
          "2016-04-25",
          "2016-05-02",
          "2016-05-09",
          "2016-05-16",
          "2016-05-23",
          "2016-05-30",
          "2016-06-06",
          "2016-06-13",
          "2016-06-20",
          "2016-06-27",
          "2016-07-04",
          "2016-07-11",
          "2016-07-18",
          "2016-07-25",
          "2016-08-01",
          "2016-08-08",
          "2016-08-15",
          "2016-08-22",
          "2016-08-29",
          "2016-09-05",
          "2016-09-12",
          "2016-09-19",
          "2016-09-26",
          "2016-10-03",
          "2016-10-10",
          "2016-10-17",
          "2016-10-24",
          "2016-10-31",
          "2016-11-07",
          "2016-11-14",
          "2016-11-21",
          "2016-11-28",
          "2016-12-05",
          "2016-12-12",
          "2016-12-19",
          "2016-12-26",
          "2017-01-02",
          "2017-01-09",
          "2017-01-16",
          "2017-01-23",
          "2017-01-30",
          "2017-02-06",
          "2017-02-13",
          "2017-02-20",
          "2017-02-27",
          "2017-03-06",
          "2017-03-13",
          "2017-03-20",
          "2017-03-27",
          "2017-04-03",
          "2017-04-10",
          "2017-04-17",
          "2017-04-24",
          "2017-05-01",
          "2017-05-08",
          "2017-05-15",
          "2017-05-22",
          "2017-05-29",
          "2017-06-05",
          "2017-06-12",
          "2017-06-19",
          "2017-06-26",
          "2017-07-03",
          "2017-07-10",
          "2017-07-17",
          "2017-07-24",
          "2017-07-31",
          "2017-08-07",
          "2017-08-14",
          "2017-08-21",
          "2017-08-28",
          "2017-09-04",
          "2017-09-11",
          "2017-09-18",
          "2017-09-25",
          "2017-10-02",
          "2017-10-09",
          "2017-10-16",
          "2017-10-23",
          "2017-10-30",
          "2017-11-06",
          "2017-11-13",
          "2017-11-20",
          "2017-11-27",
          "2017-12-04",
          "2017-12-11",
          "2017-12-18",
          "2017-12-25",
          "2018-01-01",
          "2018-01-08",
          "2018-01-15",
          "2018-01-22",
          "2018-01-29",
          "2018-02-05",
          "2018-02-12",
          "2018-02-19",
          "2018-02-26",
          "2018-03-05",
          "2018-03-12",
          "2018-03-19",
          "2018-03-26",
          "2018-04-02",
          "2018-04-09",
          "2018-04-16",
          "2018-04-23",
          "2018-04-30",
          "2018-05-07",
          "2018-05-14",
          "2018-05-21",
          "2018-05-28",
          "2018-06-04",
          "2018-06-11",
          "2018-06-18",
          "2018-06-25",
          "2018-07-02",
          "2018-07-09",
          "2018-07-16",
          "2018-07-23",
          "2018-07-30",
          "2018-08-06",
          "2018-08-13",
          "2018-08-20",
          "2018-08-27",
          "2018-09-03",
          "2018-09-10",
          "2018-09-17",
          "2018-09-24",
          "2018-10-01",
          "2018-10-08",
          "2018-10-15",
          "2018-10-22",
          "2018-10-29",
          "2018-11-05",
          "2018-11-12",
          "2018-11-19",
          "2018-11-26",
          "2018-12-03",
          "2018-12-10",
          "2018-12-17",
          "2018-12-24",
          "2018-12-31",
          "2019-01-07",
          "2019-01-14",
          "2019-01-21",
          "2019-01-28",
          "2019-02-04",
          "2019-02-11",
          "2019-02-18",
          "2019-02-25",
          "2019-03-04",
          "2019-03-11",
          "2019-03-18",
          "2019-03-25",
          "2019-04-01",
          "2019-04-08",
          "2019-04-15",
          "2019-04-22",
          "2019-04-29",
          "2019-05-06",
          "2019-05-13",
          "2019-05-20",
          "2019-05-27",
          "2019-06-03",
          "2019-06-10",
          "2019-06-17",
          "2019-06-24",
          "2019-07-01",
          "2019-07-08",
          "2019-07-15",
          "2019-07-22",
          "2019-07-29",
          "2019-08-05",
          "2019-08-12",
          "2019-08-19",
          "2019-08-26",
          "2019-09-02",
          "2019-09-09",
          "2019-09-16",
          "2019-09-23",
          "2019-09-30",
          "2019-10-07",
          "2019-10-14",
          "2019-10-21",
          "2019-10-28",
          "2019-11-04",
          "2019-11-11",
          "2019-11-18",
          "2019-11-25",
          "2019-12-02",
          "2019-12-09",
          "2019-12-16",
          "2019-12-23",
          "2019-12-30",
          "2020-01-06",
          "2020-01-13",
          "2020-01-20",
          "2020-01-27",
          "2020-02-03",
          "2020-02-10",
          "2020-02-17",
          "2020-02-24",
          "2020-03-02",
          "2020-03-09",
          "2020-03-16",
          "2020-03-23",
          "2020-03-30",
          "2020-04-06",
          "2020-04-13",
          "2020-04-20",
          "2020-04-27",
          "2020-05-04",
          "2020-05-11",
          "2020-05-18",
          "2020-05-25",
          "2020-06-01",
          "2020-06-08",
          "2020-06-15",
          "2020-06-22",
          "2020-06-29",
          "2020-07-06",
          "2020-07-13",
          "2020-07-20",
          "2020-07-27",
          "2020-08-03",
          "2020-08-10",
          "2020-08-17",
          "2020-08-24",
          "2020-08-31",
          "2020-09-07",
          "2020-09-14",
          "2020-09-21",
          "2020-09-28",
          "2020-10-05",
          "2020-10-12",
          "2020-10-19",
          "2020-10-26",
          "2020-11-02",
          "2020-11-09",
          "2020-11-16",
          "2020-11-23",
          "2020-11-30",
          "2020-12-07",
          "2020-12-14",
          "2020-12-21",
          "2020-12-28",
          "2021-01-04",
          "2021-01-11",
          "2021-01-18",
          "2021-01-25",
          "2021-02-01",
          "2021-02-08",
          "2021-02-15",
          "2021-02-22",
          "2021-03-01",
          "2021-03-08",
          "2021-03-15",
          "2021-03-22",
          "2021-03-29",
          "2021-04-05",
          "2021-04-12",
          "2021-04-19",
          "2021-04-26",
          "2021-05-03",
          "2021-05-10",
          "2021-05-17",
          "2021-05-24",
          "2021-05-31",
          "2021-06-07",
          "2021-06-14",
          "2021-06-21",
          "2021-06-28",
          "2021-07-05",
          "2021-07-12",
          "2021-07-19",
          "2021-07-26",
          "2021-08-02",
          "2021-08-09",
          "2021-08-16",
          "2021-08-23",
          "2021-08-30",
          "2021-09-06",
          "2021-09-13",
          "2021-09-20",
          "2021-09-27",
          "2021-10-04",
          "2021-10-11",
          "2021-10-18",
          "2021-10-25",
          "2021-11-01",
          "2021-11-08",
          "2021-11-15",
          "2021-11-22",
          "2021-11-29",
          "2021-12-06",
          "2021-12-13",
          "2021-12-20",
          "2021-12-27",
          "2022-01-03",
          "2022-01-10",
          "2022-01-17",
          "2022-01-24",
          "2022-01-31",
          "2022-02-07",
          "2022-02-14",
          "2022-02-21",
          "2022-02-28",
          "2022-03-07",
          "2022-03-14",
          "2022-03-21",
          "2022-03-28",
          "2022-04-04",
          "2022-04-11",
          "2022-04-18",
          "2022-04-25",
          "2022-05-02",
          "2022-05-09",
          "2022-05-16",
          "2022-05-23",
          "2022-05-30",
          "2022-06-06",
          "2022-06-13",
          "2022-06-20",
          "2022-06-27",
          "2022-07-04",
          "2022-07-11",
          "2022-07-18",
          "2022-07-25",
          "2022-08-01",
          "2022-08-08",
          "2022-08-15",
          "2022-08-22",
          "2022-08-29",
          "2022-09-05",
          "2022-09-12",
          "2022-09-19",
          "2022-09-26",
          "2022-10-03",
          "2022-10-10",
          "2022-10-17",
          "2022-10-24",
          "2022-10-31",
          "2022-11-07",
          "2022-11-14",
          "2022-11-21",
          "2022-11-28",
          "2022-12-05",
          "2022-12-12",
          "2022-12-19",
          "2022-12-26",
          "2023-01-02",
          "2023-01-09",
          "2023-01-16",
          "2023-01-23",
          "2023-01-30",
          "2023-02-06",
          "2023-02-13",
          "2023-02-20",
          "2023-02-27",
          "2023-03-06",
          "2023-03-13",
          "2023-03-20",
          "2023-03-27",
          "2023-04-03",
          "2023-04-10",
          "2023-04-17",
          "2023-04-24",
          "2023-05-01",
          "2023-05-08",
          "2023-05-15",
          "2023-05-22",
          "2023-05-29",
          "2023-06-05",
          "2023-06-12",
          "2023-06-19",
          "2023-06-26",
          "2023-07-03",
          "2023-07-10",
          "2023-07-17",
          "2023-07-24",
          "2023-07-31",
          "2023-08-07",
          "2023-08-14",
          "2023-08-21",
          "2023-08-28",
          "2023-09-04",
          "2023-09-11",
          "2023-09-18",
          "2023-09-25",
          "2023-10-02",
          "2023-10-09",
          "2023-10-16",
          "2023-10-23",
          "2023-10-30",
          "2023-11-06",
          "2023-11-13",
          "2023-11-20",
          "2023-11-27",
          "2023-12-04",
          "2023-12-11",
          "2023-12-18",
          "2023-12-25",
          "2024-01-01",
          "2024-01-08",
          "2024-01-15",
          "2024-01-22",
          "2024-01-29",
          "2024-02-05",
          "2024-02-12",
          "2024-02-19",
          "2024-02-26",
          "2024-03-04",
          "2024-03-11",
          "2024-03-18",
          "2024-03-25",
          "2024-04-01",
          "2024-04-08",
          "2024-04-15",
          "2024-04-22",
          "2024-04-29",
          "2024-05-06",
          "2024-05-13",
          "2024-05-20",
          "2024-05-27",
          "2024-06-03",
          "2024-06-10",
          "2024-06-17",
          "2024-06-24",
          "2024-07-01",
          "2024-07-08",
          "2024-07-15",
          "2024-07-22",
          "2024-07-29",
          "2024-08-05",
          "2024-08-12",
          "2024-08-19",
          "2024-08-26",
          "2024-09-02",
          "2024-09-09",
          "2024-09-16",
          "2024-09-23",
          "2024-09-30",
          "2024-10-07",
          "2024-10-14",
          "2024-10-21",
          "2024-10-28",
          "2024-11-04",
          "2024-11-11",
          "2024-11-18",
          "2024-11-25",
          "2024-12-02",
          "2024-12-09",
          "2024-12-16",
          "2024-12-23",
          "2024-12-30",
          "2025-01-06",
          "2025-01-13",
          "2025-01-20",
          "2025-01-27",
          "2025-02-03"
         ],
         "xaxis": "x",
         "y": {
          "bdata": "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",
          "dtype": "f8"
         },
         "yaxis": "y"
        },
        {
         "hovertemplate": "Ticker=WMT<br>Date=%{x}<br>Close=%{y}<extra></extra>",
         "legendgroup": "WMT",
         "line": {
          "color": "#ab63fa",
          "dash": "solid"
         },
         "marker": {
          "symbol": "circle"
         },
         "mode": "lines",
         "name": "WMT",
         "showlegend": true,
         "type": "scattergl",
         "x": [
          "2015-02-02",
          "2015-02-09",
          "2015-02-16",
          "2015-02-23",
          "2015-03-02",
          "2015-03-09",
          "2015-03-16",
          "2015-03-23",
          "2015-03-30",
          "2015-04-06",
          "2015-04-13",
          "2015-04-20",
          "2015-04-27",
          "2015-05-04",
          "2015-05-11",
          "2015-05-18",
          "2015-05-25",
          "2015-06-01",
          "2015-06-08",
          "2015-06-15",
          "2015-06-22",
          "2015-06-29",
          "2015-07-06",
          "2015-07-13",
          "2015-07-20",
          "2015-07-27",
          "2015-08-03",
          "2015-08-10",
          "2015-08-17",
          "2015-08-24",
          "2015-08-31",
          "2015-09-07",
          "2015-09-14",
          "2015-09-21",
          "2015-09-28",
          "2015-10-05",
          "2015-10-12",
          "2015-10-19",
          "2015-10-26",
          "2015-11-02",
          "2015-11-09",
          "2015-11-16",
          "2015-11-23",
          "2015-11-30",
          "2015-12-07",
          "2015-12-14",
          "2015-12-21",
          "2015-12-28",
          "2016-01-04",
          "2016-01-11",
          "2016-01-18",
          "2016-01-25",
          "2016-02-01",
          "2016-02-08",
          "2016-02-15",
          "2016-02-22",
          "2016-02-29",
          "2016-03-07",
          "2016-03-14",
          "2016-03-21",
          "2016-03-28",
          "2016-04-04",
          "2016-04-11",
          "2016-04-18",
          "2016-04-25",
          "2016-05-02",
          "2016-05-09",
          "2016-05-16",
          "2016-05-23",
          "2016-05-30",
          "2016-06-06",
          "2016-06-13",
          "2016-06-20",
          "2016-06-27",
          "2016-07-04",
          "2016-07-11",
          "2016-07-18",
          "2016-07-25",
          "2016-08-01",
          "2016-08-08",
          "2016-08-15",
          "2016-08-22",
          "2016-08-29",
          "2016-09-05",
          "2016-09-12",
          "2016-09-19",
          "2016-09-26",
          "2016-10-03",
          "2016-10-10",
          "2016-10-17",
          "2016-10-24",
          "2016-10-31",
          "2016-11-07",
          "2016-11-14",
          "2016-11-21",
          "2016-11-28",
          "2016-12-05",
          "2016-12-12",
          "2016-12-19",
          "2016-12-26",
          "2017-01-02",
          "2017-01-09",
          "2017-01-16",
          "2017-01-23",
          "2017-01-30",
          "2017-02-06",
          "2017-02-13",
          "2017-02-20",
          "2017-02-27",
          "2017-03-06",
          "2017-03-13",
          "2017-03-20",
          "2017-03-27",
          "2017-04-03",
          "2017-04-10",
          "2017-04-17",
          "2017-04-24",
          "2017-05-01",
          "2017-05-08",
          "2017-05-15",
          "2017-05-22",
          "2017-05-29",
          "2017-06-05",
          "2017-06-12",
          "2017-06-19",
          "2017-06-26",
          "2017-07-03",
          "2017-07-10",
          "2017-07-17",
          "2017-07-24",
          "2017-07-31",
          "2017-08-07",
          "2017-08-14",
          "2017-08-21",
          "2017-08-28",
          "2017-09-04",
          "2017-09-11",
          "2017-09-18",
          "2017-09-25",
          "2017-10-02",
          "2017-10-09",
          "2017-10-16",
          "2017-10-23",
          "2017-10-30",
          "2017-11-06",
          "2017-11-13",
          "2017-11-20",
          "2017-11-27",
          "2017-12-04",
          "2017-12-11",
          "2017-12-18",
          "2017-12-25",
          "2018-01-01",
          "2018-01-08",
          "2018-01-15",
          "2018-01-22",
          "2018-01-29",
          "2018-02-05",
          "2018-02-12",
          "2018-02-19",
          "2018-02-26",
          "2018-03-05",
          "2018-03-12",
          "2018-03-19",
          "2018-03-26",
          "2018-04-02",
          "2018-04-09",
          "2018-04-16",
          "2018-04-23",
          "2018-04-30",
          "2018-05-07",
          "2018-05-14",
          "2018-05-21",
          "2018-05-28",
          "2018-06-04",
          "2018-06-11",
          "2018-06-18",
          "2018-06-25",
          "2018-07-02",
          "2018-07-09",
          "2018-07-16",
          "2018-07-23",
          "2018-07-30",
          "2018-08-06",
          "2018-08-13",
          "2018-08-20",
          "2018-08-27",
          "2018-09-03",
          "2018-09-10",
          "2018-09-17",
          "2018-09-24",
          "2018-10-01",
          "2018-10-08",
          "2018-10-15",
          "2018-10-22",
          "2018-10-29",
          "2018-11-05",
          "2018-11-12",
          "2018-11-19",
          "2018-11-26",
          "2018-12-03",
          "2018-12-10",
          "2018-12-17",
          "2018-12-24",
          "2018-12-31",
          "2019-01-07",
          "2019-01-14",
          "2019-01-21",
          "2019-01-28",
          "2019-02-04",
          "2019-02-11",
          "2019-02-18",
          "2019-02-25",
          "2019-03-04",
          "2019-03-11",
          "2019-03-18",
          "2019-03-25",
          "2019-04-01",
          "2019-04-08",
          "2019-04-15",
          "2019-04-22",
          "2019-04-29",
          "2019-05-06",
          "2019-05-13",
          "2019-05-20",
          "2019-05-27",
          "2019-06-03",
          "2019-06-10",
          "2019-06-17",
          "2019-06-24",
          "2019-07-01",
          "2019-07-08",
          "2019-07-15",
          "2019-07-22",
          "2019-07-29",
          "2019-08-05",
          "2019-08-12",
          "2019-08-19",
          "2019-08-26",
          "2019-09-02",
          "2019-09-09",
          "2019-09-16",
          "2019-09-23",
          "2019-09-30",
          "2019-10-07",
          "2019-10-14",
          "2019-10-21",
          "2019-10-28",
          "2019-11-04",
          "2019-11-11",
          "2019-11-18",
          "2019-11-25",
          "2019-12-02",
          "2019-12-09",
          "2019-12-16",
          "2019-12-23",
          "2019-12-30",
          "2020-01-06",
          "2020-01-13",
          "2020-01-20",
          "2020-01-27",
          "2020-02-03",
          "2020-02-10",
          "2020-02-17",
          "2020-02-24",
          "2020-03-02",
          "2020-03-09",
          "2020-03-16",
          "2020-03-23",
          "2020-03-30",
          "2020-04-06",
          "2020-04-13",
          "2020-04-20",
          "2020-04-27",
          "2020-05-04",
          "2020-05-11",
          "2020-05-18",
          "2020-05-25",
          "2020-06-01",
          "2020-06-08",
          "2020-06-15",
          "2020-06-22",
          "2020-06-29",
          "2020-07-06",
          "2020-07-13",
          "2020-07-20",
          "2020-07-27",
          "2020-08-03",
          "2020-08-10",
          "2020-08-17",
          "2020-08-24",
          "2020-08-31",
          "2020-09-07",
          "2020-09-14",
          "2020-09-21",
          "2020-09-28",
          "2020-10-05",
          "2020-10-12",
          "2020-10-19",
          "2020-10-26",
          "2020-11-02",
          "2020-11-09",
          "2020-11-16",
          "2020-11-23",
          "2020-11-30",
          "2020-12-07",
          "2020-12-14",
          "2020-12-21",
          "2020-12-28",
          "2021-01-04",
          "2021-01-11",
          "2021-01-18",
          "2021-01-25",
          "2021-02-01",
          "2021-02-08",
          "2021-02-15",
          "2021-02-22",
          "2021-03-01",
          "2021-03-08",
          "2021-03-15",
          "2021-03-22",
          "2021-03-29",
          "2021-04-05",
          "2021-04-12",
          "2021-04-19",
          "2021-04-26",
          "2021-05-03",
          "2021-05-10",
          "2021-05-17",
          "2021-05-24",
          "2021-05-31",
          "2021-06-07",
          "2021-06-14",
          "2021-06-21",
          "2021-06-28",
          "2021-07-05",
          "2021-07-12",
          "2021-07-19",
          "2021-07-26",
          "2021-08-02",
          "2021-08-09",
          "2021-08-16",
          "2021-08-23",
          "2021-08-30",
          "2021-09-06",
          "2021-09-13",
          "2021-09-20",
          "2021-09-27",
          "2021-10-04",
          "2021-10-11",
          "2021-10-18",
          "2021-10-25",
          "2021-11-01",
          "2021-11-08",
          "2021-11-15",
          "2021-11-22",
          "2021-11-29",
          "2021-12-06",
          "2021-12-13",
          "2021-12-20",
          "2021-12-27",
          "2022-01-03",
          "2022-01-10",
          "2022-01-17",
          "2022-01-24",
          "2022-01-31",
          "2022-02-07",
          "2022-02-14",
          "2022-02-21",
          "2022-02-28",
          "2022-03-07",
          "2022-03-14",
          "2022-03-21",
          "2022-03-28",
          "2022-04-04",
          "2022-04-11",
          "2022-04-18",
          "2022-04-25",
          "2022-05-02",
          "2022-05-09",
          "2022-05-16",
          "2022-05-23",
          "2022-05-30",
          "2022-06-06",
          "2022-06-13",
          "2022-06-20",
          "2022-06-27",
          "2022-07-04",
          "2022-07-11",
          "2022-07-18",
          "2022-07-25",
          "2022-08-01",
          "2022-08-08",
          "2022-08-15",
          "2022-08-22",
          "2022-08-29",
          "2022-09-05",
          "2022-09-12",
          "2022-09-19",
          "2022-09-26",
          "2022-10-03",
          "2022-10-10",
          "2022-10-17",
          "2022-10-24",
          "2022-10-31",
          "2022-11-07",
          "2022-11-14",
          "2022-11-21",
          "2022-11-28",
          "2022-12-05",
          "2022-12-12",
          "2022-12-19",
          "2022-12-26",
          "2023-01-02",
          "2023-01-09",
          "2023-01-16",
          "2023-01-23",
          "2023-01-30",
          "2023-02-06",
          "2023-02-13",
          "2023-02-20",
          "2023-02-27",
          "2023-03-06",
          "2023-03-13",
          "2023-03-20",
          "2023-03-27",
          "2023-04-03",
          "2023-04-10",
          "2023-04-17",
          "2023-04-24",
          "2023-05-01",
          "2023-05-08",
          "2023-05-15",
          "2023-05-22",
          "2023-05-29",
          "2023-06-05",
          "2023-06-12",
          "2023-06-19",
          "2023-06-26",
          "2023-07-03",
          "2023-07-10",
          "2023-07-17",
          "2023-07-24",
          "2023-07-31",
          "2023-08-07",
          "2023-08-14",
          "2023-08-21",
          "2023-08-28",
          "2023-09-04",
          "2023-09-11",
          "2023-09-18",
          "2023-09-25",
          "2023-10-02",
          "2023-10-09",
          "2023-10-16",
          "2023-10-23",
          "2023-10-30",
          "2023-11-06",
          "2023-11-13",
          "2023-11-20",
          "2023-11-27",
          "2023-12-04",
          "2023-12-11",
          "2023-12-18",
          "2023-12-25",
          "2024-01-01",
          "2024-01-08",
          "2024-01-15",
          "2024-01-22",
          "2024-01-29",
          "2024-02-05",
          "2024-02-12",
          "2024-02-19",
          "2024-02-26",
          "2024-03-04",
          "2024-03-11",
          "2024-03-18",
          "2024-03-25",
          "2024-04-01",
          "2024-04-08",
          "2024-04-15",
          "2024-04-22",
          "2024-04-29",
          "2024-05-06",
          "2024-05-13",
          "2024-05-20",
          "2024-05-27",
          "2024-06-03",
          "2024-06-10",
          "2024-06-17",
          "2024-06-24",
          "2024-07-01",
          "2024-07-08",
          "2024-07-15",
          "2024-07-22",
          "2024-07-29",
          "2024-08-05",
          "2024-08-12",
          "2024-08-19",
          "2024-08-26",
          "2024-09-02",
          "2024-09-09",
          "2024-09-16",
          "2024-09-23",
          "2024-09-30",
          "2024-10-07",
          "2024-10-14",
          "2024-10-21",
          "2024-10-28",
          "2024-11-04",
          "2024-11-11",
          "2024-11-18",
          "2024-11-25",
          "2024-12-02",
          "2024-12-09",
          "2024-12-16",
          "2024-12-23",
          "2024-12-30",
          "2025-01-06",
          "2025-01-13",
          "2025-01-20",
          "2025-01-27",
          "2025-02-03"
         ],
         "xaxis": "x",
         "y": {
          "bdata": "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",
          "dtype": "f8"
         },
         "yaxis": "y"
        },
        {
         "hovertemplate": "Ticker=NVDA<br>Date=%{x}<br>Close=%{y}<extra></extra>",
         "legendgroup": "NVDA",
         "line": {
          "color": "#FFA15A",
          "dash": "solid"
         },
         "marker": {
          "symbol": "circle"
         },
         "mode": "lines",
         "name": "NVDA",
         "showlegend": true,
         "type": "scattergl",
         "x": [
          "2015-02-09",
          "2015-02-16",
          "2015-02-23",
          "2015-03-02",
          "2015-03-09",
          "2015-03-16",
          "2015-03-23",
          "2015-03-30",
          "2015-04-06",
          "2015-04-13",
          "2015-04-20",
          "2015-04-27",
          "2015-05-04",
          "2015-05-11",
          "2015-05-18",
          "2015-05-25",
          "2015-06-01",
          "2015-06-08",
          "2015-06-15",
          "2015-06-22",
          "2015-06-29",
          "2015-07-06",
          "2015-07-13",
          "2015-07-20",
          "2015-07-27",
          "2015-08-03",
          "2015-08-10",
          "2015-08-17",
          "2015-08-24",
          "2015-08-31",
          "2015-09-07",
          "2015-09-14",
          "2015-09-21",
          "2015-09-28",
          "2015-10-05",
          "2015-10-12",
          "2015-10-19",
          "2015-10-26",
          "2015-11-02",
          "2015-11-09",
          "2015-11-16",
          "2015-11-23",
          "2015-11-30",
          "2015-12-07",
          "2015-12-14",
          "2015-12-21",
          "2015-12-28",
          "2016-01-04",
          "2016-01-11",
          "2016-01-18",
          "2016-01-25",
          "2016-02-01",
          "2016-02-08",
          "2016-02-15",
          "2016-02-22",
          "2016-02-29",
          "2016-03-07",
          "2016-03-14",
          "2016-03-21",
          "2016-03-28",
          "2016-04-04",
          "2016-04-11",
          "2016-04-18",
          "2016-04-25",
          "2016-05-02",
          "2016-05-09",
          "2016-05-16",
          "2016-05-23",
          "2016-05-30",
          "2016-06-06",
          "2016-06-13",
          "2016-06-20",
          "2016-06-27",
          "2016-07-04",
          "2016-07-11",
          "2016-07-18",
          "2016-07-25",
          "2016-08-01",
          "2016-08-08",
          "2016-08-15",
          "2016-08-22",
          "2016-08-29",
          "2016-09-05",
          "2016-09-12",
          "2016-09-19",
          "2016-09-26",
          "2016-10-03",
          "2016-10-10",
          "2016-10-17",
          "2016-10-24",
          "2016-10-31",
          "2016-11-07",
          "2016-11-14",
          "2016-11-21",
          "2016-11-28",
          "2016-12-05",
          "2016-12-12",
          "2016-12-19",
          "2016-12-26",
          "2017-01-02",
          "2017-01-09",
          "2017-01-16",
          "2017-01-23",
          "2017-01-30",
          "2017-02-06",
          "2017-02-13",
          "2017-02-20",
          "2017-02-27",
          "2017-03-06",
          "2017-03-13",
          "2017-03-20",
          "2017-03-27",
          "2017-04-03",
          "2017-04-10",
          "2017-04-17",
          "2017-04-24",
          "2017-05-01",
          "2017-05-08",
          "2017-05-15",
          "2017-05-22",
          "2017-05-29",
          "2017-06-05",
          "2017-06-12",
          "2017-06-19",
          "2017-06-26",
          "2017-07-03",
          "2017-07-10",
          "2017-07-17",
          "2017-07-24",
          "2017-07-31",
          "2017-08-07",
          "2017-08-14",
          "2017-08-21",
          "2017-08-28",
          "2017-09-04",
          "2017-09-11",
          "2017-09-18",
          "2017-09-25",
          "2017-10-02",
          "2017-10-09",
          "2017-10-16",
          "2017-10-23",
          "2017-10-30",
          "2017-11-06",
          "2017-11-13",
          "2017-11-20",
          "2017-11-27",
          "2017-12-04",
          "2017-12-11",
          "2017-12-18",
          "2017-12-25",
          "2018-01-01",
          "2018-01-08",
          "2018-01-15",
          "2018-01-22",
          "2018-01-29",
          "2018-02-05",
          "2018-02-12",
          "2018-02-19",
          "2018-02-26",
          "2018-03-05",
          "2018-03-12",
          "2018-03-19",
          "2018-03-26",
          "2018-04-02",
          "2018-04-09",
          "2018-04-16",
          "2018-04-23",
          "2018-04-30",
          "2018-05-07",
          "2018-05-14",
          "2018-05-21",
          "2018-05-28",
          "2018-06-04",
          "2018-06-11",
          "2018-06-18",
          "2018-06-25",
          "2018-07-02",
          "2018-07-09",
          "2018-07-16",
          "2018-07-23",
          "2018-07-30",
          "2018-08-06",
          "2018-08-13",
          "2018-08-20",
          "2018-08-27",
          "2018-09-03",
          "2018-09-10",
          "2018-09-17",
          "2018-09-24",
          "2018-10-01",
          "2018-10-08",
          "2018-10-15",
          "2018-10-22",
          "2018-10-29",
          "2018-11-05",
          "2018-11-12",
          "2018-11-19",
          "2018-11-26",
          "2018-12-03",
          "2018-12-10",
          "2018-12-17",
          "2018-12-24",
          "2018-12-31",
          "2019-01-07",
          "2019-01-14",
          "2019-01-21",
          "2019-01-28",
          "2019-02-04",
          "2019-02-11",
          "2019-02-18",
          "2019-02-25",
          "2019-03-04",
          "2019-03-11",
          "2019-03-18",
          "2019-03-25",
          "2019-04-01",
          "2019-04-08",
          "2019-04-15",
          "2019-04-22",
          "2019-04-29",
          "2019-05-06",
          "2019-05-13",
          "2019-05-20",
          "2019-05-27",
          "2019-06-03",
          "2019-06-10",
          "2019-06-17",
          "2019-06-24",
          "2019-07-01",
          "2019-07-08",
          "2019-07-15",
          "2019-07-22",
          "2019-07-29",
          "2019-08-05",
          "2019-08-12",
          "2019-08-19",
          "2019-08-26",
          "2019-09-02",
          "2019-09-09",
          "2019-09-16",
          "2019-09-23",
          "2019-09-30",
          "2019-10-07",
          "2019-10-14",
          "2019-10-21",
          "2019-10-28",
          "2019-11-04",
          "2019-11-11",
          "2019-11-18",
          "2019-11-25",
          "2019-12-02",
          "2019-12-09",
          "2019-12-16",
          "2019-12-23",
          "2019-12-30",
          "2020-01-06",
          "2020-01-13",
          "2020-01-20",
          "2020-01-27",
          "2020-02-03",
          "2020-02-10",
          "2020-02-17",
          "2020-02-24",
          "2020-03-02",
          "2020-03-09",
          "2020-03-16",
          "2020-03-23",
          "2020-03-30",
          "2020-04-06",
          "2020-04-13",
          "2020-04-20",
          "2020-04-27",
          "2020-05-04",
          "2020-05-11",
          "2020-05-18",
          "2020-05-25",
          "2020-06-01",
          "2020-06-08",
          "2020-06-15",
          "2020-06-22",
          "2020-06-29",
          "2020-07-06",
          "2020-07-13",
          "2020-07-20",
          "2020-07-27",
          "2020-08-03",
          "2020-08-10",
          "2020-08-17",
          "2020-08-24",
          "2020-08-31",
          "2020-09-07",
          "2020-09-14",
          "2020-09-21",
          "2020-09-28",
          "2020-10-05",
          "2020-10-12",
          "2020-10-19",
          "2020-10-26",
          "2020-11-02",
          "2020-11-09",
          "2020-11-16",
          "2020-11-23",
          "2020-11-30",
          "2020-12-07",
          "2020-12-14",
          "2020-12-21",
          "2020-12-28",
          "2021-01-04",
          "2021-01-11",
          "2021-01-18",
          "2021-01-25",
          "2021-02-01",
          "2021-02-08",
          "2021-02-15",
          "2021-02-22",
          "2021-03-01",
          "2021-03-08",
          "2021-03-15",
          "2021-03-22",
          "2021-03-29",
          "2021-04-05",
          "2021-04-12",
          "2021-04-19",
          "2021-04-26",
          "2021-05-03",
          "2021-05-10",
          "2021-05-17",
          "2021-05-24",
          "2021-05-31",
          "2021-06-07",
          "2021-06-14",
          "2021-06-21",
          "2021-06-28",
          "2021-07-05",
          "2021-07-12",
          "2021-07-19",
          "2021-07-26",
          "2021-08-02",
          "2021-08-09",
          "2021-08-16",
          "2021-08-23",
          "2021-08-30",
          "2021-09-06",
          "2021-09-13",
          "2021-09-20",
          "2021-09-27",
          "2021-10-04",
          "2021-10-11",
          "2021-10-18",
          "2021-10-25",
          "2021-11-01",
          "2021-11-08",
          "2021-11-15",
          "2021-11-22",
          "2021-11-29",
          "2021-12-06",
          "2021-12-13",
          "2021-12-20",
          "2021-12-27",
          "2022-01-03",
          "2022-01-10",
          "2022-01-17",
          "2022-01-24",
          "2022-01-31",
          "2022-02-07",
          "2022-02-14",
          "2022-02-21",
          "2022-02-28",
          "2022-03-07",
          "2022-03-14",
          "2022-03-21",
          "2022-03-28",
          "2022-04-04",
          "2022-04-11",
          "2022-04-18",
          "2022-04-25",
          "2022-05-02",
          "2022-05-09",
          "2022-05-16",
          "2022-05-23",
          "2022-05-30",
          "2022-06-06",
          "2022-06-13",
          "2022-06-20",
          "2022-06-27",
          "2022-07-04",
          "2022-07-11",
          "2022-07-18",
          "2022-07-25",
          "2022-08-01",
          "2022-08-08",
          "2022-08-15",
          "2022-08-22",
          "2022-08-29",
          "2022-09-05",
          "2022-09-12",
          "2022-09-19",
          "2022-09-26",
          "2022-10-03",
          "2022-10-10",
          "2022-10-17",
          "2022-10-24",
          "2022-10-31",
          "2022-11-07",
          "2022-11-14",
          "2022-11-21",
          "2022-11-28",
          "2022-12-05",
          "2022-12-12",
          "2022-12-19",
          "2022-12-26",
          "2023-01-02",
          "2023-01-09",
          "2023-01-16",
          "2023-01-23",
          "2023-01-30",
          "2023-02-06",
          "2023-02-13",
          "2023-02-20",
          "2023-02-27",
          "2023-03-06",
          "2023-03-13",
          "2023-03-20",
          "2023-03-27",
          "2023-04-03",
          "2023-04-10",
          "2023-04-17",
          "2023-04-24",
          "2023-05-01",
          "2023-05-08",
          "2023-05-15",
          "2023-05-22",
          "2023-05-29",
          "2023-06-05",
          "2023-06-12",
          "2023-06-19",
          "2023-06-26",
          "2023-07-03",
          "2023-07-10",
          "2023-07-17",
          "2023-07-24",
          "2023-07-31",
          "2023-08-07",
          "2023-08-14",
          "2023-08-21",
          "2023-08-28",
          "2023-09-04",
          "2023-09-11",
          "2023-09-18",
          "2023-09-25",
          "2023-10-02",
          "2023-10-09",
          "2023-10-16",
          "2023-10-23",
          "2023-10-30",
          "2023-11-06",
          "2023-11-13",
          "2023-11-20",
          "2023-11-27",
          "2023-12-04",
          "2023-12-11",
          "2023-12-18",
          "2023-12-25",
          "2024-01-01",
          "2024-01-08",
          "2024-01-15",
          "2024-01-22",
          "2024-01-29",
          "2024-02-05",
          "2024-02-12",
          "2024-02-19",
          "2024-02-26",
          "2024-03-04",
          "2024-03-11",
          "2024-03-18",
          "2024-03-25",
          "2024-04-01",
          "2024-04-08",
          "2024-04-15",
          "2024-04-22",
          "2024-04-29",
          "2024-05-06",
          "2024-05-13",
          "2024-05-20",
          "2024-05-27",
          "2024-06-03",
          "2024-06-10",
          "2024-06-17",
          "2024-06-24",
          "2024-07-01",
          "2024-07-08",
          "2024-07-15",
          "2024-07-22",
          "2024-07-29",
          "2024-08-05",
          "2024-08-12",
          "2024-08-19",
          "2024-08-26",
          "2024-09-02",
          "2024-09-09",
          "2024-09-16",
          "2024-09-23",
          "2024-09-30",
          "2024-10-07",
          "2024-10-14",
          "2024-10-21",
          "2024-10-28",
          "2024-11-04",
          "2024-11-11",
          "2024-11-18",
          "2024-11-25",
          "2024-12-02",
          "2024-12-09",
          "2024-12-16",
          "2024-12-23",
          "2024-12-30",
          "2025-01-06",
          "2025-01-13",
          "2025-01-20",
          "2025-01-27",
          "2025-02-03"
         ],
         "xaxis": "x",
         "y": {
          "bdata": "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",
          "dtype": "f8"
         },
         "yaxis": "y"
        }
       ],
       "layout": {
        "legend": {
         "title": {
          "text": "Ticker"
         },
         "tracegroupgap": 0
        },
        "template": {
         "data": {
          "bar": [
           {
            "error_x": {
             "color": "#2a3f5f"
            },
            "error_y": {
             "color": "#2a3f5f"
            },
            "marker": {
             "line": {
              "color": "#E5ECF6",
              "width": 0.5
             },
             "pattern": {
              "fillmode": "overlay",
              "size": 10,
              "solidity": 0.2
             }
            },
            "type": "bar"
           }
          ],
          "barpolar": [
           {
            "marker": {
             "line": {
              "color": "#E5ECF6",
              "width": 0.5
             },
             "pattern": {
              "fillmode": "overlay",
              "size": 10,
              "solidity": 0.2
             }
            },
            "type": "barpolar"
           }
          ],
          "carpet": [
           {
            "aaxis": {
             "endlinecolor": "#2a3f5f",
             "gridcolor": "white",
             "linecolor": "white",
             "minorgridcolor": "white",
             "startlinecolor": "#2a3f5f"
            },
            "baxis": {
             "endlinecolor": "#2a3f5f",
             "gridcolor": "white",
             "linecolor": "white",
             "minorgridcolor": "white",
             "startlinecolor": "#2a3f5f"
            },
            "type": "carpet"
           }
          ],
          "choropleth": [
           {
            "colorbar": {
             "outlinewidth": 0,
             "ticks": ""
            },
            "type": "choropleth"
           }
          ],
          "contour": [
           {
            "colorbar": {
             "outlinewidth": 0,
             "ticks": ""
            },
            "colorscale": [
             [
              0,
              "#0d0887"
             ],
             [
              0.1111111111111111,
              "#46039f"
             ],
             [
              0.2222222222222222,
              "#7201a8"
             ],
             [
              0.3333333333333333,
              "#9c179e"
             ],
             [
              0.4444444444444444,
              "#bd3786"
             ],
             [
              0.5555555555555556,
              "#d8576b"
             ],
             [
              0.6666666666666666,
              "#ed7953"
             ],
             [
              0.7777777777777778,
              "#fb9f3a"
             ],
             [
              0.8888888888888888,
              "#fdca26"
             ],
             [
              1,
              "#f0f921"
             ]
            ],
            "type": "contour"
           }
          ],
          "contourcarpet": [
           {
            "colorbar": {
             "outlinewidth": 0,
             "ticks": ""
            },
            "type": "contourcarpet"
           }
          ],
          "heatmap": [
           {
            "colorbar": {
             "outlinewidth": 0,
             "ticks": ""
            },
            "colorscale": [
             [
              0,
              "#0d0887"
             ],
             [
              0.1111111111111111,
              "#46039f"
             ],
             [
              0.2222222222222222,
              "#7201a8"
             ],
             [
              0.3333333333333333,
              "#9c179e"
             ],
             [
              0.4444444444444444,
              "#bd3786"
             ],
             [
              0.5555555555555556,
              "#d8576b"
             ],
             [
              0.6666666666666666,
              "#ed7953"
             ],
             [
              0.7777777777777778,
              "#fb9f3a"
             ],
             [
              0.8888888888888888,
              "#fdca26"
             ],
             [
              1,
              "#f0f921"
             ]
            ],
            "type": "heatmap"
           }
          ],
          "histogram": [
           {
            "marker": {
             "pattern": {
              "fillmode": "overlay",
              "size": 10,
              "solidity": 0.2
             }
            },
            "type": "histogram"
           }
          ],
          "histogram2d": [
           {
            "colorbar": {
             "outlinewidth": 0,
             "ticks": ""
            },
            "colorscale": [
             [
              0,
              "#0d0887"
             ],
             [
              0.1111111111111111,
              "#46039f"
             ],
             [
              0.2222222222222222,
              "#7201a8"
             ],
             [
              0.3333333333333333,
              "#9c179e"
             ],
             [
              0.4444444444444444,
              "#bd3786"
             ],
             [
              0.5555555555555556,
              "#d8576b"
             ],
             [
              0.6666666666666666,
              "#ed7953"
             ],
             [
              0.7777777777777778,
              "#fb9f3a"
             ],
             [
              0.8888888888888888,
              "#fdca26"
             ],
             [
              1,
              "#f0f921"
             ]
            ],
            "type": "histogram2d"
           }
          ],
          "histogram2dcontour": [
           {
            "colorbar": {
             "outlinewidth": 0,
             "ticks": ""
            },
            "colorscale": [
             [
              0,
              "#0d0887"
             ],
             [
              0.1111111111111111,
              "#46039f"
             ],
             [
              0.2222222222222222,
              "#7201a8"
             ],
             [
              0.3333333333333333,
              "#9c179e"
             ],
             [
              0.4444444444444444,
              "#bd3786"
             ],
             [
              0.5555555555555556,
              "#d8576b"
             ],
             [
              0.6666666666666666,
              "#ed7953"
             ],
             [
              0.7777777777777778,
              "#fb9f3a"
             ],
             [
              0.8888888888888888,
              "#fdca26"
             ],
             [
              1,
              "#f0f921"
             ]
            ],
            "type": "histogram2dcontour"
           }
          ],
          "mesh3d": [
           {
            "colorbar": {
             "outlinewidth": 0,
             "ticks": ""
            },
            "type": "mesh3d"
           }
          ],
          "parcoords": [
           {
            "line": {
             "colorbar": {
              "outlinewidth": 0,
              "ticks": ""
             }
            },
            "type": "parcoords"
           }
          ],
          "pie": [
           {
            "automargin": true,
            "type": "pie"
           }
          ],
          "scatter": [
           {
            "fillpattern": {
             "fillmode": "overlay",
             "size": 10,
             "solidity": 0.2
            },
            "type": "scatter"
           }
          ],
          "scatter3d": [
           {
            "line": {
             "colorbar": {
              "outlinewidth": 0,
              "ticks": ""
             }
            },
            "marker": {
             "colorbar": {
              "outlinewidth": 0,
              "ticks": ""
             }
            },
            "type": "scatter3d"
           }
          ],
          "scattercarpet": [
           {
            "marker": {
             "colorbar": {
              "outlinewidth": 0,
              "ticks": ""
             }
            },
            "type": "scattercarpet"
           }
          ],
          "scattergeo": [
           {
            "marker": {
             "colorbar": {
              "outlinewidth": 0,
              "ticks": ""
             }
            },
            "type": "scattergeo"
           }
          ],
          "scattergl": [
           {
            "marker": {
             "colorbar": {
              "outlinewidth": 0,
              "ticks": ""
             }
            },
            "type": "scattergl"
           }
          ],
          "scattermap": [
           {
            "marker": {
             "colorbar": {
              "outlinewidth": 0,
              "ticks": ""
             }
            },
            "type": "scattermap"
           }
          ],
          "scattermapbox": [
           {
            "marker": {
             "colorbar": {
              "outlinewidth": 0,
              "ticks": ""
             }
            },
            "type": "scattermapbox"
           }
          ],
          "scatterpolar": [
           {
            "marker": {
             "colorbar": {
              "outlinewidth": 0,
              "ticks": ""
             }
            },
            "type": "scatterpolar"
           }
          ],
          "scatterpolargl": [
           {
            "marker": {
             "colorbar": {
              "outlinewidth": 0,
              "ticks": ""
             }
            },
            "type": "scatterpolargl"
           }
          ],
          "scatterternary": [
           {
            "marker": {
             "colorbar": {
              "outlinewidth": 0,
              "ticks": ""
             }
            },
            "type": "scatterternary"
           }
          ],
          "surface": [
           {
            "colorbar": {
             "outlinewidth": 0,
             "ticks": ""
            },
            "colorscale": [
             [
              0,
              "#0d0887"
             ],
             [
              0.1111111111111111,
              "#46039f"
             ],
             [
              0.2222222222222222,
              "#7201a8"
             ],
             [
              0.3333333333333333,
              "#9c179e"
             ],
             [
              0.4444444444444444,
              "#bd3786"
             ],
             [
              0.5555555555555556,
              "#d8576b"
             ],
             [
              0.6666666666666666,
              "#ed7953"
             ],
             [
              0.7777777777777778,
              "#fb9f3a"
             ],
             [
              0.8888888888888888,
              "#fdca26"
             ],
             [
              1,
              "#f0f921"
             ]
            ],
            "type": "surface"
           }
          ],
          "table": [
           {
            "cells": {
             "fill": {
              "color": "#EBF0F8"
             },
             "line": {
              "color": "white"
             }
            },
            "header": {
             "fill": {
              "color": "#C8D4E3"
             },
             "line": {
              "color": "white"
             }
            },
            "type": "table"
           }
          ]
         },
         "layout": {
          "annotationdefaults": {
           "arrowcolor": "#2a3f5f",
           "arrowhead": 0,
           "arrowwidth": 1
          },
          "autotypenumbers": "strict",
          "coloraxis": {
           "colorbar": {
            "outlinewidth": 0,
            "ticks": ""
           }
          },
          "colorscale": {
           "diverging": [
            [
             0,
             "#8e0152"
            ],
            [
             0.1,
             "#c51b7d"
            ],
            [
             0.2,
             "#de77ae"
            ],
            [
             0.3,
             "#f1b6da"
            ],
            [
             0.4,
             "#fde0ef"
            ],
            [
             0.5,
             "#f7f7f7"
            ],
            [
             0.6,
             "#e6f5d0"
            ],
            [
             0.7,
             "#b8e186"
            ],
            [
             0.8,
             "#7fbc41"
            ],
            [
             0.9,
             "#4d9221"
            ],
            [
             1,
             "#276419"
            ]
           ],
           "sequential": [
            [
             0,
             "#0d0887"
            ],
            [
             0.1111111111111111,
             "#46039f"
            ],
            [
             0.2222222222222222,
             "#7201a8"
            ],
            [
             0.3333333333333333,
             "#9c179e"
            ],
            [
             0.4444444444444444,
             "#bd3786"
            ],
            [
             0.5555555555555556,
             "#d8576b"
            ],
            [
             0.6666666666666666,
             "#ed7953"
            ],
            [
             0.7777777777777778,
             "#fb9f3a"
            ],
            [
             0.8888888888888888,
             "#fdca26"
            ],
            [
             1,
             "#f0f921"
            ]
           ],
           "sequentialminus": [
            [
             0,
             "#0d0887"
            ],
            [
             0.1111111111111111,
             "#46039f"
            ],
            [
             0.2222222222222222,
             "#7201a8"
            ],
            [
             0.3333333333333333,
             "#9c179e"
            ],
            [
             0.4444444444444444,
             "#bd3786"
            ],
            [
             0.5555555555555556,
             "#d8576b"
            ],
            [
             0.6666666666666666,
             "#ed7953"
            ],
            [
             0.7777777777777778,
             "#fb9f3a"
            ],
            [
             0.8888888888888888,
             "#fdca26"
            ],
            [
             1,
             "#f0f921"
            ]
           ]
          },
          "colorway": [
           "#636efa",
           "#EF553B",
           "#00cc96",
           "#ab63fa",
           "#FFA15A",
           "#19d3f3",
           "#FF6692",
           "#B6E880",
           "#FF97FF",
           "#FECB52"
          ],
          "font": {
           "color": "#2a3f5f"
          },
          "geo": {
           "bgcolor": "white",
           "lakecolor": "white",
           "landcolor": "#E5ECF6",
           "showlakes": true,
           "showland": true,
           "subunitcolor": "white"
          },
          "hoverlabel": {
           "align": "left"
          },
          "hovermode": "closest",
          "mapbox": {
           "style": "light"
          },
          "paper_bgcolor": "white",
          "plot_bgcolor": "#E5ECF6",
          "polar": {
           "angularaxis": {
            "gridcolor": "white",
            "linecolor": "white",
            "ticks": ""
           },
           "bgcolor": "#E5ECF6",
           "radialaxis": {
            "gridcolor": "white",
            "linecolor": "white",
            "ticks": ""
           }
          },
          "scene": {
           "xaxis": {
            "backgroundcolor": "#E5ECF6",
            "gridcolor": "white",
            "gridwidth": 2,
            "linecolor": "white",
            "showbackground": true,
            "ticks": "",
            "zerolinecolor": "white"
           },
           "yaxis": {
            "backgroundcolor": "#E5ECF6",
            "gridcolor": "white",
            "gridwidth": 2,
            "linecolor": "white",
            "showbackground": true,
            "ticks": "",
            "zerolinecolor": "white"
           },
           "zaxis": {
            "backgroundcolor": "#E5ECF6",
            "gridcolor": "white",
            "gridwidth": 2,
            "linecolor": "white",
            "showbackground": true,
            "ticks": "",
            "zerolinecolor": "white"
           }
          },
          "shapedefaults": {
           "line": {
            "color": "#2a3f5f"
           }
          },
          "ternary": {
           "aaxis": {
            "gridcolor": "white",
            "linecolor": "white",
            "ticks": ""
           },
           "baxis": {
            "gridcolor": "white",
            "linecolor": "white",
            "ticks": ""
           },
           "bgcolor": "#E5ECF6",
           "caxis": {
            "gridcolor": "white",
            "linecolor": "white",
            "ticks": ""
           }
          },
          "title": {
           "x": 0.05
          },
          "xaxis": {
           "automargin": true,
           "gridcolor": "white",
           "linecolor": "white",
           "ticks": "",
           "title": {
            "standoff": 15
           },
           "zerolinecolor": "white",
           "zerolinewidth": 2
          },
          "yaxis": {
           "automargin": true,
           "gridcolor": "white",
           "linecolor": "white",
           "ticks": "",
           "title": {
            "standoff": 15
           },
           "zerolinecolor": "white",
           "zerolinewidth": 2
          }
         }
        },
        "title": {
         "text": "Stock Price from 2015 to 2025"
        },
        "xaxis": {
         "anchor": "y",
         "domain": [
          0,
          1
         ],
         "rangeselector": {
          "buttons": [
           {
            "count": 1,
            "label": "1m",
            "step": "month",
            "stepmode": "backward"
           },
           {
            "count": 6,
            "label": "6m",
            "step": "month",
            "stepmode": "backward"
           },
           {
            "count": 1,
            "label": "YTD",
            "step": "year",
            "stepmode": "todate"
           },
           {
            "count": 1,
            "label": "1y",
            "step": "year",
            "stepmode": "backward"
           },
           {
            "step": "all"
           }
          ]
         },
         "rangeslider": {
          "visible": true
         },
         "title": {
          "text": "Date"
         }
        },
        "yaxis": {
         "anchor": "x",
         "domain": [
          0,
          1
         ],
         "title": {
          "text": "Close"
         }
        }
       }
      }
     },
     "metadata": {},
     "output_type": "display_data"
    }
   ],
   "source": [
    "subdf = mod_df[mod_df['Ticker'].isin(['NVDA', 'DIS', 'XOM', 'BAC', 'WMT'])]\n",
    "\n",
    "figure1 = px.line(subdf, x=subdf.index, y='Close', color='Ticker', title='Stock Price from 2015 to 2025')\n",
    "figure1.update_xaxes(rangeslider_visible=True,\n",
    "                    rangeselector=dict(\n",
    "                        buttons=list([\n",
    "                            dict(count=1, label=\"1m\", step=\"month\", stepmode=\"backward\"),\n",
    "                            dict(count=6, label=\"6m\", step=\"month\", stepmode=\"backward\"),\n",
    "                            dict(count=1, label=\"YTD\", step=\"year\", stepmode=\"todate\"),\n",
    "                            dict(count=1, label=\"1y\", step=\"year\", stepmode=\"backward\"),\n",
    "                            dict(step=\"all\")\n",
    "                        ])\n",
    "                    ))\n",
    "figure1.show()"
   ]
  },
  {
   "cell_type": "code",
   "execution_count": 69,
   "metadata": {},
   "outputs": [],
   "source": [
    "nvdaDF = subdf[subdf['Ticker']=='NVDA']\n",
    "wmtDF = subdf[subdf['Ticker']=='WMT']\n",
    "xomDF = subdf[subdf['Ticker']=='XOM']\n",
    "bacDF = subdf[subdf['Ticker']=='BAC']\n",
    "disDF = subdf[subdf['Ticker']=='DIS']"
   ]
  },
  {
   "cell_type": "markdown",
   "metadata": {},
   "source": [
    "### Scatter Plots"
   ]
  },
  {
   "cell_type": "code",
   "execution_count": 70,
   "metadata": {},
   "outputs": [
    {
     "data": {
      "application/vnd.plotly.v1+json": {
       "config": {
        "plotlyServerURL": "https://plot.ly"
       },
       "data": [
        {
         "hovertemplate": "Ticker=DIS<br>Volume=%{x}<br>Close=%{y}<extra></extra>",
         "legendgroup": "DIS",
         "marker": {
          "color": "#636efa",
          "symbol": "circle"
         },
         "mode": "markers",
         "name": "DIS",
         "showlegend": true,
         "type": "scattergl",
         "x": {
          "bdata": "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",
          "dtype": "f8"
         },
         "xaxis": "x",
         "y": {
          "bdata": "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",
          "dtype": "f8"
         },
         "yaxis": "y"
        },
        {
         "hovertemplate": "Ticker=XOM<br>Volume=%{x}<br>Close=%{y}<extra></extra>",
         "legendgroup": "XOM",
         "marker": {
          "color": "#EF553B",
          "symbol": "circle"
         },
         "mode": "markers",
         "name": "XOM",
         "showlegend": true,
         "type": "scattergl",
         "x": {
          "bdata": "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",
          "dtype": "f8"
         },
         "xaxis": "x",
         "y": {
          "bdata": "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",
          "dtype": "f8"
         },
         "yaxis": "y"
        },
        {
         "hovertemplate": "Ticker=BAC<br>Volume=%{x}<br>Close=%{y}<extra></extra>",
         "legendgroup": "BAC",
         "marker": {
          "color": "#00cc96",
          "symbol": "circle"
         },
         "mode": "markers",
         "name": "BAC",
         "showlegend": true,
         "type": "scattergl",
         "x": {
          "bdata": "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",
          "dtype": "f8"
         },
         "xaxis": "x",
         "y": {
          "bdata": "AQAAwJXGKkD///+/d/gqQP///5/cmCpAAAAAIOyrKUAAAACAWlYqQAAAAGA6NSpAAAAAwPvMKUAAAACg++8oQAAAAMDjTylAAQAAIPKaKUABAADAOlgpQAAAAGCWeSlAAAAAYJE9KkAAAACAV8sqQAAAAACloSpAAAAAoG9IK0AAAADAMOAqQAEAAEDo/ytAAAAAYOCSLEAAAABgCg0sQAAAACBrcSxAAQAAQH3SK0AAAABgeUgrQAAAAMD/kS1AAAAAoFk+LUD///+//DUtQAAAAICd/yxAAAAAwLTqLEAAAADgiE0qQAEAAOBFuipA/////1ORKUAAAACgCUoqQAAAAOCjgClAAAAAABoLKkAAAAAAHjUpQAAAAAAIiSlA////X5trKkAAAADAbxMrQP///3+GgCtAAAAAwG5rLUAAAADgvzAsQAAAAICP7SxAAAAAADumLEAAAADAfiwtQP///x9PfytAAAAA4O6LK0D///9fhWIsQAAAAABjqStAAQAAAIz7KEAAAABgL8QnQAAAAGCASSZAAAAA4Io9J0AAAABg1kglQAAAAIAUpCNAAAAAoNDvI0AAAAAApt8kQAAAAEAWQSZAAQAAoFrAJkABAACgWsAmQAAAAMDkkSZA////fzZfJkAAAABgAUAlQAAAAOAMGSdAAAAAwN7tKEAAAACgkgUoQP///7+CRydAAAAAIF7mJkAAAACgrfQnQP///z+6jChAAAAAQHHKJ0AAAABAEOUmQAAAAIDVLiZAAAAAAFGFJUAAAADgsa8lQAEAAABczSVAAAAA4ASdJkAAAAAgJs4nQAAAAIDE/CdAAAAAgBfqKEAAAACgwq4oQAEAAGAjMilA////37IjKkAAAADAsXwqQAAAAMCNLSpAAQAAIB3DKUAAAACA4s8pQAAAAEA8BypA////H5rTKkAAAACgQJwqQP///x+EuStAAAAAQMa9K0AAAAAgbIYrQAEAAOAQoi9AAAAAgKihMEAAAACAvFgxQAAAAACBpzFAAAAAALRFM0D///+/0ukyQAAAAAAB3TJAAAAAoCpyMkD/////GO4yQAAAAECcNDNA////n4zlMkAAAABgZX8zQAAAAOBvcDNAAAAA4JBDM0AAAACAQXc0QAAAAGBKOTRAAAAAwNU7NUAAAACgijA1QAAAAKAY0DRAAAAAACxbM0AAAADg578zQAAAAIC+YzNAAAAAoP+zMkAAAABgTAMzQP///79SijNAAAAAYA3gM0AAAAAgxxc0QAAAAAArTDNAAAAAAOR0M0AAAAAAk8syQAAAACC24TNAAAAAoBquM0AAAABg8CozQAAAAACUYDRAAAAA4CTbNEAAAACA01U0QAAAAICq/TNAAAAAYB8vNEAAAACgP/k0QAAAAACRCjRAAAAAIPbWM0AAAADgNvczQAAAAGAGPDRAAAAAgCpTM0AAAABAMpU0QAAAAOCEHzVA////361kNUABAADgtSA2QAAAAOCUzjVAAAAAYDHwNkAAAABgWng3QAAAAMCtfDdA////n4xhNkD///+/Unk2QAAAAKDWcjZAAAAAYDG5N0AAAADARKE4QAAAAEAZnzhAAAAAAGtVOUABAABASAc5QP///78XtzlAAAAAwMBxOkAAAAAAyuQ6QAAAAGD5TDtAAQAA4LUWO0D///+/F7c5QAEAAEANGztAAAAAoBIoO0AAAAAAQdE6QAAAAMB82DtAAAAAYKlgO0ABAAAgEtM4QAAAACC4hTlAAAAA4Ek3OUAAAACAU1w5QAAAACCLwDlAAAAAwJOoOUAAAAAAZe84QAAAAGBVUDpAAAAAIIvAOUAAAADgwao5QAAAAEAuBTlA////H8qkOUAAAADgGQU5QAAAAGCpxThAAAAAwKgWOEAAAACgqPM3QAAAAEBpZThAAAAAQAq/OUAAAAAAe4o6QAAAAMDr7DpAAAAAIOumOkAAAADgekQ6QAAAAABLZTpAAAAAIAtuOkAAAAAgu146QAAAAACoEzpAAAAAILukOkAAAABgoUs5QAAAAADi9DlAAAAA4NBvOEAAAAAgC1E4QAAAAADPqDZA////f4byN0AAAACAAX04QAAAAKDA0zdAAAAAYEwoN0AAAABAoWI4QAAAAEDK1TVAAAAA4AojNUAAAAAgsC00QAAAAAAmDzVAAAAAwC8WNkAAAABgp3k2QAAAAKBzTDlAAAAA4FeKOUD/////GIE4QAAAAMAzbThAAAAAgHQiOUAAAACg0hs5QAAAAMCpTjlAAAAAoBvdOEAAAACAhG05QAAAAMDAcDdAAAAAIJzxN0AAAADgozw5QAAAAKDNLjpAAAAAgLMPOkAAAAAgy1Y6QAAAAEDGpjpAAAAAoLmrOUAAAAAgkaU4QAAAACCxdDhAAAAAoKoVN0AAAADgR+Q3QAAAAIA/dzhAAAAAIB6JOEAAAABgrk05QAAAAODBhzlAAAAAgDKyOUAAAACAB6c5QAAAAAAL2TpAAAAAoI+iOUD///9/Brg4QP///z+llTdAAAAAQI8YN0AAAADg3AA4QAAAAAABMjhAAAAAQHB/OkAAAAAgCP05QAAAAMARxzlAAAAA4LnqOEAAAADAI2Q5QAAAAKDopzpAAAAAAPHbO0AAAAAA7u07QAEAACAyNj1AAAAA4P/rPED///8/NSQ9QAAAAMCvQz1AAAAAgGGSPUAAAADgyGk+QAAAACBX3z5AAAAAYIE3P0D///9/xtE+QAAAAACbrT5AAAAAQNKmPkAAAACgUp49QAAAAKDQ/TxAAQAAADeQPkAAAACAeMY+QAAAACCzVz5AAAAAwPAqOUAAAACgNbQ2QAAAAOCneDVAAAAAgCF7MUAAAABgOjIzQAAAAGAJzTFAAAAAYOkXNkAAAAAAcrA0QAAAAOAutjNAAAAAQPGCNEAAAABgbPI0QAAAAEDTDTNAAAAAgGMjNEAAAABAjm81QAAAAEBS+zhAAAAAYActNkAAAABgtJg2QAAAAGCZtzRA////n6zXNED///8f6n41QAAAAACjxzRAAAAAgITKNUAAAAAg8EM2QAAAAGC6XTdAAAAAwDOwN0AAAABA2Vo2QAAAAIBBiTdAAAAAgD3AN0AAAACArPo2QAAAAKDFtzZAAAAA4PoqNUAAAABAFNE1QAAAAIBg2jZAAAAAIADYNUAAAADgQXA2QAAAACBtWzVAAAAAICboNUAAAABgtlQ4QAAAAKDhKDhAAAAA4MofOkAAAAAgAGU6QAAAAOD65zlAAAAAoDH/OUAAAABgpCo7QAAAAIDjeztAAAAAADh/PUAAAAAgpO49QAAAAOC6mzxAAAAAYK7iOkAAAADgE1o9QAAAAGA1Qj5AAAAAIM1RP0AAAACAQ3k/QAAAACBMvkBAAAAAQGVJQUAAAACgNo5BQAAAAMC1n0FAAAAAADH+QUAAAADggjhCQAAAACCI1kFAAAAAIAjaQUAAAACAf3dCQP///z/1N0NAAAAAIPRMQ0AAAABAnlFDQAAAAKBzUENAAAAAABm3Q0AAAABgLydDQAAAAGBqvkFAAAAA4BILQ0AAAACABdRCQAAAAAABUkJAAAAAIK5ZQUAAAACA6T9BQAAAACA4jUFAAAAAgONeQkAAAACgPgxDQAAAAGCoeEJAAAAAoPpwQ0AAAACgTshCQAAAAKAdhUJAAAAA4DGgQkAAAAAAR2FDQAAAAEDyz0NAAAAAQEpkREAAAAAASlNFQAAAAECR4EVAAAAAoEr5RUAAAABg7ZlFQAAAAGDdkkVAAAAAIBbhREAAAACAeAtFQAAAAID0LERAAAAAoLWSREAAAACA/0ZEQAAAAGDhhkRAAAAAICmPREAAAADg/LlGQAAAACC/I0ZAAAAAoAfCREAAAADgaTJFQAAAAKCET0ZA////3+0kRkAAAADADz1FQAAAAEDczURAAAAAQGHsQkAAAACAXLpCQAAAAMDg60NAAAAA4ItOREAAAABAH/5CQAAAAMDma0JAAAAAwEFyQUAAAACAEXFBQAAAAMCTkUBAAAAAAP5jQUAAAAAA81RAQAAAAMBvcj9AAAAAwN8wQUAAAABANM5AQAAAAODO+z5A////f+bQPUAAAABAKS4+QAAAAODQej1AAAAAoNCxPUAAAAAA0B8+QAAAAAD7OT9AAQAAgNmUP0D///+/t7g/QAAAAOAi9EBAAAAAQBiSQEAAAADAdMk/QAAAAAD7OT9AAAAAQA5tQEAAAADgXQpAQAAAAIB11T1AAAAAwC9lPEAAAABgkuk8QAAAAAA9zj1AAAAAYEJuQEAAAABgSgJBQAAAAGC0S0FAAAAAQKwOQkAAAABg2HtBQAAAAEA5uUFAAAAAoEH2QED///9fe58+QP/////Y+j1AAAAAgEW1PkAAAACApFI/QAAAAEB7RUBAAAAA4L6oQEAAAADAsAFAQAAAAMBgw0BAAAAA4AI6QUAAAACAHdNAQAAAAKBFt0BAAAAAYEUtQEAAAADANydAQP///x8q0DxA////fyZ7OkAAAAAAc9U5QAAAAIA4OTtAAAAAYAaAOkAAAADgZxk8QAAAAECxbjxAAAAAAOzeO0AAAADAWGA6QAAAAMBDyTlAAAAAgNHBOkAAAACgjfI6QAAAAEAGVDtA////f2YVPEAAAAAgwAE8QAAAAGANoDpAAAAAYPCGO0AAAACAo187QAAAAMAZ7jtA////HwqvPkAAAADgY5s+QAAAACAECD5AAAAAYI8FPkAAAADAGe47QAAAACBFWDtAAAAAICvOO0AAAACg7m87QAAAAGDQ5jtAAAAA4Ju9OkAAAAAgN306QAAAAGDEODlAAAAAwKjjOUAAAAAgNXQ5QAAAAADdWThAAQAAwMp+O0AAAAAghMc6QAAAAGAoAT1AAAAAoD3DPEAAAADg3/M9QAAAAEATMT5AAAAAYBJiQEAAAAAA2kxAQAAAACDPakBAAAAAAK3JQEABAABAbfw/QAAAAKChaz9AAAAAANpMQEAAAABA2FFAQAAAAEDqH0BAAAAAQDyfQEAAAAAABIpAQAAAAICwv0BAAAAAgAV7QUAAAABgI2NBQAAAAIBKMUJAAAAAAKeeQkAAAABg1ThCQAAAAODnkkFAAAAAQDwnQkAAAAAAV5NCQAAAAKBuSkJAAAAAYEbhQkAAAACg3UpDQAAAAGBnfkNAAAAAgNuiQ0AAAACgdYhDQAAAAMCUYkNAAAAAoDKCQ0AAAADAm6VDQAAAACCM9kNAAAAAgMeLREAAAACgczFFQAAAAIDllURAAAAAIKWQQkAAAAAALOlCQAAAAEA6b0NAAAAAwJulQ0AAAADgiyFEQAAAAGDgJUNAAAAAINU3Q0AAAACgCwZEQAEAAEBNl0NAAAAAwK3xQ0AAAABg5dtEQAAAAGD+CkVAAQAAIELUREAAAADAtcNEQAAAACCvcEZAAAAAoOU+R0AAAABguF5HQAAAAICjn0dAAAAAoOU+R0AAAACAwtVGQAAAAIDCFUZAAAAAIIUrRkAAAAAgrmdGQAAAAIAUjkZAAAAAANdDR0AAAABgj0JHQAAAAGBmJkdAAAAAYLjeR0A=",
          "dtype": "f8"
         },
         "yaxis": "y"
        },
        {
         "hovertemplate": "Ticker=WMT<br>Volume=%{x}<br>Close=%{y}<extra></extra>",
         "legendgroup": "WMT",
         "marker": {
          "color": "#ab63fa",
          "symbol": "circle"
         },
         "mode": "markers",
         "name": "WMT",
         "showlegend": true,
         "type": "scattergl",
         "x": {
          "bdata": "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",
          "dtype": "f8"
         },
         "xaxis": "x",
         "y": {
          "bdata": "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",
          "dtype": "f8"
         },
         "yaxis": "y"
        },
        {
         "hovertemplate": "Ticker=NVDA<br>Volume=%{x}<br>Close=%{y}<extra></extra>",
         "legendgroup": "NVDA",
         "marker": {
          "color": "#FFA15A",
          "symbol": "circle"
         },
         "mode": "markers",
         "name": "NVDA",
         "showlegend": true,
         "type": "scattergl",
         "x": {
          "bdata": "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",
          "dtype": "f8"
         },
         "xaxis": "x",
         "y": {
          "bdata": "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",
          "dtype": "f8"
         },
         "yaxis": "y"
        }
       ],
       "layout": {
        "legend": {
         "title": {
          "text": "Ticker"
         },
         "tracegroupgap": 0
        },
        "margin": {
         "t": 60
        },
        "template": {
         "data": {
          "bar": [
           {
            "error_x": {
             "color": "#2a3f5f"
            },
            "error_y": {
             "color": "#2a3f5f"
            },
            "marker": {
             "line": {
              "color": "#E5ECF6",
              "width": 0.5
             },
             "pattern": {
              "fillmode": "overlay",
              "size": 10,
              "solidity": 0.2
             }
            },
            "type": "bar"
           }
          ],
          "barpolar": [
           {
            "marker": {
             "line": {
              "color": "#E5ECF6",
              "width": 0.5
             },
             "pattern": {
              "fillmode": "overlay",
              "size": 10,
              "solidity": 0.2
             }
            },
            "type": "barpolar"
           }
          ],
          "carpet": [
           {
            "aaxis": {
             "endlinecolor": "#2a3f5f",
             "gridcolor": "white",
             "linecolor": "white",
             "minorgridcolor": "white",
             "startlinecolor": "#2a3f5f"
            },
            "baxis": {
             "endlinecolor": "#2a3f5f",
             "gridcolor": "white",
             "linecolor": "white",
             "minorgridcolor": "white",
             "startlinecolor": "#2a3f5f"
            },
            "type": "carpet"
           }
          ],
          "choropleth": [
           {
            "colorbar": {
             "outlinewidth": 0,
             "ticks": ""
            },
            "type": "choropleth"
           }
          ],
          "contour": [
           {
            "colorbar": {
             "outlinewidth": 0,
             "ticks": ""
            },
            "colorscale": [
             [
              0,
              "#0d0887"
             ],
             [
              0.1111111111111111,
              "#46039f"
             ],
             [
              0.2222222222222222,
              "#7201a8"
             ],
             [
              0.3333333333333333,
              "#9c179e"
             ],
             [
              0.4444444444444444,
              "#bd3786"
             ],
             [
              0.5555555555555556,
              "#d8576b"
             ],
             [
              0.6666666666666666,
              "#ed7953"
             ],
             [
              0.7777777777777778,
              "#fb9f3a"
             ],
             [
              0.8888888888888888,
              "#fdca26"
             ],
             [
              1,
              "#f0f921"
             ]
            ],
            "type": "contour"
           }
          ],
          "contourcarpet": [
           {
            "colorbar": {
             "outlinewidth": 0,
             "ticks": ""
            },
            "type": "contourcarpet"
           }
          ],
          "heatmap": [
           {
            "colorbar": {
             "outlinewidth": 0,
             "ticks": ""
            },
            "colorscale": [
             [
              0,
              "#0d0887"
             ],
             [
              0.1111111111111111,
              "#46039f"
             ],
             [
              0.2222222222222222,
              "#7201a8"
             ],
             [
              0.3333333333333333,
              "#9c179e"
             ],
             [
              0.4444444444444444,
              "#bd3786"
             ],
             [
              0.5555555555555556,
              "#d8576b"
             ],
             [
              0.6666666666666666,
              "#ed7953"
             ],
             [
              0.7777777777777778,
              "#fb9f3a"
             ],
             [
              0.8888888888888888,
              "#fdca26"
             ],
             [
              1,
              "#f0f921"
             ]
            ],
            "type": "heatmap"
           }
          ],
          "histogram": [
           {
            "marker": {
             "pattern": {
              "fillmode": "overlay",
              "size": 10,
              "solidity": 0.2
             }
            },
            "type": "histogram"
           }
          ],
          "histogram2d": [
           {
            "colorbar": {
             "outlinewidth": 0,
             "ticks": ""
            },
            "colorscale": [
             [
              0,
              "#0d0887"
             ],
             [
              0.1111111111111111,
              "#46039f"
             ],
             [
              0.2222222222222222,
              "#7201a8"
             ],
             [
              0.3333333333333333,
              "#9c179e"
             ],
             [
              0.4444444444444444,
              "#bd3786"
             ],
             [
              0.5555555555555556,
              "#d8576b"
             ],
             [
              0.6666666666666666,
              "#ed7953"
             ],
             [
              0.7777777777777778,
              "#fb9f3a"
             ],
             [
              0.8888888888888888,
              "#fdca26"
             ],
             [
              1,
              "#f0f921"
             ]
            ],
            "type": "histogram2d"
           }
          ],
          "histogram2dcontour": [
           {
            "colorbar": {
             "outlinewidth": 0,
             "ticks": ""
            },
            "colorscale": [
             [
              0,
              "#0d0887"
             ],
             [
              0.1111111111111111,
              "#46039f"
             ],
             [
              0.2222222222222222,
              "#7201a8"
             ],
             [
              0.3333333333333333,
              "#9c179e"
             ],
             [
              0.4444444444444444,
              "#bd3786"
             ],
             [
              0.5555555555555556,
              "#d8576b"
             ],
             [
              0.6666666666666666,
              "#ed7953"
             ],
             [
              0.7777777777777778,
              "#fb9f3a"
             ],
             [
              0.8888888888888888,
              "#fdca26"
             ],
             [
              1,
              "#f0f921"
             ]
            ],
            "type": "histogram2dcontour"
           }
          ],
          "mesh3d": [
           {
            "colorbar": {
             "outlinewidth": 0,
             "ticks": ""
            },
            "type": "mesh3d"
           }
          ],
          "parcoords": [
           {
            "line": {
             "colorbar": {
              "outlinewidth": 0,
              "ticks": ""
             }
            },
            "type": "parcoords"
           }
          ],
          "pie": [
           {
            "automargin": true,
            "type": "pie"
           }
          ],
          "scatter": [
           {
            "fillpattern": {
             "fillmode": "overlay",
             "size": 10,
             "solidity": 0.2
            },
            "type": "scatter"
           }
          ],
          "scatter3d": [
           {
            "line": {
             "colorbar": {
              "outlinewidth": 0,
              "ticks": ""
             }
            },
            "marker": {
             "colorbar": {
              "outlinewidth": 0,
              "ticks": ""
             }
            },
            "type": "scatter3d"
           }
          ],
          "scattercarpet": [
           {
            "marker": {
             "colorbar": {
              "outlinewidth": 0,
              "ticks": ""
             }
            },
            "type": "scattercarpet"
           }
          ],
          "scattergeo": [
           {
            "marker": {
             "colorbar": {
              "outlinewidth": 0,
              "ticks": ""
             }
            },
            "type": "scattergeo"
           }
          ],
          "scattergl": [
           {
            "marker": {
             "colorbar": {
              "outlinewidth": 0,
              "ticks": ""
             }
            },
            "type": "scattergl"
           }
          ],
          "scattermap": [
           {
            "marker": {
             "colorbar": {
              "outlinewidth": 0,
              "ticks": ""
             }
            },
            "type": "scattermap"
           }
          ],
          "scattermapbox": [
           {
            "marker": {
             "colorbar": {
              "outlinewidth": 0,
              "ticks": ""
             }
            },
            "type": "scattermapbox"
           }
          ],
          "scatterpolar": [
           {
            "marker": {
             "colorbar": {
              "outlinewidth": 0,
              "ticks": ""
             }
            },
            "type": "scatterpolar"
           }
          ],
          "scatterpolargl": [
           {
            "marker": {
             "colorbar": {
              "outlinewidth": 0,
              "ticks": ""
             }
            },
            "type": "scatterpolargl"
           }
          ],
          "scatterternary": [
           {
            "marker": {
             "colorbar": {
              "outlinewidth": 0,
              "ticks": ""
             }
            },
            "type": "scatterternary"
           }
          ],
          "surface": [
           {
            "colorbar": {
             "outlinewidth": 0,
             "ticks": ""
            },
            "colorscale": [
             [
              0,
              "#0d0887"
             ],
             [
              0.1111111111111111,
              "#46039f"
             ],
             [
              0.2222222222222222,
              "#7201a8"
             ],
             [
              0.3333333333333333,
              "#9c179e"
             ],
             [
              0.4444444444444444,
              "#bd3786"
             ],
             [
              0.5555555555555556,
              "#d8576b"
             ],
             [
              0.6666666666666666,
              "#ed7953"
             ],
             [
              0.7777777777777778,
              "#fb9f3a"
             ],
             [
              0.8888888888888888,
              "#fdca26"
             ],
             [
              1,
              "#f0f921"
             ]
            ],
            "type": "surface"
           }
          ],
          "table": [
           {
            "cells": {
             "fill": {
              "color": "#EBF0F8"
             },
             "line": {
              "color": "white"
             }
            },
            "header": {
             "fill": {
              "color": "#C8D4E3"
             },
             "line": {
              "color": "white"
             }
            },
            "type": "table"
           }
          ]
         },
         "layout": {
          "annotationdefaults": {
           "arrowcolor": "#2a3f5f",
           "arrowhead": 0,
           "arrowwidth": 1
          },
          "autotypenumbers": "strict",
          "coloraxis": {
           "colorbar": {
            "outlinewidth": 0,
            "ticks": ""
           }
          },
          "colorscale": {
           "diverging": [
            [
             0,
             "#8e0152"
            ],
            [
             0.1,
             "#c51b7d"
            ],
            [
             0.2,
             "#de77ae"
            ],
            [
             0.3,
             "#f1b6da"
            ],
            [
             0.4,
             "#fde0ef"
            ],
            [
             0.5,
             "#f7f7f7"
            ],
            [
             0.6,
             "#e6f5d0"
            ],
            [
             0.7,
             "#b8e186"
            ],
            [
             0.8,
             "#7fbc41"
            ],
            [
             0.9,
             "#4d9221"
            ],
            [
             1,
             "#276419"
            ]
           ],
           "sequential": [
            [
             0,
             "#0d0887"
            ],
            [
             0.1111111111111111,
             "#46039f"
            ],
            [
             0.2222222222222222,
             "#7201a8"
            ],
            [
             0.3333333333333333,
             "#9c179e"
            ],
            [
             0.4444444444444444,
             "#bd3786"
            ],
            [
             0.5555555555555556,
             "#d8576b"
            ],
            [
             0.6666666666666666,
             "#ed7953"
            ],
            [
             0.7777777777777778,
             "#fb9f3a"
            ],
            [
             0.8888888888888888,
             "#fdca26"
            ],
            [
             1,
             "#f0f921"
            ]
           ],
           "sequentialminus": [
            [
             0,
             "#0d0887"
            ],
            [
             0.1111111111111111,
             "#46039f"
            ],
            [
             0.2222222222222222,
             "#7201a8"
            ],
            [
             0.3333333333333333,
             "#9c179e"
            ],
            [
             0.4444444444444444,
             "#bd3786"
            ],
            [
             0.5555555555555556,
             "#d8576b"
            ],
            [
             0.6666666666666666,
             "#ed7953"
            ],
            [
             0.7777777777777778,
             "#fb9f3a"
            ],
            [
             0.8888888888888888,
             "#fdca26"
            ],
            [
             1,
             "#f0f921"
            ]
           ]
          },
          "colorway": [
           "#636efa",
           "#EF553B",
           "#00cc96",
           "#ab63fa",
           "#FFA15A",
           "#19d3f3",
           "#FF6692",
           "#B6E880",
           "#FF97FF",
           "#FECB52"
          ],
          "font": {
           "color": "#2a3f5f"
          },
          "geo": {
           "bgcolor": "white",
           "lakecolor": "white",
           "landcolor": "#E5ECF6",
           "showlakes": true,
           "showland": true,
           "subunitcolor": "white"
          },
          "hoverlabel": {
           "align": "left"
          },
          "hovermode": "closest",
          "mapbox": {
           "style": "light"
          },
          "paper_bgcolor": "white",
          "plot_bgcolor": "#E5ECF6",
          "polar": {
           "angularaxis": {
            "gridcolor": "white",
            "linecolor": "white",
            "ticks": ""
           },
           "bgcolor": "#E5ECF6",
           "radialaxis": {
            "gridcolor": "white",
            "linecolor": "white",
            "ticks": ""
           }
          },
          "scene": {
           "xaxis": {
            "backgroundcolor": "#E5ECF6",
            "gridcolor": "white",
            "gridwidth": 2,
            "linecolor": "white",
            "showbackground": true,
            "ticks": "",
            "zerolinecolor": "white"
           },
           "yaxis": {
            "backgroundcolor": "#E5ECF6",
            "gridcolor": "white",
            "gridwidth": 2,
            "linecolor": "white",
            "showbackground": true,
            "ticks": "",
            "zerolinecolor": "white"
           },
           "zaxis": {
            "backgroundcolor": "#E5ECF6",
            "gridcolor": "white",
            "gridwidth": 2,
            "linecolor": "white",
            "showbackground": true,
            "ticks": "",
            "zerolinecolor": "white"
           }
          },
          "shapedefaults": {
           "line": {
            "color": "#2a3f5f"
           }
          },
          "ternary": {
           "aaxis": {
            "gridcolor": "white",
            "linecolor": "white",
            "ticks": ""
           },
           "baxis": {
            "gridcolor": "white",
            "linecolor": "white",
            "ticks": ""
           },
           "bgcolor": "#E5ECF6",
           "caxis": {
            "gridcolor": "white",
            "linecolor": "white",
            "ticks": ""
           }
          },
          "title": {
           "x": 0.05
          },
          "xaxis": {
           "automargin": true,
           "gridcolor": "white",
           "linecolor": "white",
           "ticks": "",
           "title": {
            "standoff": 15
           },
           "zerolinecolor": "white",
           "zerolinewidth": 2
          },
          "yaxis": {
           "automargin": true,
           "gridcolor": "white",
           "linecolor": "white",
           "ticks": "",
           "title": {
            "standoff": 15
           },
           "zerolinecolor": "white",
           "zerolinewidth": 2
          }
         }
        },
        "title": {
         "text": "Volume vs. Close"
        },
        "xaxis": {
         "anchor": "y",
         "domain": [
          0,
          1
         ],
         "title": {
          "text": "Volume"
         }
        },
        "yaxis": {
         "anchor": "x",
         "domain": [
          0,
          1
         ],
         "title": {
          "text": "Close"
         }
        }
       }
      }
     },
     "metadata": {},
     "output_type": "display_data"
    }
   ],
   "source": [
    "figure2 = px.scatter(subdf, x='Volume', y='Close', color='Ticker')\n",
    "figure2.update_layout(title='Volume vs. Close')\n",
    "figure2.show()"
   ]
  },
  {
   "cell_type": "code",
   "execution_count": 71,
   "metadata": {},
   "outputs": [
    {
     "data": {
      "application/vnd.plotly.v1+json": {
       "config": {
        "plotlyServerURL": "https://plot.ly"
       },
       "data": [
        {
         "hovertemplate": "Ticker=DIS<br>Volume=%{x}<br>Log Return=%{y}<extra></extra>",
         "legendgroup": "DIS",
         "marker": {
          "color": "#636efa",
          "symbol": "circle"
         },
         "mode": "markers",
         "name": "DIS",
         "showlegend": true,
         "type": "scattergl",
         "x": {
          "bdata": "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",
          "dtype": "f8"
         },
         "xaxis": "x",
         "y": {
          "bdata": "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",
          "dtype": "f8"
         },
         "yaxis": "y"
        },
        {
         "hovertemplate": "Ticker=XOM<br>Volume=%{x}<br>Log Return=%{y}<extra></extra>",
         "legendgroup": "XOM",
         "marker": {
          "color": "#EF553B",
          "symbol": "circle"
         },
         "mode": "markers",
         "name": "XOM",
         "showlegend": true,
         "type": "scattergl",
         "x": {
          "bdata": "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",
          "dtype": "f8"
         },
         "xaxis": "x",
         "y": {
          "bdata": "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",
          "dtype": "f8"
         },
         "yaxis": "y"
        },
        {
         "hovertemplate": "Ticker=BAC<br>Volume=%{x}<br>Log Return=%{y}<extra></extra>",
         "legendgroup": "BAC",
         "marker": {
          "color": "#00cc96",
          "symbol": "circle"
         },
         "mode": "markers",
         "name": "BAC",
         "showlegend": true,
         "type": "scattergl",
         "x": {
          "bdata": "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",
          "dtype": "f8"
         },
         "xaxis": "x",
         "y": {
          "bdata": "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",
          "dtype": "f8"
         },
         "yaxis": "y"
        },
        {
         "hovertemplate": "Ticker=WMT<br>Volume=%{x}<br>Log Return=%{y}<extra></extra>",
         "legendgroup": "WMT",
         "marker": {
          "color": "#ab63fa",
          "symbol": "circle"
         },
         "mode": "markers",
         "name": "WMT",
         "showlegend": true,
         "type": "scattergl",
         "x": {
          "bdata": "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",
          "dtype": "f8"
         },
         "xaxis": "x",
         "y": {
          "bdata": "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",
          "dtype": "f8"
         },
         "yaxis": "y"
        },
        {
         "hovertemplate": "Ticker=NVDA<br>Volume=%{x}<br>Log Return=%{y}<extra></extra>",
         "legendgroup": "NVDA",
         "marker": {
          "color": "#FFA15A",
          "symbol": "circle"
         },
         "mode": "markers",
         "name": "NVDA",
         "showlegend": true,
         "type": "scattergl",
         "x": {
          "bdata": "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",
          "dtype": "f8"
         },
         "xaxis": "x",
         "y": {
          "bdata": "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",
          "dtype": "f8"
         },
         "yaxis": "y"
        }
       ],
       "layout": {
        "legend": {
         "title": {
          "text": "Ticker"
         },
         "tracegroupgap": 0
        },
        "margin": {
         "t": 60
        },
        "template": {
         "data": {
          "bar": [
           {
            "error_x": {
             "color": "#2a3f5f"
            },
            "error_y": {
             "color": "#2a3f5f"
            },
            "marker": {
             "line": {
              "color": "#E5ECF6",
              "width": 0.5
             },
             "pattern": {
              "fillmode": "overlay",
              "size": 10,
              "solidity": 0.2
             }
            },
            "type": "bar"
           }
          ],
          "barpolar": [
           {
            "marker": {
             "line": {
              "color": "#E5ECF6",
              "width": 0.5
             },
             "pattern": {
              "fillmode": "overlay",
              "size": 10,
              "solidity": 0.2
             }
            },
            "type": "barpolar"
           }
          ],
          "carpet": [
           {
            "aaxis": {
             "endlinecolor": "#2a3f5f",
             "gridcolor": "white",
             "linecolor": "white",
             "minorgridcolor": "white",
             "startlinecolor": "#2a3f5f"
            },
            "baxis": {
             "endlinecolor": "#2a3f5f",
             "gridcolor": "white",
             "linecolor": "white",
             "minorgridcolor": "white",
             "startlinecolor": "#2a3f5f"
            },
            "type": "carpet"
           }
          ],
          "choropleth": [
           {
            "colorbar": {
             "outlinewidth": 0,
             "ticks": ""
            },
            "type": "choropleth"
           }
          ],
          "contour": [
           {
            "colorbar": {
             "outlinewidth": 0,
             "ticks": ""
            },
            "colorscale": [
             [
              0,
              "#0d0887"
             ],
             [
              0.1111111111111111,
              "#46039f"
             ],
             [
              0.2222222222222222,
              "#7201a8"
             ],
             [
              0.3333333333333333,
              "#9c179e"
             ],
             [
              0.4444444444444444,
              "#bd3786"
             ],
             [
              0.5555555555555556,
              "#d8576b"
             ],
             [
              0.6666666666666666,
              "#ed7953"
             ],
             [
              0.7777777777777778,
              "#fb9f3a"
             ],
             [
              0.8888888888888888,
              "#fdca26"
             ],
             [
              1,
              "#f0f921"
             ]
            ],
            "type": "contour"
           }
          ],
          "contourcarpet": [
           {
            "colorbar": {
             "outlinewidth": 0,
             "ticks": ""
            },
            "type": "contourcarpet"
           }
          ],
          "heatmap": [
           {
            "colorbar": {
             "outlinewidth": 0,
             "ticks": ""
            },
            "colorscale": [
             [
              0,
              "#0d0887"
             ],
             [
              0.1111111111111111,
              "#46039f"
             ],
             [
              0.2222222222222222,
              "#7201a8"
             ],
             [
              0.3333333333333333,
              "#9c179e"
             ],
             [
              0.4444444444444444,
              "#bd3786"
             ],
             [
              0.5555555555555556,
              "#d8576b"
             ],
             [
              0.6666666666666666,
              "#ed7953"
             ],
             [
              0.7777777777777778,
              "#fb9f3a"
             ],
             [
              0.8888888888888888,
              "#fdca26"
             ],
             [
              1,
              "#f0f921"
             ]
            ],
            "type": "heatmap"
           }
          ],
          "histogram": [
           {
            "marker": {
             "pattern": {
              "fillmode": "overlay",
              "size": 10,
              "solidity": 0.2
             }
            },
            "type": "histogram"
           }
          ],
          "histogram2d": [
           {
            "colorbar": {
             "outlinewidth": 0,
             "ticks": ""
            },
            "colorscale": [
             [
              0,
              "#0d0887"
             ],
             [
              0.1111111111111111,
              "#46039f"
             ],
             [
              0.2222222222222222,
              "#7201a8"
             ],
             [
              0.3333333333333333,
              "#9c179e"
             ],
             [
              0.4444444444444444,
              "#bd3786"
             ],
             [
              0.5555555555555556,
              "#d8576b"
             ],
             [
              0.6666666666666666,
              "#ed7953"
             ],
             [
              0.7777777777777778,
              "#fb9f3a"
             ],
             [
              0.8888888888888888,
              "#fdca26"
             ],
             [
              1,
              "#f0f921"
             ]
            ],
            "type": "histogram2d"
           }
          ],
          "histogram2dcontour": [
           {
            "colorbar": {
             "outlinewidth": 0,
             "ticks": ""
            },
            "colorscale": [
             [
              0,
              "#0d0887"
             ],
             [
              0.1111111111111111,
              "#46039f"
             ],
             [
              0.2222222222222222,
              "#7201a8"
             ],
             [
              0.3333333333333333,
              "#9c179e"
             ],
             [
              0.4444444444444444,
              "#bd3786"
             ],
             [
              0.5555555555555556,
              "#d8576b"
             ],
             [
              0.6666666666666666,
              "#ed7953"
             ],
             [
              0.7777777777777778,
              "#fb9f3a"
             ],
             [
              0.8888888888888888,
              "#fdca26"
             ],
             [
              1,
              "#f0f921"
             ]
            ],
            "type": "histogram2dcontour"
           }
          ],
          "mesh3d": [
           {
            "colorbar": {
             "outlinewidth": 0,
             "ticks": ""
            },
            "type": "mesh3d"
           }
          ],
          "parcoords": [
           {
            "line": {
             "colorbar": {
              "outlinewidth": 0,
              "ticks": ""
             }
            },
            "type": "parcoords"
           }
          ],
          "pie": [
           {
            "automargin": true,
            "type": "pie"
           }
          ],
          "scatter": [
           {
            "fillpattern": {
             "fillmode": "overlay",
             "size": 10,
             "solidity": 0.2
            },
            "type": "scatter"
           }
          ],
          "scatter3d": [
           {
            "line": {
             "colorbar": {
              "outlinewidth": 0,
              "ticks": ""
             }
            },
            "marker": {
             "colorbar": {
              "outlinewidth": 0,
              "ticks": ""
             }
            },
            "type": "scatter3d"
           }
          ],
          "scattercarpet": [
           {
            "marker": {
             "colorbar": {
              "outlinewidth": 0,
              "ticks": ""
             }
            },
            "type": "scattercarpet"
           }
          ],
          "scattergeo": [
           {
            "marker": {
             "colorbar": {
              "outlinewidth": 0,
              "ticks": ""
             }
            },
            "type": "scattergeo"
           }
          ],
          "scattergl": [
           {
            "marker": {
             "colorbar": {
              "outlinewidth": 0,
              "ticks": ""
             }
            },
            "type": "scattergl"
           }
          ],
          "scattermap": [
           {
            "marker": {
             "colorbar": {
              "outlinewidth": 0,
              "ticks": ""
             }
            },
            "type": "scattermap"
           }
          ],
          "scattermapbox": [
           {
            "marker": {
             "colorbar": {
              "outlinewidth": 0,
              "ticks": ""
             }
            },
            "type": "scattermapbox"
           }
          ],
          "scatterpolar": [
           {
            "marker": {
             "colorbar": {
              "outlinewidth": 0,
              "ticks": ""
             }
            },
            "type": "scatterpolar"
           }
          ],
          "scatterpolargl": [
           {
            "marker": {
             "colorbar": {
              "outlinewidth": 0,
              "ticks": ""
             }
            },
            "type": "scatterpolargl"
           }
          ],
          "scatterternary": [
           {
            "marker": {
             "colorbar": {
              "outlinewidth": 0,
              "ticks": ""
             }
            },
            "type": "scatterternary"
           }
          ],
          "surface": [
           {
            "colorbar": {
             "outlinewidth": 0,
             "ticks": ""
            },
            "colorscale": [
             [
              0,
              "#0d0887"
             ],
             [
              0.1111111111111111,
              "#46039f"
             ],
             [
              0.2222222222222222,
              "#7201a8"
             ],
             [
              0.3333333333333333,
              "#9c179e"
             ],
             [
              0.4444444444444444,
              "#bd3786"
             ],
             [
              0.5555555555555556,
              "#d8576b"
             ],
             [
              0.6666666666666666,
              "#ed7953"
             ],
             [
              0.7777777777777778,
              "#fb9f3a"
             ],
             [
              0.8888888888888888,
              "#fdca26"
             ],
             [
              1,
              "#f0f921"
             ]
            ],
            "type": "surface"
           }
          ],
          "table": [
           {
            "cells": {
             "fill": {
              "color": "#EBF0F8"
             },
             "line": {
              "color": "white"
             }
            },
            "header": {
             "fill": {
              "color": "#C8D4E3"
             },
             "line": {
              "color": "white"
             }
            },
            "type": "table"
           }
          ]
         },
         "layout": {
          "annotationdefaults": {
           "arrowcolor": "#2a3f5f",
           "arrowhead": 0,
           "arrowwidth": 1
          },
          "autotypenumbers": "strict",
          "coloraxis": {
           "colorbar": {
            "outlinewidth": 0,
            "ticks": ""
           }
          },
          "colorscale": {
           "diverging": [
            [
             0,
             "#8e0152"
            ],
            [
             0.1,
             "#c51b7d"
            ],
            [
             0.2,
             "#de77ae"
            ],
            [
             0.3,
             "#f1b6da"
            ],
            [
             0.4,
             "#fde0ef"
            ],
            [
             0.5,
             "#f7f7f7"
            ],
            [
             0.6,
             "#e6f5d0"
            ],
            [
             0.7,
             "#b8e186"
            ],
            [
             0.8,
             "#7fbc41"
            ],
            [
             0.9,
             "#4d9221"
            ],
            [
             1,
             "#276419"
            ]
           ],
           "sequential": [
            [
             0,
             "#0d0887"
            ],
            [
             0.1111111111111111,
             "#46039f"
            ],
            [
             0.2222222222222222,
             "#7201a8"
            ],
            [
             0.3333333333333333,
             "#9c179e"
            ],
            [
             0.4444444444444444,
             "#bd3786"
            ],
            [
             0.5555555555555556,
             "#d8576b"
            ],
            [
             0.6666666666666666,
             "#ed7953"
            ],
            [
             0.7777777777777778,
             "#fb9f3a"
            ],
            [
             0.8888888888888888,
             "#fdca26"
            ],
            [
             1,
             "#f0f921"
            ]
           ],
           "sequentialminus": [
            [
             0,
             "#0d0887"
            ],
            [
             0.1111111111111111,
             "#46039f"
            ],
            [
             0.2222222222222222,
             "#7201a8"
            ],
            [
             0.3333333333333333,
             "#9c179e"
            ],
            [
             0.4444444444444444,
             "#bd3786"
            ],
            [
             0.5555555555555556,
             "#d8576b"
            ],
            [
             0.6666666666666666,
             "#ed7953"
            ],
            [
             0.7777777777777778,
             "#fb9f3a"
            ],
            [
             0.8888888888888888,
             "#fdca26"
            ],
            [
             1,
             "#f0f921"
            ]
           ]
          },
          "colorway": [
           "#636efa",
           "#EF553B",
           "#00cc96",
           "#ab63fa",
           "#FFA15A",
           "#19d3f3",
           "#FF6692",
           "#B6E880",
           "#FF97FF",
           "#FECB52"
          ],
          "font": {
           "color": "#2a3f5f"
          },
          "geo": {
           "bgcolor": "white",
           "lakecolor": "white",
           "landcolor": "#E5ECF6",
           "showlakes": true,
           "showland": true,
           "subunitcolor": "white"
          },
          "hoverlabel": {
           "align": "left"
          },
          "hovermode": "closest",
          "mapbox": {
           "style": "light"
          },
          "paper_bgcolor": "white",
          "plot_bgcolor": "#E5ECF6",
          "polar": {
           "angularaxis": {
            "gridcolor": "white",
            "linecolor": "white",
            "ticks": ""
           },
           "bgcolor": "#E5ECF6",
           "radialaxis": {
            "gridcolor": "white",
            "linecolor": "white",
            "ticks": ""
           }
          },
          "scene": {
           "xaxis": {
            "backgroundcolor": "#E5ECF6",
            "gridcolor": "white",
            "gridwidth": 2,
            "linecolor": "white",
            "showbackground": true,
            "ticks": "",
            "zerolinecolor": "white"
           },
           "yaxis": {
            "backgroundcolor": "#E5ECF6",
            "gridcolor": "white",
            "gridwidth": 2,
            "linecolor": "white",
            "showbackground": true,
            "ticks": "",
            "zerolinecolor": "white"
           },
           "zaxis": {
            "backgroundcolor": "#E5ECF6",
            "gridcolor": "white",
            "gridwidth": 2,
            "linecolor": "white",
            "showbackground": true,
            "ticks": "",
            "zerolinecolor": "white"
           }
          },
          "shapedefaults": {
           "line": {
            "color": "#2a3f5f"
           }
          },
          "ternary": {
           "aaxis": {
            "gridcolor": "white",
            "linecolor": "white",
            "ticks": ""
           },
           "baxis": {
            "gridcolor": "white",
            "linecolor": "white",
            "ticks": ""
           },
           "bgcolor": "#E5ECF6",
           "caxis": {
            "gridcolor": "white",
            "linecolor": "white",
            "ticks": ""
           }
          },
          "title": {
           "x": 0.05
          },
          "xaxis": {
           "automargin": true,
           "gridcolor": "white",
           "linecolor": "white",
           "ticks": "",
           "title": {
            "standoff": 15
           },
           "zerolinecolor": "white",
           "zerolinewidth": 2
          },
          "yaxis": {
           "automargin": true,
           "gridcolor": "white",
           "linecolor": "white",
           "ticks": "",
           "title": {
            "standoff": 15
           },
           "zerolinecolor": "white",
           "zerolinewidth": 2
          }
         }
        },
        "title": {
         "text": "Volume vs. Log Return"
        },
        "xaxis": {
         "anchor": "y",
         "domain": [
          0,
          1
         ],
         "title": {
          "text": "Volume"
         }
        },
        "yaxis": {
         "anchor": "x",
         "domain": [
          0,
          1
         ],
         "title": {
          "text": "Log Return"
         }
        }
       }
      }
     },
     "metadata": {},
     "output_type": "display_data"
    }
   ],
   "source": [
    "figure3 = px.scatter(subdf, x='Volume', y='Log Return', color='Ticker')\n",
    "figure3.update_layout(title='Volume vs. Log Return')\n",
    "figure3.show()"
   ]
  },
  {
   "cell_type": "code",
   "execution_count": 72,
   "metadata": {},
   "outputs": [
    {
     "data": {
      "application/vnd.plotly.v1+json": {
       "config": {
        "plotlyServerURL": "https://plot.ly"
       },
       "data": [
        {
         "hovertemplate": "Ticker=DIS<br>Date=%{x}<br>Log Return=%{y}<extra></extra>",
         "legendgroup": "DIS",
         "marker": {
          "color": "#636efa",
          "symbol": "circle"
         },
         "mode": "markers",
         "name": "DIS",
         "showlegend": true,
         "type": "scattergl",
         "x": [
          "2015-02-02",
          "2015-02-09",
          "2015-02-16",
          "2015-02-23",
          "2015-03-02",
          "2015-03-09",
          "2015-03-16",
          "2015-03-23",
          "2015-03-30",
          "2015-04-06",
          "2015-04-13",
          "2015-04-20",
          "2015-04-27",
          "2015-05-04",
          "2015-05-11",
          "2015-05-18",
          "2015-05-25",
          "2015-06-01",
          "2015-06-08",
          "2015-06-15",
          "2015-06-22",
          "2015-06-29",
          "2015-07-06",
          "2015-07-13",
          "2015-07-20",
          "2015-07-27",
          "2015-08-03",
          "2015-08-10",
          "2015-08-17",
          "2015-08-24",
          "2015-08-31",
          "2015-09-07",
          "2015-09-14",
          "2015-09-21",
          "2015-09-28",
          "2015-10-05",
          "2015-10-12",
          "2015-10-19",
          "2015-10-26",
          "2015-11-02",
          "2015-11-09",
          "2015-11-16",
          "2015-11-23",
          "2015-11-30",
          "2015-12-07",
          "2015-12-14",
          "2015-12-21",
          "2015-12-28",
          "2016-01-04",
          "2016-01-11",
          "2016-01-18",
          "2016-01-25",
          "2016-02-01",
          "2016-02-08",
          "2016-02-15",
          "2016-02-22",
          "2016-02-29",
          "2016-03-07",
          "2016-03-14",
          "2016-03-21",
          "2016-03-28",
          "2016-04-04",
          "2016-04-11",
          "2016-04-18",
          "2016-04-25",
          "2016-05-02",
          "2016-05-09",
          "2016-05-16",
          "2016-05-23",
          "2016-05-30",
          "2016-06-06",
          "2016-06-13",
          "2016-06-20",
          "2016-06-27",
          "2016-07-04",
          "2016-07-11",
          "2016-07-18",
          "2016-07-25",
          "2016-08-01",
          "2016-08-08",
          "2016-08-15",
          "2016-08-22",
          "2016-08-29",
          "2016-09-05",
          "2016-09-12",
          "2016-09-19",
          "2016-09-26",
          "2016-10-03",
          "2016-10-10",
          "2016-10-17",
          "2016-10-24",
          "2016-10-31",
          "2016-11-07",
          "2016-11-14",
          "2016-11-21",
          "2016-11-28",
          "2016-12-05",
          "2016-12-12",
          "2016-12-19",
          "2016-12-26",
          "2017-01-02",
          "2017-01-09",
          "2017-01-16",
          "2017-01-23",
          "2017-01-30",
          "2017-02-06",
          "2017-02-13",
          "2017-02-20",
          "2017-02-27",
          "2017-03-06",
          "2017-03-13",
          "2017-03-20",
          "2017-03-27",
          "2017-04-03",
          "2017-04-10",
          "2017-04-17",
          "2017-04-24",
          "2017-05-01",
          "2017-05-08",
          "2017-05-15",
          "2017-05-22",
          "2017-05-29",
          "2017-06-05",
          "2017-06-12",
          "2017-06-19",
          "2017-06-26",
          "2017-07-03",
          "2017-07-10",
          "2017-07-17",
          "2017-07-24",
          "2017-07-31",
          "2017-08-07",
          "2017-08-14",
          "2017-08-21",
          "2017-08-28",
          "2017-09-04",
          "2017-09-11",
          "2017-09-18",
          "2017-09-25",
          "2017-10-02",
          "2017-10-09",
          "2017-10-16",
          "2017-10-23",
          "2017-10-30",
          "2017-11-06",
          "2017-11-13",
          "2017-11-20",
          "2017-11-27",
          "2017-12-04",
          "2017-12-11",
          "2017-12-18",
          "2017-12-25",
          "2018-01-01",
          "2018-01-08",
          "2018-01-15",
          "2018-01-22",
          "2018-01-29",
          "2018-02-05",
          "2018-02-12",
          "2018-02-19",
          "2018-02-26",
          "2018-03-05",
          "2018-03-12",
          "2018-03-19",
          "2018-03-26",
          "2018-04-02",
          "2018-04-09",
          "2018-04-16",
          "2018-04-23",
          "2018-04-30",
          "2018-05-07",
          "2018-05-14",
          "2018-05-21",
          "2018-05-28",
          "2018-06-04",
          "2018-06-11",
          "2018-06-18",
          "2018-06-25",
          "2018-07-02",
          "2018-07-09",
          "2018-07-16",
          "2018-07-23",
          "2018-07-30",
          "2018-08-06",
          "2018-08-13",
          "2018-08-20",
          "2018-08-27",
          "2018-09-03",
          "2018-09-10",
          "2018-09-17",
          "2018-09-24",
          "2018-10-01",
          "2018-10-08",
          "2018-10-15",
          "2018-10-22",
          "2018-10-29",
          "2018-11-05",
          "2018-11-12",
          "2018-11-19",
          "2018-11-26",
          "2018-12-03",
          "2018-12-10",
          "2018-12-17",
          "2018-12-24",
          "2018-12-31",
          "2019-01-07",
          "2019-01-14",
          "2019-01-21",
          "2019-01-28",
          "2019-02-04",
          "2019-02-11",
          "2019-02-18",
          "2019-02-25",
          "2019-03-04",
          "2019-03-11",
          "2019-03-18",
          "2019-03-25",
          "2019-04-01",
          "2019-04-08",
          "2019-04-15",
          "2019-04-22",
          "2019-04-29",
          "2019-05-06",
          "2019-05-13",
          "2019-05-20",
          "2019-05-27",
          "2019-06-03",
          "2019-06-10",
          "2019-06-17",
          "2019-06-24",
          "2019-07-01",
          "2019-07-08",
          "2019-07-15",
          "2019-07-22",
          "2019-07-29",
          "2019-08-05",
          "2019-08-12",
          "2019-08-19",
          "2019-08-26",
          "2019-09-02",
          "2019-09-09",
          "2019-09-16",
          "2019-09-23",
          "2019-09-30",
          "2019-10-07",
          "2019-10-14",
          "2019-10-21",
          "2019-10-28",
          "2019-11-04",
          "2019-11-11",
          "2019-11-18",
          "2019-11-25",
          "2019-12-02",
          "2019-12-09",
          "2019-12-16",
          "2019-12-23",
          "2019-12-30",
          "2020-01-06",
          "2020-01-13",
          "2020-01-20",
          "2020-01-27",
          "2020-02-03",
          "2020-02-10",
          "2020-02-17",
          "2020-02-24",
          "2020-03-02",
          "2020-03-09",
          "2020-03-16",
          "2020-03-23",
          "2020-03-30",
          "2020-04-06",
          "2020-04-13",
          "2020-04-20",
          "2020-04-27",
          "2020-05-04",
          "2020-05-11",
          "2020-05-18",
          "2020-05-25",
          "2020-06-01",
          "2020-06-08",
          "2020-06-15",
          "2020-06-22",
          "2020-06-29",
          "2020-07-06",
          "2020-07-13",
          "2020-07-20",
          "2020-07-27",
          "2020-08-03",
          "2020-08-10",
          "2020-08-17",
          "2020-08-24",
          "2020-08-31",
          "2020-09-07",
          "2020-09-14",
          "2020-09-21",
          "2020-09-28",
          "2020-10-05",
          "2020-10-12",
          "2020-10-19",
          "2020-10-26",
          "2020-11-02",
          "2020-11-09",
          "2020-11-16",
          "2020-11-23",
          "2020-11-30",
          "2020-12-07",
          "2020-12-14",
          "2020-12-21",
          "2020-12-28",
          "2021-01-04",
          "2021-01-11",
          "2021-01-18",
          "2021-01-25",
          "2021-02-01",
          "2021-02-08",
          "2021-02-15",
          "2021-02-22",
          "2021-03-01",
          "2021-03-08",
          "2021-03-15",
          "2021-03-22",
          "2021-03-29",
          "2021-04-05",
          "2021-04-12",
          "2021-04-19",
          "2021-04-26",
          "2021-05-03",
          "2021-05-10",
          "2021-05-17",
          "2021-05-24",
          "2021-05-31",
          "2021-06-07",
          "2021-06-14",
          "2021-06-21",
          "2021-06-28",
          "2021-07-05",
          "2021-07-12",
          "2021-07-19",
          "2021-07-26",
          "2021-08-02",
          "2021-08-09",
          "2021-08-16",
          "2021-08-23",
          "2021-08-30",
          "2021-09-06",
          "2021-09-13",
          "2021-09-20",
          "2021-09-27",
          "2021-10-04",
          "2021-10-11",
          "2021-10-18",
          "2021-10-25",
          "2021-11-01",
          "2021-11-08",
          "2021-11-15",
          "2021-11-22",
          "2021-11-29",
          "2021-12-06",
          "2021-12-13",
          "2021-12-20",
          "2021-12-27",
          "2022-01-03",
          "2022-01-10",
          "2022-01-17",
          "2022-01-24",
          "2022-01-31",
          "2022-02-07",
          "2022-02-14",
          "2022-02-21",
          "2022-02-28",
          "2022-03-07",
          "2022-03-14",
          "2022-03-21",
          "2022-03-28",
          "2022-04-04",
          "2022-04-11",
          "2022-04-18",
          "2022-04-25",
          "2022-05-02",
          "2022-05-09",
          "2022-05-16",
          "2022-05-23",
          "2022-05-30",
          "2022-06-06",
          "2022-06-13",
          "2022-06-20",
          "2022-06-27",
          "2022-07-04",
          "2022-07-11",
          "2022-07-18",
          "2022-07-25",
          "2022-08-01",
          "2022-08-08",
          "2022-08-15",
          "2022-08-22",
          "2022-08-29",
          "2022-09-05",
          "2022-09-12",
          "2022-09-19",
          "2022-09-26",
          "2022-10-03",
          "2022-10-10",
          "2022-10-17",
          "2022-10-24",
          "2022-10-31",
          "2022-11-07",
          "2022-11-14",
          "2022-11-21",
          "2022-11-28",
          "2022-12-05",
          "2022-12-12",
          "2022-12-19",
          "2022-12-26",
          "2023-01-02",
          "2023-01-09",
          "2023-01-16",
          "2023-01-23",
          "2023-01-30",
          "2023-02-06",
          "2023-02-13",
          "2023-02-20",
          "2023-02-27",
          "2023-03-06",
          "2023-03-13",
          "2023-03-20",
          "2023-03-27",
          "2023-04-03",
          "2023-04-10",
          "2023-04-17",
          "2023-04-24",
          "2023-05-01",
          "2023-05-08",
          "2023-05-15",
          "2023-05-22",
          "2023-05-29",
          "2023-06-05",
          "2023-06-12",
          "2023-06-19",
          "2023-06-26",
          "2023-07-03",
          "2023-07-10",
          "2023-07-17",
          "2023-07-24",
          "2023-07-31",
          "2023-08-07",
          "2023-08-14",
          "2023-08-21",
          "2023-08-28",
          "2023-09-04",
          "2023-09-11",
          "2023-09-18",
          "2023-09-25",
          "2023-10-02",
          "2023-10-09",
          "2023-10-16",
          "2023-10-23",
          "2023-10-30",
          "2023-11-06",
          "2023-11-13",
          "2023-11-20",
          "2023-11-27",
          "2023-12-04",
          "2023-12-11",
          "2023-12-18",
          "2023-12-25",
          "2024-01-01",
          "2024-01-08",
          "2024-01-15",
          "2024-01-22",
          "2024-01-29",
          "2024-02-05",
          "2024-02-12",
          "2024-02-19",
          "2024-02-26",
          "2024-03-04",
          "2024-03-11",
          "2024-03-18",
          "2024-03-25",
          "2024-04-01",
          "2024-04-08",
          "2024-04-15",
          "2024-04-22",
          "2024-04-29",
          "2024-05-06",
          "2024-05-13",
          "2024-05-20",
          "2024-05-27",
          "2024-06-03",
          "2024-06-10",
          "2024-06-17",
          "2024-06-24",
          "2024-07-01",
          "2024-07-08",
          "2024-07-15",
          "2024-07-22",
          "2024-07-29",
          "2024-08-05",
          "2024-08-12",
          "2024-08-19",
          "2024-08-26",
          "2024-09-02",
          "2024-09-09",
          "2024-09-16",
          "2024-09-23",
          "2024-09-30",
          "2024-10-07",
          "2024-10-14",
          "2024-10-21",
          "2024-10-28",
          "2024-11-04",
          "2024-11-11",
          "2024-11-18",
          "2024-11-25",
          "2024-12-02",
          "2024-12-09",
          "2024-12-16",
          "2024-12-23",
          "2024-12-30",
          "2025-01-06",
          "2025-01-13",
          "2025-01-20",
          "2025-01-27",
          "2025-02-03"
         ],
         "xaxis": "x",
         "y": {
          "bdata": "AAAAAAAA+H+/0jhcHluVP55SudrN020/HtZURjV0cr/Y7GcYiH1kv2PQISdkhZk/ZCJgBrz3kj8O7Wxpyz6cv1wzCLl+JHQ/fC1YmO5Fgj9toOZvwvBjv/tfHm3L5po/TW0R2ohtgj8jqKeUYnJuv9xjEKDCP1w/jSzllI/FN79NkFIuGlZQP1WKMpJsyUS/7xfkvmoJar9KuZX/1JGYP0U4UwlUU5U/LPuUAS3JJr+HbVhvv/KSP31oJAhIEJU/KucgdAaUOz+v1H/xBrCCP9mMSwDHyre/d7VPf2K3lL9LxVYOqrC0v7fzOiNEhKI/OhnKO6hmjr/BGsmEBn+hP3CSsx90M5C/n2uJHeebmb/K4M/OZjObP4rVuJTEI5k/g3FJAGGsmT9TtH0bP3GmP1HlqdyreXc/ecBlvdw6kT/WvsCwN399v3z+goNLzaY/q+sN/rqCpb+6hi1pUcl/vxcqvUzNkay/8JyH6IkLbD844NDF89WRv8/qAtm+Sn6/uwGQap85rb+c/px15V6sv+Dp0MwcGqA/dCdyoE/0hr8FwGjJEbqUv+tKVnnnb56/z5aiF0Y8pT+V4/kgo9NpPwqfWtt+wKA/0h11H0SFdr8Eap7s9C2KP7yqTIVMpZS/HQhccYFNkz+QetDhjMObv7RA1zNcypY/XPCQhtA3qj+923L0HS50vzhVt3Q7XZY/kbV8cpXzqL8Xzsxj4EN+v88OTt7r4XQ/WPVM5S6xj7/viexY+XONv88LcS7WUJE/AncMfipAob9Yji3ZJmuYPwZdz0m6eZA/wFE02kiFgj+4wcv2EKyVvwWCx4X7nJK/Pg1fwQOAVL82g2AHyXiFP1qYVuMdFHO/5zFow9E5ib+DiPqubBCBv1b6vFBc7JW/xzoyvr3MWD+ZvC9Rk0x/PzpqqhxqC3K/x6P/P2hacL+ryEpIYIWKv4MawxG7OJM/mH7Q3Qj5gT+oG1XX48eOv59xYka7LKw/K4ESQIJqdz/JhsL4Qxx4P+DHMWC0kWq/BF6rlI0EsD+ZqyUUFVNXv9b286BrS4g/kJ4XULcxgr+j5RE/v92mP71iw3rzXIG/hFfgJdFgbr+dWFTFSPaOP/tIOvfypoI/RDrVtuBmg78J7MynzuF9P/yVvnwrVGM/UwPX7R0CgT9KJfn/lplnv/GZ20EQ534/VklbOHLOaz9up1GXy7OGP6six3xGXX2/wCIwgaR+dj+p+ZN85E+GP7Hj7eafp4Q/lQCkEnE+oL9tNtjI1T+Vv3IrpVMIdpS/jIxJOxnigD9BKu5Igl6HvypcnOYWB46/SAV8dWISUb9kVX2J13GGv0mu2/oOYZI/QCEwho+inL90wZ+DsfuYP1pPf70gTpM/ejePK+gUmz/1v7QXSlyVv9biCVDx16u/PZyLxbgRir8ZvDM4Lj6RP3lbLOauR4K/W98SH0TZpr+OzGlFql2OP4PjX3nemUo/QLGTZHLyM7/WlS5xUu6OP8xi+X0u55u/UhbWnisGlT/4pm6gDJWGv1GLyhCuc2s/LigIke3qrj/ewupcJFyKv/N2BfxgzX+/RQOtm6m2mT8K6rwwzvGDvxCv192AyLI/XcUtfBI2mL+9nnjlp/qFvzMIVXBYNaM/ZsVsDM0Sfz92rbjI7EKRvyV+BRQAa40/WQMpoSkuoL90laRcaiGrv8iFmbJXzqA/VDogmx2Xez+xKHAtb8Ckv6KSjEbiJ5E/DsTR1H1Zkr8Iu+q6kASmv//2AqB1jpM/C8p/vJxgTb8AAAAAAAAAAD9DUH6y+FG/r82Z42O9hL8OxCFuyZ+TP+Hm320Ri4I/NVfgk/p9kj9XqntSWTCRv7bMpe3B25y/MffZexlFpz9dy4mmcm+nP6+y7j2n45e/sPAwBw6ujb9ZUBanMsYyv1mptKDK/aw/4o/zlQhfiz+lpkwfKNaEP6aMrA0aj4o/EK/0jeh3ib8M1A/qqhpdv5g9DYv1E3S/RPRnxWRXSj8YrlesiEmDv8VEauH3zY+/HCEfGgRChT/pXmBVTXetPwt5OftdF5O/iZIP9nSLk7/KTVDPD9SrP0WB5yuzMqm/X2i3m7fYkT/aDAsJ38SYPzbqCipUqI+/YtQxnWtwor9e0bqAvLCeP2KUVdG4mp+/V/yU0BDYgz/j8qxtK+Oyv2T2d+LX0p0/cJoZY6XPlT8lSQYQewOcP1ZApD4te42/UlQpMiZ/PT9XkQYMkPFeP9teX/VV4l4/336RAWq9gz+ODXdvQOmXP6Xj3S1wJ4a/gNJoh9vEXL/31XJsH5eEP1sw/ez+4q6/mylSUaMnmj/HYVnVx/yhP+Fgy4UZgb8/EaVscX6lkj85leccVxesP11/Yuv536S/0GYZG6O0Yb83iVzx3HF+P54zW9KJNJG/IeO9Qikzd7+WgDG/o8CmP/N2+Q51b5o/s9yzqGCihL+7jSw7B0Vxv8HHI77GZpQ/ZKJW0Iiklz98Zapmeheiv5Z28uo2R6E/PCcVUuoGlb8sePelf1CXvxmHdf5715i/+byRRGgXm79cIszvuEmlP/ooAh138ZA/H9iM/uaThr9fUTlwjcmlvyLIejeZCpK/sy/OQq2EYz8BmS+J5Hhfv9cPlT3NUHs/dHSZweECFD9j1aRZ3L2MPxUrsGbGtaM/G+DtxcxQqD9prXSFxk6ZPxFanutqeJY/cjkkAH7Umr8mT6jjo9SBvxro4Y+UN4M/mgv+lkKif79OXqOOygV1PyhSL4SKc4q/dFLGmqdxYL/OPzanIJuev0MEDh3pCoq/qzhSBafekz+LLz00bJuFvzpMGQ0WxHC//TC0Rk9Rxb9ldUoEcO2Uv0qZ8IIUAr6/jrGn0U2Fxr/ba2lqwUi9P8nkWmnkH5u/fnlwwXhvuz8qqkFygamUP5Gt2+iSz6q/1DPXwiNbpT9/uIHqDHahP3Y36nW3hFC/Fh9XA3Y8tD8vnZO5gxB5v7pvFDuK0K8/cP5DTGrjs78W+qQO7VCEv0CLJBBCEKi/M04OggmCnD8dVs/Jq62vP4Y9/1M/wHe/gSxg1sUHgr+mSNQSoWZ3vyiNVmg497o/T+MWnhLfcj9qZSGeRoiYvzLJ2/7MjK8/xe9JFnItm78Sk7LdKdJdvwq3p/KNipi/vA+0WeXEor/joOzg8BaIv/osD60bG5Q/MKakpx7FjT+9AesMsbiIP0ZxHwvVIq2/qk6TxMmSqT9cV+kzpQG1P9rio8rj3JM/VBdOnvKIpT8I8f+HsdSnP5sXtwGcxcA/fpsqXz+gkL+4j04INtpzP/coP3aIf6U/W1chwlNXjL+cqZS95TSlv9nBSQT/438/2kE4SV+xm79xsAkqOgyzP8zZ/UNwE6I/lSUW6VAslr/IX1AJ/p6dPznkVN1aiHQ/Y3kZpHX3oj/VKuT2+MCfv+iSaZKsWpy/9/sSBJCpkD9IlsRm/Xl3vz7zwpXRg2u/2vqdvbxzl79Xllw1HqaQP3D9X76+EHq/Pfz8AI7Tr78tWOAXOMV+v/WzGnigO6I/rAWJ0tPrgL/aTy6kv3tSPz13DJGuCp2/PCBtsilQoT+rjkQH6JN8v3I5N/7r6Dm/RIxvxrIXij9wYAIf3kOSv5XOcr+lVEa/78hZ+KO/eT9uZpkolJWWP+I6zWalIqG/d7F0z/DwnD+mxgptCoJzP88rW7U3gJE/fpZWMJb4bL+scf7xSkilv5TUiZWExQ0/rtJLpwP0cD86dYSMZfpZv1kop2ph2KS/KLesnMvwYL8zzpLzdn2jP73GKy0MdLi/zJcTJ0lior+Q+0ANdPejvwOKk5dnTYq/keU/kTw8pj+rPlm/4NWav9pzfwI1fqA/fKdpSXC6gD8z3pENKUGTP3FmtdsGeaO/jqwT78LJub+uoXpu4oyCP3dJJqk8vZg/6RKsSWgtqj/rbnHZ6buJPzobvqSB6Yi/AFTuBVUXr7+XXfHul9ywvzg9el2zGLA/2Ftdp9MAgb/aahmhYr6Pv9cKOJxCiqO/BQo1JtLbhb85qNh94iG5v4b8iHlila2/I5qDCpi7iL9i4/hqnNubv5ZrXE6c+ae/3QK+csWwsD+QW7kyRW14v/HmZEht07a/vymbrhjAqr8rZYgYT1aiP/pDkGoPUpG/HXYtJKXkZ7/XBMB2d0x8v/BCdk2AdrM/EU7Wr3iToD8aiCwT8Wh0P74PdiC3yMA/FKBizZw7iL/GH1SIfYuqv+gdpfvxF5q/niF9YUEBoj/ksNOLYcWvv8P+Mca+k7W/z7xdlMlRq78O6Smh50SeP/+qJxGs95y/VoNkAJHJsz/utPbMmkCjP2Ob3OU4v6+/qmkfQ6kNqL/lVkQr7Zihv6J+tnRZ/rI/SbUZj1Qidz8De907IhKwv+gky6HWa6K/VTPvET/Ol7/PS5yZNHeKvyuoO6RF8rM/h3+pZe8IrT+3Yq/LiJikPxggJvZ8I60/Kh+Pwj7ChT+YdVyqGc+Yv2b1pNe9RZu/YgHw17yEqL9lsHyakBSBP7iYXANu6rO/Tf4uAJM6cL8VPPQcJD+DP6A1junp6K8/FBvmS6kzWr8duQZry/NGvwqyRe/XGmu/zqv0lKiynT9zeAEdafmTv/4+Zb+Gs7a/CBZKCsiYfL+yDSy+zHGhv0lQ9ifpXZw/htZnRrUBij/to0In+UR7vyxyI04iYaK/23b5S5s/iz84cY/EtHd9v+qLxauOjy2/2cYB+aPGkL/t3R9B7NCIv0Nea4KCJ2A/pLd9oa7Gnz+ARs5SweihvwoWQw1ec5+/GRVzRoJZlb9MjYoODxdIvwUpeYUYgqg/t42OIVyVqr8yDE+ZrjBkv8RZ/ZG7mpc/moeVGgxDkT+WVIFrPdmUvyZ9UWjA/aS/KDAzeDfisT9nu1ut7ueiP170VkNbgrA/LHerCdKQlD8mGIyniOSivy5sQy2gNWU/EDD8yHi8hD9JyH4G0RabvyvMDR7bfYC/MBgqcmWUez9+2/bW4dt4vwVF1o5AQ54/lhUEkDcAmT+wBwLjFdWSP3fZyS5bFLw/px388bjinT+1uKrxwAWiv50hx4YtoKM/F7vasckJjr9Ru9qxyQmOP/bzZE4Mn6E/fjUbUz7nqz+JNVnFQu6gv1itb6QVQqO//0IOWOdNib/JKuOUE3NRP0ip9x2R04A/hQtKkJNesr8+V8y10uKYvyQTCn8gxY2/YSK/4+lolT99YiXpQKCXv4y1LrLU6Y+/CAQO/8JKlz+njI5l9keev2Mbzl3S/Yq/3BBecbQNgr+07GBK4heEv2MwmAnbBrC/ZB5uvgNucL8O1R3AcJOjv0TJ6Fu+B6I/dsqm0NuxjD/y6WJ/iUxgv604XtRmBpy/73+OgArznT8jWQ33DMihP/JSprhzZJg/ybBZz2Ntgr8obIkGrhKGvx2Q5zVx2qA/UhrfUWD2l79FNbM8wL2APziHvCNz36A/D3zuGTg9wz/gH8ZA0zx0P89r/ByO+o8/4akFt1nieb/enwnExi2ev/MPUw0Yz4e/zt5goFO4ID/DJ4SW4LBsv+KFm8cVY5e/wfTtwSX1jr9uxiO4rwSoP6hh4WUzXoA/uOLEuoylgb8=",
          "dtype": "f8"
         },
         "yaxis": "y"
        },
        {
         "hovertemplate": "Ticker=XOM<br>Date=%{x}<br>Log Return=%{y}<extra></extra>",
         "legendgroup": "XOM",
         "marker": {
          "color": "#EF553B",
          "symbol": "circle"
         },
         "mode": "markers",
         "name": "XOM",
         "showlegend": true,
         "type": "scattergl",
         "x": [
          "2015-02-02",
          "2015-02-09",
          "2015-02-16",
          "2015-02-23",
          "2015-03-02",
          "2015-03-09",
          "2015-03-16",
          "2015-03-23",
          "2015-03-30",
          "2015-04-06",
          "2015-04-13",
          "2015-04-20",
          "2015-04-27",
          "2015-05-04",
          "2015-05-11",
          "2015-05-18",
          "2015-05-25",
          "2015-06-01",
          "2015-06-08",
          "2015-06-15",
          "2015-06-22",
          "2015-06-29",
          "2015-07-06",
          "2015-07-13",
          "2015-07-20",
          "2015-07-27",
          "2015-08-03",
          "2015-08-10",
          "2015-08-17",
          "2015-08-24",
          "2015-08-31",
          "2015-09-07",
          "2015-09-14",
          "2015-09-21",
          "2015-09-28",
          "2015-10-05",
          "2015-10-12",
          "2015-10-19",
          "2015-10-26",
          "2015-11-02",
          "2015-11-09",
          "2015-11-16",
          "2015-11-23",
          "2015-11-30",
          "2015-12-07",
          "2015-12-14",
          "2015-12-21",
          "2015-12-28",
          "2016-01-04",
          "2016-01-11",
          "2016-01-18",
          "2016-01-25",
          "2016-02-01",
          "2016-02-08",
          "2016-02-15",
          "2016-02-22",
          "2016-02-29",
          "2016-03-07",
          "2016-03-14",
          "2016-03-21",
          "2016-03-28",
          "2016-04-04",
          "2016-04-11",
          "2016-04-18",
          "2016-04-25",
          "2016-05-02",
          "2016-05-09",
          "2016-05-16",
          "2016-05-23",
          "2016-05-30",
          "2016-06-06",
          "2016-06-13",
          "2016-06-20",
          "2016-06-27",
          "2016-07-04",
          "2016-07-11",
          "2016-07-18",
          "2016-07-25",
          "2016-08-01",
          "2016-08-08",
          "2016-08-15",
          "2016-08-22",
          "2016-08-29",
          "2016-09-05",
          "2016-09-12",
          "2016-09-19",
          "2016-09-26",
          "2016-10-03",
          "2016-10-10",
          "2016-10-17",
          "2016-10-24",
          "2016-10-31",
          "2016-11-07",
          "2016-11-14",
          "2016-11-21",
          "2016-11-28",
          "2016-12-05",
          "2016-12-12",
          "2016-12-19",
          "2016-12-26",
          "2017-01-02",
          "2017-01-09",
          "2017-01-16",
          "2017-01-23",
          "2017-01-30",
          "2017-02-06",
          "2017-02-13",
          "2017-02-20",
          "2017-02-27",
          "2017-03-06",
          "2017-03-13",
          "2017-03-20",
          "2017-03-27",
          "2017-04-03",
          "2017-04-10",
          "2017-04-17",
          "2017-04-24",
          "2017-05-01",
          "2017-05-08",
          "2017-05-15",
          "2017-05-22",
          "2017-05-29",
          "2017-06-05",
          "2017-06-12",
          "2017-06-19",
          "2017-06-26",
          "2017-07-03",
          "2017-07-10",
          "2017-07-17",
          "2017-07-24",
          "2017-07-31",
          "2017-08-07",
          "2017-08-14",
          "2017-08-21",
          "2017-08-28",
          "2017-09-04",
          "2017-09-11",
          "2017-09-18",
          "2017-09-25",
          "2017-10-02",
          "2017-10-09",
          "2017-10-16",
          "2017-10-23",
          "2017-10-30",
          "2017-11-06",
          "2017-11-13",
          "2017-11-20",
          "2017-11-27",
          "2017-12-04",
          "2017-12-11",
          "2017-12-18",
          "2017-12-25",
          "2018-01-01",
          "2018-01-08",
          "2018-01-15",
          "2018-01-22",
          "2018-01-29",
          "2018-02-05",
          "2018-02-12",
          "2018-02-19",
          "2018-02-26",
          "2018-03-05",
          "2018-03-12",
          "2018-03-19",
          "2018-03-26",
          "2018-04-02",
          "2018-04-09",
          "2018-04-16",
          "2018-04-23",
          "2018-04-30",
          "2018-05-07",
          "2018-05-14",
          "2018-05-21",
          "2018-05-28",
          "2018-06-04",
          "2018-06-11",
          "2018-06-18",
          "2018-06-25",
          "2018-07-02",
          "2018-07-09",
          "2018-07-16",
          "2018-07-23",
          "2018-07-30",
          "2018-08-06",
          "2018-08-13",
          "2018-08-20",
          "2018-08-27",
          "2018-09-03",
          "2018-09-10",
          "2018-09-17",
          "2018-09-24",
          "2018-10-01",
          "2018-10-08",
          "2018-10-15",
          "2018-10-22",
          "2018-10-29",
          "2018-11-05",
          "2018-11-12",
          "2018-11-19",
          "2018-11-26",
          "2018-12-03",
          "2018-12-10",
          "2018-12-17",
          "2018-12-24",
          "2018-12-31",
          "2019-01-07",
          "2019-01-14",
          "2019-01-21",
          "2019-01-28",
          "2019-02-04",
          "2019-02-11",
          "2019-02-18",
          "2019-02-25",
          "2019-03-04",
          "2019-03-11",
          "2019-03-18",
          "2019-03-25",
          "2019-04-01",
          "2019-04-08",
          "2019-04-15",
          "2019-04-22",
          "2019-04-29",
          "2019-05-06",
          "2019-05-13",
          "2019-05-20",
          "2019-05-27",
          "2019-06-03",
          "2019-06-10",
          "2019-06-17",
          "2019-06-24",
          "2019-07-01",
          "2019-07-08",
          "2019-07-15",
          "2019-07-22",
          "2019-07-29",
          "2019-08-05",
          "2019-08-12",
          "2019-08-19",
          "2019-08-26",
          "2019-09-02",
          "2019-09-09",
          "2019-09-16",
          "2019-09-23",
          "2019-09-30",
          "2019-10-07",
          "2019-10-14",
          "2019-10-21",
          "2019-10-28",
          "2019-11-04",
          "2019-11-11",
          "2019-11-18",
          "2019-11-25",
          "2019-12-02",
          "2019-12-09",
          "2019-12-16",
          "2019-12-23",
          "2019-12-30",
          "2020-01-06",
          "2020-01-13",
          "2020-01-20",
          "2020-01-27",
          "2020-02-03",
          "2020-02-10",
          "2020-02-17",
          "2020-02-24",
          "2020-03-02",
          "2020-03-09",
          "2020-03-16",
          "2020-03-23",
          "2020-03-30",
          "2020-04-06",
          "2020-04-13",
          "2020-04-20",
          "2020-04-27",
          "2020-05-04",
          "2020-05-11",
          "2020-05-18",
          "2020-05-25",
          "2020-06-01",
          "2020-06-08",
          "2020-06-15",
          "2020-06-22",
          "2020-06-29",
          "2020-07-06",
          "2020-07-13",
          "2020-07-20",
          "2020-07-27",
          "2020-08-03",
          "2020-08-10",
          "2020-08-17",
          "2020-08-24",
          "2020-08-31",
          "2020-09-07",
          "2020-09-14",
          "2020-09-21",
          "2020-09-28",
          "2020-10-05",
          "2020-10-12",
          "2020-10-19",
          "2020-10-26",
          "2020-11-02",
          "2020-11-09",
          "2020-11-16",
          "2020-11-23",
          "2020-11-30",
          "2020-12-07",
          "2020-12-14",
          "2020-12-21",
          "2020-12-28",
          "2021-01-04",
          "2021-01-11",
          "2021-01-18",
          "2021-01-25",
          "2021-02-01",
          "2021-02-08",
          "2021-02-15",
          "2021-02-22",
          "2021-03-01",
          "2021-03-08",
          "2021-03-15",
          "2021-03-22",
          "2021-03-29",
          "2021-04-05",
          "2021-04-12",
          "2021-04-19",
          "2021-04-26",
          "2021-05-03",
          "2021-05-10",
          "2021-05-17",
          "2021-05-24",
          "2021-05-31",
          "2021-06-07",
          "2021-06-14",
          "2021-06-21",
          "2021-06-28",
          "2021-07-05",
          "2021-07-12",
          "2021-07-19",
          "2021-07-26",
          "2021-08-02",
          "2021-08-09",
          "2021-08-16",
          "2021-08-23",
          "2021-08-30",
          "2021-09-06",
          "2021-09-13",
          "2021-09-20",
          "2021-09-27",
          "2021-10-04",
          "2021-10-11",
          "2021-10-18",
          "2021-10-25",
          "2021-11-01",
          "2021-11-08",
          "2021-11-15",
          "2021-11-22",
          "2021-11-29",
          "2021-12-06",
          "2021-12-13",
          "2021-12-20",
          "2021-12-27",
          "2022-01-03",
          "2022-01-10",
          "2022-01-17",
          "2022-01-24",
          "2022-01-31",
          "2022-02-07",
          "2022-02-14",
          "2022-02-21",
          "2022-02-28",
          "2022-03-07",
          "2022-03-14",
          "2022-03-21",
          "2022-03-28",
          "2022-04-04",
          "2022-04-11",
          "2022-04-18",
          "2022-04-25",
          "2022-05-02",
          "2022-05-09",
          "2022-05-16",
          "2022-05-23",
          "2022-05-30",
          "2022-06-06",
          "2022-06-13",
          "2022-06-20",
          "2022-06-27",
          "2022-07-04",
          "2022-07-11",
          "2022-07-18",
          "2022-07-25",
          "2022-08-01",
          "2022-08-08",
          "2022-08-15",
          "2022-08-22",
          "2022-08-29",
          "2022-09-05",
          "2022-09-12",
          "2022-09-19",
          "2022-09-26",
          "2022-10-03",
          "2022-10-10",
          "2022-10-17",
          "2022-10-24",
          "2022-10-31",
          "2022-11-07",
          "2022-11-14",
          "2022-11-21",
          "2022-11-28",
          "2022-12-05",
          "2022-12-12",
          "2022-12-19",
          "2022-12-26",
          "2023-01-02",
          "2023-01-09",
          "2023-01-16",
          "2023-01-23",
          "2023-01-30",
          "2023-02-06",
          "2023-02-13",
          "2023-02-20",
          "2023-02-27",
          "2023-03-06",
          "2023-03-13",
          "2023-03-20",
          "2023-03-27",
          "2023-04-03",
          "2023-04-10",
          "2023-04-17",
          "2023-04-24",
          "2023-05-01",
          "2023-05-08",
          "2023-05-15",
          "2023-05-22",
          "2023-05-29",
          "2023-06-05",
          "2023-06-12",
          "2023-06-19",
          "2023-06-26",
          "2023-07-03",
          "2023-07-10",
          "2023-07-17",
          "2023-07-24",
          "2023-07-31",
          "2023-08-07",
          "2023-08-14",
          "2023-08-21",
          "2023-08-28",
          "2023-09-04",
          "2023-09-11",
          "2023-09-18",
          "2023-09-25",
          "2023-10-02",
          "2023-10-09",
          "2023-10-16",
          "2023-10-23",
          "2023-10-30",
          "2023-11-06",
          "2023-11-13",
          "2023-11-20",
          "2023-11-27",
          "2023-12-04",
          "2023-12-11",
          "2023-12-18",
          "2023-12-25",
          "2024-01-01",
          "2024-01-08",
          "2024-01-15",
          "2024-01-22",
          "2024-01-29",
          "2024-02-05",
          "2024-02-12",
          "2024-02-19",
          "2024-02-26",
          "2024-03-04",
          "2024-03-11",
          "2024-03-18",
          "2024-03-25",
          "2024-04-01",
          "2024-04-08",
          "2024-04-15",
          "2024-04-22",
          "2024-04-29",
          "2024-05-06",
          "2024-05-13",
          "2024-05-20",
          "2024-05-27",
          "2024-06-03",
          "2024-06-10",
          "2024-06-17",
          "2024-06-24",
          "2024-07-01",
          "2024-07-08",
          "2024-07-15",
          "2024-07-22",
          "2024-07-29",
          "2024-08-05",
          "2024-08-12",
          "2024-08-19",
          "2024-08-26",
          "2024-09-02",
          "2024-09-09",
          "2024-09-16",
          "2024-09-23",
          "2024-09-30",
          "2024-10-07",
          "2024-10-14",
          "2024-10-21",
          "2024-10-28",
          "2024-11-04",
          "2024-11-11",
          "2024-11-18",
          "2024-11-25",
          "2024-12-02",
          "2024-12-09",
          "2024-12-16",
          "2024-12-23",
          "2024-12-30",
          "2025-01-06",
          "2025-01-13",
          "2025-01-20",
          "2025-01-27",
          "2025-02-03"
         ],
         "xaxis": "x",
         "y": {
          "bdata": "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",
          "dtype": "f8"
         },
         "yaxis": "y"
        },
        {
         "hovertemplate": "Ticker=BAC<br>Date=%{x}<br>Log Return=%{y}<extra></extra>",
         "legendgroup": "BAC",
         "marker": {
          "color": "#00cc96",
          "symbol": "circle"
         },
         "mode": "markers",
         "name": "BAC",
         "showlegend": true,
         "type": "scattergl",
         "x": [
          "2015-02-02",
          "2015-02-09",
          "2015-02-16",
          "2015-02-23",
          "2015-03-02",
          "2015-03-09",
          "2015-03-16",
          "2015-03-23",
          "2015-03-30",
          "2015-04-06",
          "2015-04-13",
          "2015-04-20",
          "2015-04-27",
          "2015-05-04",
          "2015-05-11",
          "2015-05-18",
          "2015-05-25",
          "2015-06-01",
          "2015-06-08",
          "2015-06-15",
          "2015-06-22",
          "2015-06-29",
          "2015-07-06",
          "2015-07-13",
          "2015-07-20",
          "2015-07-27",
          "2015-08-03",
          "2015-08-10",
          "2015-08-17",
          "2015-08-24",
          "2015-08-31",
          "2015-09-07",
          "2015-09-14",
          "2015-09-21",
          "2015-09-28",
          "2015-10-05",
          "2015-10-12",
          "2015-10-19",
          "2015-10-26",
          "2015-11-02",
          "2015-11-09",
          "2015-11-16",
          "2015-11-23",
          "2015-11-30",
          "2015-12-07",
          "2015-12-14",
          "2015-12-21",
          "2015-12-28",
          "2016-01-04",
          "2016-01-11",
          "2016-01-18",
          "2016-01-25",
          "2016-02-01",
          "2016-02-08",
          "2016-02-15",
          "2016-02-22",
          "2016-02-29",
          "2016-03-07",
          "2016-03-14",
          "2016-03-21",
          "2016-03-28",
          "2016-04-04",
          "2016-04-11",
          "2016-04-18",
          "2016-04-25",
          "2016-05-02",
          "2016-05-09",
          "2016-05-16",
          "2016-05-23",
          "2016-05-30",
          "2016-06-06",
          "2016-06-13",
          "2016-06-20",
          "2016-06-27",
          "2016-07-04",
          "2016-07-11",
          "2016-07-18",
          "2016-07-25",
          "2016-08-01",
          "2016-08-08",
          "2016-08-15",
          "2016-08-22",
          "2016-08-29",
          "2016-09-05",
          "2016-09-12",
          "2016-09-19",
          "2016-09-26",
          "2016-10-03",
          "2016-10-10",
          "2016-10-17",
          "2016-10-24",
          "2016-10-31",
          "2016-11-07",
          "2016-11-14",
          "2016-11-21",
          "2016-11-28",
          "2016-12-05",
          "2016-12-12",
          "2016-12-19",
          "2016-12-26",
          "2017-01-02",
          "2017-01-09",
          "2017-01-16",
          "2017-01-23",
          "2017-01-30",
          "2017-02-06",
          "2017-02-13",
          "2017-02-20",
          "2017-02-27",
          "2017-03-06",
          "2017-03-13",
          "2017-03-20",
          "2017-03-27",
          "2017-04-03",
          "2017-04-10",
          "2017-04-17",
          "2017-04-24",
          "2017-05-01",
          "2017-05-08",
          "2017-05-15",
          "2017-05-22",
          "2017-05-29",
          "2017-06-05",
          "2017-06-12",
          "2017-06-19",
          "2017-06-26",
          "2017-07-03",
          "2017-07-10",
          "2017-07-17",
          "2017-07-24",
          "2017-07-31",
          "2017-08-07",
          "2017-08-14",
          "2017-08-21",
          "2017-08-28",
          "2017-09-04",
          "2017-09-11",
          "2017-09-18",
          "2017-09-25",
          "2017-10-02",
          "2017-10-09",
          "2017-10-16",
          "2017-10-23",
          "2017-10-30",
          "2017-11-06",
          "2017-11-13",
          "2017-11-20",
          "2017-11-27",
          "2017-12-04",
          "2017-12-11",
          "2017-12-18",
          "2017-12-25",
          "2018-01-01",
          "2018-01-08",
          "2018-01-15",
          "2018-01-22",
          "2018-01-29",
          "2018-02-05",
          "2018-02-12",
          "2018-02-19",
          "2018-02-26",
          "2018-03-05",
          "2018-03-12",
          "2018-03-19",
          "2018-03-26",
          "2018-04-02",
          "2018-04-09",
          "2018-04-16",
          "2018-04-23",
          "2018-04-30",
          "2018-05-07",
          "2018-05-14",
          "2018-05-21",
          "2018-05-28",
          "2018-06-04",
          "2018-06-11",
          "2018-06-18",
          "2018-06-25",
          "2018-07-02",
          "2018-07-09",
          "2018-07-16",
          "2018-07-23",
          "2018-07-30",
          "2018-08-06",
          "2018-08-13",
          "2018-08-20",
          "2018-08-27",
          "2018-09-03",
          "2018-09-10",
          "2018-09-17",
          "2018-09-24",
          "2018-10-01",
          "2018-10-08",
          "2018-10-15",
          "2018-10-22",
          "2018-10-29",
          "2018-11-05",
          "2018-11-12",
          "2018-11-19",
          "2018-11-26",
          "2018-12-03",
          "2018-12-10",
          "2018-12-17",
          "2018-12-24",
          "2018-12-31",
          "2019-01-07",
          "2019-01-14",
          "2019-01-21",
          "2019-01-28",
          "2019-02-04",
          "2019-02-11",
          "2019-02-18",
          "2019-02-25",
          "2019-03-04",
          "2019-03-11",
          "2019-03-18",
          "2019-03-25",
          "2019-04-01",
          "2019-04-08",
          "2019-04-15",
          "2019-04-22",
          "2019-04-29",
          "2019-05-06",
          "2019-05-13",
          "2019-05-20",
          "2019-05-27",
          "2019-06-03",
          "2019-06-10",
          "2019-06-17",
          "2019-06-24",
          "2019-07-01",
          "2019-07-08",
          "2019-07-15",
          "2019-07-22",
          "2019-07-29",
          "2019-08-05",
          "2019-08-12",
          "2019-08-19",
          "2019-08-26",
          "2019-09-02",
          "2019-09-09",
          "2019-09-16",
          "2019-09-23",
          "2019-09-30",
          "2019-10-07",
          "2019-10-14",
          "2019-10-21",
          "2019-10-28",
          "2019-11-04",
          "2019-11-11",
          "2019-11-18",
          "2019-11-25",
          "2019-12-02",
          "2019-12-09",
          "2019-12-16",
          "2019-12-23",
          "2019-12-30",
          "2020-01-06",
          "2020-01-13",
          "2020-01-20",
          "2020-01-27",
          "2020-02-03",
          "2020-02-10",
          "2020-02-17",
          "2020-02-24",
          "2020-03-02",
          "2020-03-09",
          "2020-03-16",
          "2020-03-23",
          "2020-03-30",
          "2020-04-06",
          "2020-04-13",
          "2020-04-20",
          "2020-04-27",
          "2020-05-04",
          "2020-05-11",
          "2020-05-18",
          "2020-05-25",
          "2020-06-01",
          "2020-06-08",
          "2020-06-15",
          "2020-06-22",
          "2020-06-29",
          "2020-07-06",
          "2020-07-13",
          "2020-07-20",
          "2020-07-27",
          "2020-08-03",
          "2020-08-10",
          "2020-08-17",
          "2020-08-24",
          "2020-08-31",
          "2020-09-07",
          "2020-09-14",
          "2020-09-21",
          "2020-09-28",
          "2020-10-05",
          "2020-10-12",
          "2020-10-19",
          "2020-10-26",
          "2020-11-02",
          "2020-11-09",
          "2020-11-16",
          "2020-11-23",
          "2020-11-30",
          "2020-12-07",
          "2020-12-14",
          "2020-12-21",
          "2020-12-28",
          "2021-01-04",
          "2021-01-11",
          "2021-01-18",
          "2021-01-25",
          "2021-02-01",
          "2021-02-08",
          "2021-02-15",
          "2021-02-22",
          "2021-03-01",
          "2021-03-08",
          "2021-03-15",
          "2021-03-22",
          "2021-03-29",
          "2021-04-05",
          "2021-04-12",
          "2021-04-19",
          "2021-04-26",
          "2021-05-03",
          "2021-05-10",
          "2021-05-17",
          "2021-05-24",
          "2021-05-31",
          "2021-06-07",
          "2021-06-14",
          "2021-06-21",
          "2021-06-28",
          "2021-07-05",
          "2021-07-12",
          "2021-07-19",
          "2021-07-26",
          "2021-08-02",
          "2021-08-09",
          "2021-08-16",
          "2021-08-23",
          "2021-08-30",
          "2021-09-06",
          "2021-09-13",
          "2021-09-20",
          "2021-09-27",
          "2021-10-04",
          "2021-10-11",
          "2021-10-18",
          "2021-10-25",
          "2021-11-01",
          "2021-11-08",
          "2021-11-15",
          "2021-11-22",
          "2021-11-29",
          "2021-12-06",
          "2021-12-13",
          "2021-12-20",
          "2021-12-27",
          "2022-01-03",
          "2022-01-10",
          "2022-01-17",
          "2022-01-24",
          "2022-01-31",
          "2022-02-07",
          "2022-02-14",
          "2022-02-21",
          "2022-02-28",
          "2022-03-07",
          "2022-03-14",
          "2022-03-21",
          "2022-03-28",
          "2022-04-04",
          "2022-04-11",
          "2022-04-18",
          "2022-04-25",
          "2022-05-02",
          "2022-05-09",
          "2022-05-16",
          "2022-05-23",
          "2022-05-30",
          "2022-06-06",
          "2022-06-13",
          "2022-06-20",
          "2022-06-27",
          "2022-07-04",
          "2022-07-11",
          "2022-07-18",
          "2022-07-25",
          "2022-08-01",
          "2022-08-08",
          "2022-08-15",
          "2022-08-22",
          "2022-08-29",
          "2022-09-05",
          "2022-09-12",
          "2022-09-19",
          "2022-09-26",
          "2022-10-03",
          "2022-10-10",
          "2022-10-17",
          "2022-10-24",
          "2022-10-31",
          "2022-11-07",
          "2022-11-14",
          "2022-11-21",
          "2022-11-28",
          "2022-12-05",
          "2022-12-12",
          "2022-12-19",
          "2022-12-26",
          "2023-01-02",
          "2023-01-09",
          "2023-01-16",
          "2023-01-23",
          "2023-01-30",
          "2023-02-06",
          "2023-02-13",
          "2023-02-20",
          "2023-02-27",
          "2023-03-06",
          "2023-03-13",
          "2023-03-20",
          "2023-03-27",
          "2023-04-03",
          "2023-04-10",
          "2023-04-17",
          "2023-04-24",
          "2023-05-01",
          "2023-05-08",
          "2023-05-15",
          "2023-05-22",
          "2023-05-29",
          "2023-06-05",
          "2023-06-12",
          "2023-06-19",
          "2023-06-26",
          "2023-07-03",
          "2023-07-10",
          "2023-07-17",
          "2023-07-24",
          "2023-07-31",
          "2023-08-07",
          "2023-08-14",
          "2023-08-21",
          "2023-08-28",
          "2023-09-04",
          "2023-09-11",
          "2023-09-18",
          "2023-09-25",
          "2023-10-02",
          "2023-10-09",
          "2023-10-16",
          "2023-10-23",
          "2023-10-30",
          "2023-11-06",
          "2023-11-13",
          "2023-11-20",
          "2023-11-27",
          "2023-12-04",
          "2023-12-11",
          "2023-12-18",
          "2023-12-25",
          "2024-01-01",
          "2024-01-08",
          "2024-01-15",
          "2024-01-22",
          "2024-01-29",
          "2024-02-05",
          "2024-02-12",
          "2024-02-19",
          "2024-02-26",
          "2024-03-04",
          "2024-03-11",
          "2024-03-18",
          "2024-03-25",
          "2024-04-01",
          "2024-04-08",
          "2024-04-15",
          "2024-04-22",
          "2024-04-29",
          "2024-05-06",
          "2024-05-13",
          "2024-05-20",
          "2024-05-27",
          "2024-06-03",
          "2024-06-10",
          "2024-06-17",
          "2024-06-24",
          "2024-07-01",
          "2024-07-08",
          "2024-07-15",
          "2024-07-22",
          "2024-07-29",
          "2024-08-05",
          "2024-08-12",
          "2024-08-19",
          "2024-08-26",
          "2024-09-02",
          "2024-09-09",
          "2024-09-16",
          "2024-09-23",
          "2024-09-30",
          "2024-10-07",
          "2024-10-14",
          "2024-10-21",
          "2024-10-28",
          "2024-11-04",
          "2024-11-11",
          "2024-11-18",
          "2024-11-25",
          "2024-12-02",
          "2024-12-09",
          "2024-12-16",
          "2024-12-23",
          "2024-12-30",
          "2025-01-06",
          "2025-01-13",
          "2025-01-20",
          "2025-01-27",
          "2025-02-03"
         ],
         "xaxis": "x",
         "y": {
          "bdata": "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",
          "dtype": "f8"
         },
         "yaxis": "y"
        },
        {
         "hovertemplate": "Ticker=WMT<br>Date=%{x}<br>Log Return=%{y}<extra></extra>",
         "legendgroup": "WMT",
         "marker": {
          "color": "#ab63fa",
          "symbol": "circle"
         },
         "mode": "markers",
         "name": "WMT",
         "showlegend": true,
         "type": "scattergl",
         "x": [
          "2015-02-02",
          "2015-02-09",
          "2015-02-16",
          "2015-02-23",
          "2015-03-02",
          "2015-03-09",
          "2015-03-16",
          "2015-03-23",
          "2015-03-30",
          "2015-04-06",
          "2015-04-13",
          "2015-04-20",
          "2015-04-27",
          "2015-05-04",
          "2015-05-11",
          "2015-05-18",
          "2015-05-25",
          "2015-06-01",
          "2015-06-08",
          "2015-06-15",
          "2015-06-22",
          "2015-06-29",
          "2015-07-06",
          "2015-07-13",
          "2015-07-20",
          "2015-07-27",
          "2015-08-03",
          "2015-08-10",
          "2015-08-17",
          "2015-08-24",
          "2015-08-31",
          "2015-09-07",
          "2015-09-14",
          "2015-09-21",
          "2015-09-28",
          "2015-10-05",
          "2015-10-12",
          "2015-10-19",
          "2015-10-26",
          "2015-11-02",
          "2015-11-09",
          "2015-11-16",
          "2015-11-23",
          "2015-11-30",
          "2015-12-07",
          "2015-12-14",
          "2015-12-21",
          "2015-12-28",
          "2016-01-04",
          "2016-01-11",
          "2016-01-18",
          "2016-01-25",
          "2016-02-01",
          "2016-02-08",
          "2016-02-15",
          "2016-02-22",
          "2016-02-29",
          "2016-03-07",
          "2016-03-14",
          "2016-03-21",
          "2016-03-28",
          "2016-04-04",
          "2016-04-11",
          "2016-04-18",
          "2016-04-25",
          "2016-05-02",
          "2016-05-09",
          "2016-05-16",
          "2016-05-23",
          "2016-05-30",
          "2016-06-06",
          "2016-06-13",
          "2016-06-20",
          "2016-06-27",
          "2016-07-04",
          "2016-07-11",
          "2016-07-18",
          "2016-07-25",
          "2016-08-01",
          "2016-08-08",
          "2016-08-15",
          "2016-08-22",
          "2016-08-29",
          "2016-09-05",
          "2016-09-12",
          "2016-09-19",
          "2016-09-26",
          "2016-10-03",
          "2016-10-10",
          "2016-10-17",
          "2016-10-24",
          "2016-10-31",
          "2016-11-07",
          "2016-11-14",
          "2016-11-21",
          "2016-11-28",
          "2016-12-05",
          "2016-12-12",
          "2016-12-19",
          "2016-12-26",
          "2017-01-02",
          "2017-01-09",
          "2017-01-16",
          "2017-01-23",
          "2017-01-30",
          "2017-02-06",
          "2017-02-13",
          "2017-02-20",
          "2017-02-27",
          "2017-03-06",
          "2017-03-13",
          "2017-03-20",
          "2017-03-27",
          "2017-04-03",
          "2017-04-10",
          "2017-04-17",
          "2017-04-24",
          "2017-05-01",
          "2017-05-08",
          "2017-05-15",
          "2017-05-22",
          "2017-05-29",
          "2017-06-05",
          "2017-06-12",
          "2017-06-19",
          "2017-06-26",
          "2017-07-03",
          "2017-07-10",
          "2017-07-17",
          "2017-07-24",
          "2017-07-31",
          "2017-08-07",
          "2017-08-14",
          "2017-08-21",
          "2017-08-28",
          "2017-09-04",
          "2017-09-11",
          "2017-09-18",
          "2017-09-25",
          "2017-10-02",
          "2017-10-09",
          "2017-10-16",
          "2017-10-23",
          "2017-10-30",
          "2017-11-06",
          "2017-11-13",
          "2017-11-20",
          "2017-11-27",
          "2017-12-04",
          "2017-12-11",
          "2017-12-18",
          "2017-12-25",
          "2018-01-01",
          "2018-01-08",
          "2018-01-15",
          "2018-01-22",
          "2018-01-29",
          "2018-02-05",
          "2018-02-12",
          "2018-02-19",
          "2018-02-26",
          "2018-03-05",
          "2018-03-12",
          "2018-03-19",
          "2018-03-26",
          "2018-04-02",
          "2018-04-09",
          "2018-04-16",
          "2018-04-23",
          "2018-04-30",
          "2018-05-07",
          "2018-05-14",
          "2018-05-21",
          "2018-05-28",
          "2018-06-04",
          "2018-06-11",
          "2018-06-18",
          "2018-06-25",
          "2018-07-02",
          "2018-07-09",
          "2018-07-16",
          "2018-07-23",
          "2018-07-30",
          "2018-08-06",
          "2018-08-13",
          "2018-08-20",
          "2018-08-27",
          "2018-09-03",
          "2018-09-10",
          "2018-09-17",
          "2018-09-24",
          "2018-10-01",
          "2018-10-08",
          "2018-10-15",
          "2018-10-22",
          "2018-10-29",
          "2018-11-05",
          "2018-11-12",
          "2018-11-19",
          "2018-11-26",
          "2018-12-03",
          "2018-12-10",
          "2018-12-17",
          "2018-12-24",
          "2018-12-31",
          "2019-01-07",
          "2019-01-14",
          "2019-01-21",
          "2019-01-28",
          "2019-02-04",
          "2019-02-11",
          "2019-02-18",
          "2019-02-25",
          "2019-03-04",
          "2019-03-11",
          "2019-03-18",
          "2019-03-25",
          "2019-04-01",
          "2019-04-08",
          "2019-04-15",
          "2019-04-22",
          "2019-04-29",
          "2019-05-06",
          "2019-05-13",
          "2019-05-20",
          "2019-05-27",
          "2019-06-03",
          "2019-06-10",
          "2019-06-17",
          "2019-06-24",
          "2019-07-01",
          "2019-07-08",
          "2019-07-15",
          "2019-07-22",
          "2019-07-29",
          "2019-08-05",
          "2019-08-12",
          "2019-08-19",
          "2019-08-26",
          "2019-09-02",
          "2019-09-09",
          "2019-09-16",
          "2019-09-23",
          "2019-09-30",
          "2019-10-07",
          "2019-10-14",
          "2019-10-21",
          "2019-10-28",
          "2019-11-04",
          "2019-11-11",
          "2019-11-18",
          "2019-11-25",
          "2019-12-02",
          "2019-12-09",
          "2019-12-16",
          "2019-12-23",
          "2019-12-30",
          "2020-01-06",
          "2020-01-13",
          "2020-01-20",
          "2020-01-27",
          "2020-02-03",
          "2020-02-10",
          "2020-02-17",
          "2020-02-24",
          "2020-03-02",
          "2020-03-09",
          "2020-03-16",
          "2020-03-23",
          "2020-03-30",
          "2020-04-06",
          "2020-04-13",
          "2020-04-20",
          "2020-04-27",
          "2020-05-04",
          "2020-05-11",
          "2020-05-18",
          "2020-05-25",
          "2020-06-01",
          "2020-06-08",
          "2020-06-15",
          "2020-06-22",
          "2020-06-29",
          "2020-07-06",
          "2020-07-13",
          "2020-07-20",
          "2020-07-27",
          "2020-08-03",
          "2020-08-10",
          "2020-08-17",
          "2020-08-24",
          "2020-08-31",
          "2020-09-07",
          "2020-09-14",
          "2020-09-21",
          "2020-09-28",
          "2020-10-05",
          "2020-10-12",
          "2020-10-19",
          "2020-10-26",
          "2020-11-02",
          "2020-11-09",
          "2020-11-16",
          "2020-11-23",
          "2020-11-30",
          "2020-12-07",
          "2020-12-14",
          "2020-12-21",
          "2020-12-28",
          "2021-01-04",
          "2021-01-11",
          "2021-01-18",
          "2021-01-25",
          "2021-02-01",
          "2021-02-08",
          "2021-02-15",
          "2021-02-22",
          "2021-03-01",
          "2021-03-08",
          "2021-03-15",
          "2021-03-22",
          "2021-03-29",
          "2021-04-05",
          "2021-04-12",
          "2021-04-19",
          "2021-04-26",
          "2021-05-03",
          "2021-05-10",
          "2021-05-17",
          "2021-05-24",
          "2021-05-31",
          "2021-06-07",
          "2021-06-14",
          "2021-06-21",
          "2021-06-28",
          "2021-07-05",
          "2021-07-12",
          "2021-07-19",
          "2021-07-26",
          "2021-08-02",
          "2021-08-09",
          "2021-08-16",
          "2021-08-23",
          "2021-08-30",
          "2021-09-06",
          "2021-09-13",
          "2021-09-20",
          "2021-09-27",
          "2021-10-04",
          "2021-10-11",
          "2021-10-18",
          "2021-10-25",
          "2021-11-01",
          "2021-11-08",
          "2021-11-15",
          "2021-11-22",
          "2021-11-29",
          "2021-12-06",
          "2021-12-13",
          "2021-12-20",
          "2021-12-27",
          "2022-01-03",
          "2022-01-10",
          "2022-01-17",
          "2022-01-24",
          "2022-01-31",
          "2022-02-07",
          "2022-02-14",
          "2022-02-21",
          "2022-02-28",
          "2022-03-07",
          "2022-03-14",
          "2022-03-21",
          "2022-03-28",
          "2022-04-04",
          "2022-04-11",
          "2022-04-18",
          "2022-04-25",
          "2022-05-02",
          "2022-05-09",
          "2022-05-16",
          "2022-05-23",
          "2022-05-30",
          "2022-06-06",
          "2022-06-13",
          "2022-06-20",
          "2022-06-27",
          "2022-07-04",
          "2022-07-11",
          "2022-07-18",
          "2022-07-25",
          "2022-08-01",
          "2022-08-08",
          "2022-08-15",
          "2022-08-22",
          "2022-08-29",
          "2022-09-05",
          "2022-09-12",
          "2022-09-19",
          "2022-09-26",
          "2022-10-03",
          "2022-10-10",
          "2022-10-17",
          "2022-10-24",
          "2022-10-31",
          "2022-11-07",
          "2022-11-14",
          "2022-11-21",
          "2022-11-28",
          "2022-12-05",
          "2022-12-12",
          "2022-12-19",
          "2022-12-26",
          "2023-01-02",
          "2023-01-09",
          "2023-01-16",
          "2023-01-23",
          "2023-01-30",
          "2023-02-06",
          "2023-02-13",
          "2023-02-20",
          "2023-02-27",
          "2023-03-06",
          "2023-03-13",
          "2023-03-20",
          "2023-03-27",
          "2023-04-03",
          "2023-04-10",
          "2023-04-17",
          "2023-04-24",
          "2023-05-01",
          "2023-05-08",
          "2023-05-15",
          "2023-05-22",
          "2023-05-29",
          "2023-06-05",
          "2023-06-12",
          "2023-06-19",
          "2023-06-26",
          "2023-07-03",
          "2023-07-10",
          "2023-07-17",
          "2023-07-24",
          "2023-07-31",
          "2023-08-07",
          "2023-08-14",
          "2023-08-21",
          "2023-08-28",
          "2023-09-04",
          "2023-09-11",
          "2023-09-18",
          "2023-09-25",
          "2023-10-02",
          "2023-10-09",
          "2023-10-16",
          "2023-10-23",
          "2023-10-30",
          "2023-11-06",
          "2023-11-13",
          "2023-11-20",
          "2023-11-27",
          "2023-12-04",
          "2023-12-11",
          "2023-12-18",
          "2023-12-25",
          "2024-01-01",
          "2024-01-08",
          "2024-01-15",
          "2024-01-22",
          "2024-01-29",
          "2024-02-05",
          "2024-02-12",
          "2024-02-19",
          "2024-02-26",
          "2024-03-04",
          "2024-03-11",
          "2024-03-18",
          "2024-03-25",
          "2024-04-01",
          "2024-04-08",
          "2024-04-15",
          "2024-04-22",
          "2024-04-29",
          "2024-05-06",
          "2024-05-13",
          "2024-05-20",
          "2024-05-27",
          "2024-06-03",
          "2024-06-10",
          "2024-06-17",
          "2024-06-24",
          "2024-07-01",
          "2024-07-08",
          "2024-07-15",
          "2024-07-22",
          "2024-07-29",
          "2024-08-05",
          "2024-08-12",
          "2024-08-19",
          "2024-08-26",
          "2024-09-02",
          "2024-09-09",
          "2024-09-16",
          "2024-09-23",
          "2024-09-30",
          "2024-10-07",
          "2024-10-14",
          "2024-10-21",
          "2024-10-28",
          "2024-11-04",
          "2024-11-11",
          "2024-11-18",
          "2024-11-25",
          "2024-12-02",
          "2024-12-09",
          "2024-12-16",
          "2024-12-23",
          "2024-12-30",
          "2025-01-06",
          "2025-01-13",
          "2025-01-20",
          "2025-01-27",
          "2025-02-03"
         ],
         "xaxis": "x",
         "y": {
          "bdata": "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",
          "dtype": "f8"
         },
         "yaxis": "y"
        },
        {
         "hovertemplate": "Ticker=NVDA<br>Date=%{x}<br>Log Return=%{y}<extra></extra>",
         "legendgroup": "NVDA",
         "marker": {
          "color": "#FFA15A",
          "symbol": "circle"
         },
         "mode": "markers",
         "name": "NVDA",
         "showlegend": true,
         "type": "scattergl",
         "x": [
          "2015-02-09",
          "2015-02-16",
          "2015-02-23",
          "2015-03-02",
          "2015-03-09",
          "2015-03-16",
          "2015-03-23",
          "2015-03-30",
          "2015-04-06",
          "2015-04-13",
          "2015-04-20",
          "2015-04-27",
          "2015-05-04",
          "2015-05-11",
          "2015-05-18",
          "2015-05-25",
          "2015-06-01",
          "2015-06-08",
          "2015-06-15",
          "2015-06-22",
          "2015-06-29",
          "2015-07-06",
          "2015-07-13",
          "2015-07-20",
          "2015-07-27",
          "2015-08-03",
          "2015-08-10",
          "2015-08-17",
          "2015-08-24",
          "2015-08-31",
          "2015-09-07",
          "2015-09-14",
          "2015-09-21",
          "2015-09-28",
          "2015-10-05",
          "2015-10-12",
          "2015-10-19",
          "2015-10-26",
          "2015-11-02",
          "2015-11-09",
          "2015-11-16",
          "2015-11-23",
          "2015-11-30",
          "2015-12-07",
          "2015-12-14",
          "2015-12-21",
          "2015-12-28",
          "2016-01-04",
          "2016-01-11",
          "2016-01-18",
          "2016-01-25",
          "2016-02-01",
          "2016-02-08",
          "2016-02-15",
          "2016-02-22",
          "2016-02-29",
          "2016-03-07",
          "2016-03-14",
          "2016-03-21",
          "2016-03-28",
          "2016-04-04",
          "2016-04-11",
          "2016-04-18",
          "2016-04-25",
          "2016-05-02",
          "2016-05-09",
          "2016-05-16",
          "2016-05-23",
          "2016-05-30",
          "2016-06-06",
          "2016-06-13",
          "2016-06-20",
          "2016-06-27",
          "2016-07-04",
          "2016-07-11",
          "2016-07-18",
          "2016-07-25",
          "2016-08-01",
          "2016-08-08",
          "2016-08-15",
          "2016-08-22",
          "2016-08-29",
          "2016-09-05",
          "2016-09-12",
          "2016-09-19",
          "2016-09-26",
          "2016-10-03",
          "2016-10-10",
          "2016-10-17",
          "2016-10-24",
          "2016-10-31",
          "2016-11-07",
          "2016-11-14",
          "2016-11-21",
          "2016-11-28",
          "2016-12-05",
          "2016-12-12",
          "2016-12-19",
          "2016-12-26",
          "2017-01-02",
          "2017-01-09",
          "2017-01-16",
          "2017-01-23",
          "2017-01-30",
          "2017-02-06",
          "2017-02-13",
          "2017-02-20",
          "2017-02-27",
          "2017-03-06",
          "2017-03-13",
          "2017-03-20",
          "2017-03-27",
          "2017-04-03",
          "2017-04-10",
          "2017-04-17",
          "2017-04-24",
          "2017-05-01",
          "2017-05-08",
          "2017-05-15",
          "2017-05-22",
          "2017-05-29",
          "2017-06-05",
          "2017-06-12",
          "2017-06-19",
          "2017-06-26",
          "2017-07-03",
          "2017-07-10",
          "2017-07-17",
          "2017-07-24",
          "2017-07-31",
          "2017-08-07",
          "2017-08-14",
          "2017-08-21",
          "2017-08-28",
          "2017-09-04",
          "2017-09-11",
          "2017-09-18",
          "2017-09-25",
          "2017-10-02",
          "2017-10-09",
          "2017-10-16",
          "2017-10-23",
          "2017-10-30",
          "2017-11-06",
          "2017-11-13",
          "2017-11-20",
          "2017-11-27",
          "2017-12-04",
          "2017-12-11",
          "2017-12-18",
          "2017-12-25",
          "2018-01-01",
          "2018-01-08",
          "2018-01-15",
          "2018-01-22",
          "2018-01-29",
          "2018-02-05",
          "2018-02-12",
          "2018-02-19",
          "2018-02-26",
          "2018-03-05",
          "2018-03-12",
          "2018-03-19",
          "2018-03-26",
          "2018-04-02",
          "2018-04-09",
          "2018-04-16",
          "2018-04-23",
          "2018-04-30",
          "2018-05-07",
          "2018-05-14",
          "2018-05-21",
          "2018-05-28",
          "2018-06-04",
          "2018-06-11",
          "2018-06-18",
          "2018-06-25",
          "2018-07-02",
          "2018-07-09",
          "2018-07-16",
          "2018-07-23",
          "2018-07-30",
          "2018-08-06",
          "2018-08-13",
          "2018-08-20",
          "2018-08-27",
          "2018-09-03",
          "2018-09-10",
          "2018-09-17",
          "2018-09-24",
          "2018-10-01",
          "2018-10-08",
          "2018-10-15",
          "2018-10-22",
          "2018-10-29",
          "2018-11-05",
          "2018-11-12",
          "2018-11-19",
          "2018-11-26",
          "2018-12-03",
          "2018-12-10",
          "2018-12-17",
          "2018-12-24",
          "2018-12-31",
          "2019-01-07",
          "2019-01-14",
          "2019-01-21",
          "2019-01-28",
          "2019-02-04",
          "2019-02-11",
          "2019-02-18",
          "2019-02-25",
          "2019-03-04",
          "2019-03-11",
          "2019-03-18",
          "2019-03-25",
          "2019-04-01",
          "2019-04-08",
          "2019-04-15",
          "2019-04-22",
          "2019-04-29",
          "2019-05-06",
          "2019-05-13",
          "2019-05-20",
          "2019-05-27",
          "2019-06-03",
          "2019-06-10",
          "2019-06-17",
          "2019-06-24",
          "2019-07-01",
          "2019-07-08",
          "2019-07-15",
          "2019-07-22",
          "2019-07-29",
          "2019-08-05",
          "2019-08-12",
          "2019-08-19",
          "2019-08-26",
          "2019-09-02",
          "2019-09-09",
          "2019-09-16",
          "2019-09-23",
          "2019-09-30",
          "2019-10-07",
          "2019-10-14",
          "2019-10-21",
          "2019-10-28",
          "2019-11-04",
          "2019-11-11",
          "2019-11-18",
          "2019-11-25",
          "2019-12-02",
          "2019-12-09",
          "2019-12-16",
          "2019-12-23",
          "2019-12-30",
          "2020-01-06",
          "2020-01-13",
          "2020-01-20",
          "2020-01-27",
          "2020-02-03",
          "2020-02-10",
          "2020-02-17",
          "2020-02-24",
          "2020-03-02",
          "2020-03-09",
          "2020-03-16",
          "2020-03-23",
          "2020-03-30",
          "2020-04-06",
          "2020-04-13",
          "2020-04-20",
          "2020-04-27",
          "2020-05-04",
          "2020-05-11",
          "2020-05-18",
          "2020-05-25",
          "2020-06-01",
          "2020-06-08",
          "2020-06-15",
          "2020-06-22",
          "2020-06-29",
          "2020-07-06",
          "2020-07-13",
          "2020-07-20",
          "2020-07-27",
          "2020-08-03",
          "2020-08-10",
          "2020-08-17",
          "2020-08-24",
          "2020-08-31",
          "2020-09-07",
          "2020-09-14",
          "2020-09-21",
          "2020-09-28",
          "2020-10-05",
          "2020-10-12",
          "2020-10-19",
          "2020-10-26",
          "2020-11-02",
          "2020-11-09",
          "2020-11-16",
          "2020-11-23",
          "2020-11-30",
          "2020-12-07",
          "2020-12-14",
          "2020-12-21",
          "2020-12-28",
          "2021-01-04",
          "2021-01-11",
          "2021-01-18",
          "2021-01-25",
          "2021-02-01",
          "2021-02-08",
          "2021-02-15",
          "2021-02-22",
          "2021-03-01",
          "2021-03-08",
          "2021-03-15",
          "2021-03-22",
          "2021-03-29",
          "2021-04-05",
          "2021-04-12",
          "2021-04-19",
          "2021-04-26",
          "2021-05-03",
          "2021-05-10",
          "2021-05-17",
          "2021-05-24",
          "2021-05-31",
          "2021-06-07",
          "2021-06-14",
          "2021-06-21",
          "2021-06-28",
          "2021-07-05",
          "2021-07-12",
          "2021-07-19",
          "2021-07-26",
          "2021-08-02",
          "2021-08-09",
          "2021-08-16",
          "2021-08-23",
          "2021-08-30",
          "2021-09-06",
          "2021-09-13",
          "2021-09-20",
          "2021-09-27",
          "2021-10-04",
          "2021-10-11",
          "2021-10-18",
          "2021-10-25",
          "2021-11-01",
          "2021-11-08",
          "2021-11-15",
          "2021-11-22",
          "2021-11-29",
          "2021-12-06",
          "2021-12-13",
          "2021-12-20",
          "2021-12-27",
          "2022-01-03",
          "2022-01-10",
          "2022-01-17",
          "2022-01-24",
          "2022-01-31",
          "2022-02-07",
          "2022-02-14",
          "2022-02-21",
          "2022-02-28",
          "2022-03-07",
          "2022-03-14",
          "2022-03-21",
          "2022-03-28",
          "2022-04-04",
          "2022-04-11",
          "2022-04-18",
          "2022-04-25",
          "2022-05-02",
          "2022-05-09",
          "2022-05-16",
          "2022-05-23",
          "2022-05-30",
          "2022-06-06",
          "2022-06-13",
          "2022-06-20",
          "2022-06-27",
          "2022-07-04",
          "2022-07-11",
          "2022-07-18",
          "2022-07-25",
          "2022-08-01",
          "2022-08-08",
          "2022-08-15",
          "2022-08-22",
          "2022-08-29",
          "2022-09-05",
          "2022-09-12",
          "2022-09-19",
          "2022-09-26",
          "2022-10-03",
          "2022-10-10",
          "2022-10-17",
          "2022-10-24",
          "2022-10-31",
          "2022-11-07",
          "2022-11-14",
          "2022-11-21",
          "2022-11-28",
          "2022-12-05",
          "2022-12-12",
          "2022-12-19",
          "2022-12-26",
          "2023-01-02",
          "2023-01-09",
          "2023-01-16",
          "2023-01-23",
          "2023-01-30",
          "2023-02-06",
          "2023-02-13",
          "2023-02-20",
          "2023-02-27",
          "2023-03-06",
          "2023-03-13",
          "2023-03-20",
          "2023-03-27",
          "2023-04-03",
          "2023-04-10",
          "2023-04-17",
          "2023-04-24",
          "2023-05-01",
          "2023-05-08",
          "2023-05-15",
          "2023-05-22",
          "2023-05-29",
          "2023-06-05",
          "2023-06-12",
          "2023-06-19",
          "2023-06-26",
          "2023-07-03",
          "2023-07-10",
          "2023-07-17",
          "2023-07-24",
          "2023-07-31",
          "2023-08-07",
          "2023-08-14",
          "2023-08-21",
          "2023-08-28",
          "2023-09-04",
          "2023-09-11",
          "2023-09-18",
          "2023-09-25",
          "2023-10-02",
          "2023-10-09",
          "2023-10-16",
          "2023-10-23",
          "2023-10-30",
          "2023-11-06",
          "2023-11-13",
          "2023-11-20",
          "2023-11-27",
          "2023-12-04",
          "2023-12-11",
          "2023-12-18",
          "2023-12-25",
          "2024-01-01",
          "2024-01-08",
          "2024-01-15",
          "2024-01-22",
          "2024-01-29",
          "2024-02-05",
          "2024-02-12",
          "2024-02-19",
          "2024-02-26",
          "2024-03-04",
          "2024-03-11",
          "2024-03-18",
          "2024-03-25",
          "2024-04-01",
          "2024-04-08",
          "2024-04-15",
          "2024-04-22",
          "2024-04-29",
          "2024-05-06",
          "2024-05-13",
          "2024-05-20",
          "2024-05-27",
          "2024-06-03",
          "2024-06-10",
          "2024-06-17",
          "2024-06-24",
          "2024-07-01",
          "2024-07-08",
          "2024-07-15",
          "2024-07-22",
          "2024-07-29",
          "2024-08-05",
          "2024-08-12",
          "2024-08-19",
          "2024-08-26",
          "2024-09-02",
          "2024-09-09",
          "2024-09-16",
          "2024-09-23",
          "2024-09-30",
          "2024-10-07",
          "2024-10-14",
          "2024-10-21",
          "2024-10-28",
          "2024-11-04",
          "2024-11-11",
          "2024-11-18",
          "2024-11-25",
          "2024-12-02",
          "2024-12-09",
          "2024-12-16",
          "2024-12-23",
          "2024-12-30",
          "2025-01-06",
          "2025-01-13",
          "2025-01-20",
          "2025-01-27",
          "2025-02-03"
         ],
         "xaxis": "x",
         "y": {
          "bdata": "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",
          "dtype": "f8"
         },
         "yaxis": "y"
        }
       ],
       "layout": {
        "legend": {
         "title": {
          "text": "Ticker"
         },
         "tracegroupgap": 0
        },
        "margin": {
         "t": 60
        },
        "template": {
         "data": {
          "bar": [
           {
            "error_x": {
             "color": "#2a3f5f"
            },
            "error_y": {
             "color": "#2a3f5f"
            },
            "marker": {
             "line": {
              "color": "#E5ECF6",
              "width": 0.5
             },
             "pattern": {
              "fillmode": "overlay",
              "size": 10,
              "solidity": 0.2
             }
            },
            "type": "bar"
           }
          ],
          "barpolar": [
           {
            "marker": {
             "line": {
              "color": "#E5ECF6",
              "width": 0.5
             },
             "pattern": {
              "fillmode": "overlay",
              "size": 10,
              "solidity": 0.2
             }
            },
            "type": "barpolar"
           }
          ],
          "carpet": [
           {
            "aaxis": {
             "endlinecolor": "#2a3f5f",
             "gridcolor": "white",
             "linecolor": "white",
             "minorgridcolor": "white",
             "startlinecolor": "#2a3f5f"
            },
            "baxis": {
             "endlinecolor": "#2a3f5f",
             "gridcolor": "white",
             "linecolor": "white",
             "minorgridcolor": "white",
             "startlinecolor": "#2a3f5f"
            },
            "type": "carpet"
           }
          ],
          "choropleth": [
           {
            "colorbar": {
             "outlinewidth": 0,
             "ticks": ""
            },
            "type": "choropleth"
           }
          ],
          "contour": [
           {
            "colorbar": {
             "outlinewidth": 0,
             "ticks": ""
            },
            "colorscale": [
             [
              0,
              "#0d0887"
             ],
             [
              0.1111111111111111,
              "#46039f"
             ],
             [
              0.2222222222222222,
              "#7201a8"
             ],
             [
              0.3333333333333333,
              "#9c179e"
             ],
             [
              0.4444444444444444,
              "#bd3786"
             ],
             [
              0.5555555555555556,
              "#d8576b"
             ],
             [
              0.6666666666666666,
              "#ed7953"
             ],
             [
              0.7777777777777778,
              "#fb9f3a"
             ],
             [
              0.8888888888888888,
              "#fdca26"
             ],
             [
              1,
              "#f0f921"
             ]
            ],
            "type": "contour"
           }
          ],
          "contourcarpet": [
           {
            "colorbar": {
             "outlinewidth": 0,
             "ticks": ""
            },
            "type": "contourcarpet"
           }
          ],
          "heatmap": [
           {
            "colorbar": {
             "outlinewidth": 0,
             "ticks": ""
            },
            "colorscale": [
             [
              0,
              "#0d0887"
             ],
             [
              0.1111111111111111,
              "#46039f"
             ],
             [
              0.2222222222222222,
              "#7201a8"
             ],
             [
              0.3333333333333333,
              "#9c179e"
             ],
             [
              0.4444444444444444,
              "#bd3786"
             ],
             [
              0.5555555555555556,
              "#d8576b"
             ],
             [
              0.6666666666666666,
              "#ed7953"
             ],
             [
              0.7777777777777778,
              "#fb9f3a"
             ],
             [
              0.8888888888888888,
              "#fdca26"
             ],
             [
              1,
              "#f0f921"
             ]
            ],
            "type": "heatmap"
           }
          ],
          "histogram": [
           {
            "marker": {
             "pattern": {
              "fillmode": "overlay",
              "size": 10,
              "solidity": 0.2
             }
            },
            "type": "histogram"
           }
          ],
          "histogram2d": [
           {
            "colorbar": {
             "outlinewidth": 0,
             "ticks": ""
            },
            "colorscale": [
             [
              0,
              "#0d0887"
             ],
             [
              0.1111111111111111,
              "#46039f"
             ],
             [
              0.2222222222222222,
              "#7201a8"
             ],
             [
              0.3333333333333333,
              "#9c179e"
             ],
             [
              0.4444444444444444,
              "#bd3786"
             ],
             [
              0.5555555555555556,
              "#d8576b"
             ],
             [
              0.6666666666666666,
              "#ed7953"
             ],
             [
              0.7777777777777778,
              "#fb9f3a"
             ],
             [
              0.8888888888888888,
              "#fdca26"
             ],
             [
              1,
              "#f0f921"
             ]
            ],
            "type": "histogram2d"
           }
          ],
          "histogram2dcontour": [
           {
            "colorbar": {
             "outlinewidth": 0,
             "ticks": ""
            },
            "colorscale": [
             [
              0,
              "#0d0887"
             ],
             [
              0.1111111111111111,
              "#46039f"
             ],
             [
              0.2222222222222222,
              "#7201a8"
             ],
             [
              0.3333333333333333,
              "#9c179e"
             ],
             [
              0.4444444444444444,
              "#bd3786"
             ],
             [
              0.5555555555555556,
              "#d8576b"
             ],
             [
              0.6666666666666666,
              "#ed7953"
             ],
             [
              0.7777777777777778,
              "#fb9f3a"
             ],
             [
              0.8888888888888888,
              "#fdca26"
             ],
             [
              1,
              "#f0f921"
             ]
            ],
            "type": "histogram2dcontour"
           }
          ],
          "mesh3d": [
           {
            "colorbar": {
             "outlinewidth": 0,
             "ticks": ""
            },
            "type": "mesh3d"
           }
          ],
          "parcoords": [
           {
            "line": {
             "colorbar": {
              "outlinewidth": 0,
              "ticks": ""
             }
            },
            "type": "parcoords"
           }
          ],
          "pie": [
           {
            "automargin": true,
            "type": "pie"
           }
          ],
          "scatter": [
           {
            "fillpattern": {
             "fillmode": "overlay",
             "size": 10,
             "solidity": 0.2
            },
            "type": "scatter"
           }
          ],
          "scatter3d": [
           {
            "line": {
             "colorbar": {
              "outlinewidth": 0,
              "ticks": ""
             }
            },
            "marker": {
             "colorbar": {
              "outlinewidth": 0,
              "ticks": ""
             }
            },
            "type": "scatter3d"
           }
          ],
          "scattercarpet": [
           {
            "marker": {
             "colorbar": {
              "outlinewidth": 0,
              "ticks": ""
             }
            },
            "type": "scattercarpet"
           }
          ],
          "scattergeo": [
           {
            "marker": {
             "colorbar": {
              "outlinewidth": 0,
              "ticks": ""
             }
            },
            "type": "scattergeo"
           }
          ],
          "scattergl": [
           {
            "marker": {
             "colorbar": {
              "outlinewidth": 0,
              "ticks": ""
             }
            },
            "type": "scattergl"
           }
          ],
          "scattermap": [
           {
            "marker": {
             "colorbar": {
              "outlinewidth": 0,
              "ticks": ""
             }
            },
            "type": "scattermap"
           }
          ],
          "scattermapbox": [
           {
            "marker": {
             "colorbar": {
              "outlinewidth": 0,
              "ticks": ""
             }
            },
            "type": "scattermapbox"
           }
          ],
          "scatterpolar": [
           {
            "marker": {
             "colorbar": {
              "outlinewidth": 0,
              "ticks": ""
             }
            },
            "type": "scatterpolar"
           }
          ],
          "scatterpolargl": [
           {
            "marker": {
             "colorbar": {
              "outlinewidth": 0,
              "ticks": ""
             }
            },
            "type": "scatterpolargl"
           }
          ],
          "scatterternary": [
           {
            "marker": {
             "colorbar": {
              "outlinewidth": 0,
              "ticks": ""
             }
            },
            "type": "scatterternary"
           }
          ],
          "surface": [
           {
            "colorbar": {
             "outlinewidth": 0,
             "ticks": ""
            },
            "colorscale": [
             [
              0,
              "#0d0887"
             ],
             [
              0.1111111111111111,
              "#46039f"
             ],
             [
              0.2222222222222222,
              "#7201a8"
             ],
             [
              0.3333333333333333,
              "#9c179e"
             ],
             [
              0.4444444444444444,
              "#bd3786"
             ],
             [
              0.5555555555555556,
              "#d8576b"
             ],
             [
              0.6666666666666666,
              "#ed7953"
             ],
             [
              0.7777777777777778,
              "#fb9f3a"
             ],
             [
              0.8888888888888888,
              "#fdca26"
             ],
             [
              1,
              "#f0f921"
             ]
            ],
            "type": "surface"
           }
          ],
          "table": [
           {
            "cells": {
             "fill": {
              "color": "#EBF0F8"
             },
             "line": {
              "color": "white"
             }
            },
            "header": {
             "fill": {
              "color": "#C8D4E3"
             },
             "line": {
              "color": "white"
             }
            },
            "type": "table"
           }
          ]
         },
         "layout": {
          "annotationdefaults": {
           "arrowcolor": "#2a3f5f",
           "arrowhead": 0,
           "arrowwidth": 1
          },
          "autotypenumbers": "strict",
          "coloraxis": {
           "colorbar": {
            "outlinewidth": 0,
            "ticks": ""
           }
          },
          "colorscale": {
           "diverging": [
            [
             0,
             "#8e0152"
            ],
            [
             0.1,
             "#c51b7d"
            ],
            [
             0.2,
             "#de77ae"
            ],
            [
             0.3,
             "#f1b6da"
            ],
            [
             0.4,
             "#fde0ef"
            ],
            [
             0.5,
             "#f7f7f7"
            ],
            [
             0.6,
             "#e6f5d0"
            ],
            [
             0.7,
             "#b8e186"
            ],
            [
             0.8,
             "#7fbc41"
            ],
            [
             0.9,
             "#4d9221"
            ],
            [
             1,
             "#276419"
            ]
           ],
           "sequential": [
            [
             0,
             "#0d0887"
            ],
            [
             0.1111111111111111,
             "#46039f"
            ],
            [
             0.2222222222222222,
             "#7201a8"
            ],
            [
             0.3333333333333333,
             "#9c179e"
            ],
            [
             0.4444444444444444,
             "#bd3786"
            ],
            [
             0.5555555555555556,
             "#d8576b"
            ],
            [
             0.6666666666666666,
             "#ed7953"
            ],
            [
             0.7777777777777778,
             "#fb9f3a"
            ],
            [
             0.8888888888888888,
             "#fdca26"
            ],
            [
             1,
             "#f0f921"
            ]
           ],
           "sequentialminus": [
            [
             0,
             "#0d0887"
            ],
            [
             0.1111111111111111,
             "#46039f"
            ],
            [
             0.2222222222222222,
             "#7201a8"
            ],
            [
             0.3333333333333333,
             "#9c179e"
            ],
            [
             0.4444444444444444,
             "#bd3786"
            ],
            [
             0.5555555555555556,
             "#d8576b"
            ],
            [
             0.6666666666666666,
             "#ed7953"
            ],
            [
             0.7777777777777778,
             "#fb9f3a"
            ],
            [
             0.8888888888888888,
             "#fdca26"
            ],
            [
             1,
             "#f0f921"
            ]
           ]
          },
          "colorway": [
           "#636efa",
           "#EF553B",
           "#00cc96",
           "#ab63fa",
           "#FFA15A",
           "#19d3f3",
           "#FF6692",
           "#B6E880",
           "#FF97FF",
           "#FECB52"
          ],
          "font": {
           "color": "#2a3f5f"
          },
          "geo": {
           "bgcolor": "white",
           "lakecolor": "white",
           "landcolor": "#E5ECF6",
           "showlakes": true,
           "showland": true,
           "subunitcolor": "white"
          },
          "hoverlabel": {
           "align": "left"
          },
          "hovermode": "closest",
          "mapbox": {
           "style": "light"
          },
          "paper_bgcolor": "white",
          "plot_bgcolor": "#E5ECF6",
          "polar": {
           "angularaxis": {
            "gridcolor": "white",
            "linecolor": "white",
            "ticks": ""
           },
           "bgcolor": "#E5ECF6",
           "radialaxis": {
            "gridcolor": "white",
            "linecolor": "white",
            "ticks": ""
           }
          },
          "scene": {
           "xaxis": {
            "backgroundcolor": "#E5ECF6",
            "gridcolor": "white",
            "gridwidth": 2,
            "linecolor": "white",
            "showbackground": true,
            "ticks": "",
            "zerolinecolor": "white"
           },
           "yaxis": {
            "backgroundcolor": "#E5ECF6",
            "gridcolor": "white",
            "gridwidth": 2,
            "linecolor": "white",
            "showbackground": true,
            "ticks": "",
            "zerolinecolor": "white"
           },
           "zaxis": {
            "backgroundcolor": "#E5ECF6",
            "gridcolor": "white",
            "gridwidth": 2,
            "linecolor": "white",
            "showbackground": true,
            "ticks": "",
            "zerolinecolor": "white"
           }
          },
          "shapedefaults": {
           "line": {
            "color": "#2a3f5f"
           }
          },
          "ternary": {
           "aaxis": {
            "gridcolor": "white",
            "linecolor": "white",
            "ticks": ""
           },
           "baxis": {
            "gridcolor": "white",
            "linecolor": "white",
            "ticks": ""
           },
           "bgcolor": "#E5ECF6",
           "caxis": {
            "gridcolor": "white",
            "linecolor": "white",
            "ticks": ""
           }
          },
          "title": {
           "x": 0.05
          },
          "xaxis": {
           "automargin": true,
           "gridcolor": "white",
           "linecolor": "white",
           "ticks": "",
           "title": {
            "standoff": 15
           },
           "zerolinecolor": "white",
           "zerolinewidth": 2
          },
          "yaxis": {
           "automargin": true,
           "gridcolor": "white",
           "linecolor": "white",
           "ticks": "",
           "title": {
            "standoff": 15
           },
           "zerolinecolor": "white",
           "zerolinewidth": 2
          }
         }
        },
        "title": {
         "text": "Log Return vs. Date"
        },
        "xaxis": {
         "anchor": "y",
         "domain": [
          0,
          1
         ],
         "title": {
          "text": "Date"
         }
        },
        "yaxis": {
         "anchor": "x",
         "domain": [
          0,
          1
         ],
         "title": {
          "text": "Log Return"
         }
        }
       }
      }
     },
     "metadata": {},
     "output_type": "display_data"
    }
   ],
   "source": [
    "figure4 = px.scatter(subdf, x=subdf.index, y='Log Return', color='Ticker')\n",
    "figure4.update_layout(title='Log Return vs. Date')\n",
    "figure4.show()"
   ]
  },
  {
   "cell_type": "markdown",
   "metadata": {},
   "source": [
    "### Technical Indicators"
   ]
  },
  {
   "cell_type": "code",
   "execution_count": 73,
   "metadata": {},
   "outputs": [
    {
     "data": {
      "application/vnd.plotly.v1+json": {
       "config": {
        "plotlyServerURL": "https://plot.ly"
       },
       "data": [
        {
         "mode": "lines",
         "name": "Upper Band",
         "type": "scatter",
         "x": [
          "2015-02-09",
          "2015-02-16",
          "2015-02-23",
          "2015-03-02",
          "2015-03-09",
          "2015-03-16",
          "2015-03-23",
          "2015-03-30",
          "2015-04-06",
          "2015-04-13",
          "2015-04-20",
          "2015-04-27",
          "2015-05-04",
          "2015-05-11",
          "2015-05-18",
          "2015-05-25",
          "2015-06-01",
          "2015-06-08",
          "2015-06-15",
          "2015-06-22",
          "2015-06-29",
          "2015-07-06",
          "2015-07-13",
          "2015-07-20",
          "2015-07-27",
          "2015-08-03",
          "2015-08-10",
          "2015-08-17",
          "2015-08-24",
          "2015-08-31",
          "2015-09-07",
          "2015-09-14",
          "2015-09-21",
          "2015-09-28",
          "2015-10-05",
          "2015-10-12",
          "2015-10-19",
          "2015-10-26",
          "2015-11-02",
          "2015-11-09",
          "2015-11-16",
          "2015-11-23",
          "2015-11-30",
          "2015-12-07",
          "2015-12-14",
          "2015-12-21",
          "2015-12-28",
          "2016-01-04",
          "2016-01-11",
          "2016-01-18",
          "2016-01-25",
          "2016-02-01",
          "2016-02-08",
          "2016-02-15",
          "2016-02-22",
          "2016-02-29",
          "2016-03-07",
          "2016-03-14",
          "2016-03-21",
          "2016-03-28",
          "2016-04-04",
          "2016-04-11",
          "2016-04-18",
          "2016-04-25",
          "2016-05-02",
          "2016-05-09",
          "2016-05-16",
          "2016-05-23",
          "2016-05-30",
          "2016-06-06",
          "2016-06-13",
          "2016-06-20",
          "2016-06-27",
          "2016-07-04",
          "2016-07-11",
          "2016-07-18",
          "2016-07-25",
          "2016-08-01",
          "2016-08-08",
          "2016-08-15",
          "2016-08-22",
          "2016-08-29",
          "2016-09-05",
          "2016-09-12",
          "2016-09-19",
          "2016-09-26",
          "2016-10-03",
          "2016-10-10",
          "2016-10-17",
          "2016-10-24",
          "2016-10-31",
          "2016-11-07",
          "2016-11-14",
          "2016-11-21",
          "2016-11-28",
          "2016-12-05",
          "2016-12-12",
          "2016-12-19",
          "2016-12-26",
          "2017-01-02",
          "2017-01-09",
          "2017-01-16",
          "2017-01-23",
          "2017-01-30",
          "2017-02-06",
          "2017-02-13",
          "2017-02-20",
          "2017-02-27",
          "2017-03-06",
          "2017-03-13",
          "2017-03-20",
          "2017-03-27",
          "2017-04-03",
          "2017-04-10",
          "2017-04-17",
          "2017-04-24",
          "2017-05-01",
          "2017-05-08",
          "2017-05-15",
          "2017-05-22",
          "2017-05-29",
          "2017-06-05",
          "2017-06-12",
          "2017-06-19",
          "2017-06-26",
          "2017-07-03",
          "2017-07-10",
          "2017-07-17",
          "2017-07-24",
          "2017-07-31",
          "2017-08-07",
          "2017-08-14",
          "2017-08-21",
          "2017-08-28",
          "2017-09-04",
          "2017-09-11",
          "2017-09-18",
          "2017-09-25",
          "2017-10-02",
          "2017-10-09",
          "2017-10-16",
          "2017-10-23",
          "2017-10-30",
          "2017-11-06",
          "2017-11-13",
          "2017-11-20",
          "2017-11-27",
          "2017-12-04",
          "2017-12-11",
          "2017-12-18",
          "2017-12-25",
          "2018-01-01",
          "2018-01-08",
          "2018-01-15",
          "2018-01-22",
          "2018-01-29",
          "2018-02-05",
          "2018-02-12",
          "2018-02-19",
          "2018-02-26",
          "2018-03-05",
          "2018-03-12",
          "2018-03-19",
          "2018-03-26",
          "2018-04-02",
          "2018-04-09",
          "2018-04-16",
          "2018-04-23",
          "2018-04-30",
          "2018-05-07",
          "2018-05-14",
          "2018-05-21",
          "2018-05-28",
          "2018-06-04",
          "2018-06-11",
          "2018-06-18",
          "2018-06-25",
          "2018-07-02",
          "2018-07-09",
          "2018-07-16",
          "2018-07-23",
          "2018-07-30",
          "2018-08-06",
          "2018-08-13",
          "2018-08-20",
          "2018-08-27",
          "2018-09-03",
          "2018-09-10",
          "2018-09-17",
          "2018-09-24",
          "2018-10-01",
          "2018-10-08",
          "2018-10-15",
          "2018-10-22",
          "2018-10-29",
          "2018-11-05",
          "2018-11-12",
          "2018-11-19",
          "2018-11-26",
          "2018-12-03",
          "2018-12-10",
          "2018-12-17",
          "2018-12-24",
          "2018-12-31",
          "2019-01-07",
          "2019-01-14",
          "2019-01-21",
          "2019-01-28",
          "2019-02-04",
          "2019-02-11",
          "2019-02-18",
          "2019-02-25",
          "2019-03-04",
          "2019-03-11",
          "2019-03-18",
          "2019-03-25",
          "2019-04-01",
          "2019-04-08",
          "2019-04-15",
          "2019-04-22",
          "2019-04-29",
          "2019-05-06",
          "2019-05-13",
          "2019-05-20",
          "2019-05-27",
          "2019-06-03",
          "2019-06-10",
          "2019-06-17",
          "2019-06-24",
          "2019-07-01",
          "2019-07-08",
          "2019-07-15",
          "2019-07-22",
          "2019-07-29",
          "2019-08-05",
          "2019-08-12",
          "2019-08-19",
          "2019-08-26",
          "2019-09-02",
          "2019-09-09",
          "2019-09-16",
          "2019-09-23",
          "2019-09-30",
          "2019-10-07",
          "2019-10-14",
          "2019-10-21",
          "2019-10-28",
          "2019-11-04",
          "2019-11-11",
          "2019-11-18",
          "2019-11-25",
          "2019-12-02",
          "2019-12-09",
          "2019-12-16",
          "2019-12-23",
          "2019-12-30",
          "2020-01-06",
          "2020-01-13",
          "2020-01-20",
          "2020-01-27",
          "2020-02-03",
          "2020-02-10",
          "2020-02-17",
          "2020-02-24",
          "2020-03-02",
          "2020-03-09",
          "2020-03-16",
          "2020-03-23",
          "2020-03-30",
          "2020-04-06",
          "2020-04-13",
          "2020-04-20",
          "2020-04-27",
          "2020-05-04",
          "2020-05-11",
          "2020-05-18",
          "2020-05-25",
          "2020-06-01",
          "2020-06-08",
          "2020-06-15",
          "2020-06-22",
          "2020-06-29",
          "2020-07-06",
          "2020-07-13",
          "2020-07-20",
          "2020-07-27",
          "2020-08-03",
          "2020-08-10",
          "2020-08-17",
          "2020-08-24",
          "2020-08-31",
          "2020-09-07",
          "2020-09-14",
          "2020-09-21",
          "2020-09-28",
          "2020-10-05",
          "2020-10-12",
          "2020-10-19",
          "2020-10-26",
          "2020-11-02",
          "2020-11-09",
          "2020-11-16",
          "2020-11-23",
          "2020-11-30",
          "2020-12-07",
          "2020-12-14",
          "2020-12-21",
          "2020-12-28",
          "2021-01-04",
          "2021-01-11",
          "2021-01-18",
          "2021-01-25",
          "2021-02-01",
          "2021-02-08",
          "2021-02-15",
          "2021-02-22",
          "2021-03-01",
          "2021-03-08",
          "2021-03-15",
          "2021-03-22",
          "2021-03-29",
          "2021-04-05",
          "2021-04-12",
          "2021-04-19",
          "2021-04-26",
          "2021-05-03",
          "2021-05-10",
          "2021-05-17",
          "2021-05-24",
          "2021-05-31",
          "2021-06-07",
          "2021-06-14",
          "2021-06-21",
          "2021-06-28",
          "2021-07-05",
          "2021-07-12",
          "2021-07-19",
          "2021-07-26",
          "2021-08-02",
          "2021-08-09",
          "2021-08-16",
          "2021-08-23",
          "2021-08-30",
          "2021-09-06",
          "2021-09-13",
          "2021-09-20",
          "2021-09-27",
          "2021-10-04",
          "2021-10-11",
          "2021-10-18",
          "2021-10-25",
          "2021-11-01",
          "2021-11-08",
          "2021-11-15",
          "2021-11-22",
          "2021-11-29",
          "2021-12-06",
          "2021-12-13",
          "2021-12-20",
          "2021-12-27",
          "2022-01-03",
          "2022-01-10",
          "2022-01-17",
          "2022-01-24",
          "2022-01-31",
          "2022-02-07",
          "2022-02-14",
          "2022-02-21",
          "2022-02-28",
          "2022-03-07",
          "2022-03-14",
          "2022-03-21",
          "2022-03-28",
          "2022-04-04",
          "2022-04-11",
          "2022-04-18",
          "2022-04-25",
          "2022-05-02",
          "2022-05-09",
          "2022-05-16",
          "2022-05-23",
          "2022-05-30",
          "2022-06-06",
          "2022-06-13",
          "2022-06-20",
          "2022-06-27",
          "2022-07-04",
          "2022-07-11",
          "2022-07-18",
          "2022-07-25",
          "2022-08-01",
          "2022-08-08",
          "2022-08-15",
          "2022-08-22",
          "2022-08-29",
          "2022-09-05",
          "2022-09-12",
          "2022-09-19",
          "2022-09-26",
          "2022-10-03",
          "2022-10-10",
          "2022-10-17",
          "2022-10-24",
          "2022-10-31",
          "2022-11-07",
          "2022-11-14",
          "2022-11-21",
          "2022-11-28",
          "2022-12-05",
          "2022-12-12",
          "2022-12-19",
          "2022-12-26",
          "2023-01-02",
          "2023-01-09",
          "2023-01-16",
          "2023-01-23",
          "2023-01-30",
          "2023-02-06",
          "2023-02-13",
          "2023-02-20",
          "2023-02-27",
          "2023-03-06",
          "2023-03-13",
          "2023-03-20",
          "2023-03-27",
          "2023-04-03",
          "2023-04-10",
          "2023-04-17",
          "2023-04-24",
          "2023-05-01",
          "2023-05-08",
          "2023-05-15",
          "2023-05-22",
          "2023-05-29",
          "2023-06-05",
          "2023-06-12",
          "2023-06-19",
          "2023-06-26",
          "2023-07-03",
          "2023-07-10",
          "2023-07-17",
          "2023-07-24",
          "2023-07-31",
          "2023-08-07",
          "2023-08-14",
          "2023-08-21",
          "2023-08-28",
          "2023-09-04",
          "2023-09-11",
          "2023-09-18",
          "2023-09-25",
          "2023-10-02",
          "2023-10-09",
          "2023-10-16",
          "2023-10-23",
          "2023-10-30",
          "2023-11-06",
          "2023-11-13",
          "2023-11-20",
          "2023-11-27",
          "2023-12-04",
          "2023-12-11",
          "2023-12-18",
          "2023-12-25",
          "2024-01-01",
          "2024-01-08",
          "2024-01-15",
          "2024-01-22",
          "2024-01-29",
          "2024-02-05",
          "2024-02-12",
          "2024-02-19",
          "2024-02-26",
          "2024-03-04",
          "2024-03-11",
          "2024-03-18",
          "2024-03-25",
          "2024-04-01",
          "2024-04-08",
          "2024-04-15",
          "2024-04-22",
          "2024-04-29",
          "2024-05-06",
          "2024-05-13",
          "2024-05-20",
          "2024-05-27",
          "2024-06-03",
          "2024-06-10",
          "2024-06-17",
          "2024-06-24",
          "2024-07-01",
          "2024-07-08",
          "2024-07-15",
          "2024-07-22",
          "2024-07-29",
          "2024-08-05",
          "2024-08-12",
          "2024-08-19",
          "2024-08-26",
          "2024-09-02",
          "2024-09-09",
          "2024-09-16",
          "2024-09-23",
          "2024-09-30",
          "2024-10-07",
          "2024-10-14",
          "2024-10-21",
          "2024-10-28",
          "2024-11-04",
          "2024-11-11",
          "2024-11-18",
          "2024-11-25",
          "2024-12-02",
          "2024-12-09",
          "2024-12-16",
          "2024-12-23",
          "2024-12-30",
          "2025-01-06",
          "2025-01-13",
          "2025-01-20",
          "2025-01-27",
          "2025-02-03"
         ],
         "y": {
          "bdata": "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",
          "dtype": "f8"
         }
        },
        {
         "mode": "lines",
         "name": "Lower Band",
         "type": "scatter",
         "x": [
          "2015-02-09",
          "2015-02-16",
          "2015-02-23",
          "2015-03-02",
          "2015-03-09",
          "2015-03-16",
          "2015-03-23",
          "2015-03-30",
          "2015-04-06",
          "2015-04-13",
          "2015-04-20",
          "2015-04-27",
          "2015-05-04",
          "2015-05-11",
          "2015-05-18",
          "2015-05-25",
          "2015-06-01",
          "2015-06-08",
          "2015-06-15",
          "2015-06-22",
          "2015-06-29",
          "2015-07-06",
          "2015-07-13",
          "2015-07-20",
          "2015-07-27",
          "2015-08-03",
          "2015-08-10",
          "2015-08-17",
          "2015-08-24",
          "2015-08-31",
          "2015-09-07",
          "2015-09-14",
          "2015-09-21",
          "2015-09-28",
          "2015-10-05",
          "2015-10-12",
          "2015-10-19",
          "2015-10-26",
          "2015-11-02",
          "2015-11-09",
          "2015-11-16",
          "2015-11-23",
          "2015-11-30",
          "2015-12-07",
          "2015-12-14",
          "2015-12-21",
          "2015-12-28",
          "2016-01-04",
          "2016-01-11",
          "2016-01-18",
          "2016-01-25",
          "2016-02-01",
          "2016-02-08",
          "2016-02-15",
          "2016-02-22",
          "2016-02-29",
          "2016-03-07",
          "2016-03-14",
          "2016-03-21",
          "2016-03-28",
          "2016-04-04",
          "2016-04-11",
          "2016-04-18",
          "2016-04-25",
          "2016-05-02",
          "2016-05-09",
          "2016-05-16",
          "2016-05-23",
          "2016-05-30",
          "2016-06-06",
          "2016-06-13",
          "2016-06-20",
          "2016-06-27",
          "2016-07-04",
          "2016-07-11",
          "2016-07-18",
          "2016-07-25",
          "2016-08-01",
          "2016-08-08",
          "2016-08-15",
          "2016-08-22",
          "2016-08-29",
          "2016-09-05",
          "2016-09-12",
          "2016-09-19",
          "2016-09-26",
          "2016-10-03",
          "2016-10-10",
          "2016-10-17",
          "2016-10-24",
          "2016-10-31",
          "2016-11-07",
          "2016-11-14",
          "2016-11-21",
          "2016-11-28",
          "2016-12-05",
          "2016-12-12",
          "2016-12-19",
          "2016-12-26",
          "2017-01-02",
          "2017-01-09",
          "2017-01-16",
          "2017-01-23",
          "2017-01-30",
          "2017-02-06",
          "2017-02-13",
          "2017-02-20",
          "2017-02-27",
          "2017-03-06",
          "2017-03-13",
          "2017-03-20",
          "2017-03-27",
          "2017-04-03",
          "2017-04-10",
          "2017-04-17",
          "2017-04-24",
          "2017-05-01",
          "2017-05-08",
          "2017-05-15",
          "2017-05-22",
          "2017-05-29",
          "2017-06-05",
          "2017-06-12",
          "2017-06-19",
          "2017-06-26",
          "2017-07-03",
          "2017-07-10",
          "2017-07-17",
          "2017-07-24",
          "2017-07-31",
          "2017-08-07",
          "2017-08-14",
          "2017-08-21",
          "2017-08-28",
          "2017-09-04",
          "2017-09-11",
          "2017-09-18",
          "2017-09-25",
          "2017-10-02",
          "2017-10-09",
          "2017-10-16",
          "2017-10-23",
          "2017-10-30",
          "2017-11-06",
          "2017-11-13",
          "2017-11-20",
          "2017-11-27",
          "2017-12-04",
          "2017-12-11",
          "2017-12-18",
          "2017-12-25",
          "2018-01-01",
          "2018-01-08",
          "2018-01-15",
          "2018-01-22",
          "2018-01-29",
          "2018-02-05",
          "2018-02-12",
          "2018-02-19",
          "2018-02-26",
          "2018-03-05",
          "2018-03-12",
          "2018-03-19",
          "2018-03-26",
          "2018-04-02",
          "2018-04-09",
          "2018-04-16",
          "2018-04-23",
          "2018-04-30",
          "2018-05-07",
          "2018-05-14",
          "2018-05-21",
          "2018-05-28",
          "2018-06-04",
          "2018-06-11",
          "2018-06-18",
          "2018-06-25",
          "2018-07-02",
          "2018-07-09",
          "2018-07-16",
          "2018-07-23",
          "2018-07-30",
          "2018-08-06",
          "2018-08-13",
          "2018-08-20",
          "2018-08-27",
          "2018-09-03",
          "2018-09-10",
          "2018-09-17",
          "2018-09-24",
          "2018-10-01",
          "2018-10-08",
          "2018-10-15",
          "2018-10-22",
          "2018-10-29",
          "2018-11-05",
          "2018-11-12",
          "2018-11-19",
          "2018-11-26",
          "2018-12-03",
          "2018-12-10",
          "2018-12-17",
          "2018-12-24",
          "2018-12-31",
          "2019-01-07",
          "2019-01-14",
          "2019-01-21",
          "2019-01-28",
          "2019-02-04",
          "2019-02-11",
          "2019-02-18",
          "2019-02-25",
          "2019-03-04",
          "2019-03-11",
          "2019-03-18",
          "2019-03-25",
          "2019-04-01",
          "2019-04-08",
          "2019-04-15",
          "2019-04-22",
          "2019-04-29",
          "2019-05-06",
          "2019-05-13",
          "2019-05-20",
          "2019-05-27",
          "2019-06-03",
          "2019-06-10",
          "2019-06-17",
          "2019-06-24",
          "2019-07-01",
          "2019-07-08",
          "2019-07-15",
          "2019-07-22",
          "2019-07-29",
          "2019-08-05",
          "2019-08-12",
          "2019-08-19",
          "2019-08-26",
          "2019-09-02",
          "2019-09-09",
          "2019-09-16",
          "2019-09-23",
          "2019-09-30",
          "2019-10-07",
          "2019-10-14",
          "2019-10-21",
          "2019-10-28",
          "2019-11-04",
          "2019-11-11",
          "2019-11-18",
          "2019-11-25",
          "2019-12-02",
          "2019-12-09",
          "2019-12-16",
          "2019-12-23",
          "2019-12-30",
          "2020-01-06",
          "2020-01-13",
          "2020-01-20",
          "2020-01-27",
          "2020-02-03",
          "2020-02-10",
          "2020-02-17",
          "2020-02-24",
          "2020-03-02",
          "2020-03-09",
          "2020-03-16",
          "2020-03-23",
          "2020-03-30",
          "2020-04-06",
          "2020-04-13",
          "2020-04-20",
          "2020-04-27",
          "2020-05-04",
          "2020-05-11",
          "2020-05-18",
          "2020-05-25",
          "2020-06-01",
          "2020-06-08",
          "2020-06-15",
          "2020-06-22",
          "2020-06-29",
          "2020-07-06",
          "2020-07-13",
          "2020-07-20",
          "2020-07-27",
          "2020-08-03",
          "2020-08-10",
          "2020-08-17",
          "2020-08-24",
          "2020-08-31",
          "2020-09-07",
          "2020-09-14",
          "2020-09-21",
          "2020-09-28",
          "2020-10-05",
          "2020-10-12",
          "2020-10-19",
          "2020-10-26",
          "2020-11-02",
          "2020-11-09",
          "2020-11-16",
          "2020-11-23",
          "2020-11-30",
          "2020-12-07",
          "2020-12-14",
          "2020-12-21",
          "2020-12-28",
          "2021-01-04",
          "2021-01-11",
          "2021-01-18",
          "2021-01-25",
          "2021-02-01",
          "2021-02-08",
          "2021-02-15",
          "2021-02-22",
          "2021-03-01",
          "2021-03-08",
          "2021-03-15",
          "2021-03-22",
          "2021-03-29",
          "2021-04-05",
          "2021-04-12",
          "2021-04-19",
          "2021-04-26",
          "2021-05-03",
          "2021-05-10",
          "2021-05-17",
          "2021-05-24",
          "2021-05-31",
          "2021-06-07",
          "2021-06-14",
          "2021-06-21",
          "2021-06-28",
          "2021-07-05",
          "2021-07-12",
          "2021-07-19",
          "2021-07-26",
          "2021-08-02",
          "2021-08-09",
          "2021-08-16",
          "2021-08-23",
          "2021-08-30",
          "2021-09-06",
          "2021-09-13",
          "2021-09-20",
          "2021-09-27",
          "2021-10-04",
          "2021-10-11",
          "2021-10-18",
          "2021-10-25",
          "2021-11-01",
          "2021-11-08",
          "2021-11-15",
          "2021-11-22",
          "2021-11-29",
          "2021-12-06",
          "2021-12-13",
          "2021-12-20",
          "2021-12-27",
          "2022-01-03",
          "2022-01-10",
          "2022-01-17",
          "2022-01-24",
          "2022-01-31",
          "2022-02-07",
          "2022-02-14",
          "2022-02-21",
          "2022-02-28",
          "2022-03-07",
          "2022-03-14",
          "2022-03-21",
          "2022-03-28",
          "2022-04-04",
          "2022-04-11",
          "2022-04-18",
          "2022-04-25",
          "2022-05-02",
          "2022-05-09",
          "2022-05-16",
          "2022-05-23",
          "2022-05-30",
          "2022-06-06",
          "2022-06-13",
          "2022-06-20",
          "2022-06-27",
          "2022-07-04",
          "2022-07-11",
          "2022-07-18",
          "2022-07-25",
          "2022-08-01",
          "2022-08-08",
          "2022-08-15",
          "2022-08-22",
          "2022-08-29",
          "2022-09-05",
          "2022-09-12",
          "2022-09-19",
          "2022-09-26",
          "2022-10-03",
          "2022-10-10",
          "2022-10-17",
          "2022-10-24",
          "2022-10-31",
          "2022-11-07",
          "2022-11-14",
          "2022-11-21",
          "2022-11-28",
          "2022-12-05",
          "2022-12-12",
          "2022-12-19",
          "2022-12-26",
          "2023-01-02",
          "2023-01-09",
          "2023-01-16",
          "2023-01-23",
          "2023-01-30",
          "2023-02-06",
          "2023-02-13",
          "2023-02-20",
          "2023-02-27",
          "2023-03-06",
          "2023-03-13",
          "2023-03-20",
          "2023-03-27",
          "2023-04-03",
          "2023-04-10",
          "2023-04-17",
          "2023-04-24",
          "2023-05-01",
          "2023-05-08",
          "2023-05-15",
          "2023-05-22",
          "2023-05-29",
          "2023-06-05",
          "2023-06-12",
          "2023-06-19",
          "2023-06-26",
          "2023-07-03",
          "2023-07-10",
          "2023-07-17",
          "2023-07-24",
          "2023-07-31",
          "2023-08-07",
          "2023-08-14",
          "2023-08-21",
          "2023-08-28",
          "2023-09-04",
          "2023-09-11",
          "2023-09-18",
          "2023-09-25",
          "2023-10-02",
          "2023-10-09",
          "2023-10-16",
          "2023-10-23",
          "2023-10-30",
          "2023-11-06",
          "2023-11-13",
          "2023-11-20",
          "2023-11-27",
          "2023-12-04",
          "2023-12-11",
          "2023-12-18",
          "2023-12-25",
          "2024-01-01",
          "2024-01-08",
          "2024-01-15",
          "2024-01-22",
          "2024-01-29",
          "2024-02-05",
          "2024-02-12",
          "2024-02-19",
          "2024-02-26",
          "2024-03-04",
          "2024-03-11",
          "2024-03-18",
          "2024-03-25",
          "2024-04-01",
          "2024-04-08",
          "2024-04-15",
          "2024-04-22",
          "2024-04-29",
          "2024-05-06",
          "2024-05-13",
          "2024-05-20",
          "2024-05-27",
          "2024-06-03",
          "2024-06-10",
          "2024-06-17",
          "2024-06-24",
          "2024-07-01",
          "2024-07-08",
          "2024-07-15",
          "2024-07-22",
          "2024-07-29",
          "2024-08-05",
          "2024-08-12",
          "2024-08-19",
          "2024-08-26",
          "2024-09-02",
          "2024-09-09",
          "2024-09-16",
          "2024-09-23",
          "2024-09-30",
          "2024-10-07",
          "2024-10-14",
          "2024-10-21",
          "2024-10-28",
          "2024-11-04",
          "2024-11-11",
          "2024-11-18",
          "2024-11-25",
          "2024-12-02",
          "2024-12-09",
          "2024-12-16",
          "2024-12-23",
          "2024-12-30",
          "2025-01-06",
          "2025-01-13",
          "2025-01-20",
          "2025-01-27",
          "2025-02-03"
         ],
         "y": {
          "bdata": "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",
          "dtype": "f8"
         }
        },
        {
         "mode": "lines",
         "name": "Moving Average",
         "type": "scatter",
         "x": [
          "2015-02-09",
          "2015-02-16",
          "2015-02-23",
          "2015-03-02",
          "2015-03-09",
          "2015-03-16",
          "2015-03-23",
          "2015-03-30",
          "2015-04-06",
          "2015-04-13",
          "2015-04-20",
          "2015-04-27",
          "2015-05-04",
          "2015-05-11",
          "2015-05-18",
          "2015-05-25",
          "2015-06-01",
          "2015-06-08",
          "2015-06-15",
          "2015-06-22",
          "2015-06-29",
          "2015-07-06",
          "2015-07-13",
          "2015-07-20",
          "2015-07-27",
          "2015-08-03",
          "2015-08-10",
          "2015-08-17",
          "2015-08-24",
          "2015-08-31",
          "2015-09-07",
          "2015-09-14",
          "2015-09-21",
          "2015-09-28",
          "2015-10-05",
          "2015-10-12",
          "2015-10-19",
          "2015-10-26",
          "2015-11-02",
          "2015-11-09",
          "2015-11-16",
          "2015-11-23",
          "2015-11-30",
          "2015-12-07",
          "2015-12-14",
          "2015-12-21",
          "2015-12-28",
          "2016-01-04",
          "2016-01-11",
          "2016-01-18",
          "2016-01-25",
          "2016-02-01",
          "2016-02-08",
          "2016-02-15",
          "2016-02-22",
          "2016-02-29",
          "2016-03-07",
          "2016-03-14",
          "2016-03-21",
          "2016-03-28",
          "2016-04-04",
          "2016-04-11",
          "2016-04-18",
          "2016-04-25",
          "2016-05-02",
          "2016-05-09",
          "2016-05-16",
          "2016-05-23",
          "2016-05-30",
          "2016-06-06",
          "2016-06-13",
          "2016-06-20",
          "2016-06-27",
          "2016-07-04",
          "2016-07-11",
          "2016-07-18",
          "2016-07-25",
          "2016-08-01",
          "2016-08-08",
          "2016-08-15",
          "2016-08-22",
          "2016-08-29",
          "2016-09-05",
          "2016-09-12",
          "2016-09-19",
          "2016-09-26",
          "2016-10-03",
          "2016-10-10",
          "2016-10-17",
          "2016-10-24",
          "2016-10-31",
          "2016-11-07",
          "2016-11-14",
          "2016-11-21",
          "2016-11-28",
          "2016-12-05",
          "2016-12-12",
          "2016-12-19",
          "2016-12-26",
          "2017-01-02",
          "2017-01-09",
          "2017-01-16",
          "2017-01-23",
          "2017-01-30",
          "2017-02-06",
          "2017-02-13",
          "2017-02-20",
          "2017-02-27",
          "2017-03-06",
          "2017-03-13",
          "2017-03-20",
          "2017-03-27",
          "2017-04-03",
          "2017-04-10",
          "2017-04-17",
          "2017-04-24",
          "2017-05-01",
          "2017-05-08",
          "2017-05-15",
          "2017-05-22",
          "2017-05-29",
          "2017-06-05",
          "2017-06-12",
          "2017-06-19",
          "2017-06-26",
          "2017-07-03",
          "2017-07-10",
          "2017-07-17",
          "2017-07-24",
          "2017-07-31",
          "2017-08-07",
          "2017-08-14",
          "2017-08-21",
          "2017-08-28",
          "2017-09-04",
          "2017-09-11",
          "2017-09-18",
          "2017-09-25",
          "2017-10-02",
          "2017-10-09",
          "2017-10-16",
          "2017-10-23",
          "2017-10-30",
          "2017-11-06",
          "2017-11-13",
          "2017-11-20",
          "2017-11-27",
          "2017-12-04",
          "2017-12-11",
          "2017-12-18",
          "2017-12-25",
          "2018-01-01",
          "2018-01-08",
          "2018-01-15",
          "2018-01-22",
          "2018-01-29",
          "2018-02-05",
          "2018-02-12",
          "2018-02-19",
          "2018-02-26",
          "2018-03-05",
          "2018-03-12",
          "2018-03-19",
          "2018-03-26",
          "2018-04-02",
          "2018-04-09",
          "2018-04-16",
          "2018-04-23",
          "2018-04-30",
          "2018-05-07",
          "2018-05-14",
          "2018-05-21",
          "2018-05-28",
          "2018-06-04",
          "2018-06-11",
          "2018-06-18",
          "2018-06-25",
          "2018-07-02",
          "2018-07-09",
          "2018-07-16",
          "2018-07-23",
          "2018-07-30",
          "2018-08-06",
          "2018-08-13",
          "2018-08-20",
          "2018-08-27",
          "2018-09-03",
          "2018-09-10",
          "2018-09-17",
          "2018-09-24",
          "2018-10-01",
          "2018-10-08",
          "2018-10-15",
          "2018-10-22",
          "2018-10-29",
          "2018-11-05",
          "2018-11-12",
          "2018-11-19",
          "2018-11-26",
          "2018-12-03",
          "2018-12-10",
          "2018-12-17",
          "2018-12-24",
          "2018-12-31",
          "2019-01-07",
          "2019-01-14",
          "2019-01-21",
          "2019-01-28",
          "2019-02-04",
          "2019-02-11",
          "2019-02-18",
          "2019-02-25",
          "2019-03-04",
          "2019-03-11",
          "2019-03-18",
          "2019-03-25",
          "2019-04-01",
          "2019-04-08",
          "2019-04-15",
          "2019-04-22",
          "2019-04-29",
          "2019-05-06",
          "2019-05-13",
          "2019-05-20",
          "2019-05-27",
          "2019-06-03",
          "2019-06-10",
          "2019-06-17",
          "2019-06-24",
          "2019-07-01",
          "2019-07-08",
          "2019-07-15",
          "2019-07-22",
          "2019-07-29",
          "2019-08-05",
          "2019-08-12",
          "2019-08-19",
          "2019-08-26",
          "2019-09-02",
          "2019-09-09",
          "2019-09-16",
          "2019-09-23",
          "2019-09-30",
          "2019-10-07",
          "2019-10-14",
          "2019-10-21",
          "2019-10-28",
          "2019-11-04",
          "2019-11-11",
          "2019-11-18",
          "2019-11-25",
          "2019-12-02",
          "2019-12-09",
          "2019-12-16",
          "2019-12-23",
          "2019-12-30",
          "2020-01-06",
          "2020-01-13",
          "2020-01-20",
          "2020-01-27",
          "2020-02-03",
          "2020-02-10",
          "2020-02-17",
          "2020-02-24",
          "2020-03-02",
          "2020-03-09",
          "2020-03-16",
          "2020-03-23",
          "2020-03-30",
          "2020-04-06",
          "2020-04-13",
          "2020-04-20",
          "2020-04-27",
          "2020-05-04",
          "2020-05-11",
          "2020-05-18",
          "2020-05-25",
          "2020-06-01",
          "2020-06-08",
          "2020-06-15",
          "2020-06-22",
          "2020-06-29",
          "2020-07-06",
          "2020-07-13",
          "2020-07-20",
          "2020-07-27",
          "2020-08-03",
          "2020-08-10",
          "2020-08-17",
          "2020-08-24",
          "2020-08-31",
          "2020-09-07",
          "2020-09-14",
          "2020-09-21",
          "2020-09-28",
          "2020-10-05",
          "2020-10-12",
          "2020-10-19",
          "2020-10-26",
          "2020-11-02",
          "2020-11-09",
          "2020-11-16",
          "2020-11-23",
          "2020-11-30",
          "2020-12-07",
          "2020-12-14",
          "2020-12-21",
          "2020-12-28",
          "2021-01-04",
          "2021-01-11",
          "2021-01-18",
          "2021-01-25",
          "2021-02-01",
          "2021-02-08",
          "2021-02-15",
          "2021-02-22",
          "2021-03-01",
          "2021-03-08",
          "2021-03-15",
          "2021-03-22",
          "2021-03-29",
          "2021-04-05",
          "2021-04-12",
          "2021-04-19",
          "2021-04-26",
          "2021-05-03",
          "2021-05-10",
          "2021-05-17",
          "2021-05-24",
          "2021-05-31",
          "2021-06-07",
          "2021-06-14",
          "2021-06-21",
          "2021-06-28",
          "2021-07-05",
          "2021-07-12",
          "2021-07-19",
          "2021-07-26",
          "2021-08-02",
          "2021-08-09",
          "2021-08-16",
          "2021-08-23",
          "2021-08-30",
          "2021-09-06",
          "2021-09-13",
          "2021-09-20",
          "2021-09-27",
          "2021-10-04",
          "2021-10-11",
          "2021-10-18",
          "2021-10-25",
          "2021-11-01",
          "2021-11-08",
          "2021-11-15",
          "2021-11-22",
          "2021-11-29",
          "2021-12-06",
          "2021-12-13",
          "2021-12-20",
          "2021-12-27",
          "2022-01-03",
          "2022-01-10",
          "2022-01-17",
          "2022-01-24",
          "2022-01-31",
          "2022-02-07",
          "2022-02-14",
          "2022-02-21",
          "2022-02-28",
          "2022-03-07",
          "2022-03-14",
          "2022-03-21",
          "2022-03-28",
          "2022-04-04",
          "2022-04-11",
          "2022-04-18",
          "2022-04-25",
          "2022-05-02",
          "2022-05-09",
          "2022-05-16",
          "2022-05-23",
          "2022-05-30",
          "2022-06-06",
          "2022-06-13",
          "2022-06-20",
          "2022-06-27",
          "2022-07-04",
          "2022-07-11",
          "2022-07-18",
          "2022-07-25",
          "2022-08-01",
          "2022-08-08",
          "2022-08-15",
          "2022-08-22",
          "2022-08-29",
          "2022-09-05",
          "2022-09-12",
          "2022-09-19",
          "2022-09-26",
          "2022-10-03",
          "2022-10-10",
          "2022-10-17",
          "2022-10-24",
          "2022-10-31",
          "2022-11-07",
          "2022-11-14",
          "2022-11-21",
          "2022-11-28",
          "2022-12-05",
          "2022-12-12",
          "2022-12-19",
          "2022-12-26",
          "2023-01-02",
          "2023-01-09",
          "2023-01-16",
          "2023-01-23",
          "2023-01-30",
          "2023-02-06",
          "2023-02-13",
          "2023-02-20",
          "2023-02-27",
          "2023-03-06",
          "2023-03-13",
          "2023-03-20",
          "2023-03-27",
          "2023-04-03",
          "2023-04-10",
          "2023-04-17",
          "2023-04-24",
          "2023-05-01",
          "2023-05-08",
          "2023-05-15",
          "2023-05-22",
          "2023-05-29",
          "2023-06-05",
          "2023-06-12",
          "2023-06-19",
          "2023-06-26",
          "2023-07-03",
          "2023-07-10",
          "2023-07-17",
          "2023-07-24",
          "2023-07-31",
          "2023-08-07",
          "2023-08-14",
          "2023-08-21",
          "2023-08-28",
          "2023-09-04",
          "2023-09-11",
          "2023-09-18",
          "2023-09-25",
          "2023-10-02",
          "2023-10-09",
          "2023-10-16",
          "2023-10-23",
          "2023-10-30",
          "2023-11-06",
          "2023-11-13",
          "2023-11-20",
          "2023-11-27",
          "2023-12-04",
          "2023-12-11",
          "2023-12-18",
          "2023-12-25",
          "2024-01-01",
          "2024-01-08",
          "2024-01-15",
          "2024-01-22",
          "2024-01-29",
          "2024-02-05",
          "2024-02-12",
          "2024-02-19",
          "2024-02-26",
          "2024-03-04",
          "2024-03-11",
          "2024-03-18",
          "2024-03-25",
          "2024-04-01",
          "2024-04-08",
          "2024-04-15",
          "2024-04-22",
          "2024-04-29",
          "2024-05-06",
          "2024-05-13",
          "2024-05-20",
          "2024-05-27",
          "2024-06-03",
          "2024-06-10",
          "2024-06-17",
          "2024-06-24",
          "2024-07-01",
          "2024-07-08",
          "2024-07-15",
          "2024-07-22",
          "2024-07-29",
          "2024-08-05",
          "2024-08-12",
          "2024-08-19",
          "2024-08-26",
          "2024-09-02",
          "2024-09-09",
          "2024-09-16",
          "2024-09-23",
          "2024-09-30",
          "2024-10-07",
          "2024-10-14",
          "2024-10-21",
          "2024-10-28",
          "2024-11-04",
          "2024-11-11",
          "2024-11-18",
          "2024-11-25",
          "2024-12-02",
          "2024-12-09",
          "2024-12-16",
          "2024-12-23",
          "2024-12-30",
          "2025-01-06",
          "2025-01-13",
          "2025-01-20",
          "2025-01-27",
          "2025-02-03"
         ],
         "y": {
          "bdata": "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",
          "dtype": "f8"
         }
        }
       ],
       "layout": {
        "annotations": [
         {
          "font": {
           "size": 16
          },
          "showarrow": false,
          "text": "Date",
          "x": 0.5,
          "xanchor": "center",
          "xref": "paper",
          "y": 0,
          "yanchor": "top",
          "yref": "paper",
          "yshift": -30
         },
         {
          "font": {
           "size": 16
          },
          "showarrow": false,
          "text": "USD",
          "textangle": -90,
          "x": 0,
          "xanchor": "right",
          "xref": "paper",
          "xshift": -40,
          "y": 0.5,
          "yanchor": "middle",
          "yref": "paper"
         }
        ],
        "template": {
         "data": {
          "bar": [
           {
            "error_x": {
             "color": "#2a3f5f"
            },
            "error_y": {
             "color": "#2a3f5f"
            },
            "marker": {
             "line": {
              "color": "#E5ECF6",
              "width": 0.5
             },
             "pattern": {
              "fillmode": "overlay",
              "size": 10,
              "solidity": 0.2
             }
            },
            "type": "bar"
           }
          ],
          "barpolar": [
           {
            "marker": {
             "line": {
              "color": "#E5ECF6",
              "width": 0.5
             },
             "pattern": {
              "fillmode": "overlay",
              "size": 10,
              "solidity": 0.2
             }
            },
            "type": "barpolar"
           }
          ],
          "carpet": [
           {
            "aaxis": {
             "endlinecolor": "#2a3f5f",
             "gridcolor": "white",
             "linecolor": "white",
             "minorgridcolor": "white",
             "startlinecolor": "#2a3f5f"
            },
            "baxis": {
             "endlinecolor": "#2a3f5f",
             "gridcolor": "white",
             "linecolor": "white",
             "minorgridcolor": "white",
             "startlinecolor": "#2a3f5f"
            },
            "type": "carpet"
           }
          ],
          "choropleth": [
           {
            "colorbar": {
             "outlinewidth": 0,
             "ticks": ""
            },
            "type": "choropleth"
           }
          ],
          "contour": [
           {
            "colorbar": {
             "outlinewidth": 0,
             "ticks": ""
            },
            "colorscale": [
             [
              0,
              "#0d0887"
             ],
             [
              0.1111111111111111,
              "#46039f"
             ],
             [
              0.2222222222222222,
              "#7201a8"
             ],
             [
              0.3333333333333333,
              "#9c179e"
             ],
             [
              0.4444444444444444,
              "#bd3786"
             ],
             [
              0.5555555555555556,
              "#d8576b"
             ],
             [
              0.6666666666666666,
              "#ed7953"
             ],
             [
              0.7777777777777778,
              "#fb9f3a"
             ],
             [
              0.8888888888888888,
              "#fdca26"
             ],
             [
              1,
              "#f0f921"
             ]
            ],
            "type": "contour"
           }
          ],
          "contourcarpet": [
           {
            "colorbar": {
             "outlinewidth": 0,
             "ticks": ""
            },
            "type": "contourcarpet"
           }
          ],
          "heatmap": [
           {
            "colorbar": {
             "outlinewidth": 0,
             "ticks": ""
            },
            "colorscale": [
             [
              0,
              "#0d0887"
             ],
             [
              0.1111111111111111,
              "#46039f"
             ],
             [
              0.2222222222222222,
              "#7201a8"
             ],
             [
              0.3333333333333333,
              "#9c179e"
             ],
             [
              0.4444444444444444,
              "#bd3786"
             ],
             [
              0.5555555555555556,
              "#d8576b"
             ],
             [
              0.6666666666666666,
              "#ed7953"
             ],
             [
              0.7777777777777778,
              "#fb9f3a"
             ],
             [
              0.8888888888888888,
              "#fdca26"
             ],
             [
              1,
              "#f0f921"
             ]
            ],
            "type": "heatmap"
           }
          ],
          "histogram": [
           {
            "marker": {
             "pattern": {
              "fillmode": "overlay",
              "size": 10,
              "solidity": 0.2
             }
            },
            "type": "histogram"
           }
          ],
          "histogram2d": [
           {
            "colorbar": {
             "outlinewidth": 0,
             "ticks": ""
            },
            "colorscale": [
             [
              0,
              "#0d0887"
             ],
             [
              0.1111111111111111,
              "#46039f"
             ],
             [
              0.2222222222222222,
              "#7201a8"
             ],
             [
              0.3333333333333333,
              "#9c179e"
             ],
             [
              0.4444444444444444,
              "#bd3786"
             ],
             [
              0.5555555555555556,
              "#d8576b"
             ],
             [
              0.6666666666666666,
              "#ed7953"
             ],
             [
              0.7777777777777778,
              "#fb9f3a"
             ],
             [
              0.8888888888888888,
              "#fdca26"
             ],
             [
              1,
              "#f0f921"
             ]
            ],
            "type": "histogram2d"
           }
          ],
          "histogram2dcontour": [
           {
            "colorbar": {
             "outlinewidth": 0,
             "ticks": ""
            },
            "colorscale": [
             [
              0,
              "#0d0887"
             ],
             [
              0.1111111111111111,
              "#46039f"
             ],
             [
              0.2222222222222222,
              "#7201a8"
             ],
             [
              0.3333333333333333,
              "#9c179e"
             ],
             [
              0.4444444444444444,
              "#bd3786"
             ],
             [
              0.5555555555555556,
              "#d8576b"
             ],
             [
              0.6666666666666666,
              "#ed7953"
             ],
             [
              0.7777777777777778,
              "#fb9f3a"
             ],
             [
              0.8888888888888888,
              "#fdca26"
             ],
             [
              1,
              "#f0f921"
             ]
            ],
            "type": "histogram2dcontour"
           }
          ],
          "mesh3d": [
           {
            "colorbar": {
             "outlinewidth": 0,
             "ticks": ""
            },
            "type": "mesh3d"
           }
          ],
          "parcoords": [
           {
            "line": {
             "colorbar": {
              "outlinewidth": 0,
              "ticks": ""
             }
            },
            "type": "parcoords"
           }
          ],
          "pie": [
           {
            "automargin": true,
            "type": "pie"
           }
          ],
          "scatter": [
           {
            "fillpattern": {
             "fillmode": "overlay",
             "size": 10,
             "solidity": 0.2
            },
            "type": "scatter"
           }
          ],
          "scatter3d": [
           {
            "line": {
             "colorbar": {
              "outlinewidth": 0,
              "ticks": ""
             }
            },
            "marker": {
             "colorbar": {
              "outlinewidth": 0,
              "ticks": ""
             }
            },
            "type": "scatter3d"
           }
          ],
          "scattercarpet": [
           {
            "marker": {
             "colorbar": {
              "outlinewidth": 0,
              "ticks": ""
             }
            },
            "type": "scattercarpet"
           }
          ],
          "scattergeo": [
           {
            "marker": {
             "colorbar": {
              "outlinewidth": 0,
              "ticks": ""
             }
            },
            "type": "scattergeo"
           }
          ],
          "scattergl": [
           {
            "marker": {
             "colorbar": {
              "outlinewidth": 0,
              "ticks": ""
             }
            },
            "type": "scattergl"
           }
          ],
          "scattermap": [
           {
            "marker": {
             "colorbar": {
              "outlinewidth": 0,
              "ticks": ""
             }
            },
            "type": "scattermap"
           }
          ],
          "scattermapbox": [
           {
            "marker": {
             "colorbar": {
              "outlinewidth": 0,
              "ticks": ""
             }
            },
            "type": "scattermapbox"
           }
          ],
          "scatterpolar": [
           {
            "marker": {
             "colorbar": {
              "outlinewidth": 0,
              "ticks": ""
             }
            },
            "type": "scatterpolar"
           }
          ],
          "scatterpolargl": [
           {
            "marker": {
             "colorbar": {
              "outlinewidth": 0,
              "ticks": ""
             }
            },
            "type": "scatterpolargl"
           }
          ],
          "scatterternary": [
           {
            "marker": {
             "colorbar": {
              "outlinewidth": 0,
              "ticks": ""
             }
            },
            "type": "scatterternary"
           }
          ],
          "surface": [
           {
            "colorbar": {
             "outlinewidth": 0,
             "ticks": ""
            },
            "colorscale": [
             [
              0,
              "#0d0887"
             ],
             [
              0.1111111111111111,
              "#46039f"
             ],
             [
              0.2222222222222222,
              "#7201a8"
             ],
             [
              0.3333333333333333,
              "#9c179e"
             ],
             [
              0.4444444444444444,
              "#bd3786"
             ],
             [
              0.5555555555555556,
              "#d8576b"
             ],
             [
              0.6666666666666666,
              "#ed7953"
             ],
             [
              0.7777777777777778,
              "#fb9f3a"
             ],
             [
              0.8888888888888888,
              "#fdca26"
             ],
             [
              1,
              "#f0f921"
             ]
            ],
            "type": "surface"
           }
          ],
          "table": [
           {
            "cells": {
             "fill": {
              "color": "#EBF0F8"
             },
             "line": {
              "color": "white"
             }
            },
            "header": {
             "fill": {
              "color": "#C8D4E3"
             },
             "line": {
              "color": "white"
             }
            },
            "type": "table"
           }
          ]
         },
         "layout": {
          "annotationdefaults": {
           "arrowcolor": "#2a3f5f",
           "arrowhead": 0,
           "arrowwidth": 1
          },
          "autotypenumbers": "strict",
          "coloraxis": {
           "colorbar": {
            "outlinewidth": 0,
            "ticks": ""
           }
          },
          "colorscale": {
           "diverging": [
            [
             0,
             "#8e0152"
            ],
            [
             0.1,
             "#c51b7d"
            ],
            [
             0.2,
             "#de77ae"
            ],
            [
             0.3,
             "#f1b6da"
            ],
            [
             0.4,
             "#fde0ef"
            ],
            [
             0.5,
             "#f7f7f7"
            ],
            [
             0.6,
             "#e6f5d0"
            ],
            [
             0.7,
             "#b8e186"
            ],
            [
             0.8,
             "#7fbc41"
            ],
            [
             0.9,
             "#4d9221"
            ],
            [
             1,
             "#276419"
            ]
           ],
           "sequential": [
            [
             0,
             "#0d0887"
            ],
            [
             0.1111111111111111,
             "#46039f"
            ],
            [
             0.2222222222222222,
             "#7201a8"
            ],
            [
             0.3333333333333333,
             "#9c179e"
            ],
            [
             0.4444444444444444,
             "#bd3786"
            ],
            [
             0.5555555555555556,
             "#d8576b"
            ],
            [
             0.6666666666666666,
             "#ed7953"
            ],
            [
             0.7777777777777778,
             "#fb9f3a"
            ],
            [
             0.8888888888888888,
             "#fdca26"
            ],
            [
             1,
             "#f0f921"
            ]
           ],
           "sequentialminus": [
            [
             0,
             "#0d0887"
            ],
            [
             0.1111111111111111,
             "#46039f"
            ],
            [
             0.2222222222222222,
             "#7201a8"
            ],
            [
             0.3333333333333333,
             "#9c179e"
            ],
            [
             0.4444444444444444,
             "#bd3786"
            ],
            [
             0.5555555555555556,
             "#d8576b"
            ],
            [
             0.6666666666666666,
             "#ed7953"
            ],
            [
             0.7777777777777778,
             "#fb9f3a"
            ],
            [
             0.8888888888888888,
             "#fdca26"
            ],
            [
             1,
             "#f0f921"
            ]
           ]
          },
          "colorway": [
           "#636efa",
           "#EF553B",
           "#00cc96",
           "#ab63fa",
           "#FFA15A",
           "#19d3f3",
           "#FF6692",
           "#B6E880",
           "#FF97FF",
           "#FECB52"
          ],
          "font": {
           "color": "#2a3f5f"
          },
          "geo": {
           "bgcolor": "white",
           "lakecolor": "white",
           "landcolor": "#E5ECF6",
           "showlakes": true,
           "showland": true,
           "subunitcolor": "white"
          },
          "hoverlabel": {
           "align": "left"
          },
          "hovermode": "closest",
          "mapbox": {
           "style": "light"
          },
          "paper_bgcolor": "white",
          "plot_bgcolor": "#E5ECF6",
          "polar": {
           "angularaxis": {
            "gridcolor": "white",
            "linecolor": "white",
            "ticks": ""
           },
           "bgcolor": "#E5ECF6",
           "radialaxis": {
            "gridcolor": "white",
            "linecolor": "white",
            "ticks": ""
           }
          },
          "scene": {
           "xaxis": {
            "backgroundcolor": "#E5ECF6",
            "gridcolor": "white",
            "gridwidth": 2,
            "linecolor": "white",
            "showbackground": true,
            "ticks": "",
            "zerolinecolor": "white"
           },
           "yaxis": {
            "backgroundcolor": "#E5ECF6",
            "gridcolor": "white",
            "gridwidth": 2,
            "linecolor": "white",
            "showbackground": true,
            "ticks": "",
            "zerolinecolor": "white"
           },
           "zaxis": {
            "backgroundcolor": "#E5ECF6",
            "gridcolor": "white",
            "gridwidth": 2,
            "linecolor": "white",
            "showbackground": true,
            "ticks": "",
            "zerolinecolor": "white"
           }
          },
          "shapedefaults": {
           "line": {
            "color": "#2a3f5f"
           }
          },
          "ternary": {
           "aaxis": {
            "gridcolor": "white",
            "linecolor": "white",
            "ticks": ""
           },
           "baxis": {
            "gridcolor": "white",
            "linecolor": "white",
            "ticks": ""
           },
           "bgcolor": "#E5ECF6",
           "caxis": {
            "gridcolor": "white",
            "linecolor": "white",
            "ticks": ""
           }
          },
          "title": {
           "x": 0.05
          },
          "xaxis": {
           "automargin": true,
           "gridcolor": "white",
           "linecolor": "white",
           "ticks": "",
           "title": {
            "standoff": 15
           },
           "zerolinecolor": "white",
           "zerolinewidth": 2
          },
          "yaxis": {
           "automargin": true,
           "gridcolor": "white",
           "linecolor": "white",
           "ticks": "",
           "title": {
            "standoff": 15
           },
           "zerolinecolor": "white",
           "zerolinewidth": 2
          }
         }
        },
        "title": {
         "text": "NVIDIA Stock Bollinger Bands"
        },
        "xaxis": {
         "anchor": "y",
         "domain": [
          0,
          1
         ]
        },
        "yaxis": {
         "anchor": "x",
         "domain": [
          0,
          1
         ]
        }
       }
      }
     },
     "metadata": {},
     "output_type": "display_data"
    }
   ],
   "source": [
    "figure5 = make_subplots(1, 1, shared_xaxes=True, x_title='Date', y_title='USD')\n",
    "figure5.add_trace(\n",
    "    go.Scatter(x=nvdaDF.index, y=nvdaDF['BB_Upper'], mode='lines', name='Upper Band')\n",
    ")\n",
    "figure5.add_trace(\n",
    "    go.Scatter(x=nvdaDF.index, y=nvdaDF['BB_Lower'], mode='lines', name='Lower Band')\n",
    ")\n",
    "figure5.add_trace(\n",
    "    go.Scatter(x=nvdaDF.index, y=nvdaDF['SMA'], mode='lines', name='Moving Average')\n",
    ")\n",
    "figure5.update_layout(title='NVIDIA Stock Bollinger Bands')\n",
    "\n",
    "figure5.show()"
   ]
  },
  {
   "cell_type": "code",
   "execution_count": 74,
   "metadata": {},
   "outputs": [
    {
     "data": {
      "application/vnd.plotly.v1+json": {
       "config": {
        "plotlyServerURL": "https://plot.ly"
       },
       "data": [
        {
         "mode": "lines",
         "name": "DISNEY",
         "type": "scatter",
         "x": [
          "2015-02-02",
          "2015-02-09",
          "2015-02-16",
          "2015-02-23",
          "2015-03-02",
          "2015-03-09",
          "2015-03-16",
          "2015-03-23",
          "2015-03-30",
          "2015-04-06",
          "2015-04-13",
          "2015-04-20",
          "2015-04-27",
          "2015-05-04",
          "2015-05-11",
          "2015-05-18",
          "2015-05-25",
          "2015-06-01",
          "2015-06-08",
          "2015-06-15",
          "2015-06-22",
          "2015-06-29",
          "2015-07-06",
          "2015-07-13",
          "2015-07-20",
          "2015-07-27",
          "2015-08-03",
          "2015-08-10",
          "2015-08-17",
          "2015-08-24",
          "2015-08-31",
          "2015-09-07",
          "2015-09-14",
          "2015-09-21",
          "2015-09-28",
          "2015-10-05",
          "2015-10-12",
          "2015-10-19",
          "2015-10-26",
          "2015-11-02",
          "2015-11-09",
          "2015-11-16",
          "2015-11-23",
          "2015-11-30",
          "2015-12-07",
          "2015-12-14",
          "2015-12-21",
          "2015-12-28",
          "2016-01-04",
          "2016-01-11",
          "2016-01-18",
          "2016-01-25",
          "2016-02-01",
          "2016-02-08",
          "2016-02-15",
          "2016-02-22",
          "2016-02-29",
          "2016-03-07",
          "2016-03-14",
          "2016-03-21",
          "2016-03-28",
          "2016-04-04",
          "2016-04-11",
          "2016-04-18",
          "2016-04-25",
          "2016-05-02",
          "2016-05-09",
          "2016-05-16",
          "2016-05-23",
          "2016-05-30",
          "2016-06-06",
          "2016-06-13",
          "2016-06-20",
          "2016-06-27",
          "2016-07-04",
          "2016-07-11",
          "2016-07-18",
          "2016-07-25",
          "2016-08-01",
          "2016-08-08",
          "2016-08-15",
          "2016-08-22",
          "2016-08-29",
          "2016-09-05",
          "2016-09-12",
          "2016-09-19",
          "2016-09-26",
          "2016-10-03",
          "2016-10-10",
          "2016-10-17",
          "2016-10-24",
          "2016-10-31",
          "2016-11-07",
          "2016-11-14",
          "2016-11-21",
          "2016-11-28",
          "2016-12-05",
          "2016-12-12",
          "2016-12-19",
          "2016-12-26",
          "2017-01-02",
          "2017-01-09",
          "2017-01-16",
          "2017-01-23",
          "2017-01-30",
          "2017-02-06",
          "2017-02-13",
          "2017-02-20",
          "2017-02-27",
          "2017-03-06",
          "2017-03-13",
          "2017-03-20",
          "2017-03-27",
          "2017-04-03",
          "2017-04-10",
          "2017-04-17",
          "2017-04-24",
          "2017-05-01",
          "2017-05-08",
          "2017-05-15",
          "2017-05-22",
          "2017-05-29",
          "2017-06-05",
          "2017-06-12",
          "2017-06-19",
          "2017-06-26",
          "2017-07-03",
          "2017-07-10",
          "2017-07-17",
          "2017-07-24",
          "2017-07-31",
          "2017-08-07",
          "2017-08-14",
          "2017-08-21",
          "2017-08-28",
          "2017-09-04",
          "2017-09-11",
          "2017-09-18",
          "2017-09-25",
          "2017-10-02",
          "2017-10-09",
          "2017-10-16",
          "2017-10-23",
          "2017-10-30",
          "2017-11-06",
          "2017-11-13",
          "2017-11-20",
          "2017-11-27",
          "2017-12-04",
          "2017-12-11",
          "2017-12-18",
          "2017-12-25",
          "2018-01-01",
          "2018-01-08",
          "2018-01-15",
          "2018-01-22",
          "2018-01-29",
          "2018-02-05",
          "2018-02-12",
          "2018-02-19",
          "2018-02-26",
          "2018-03-05",
          "2018-03-12",
          "2018-03-19",
          "2018-03-26",
          "2018-04-02",
          "2018-04-09",
          "2018-04-16",
          "2018-04-23",
          "2018-04-30",
          "2018-05-07",
          "2018-05-14",
          "2018-05-21",
          "2018-05-28",
          "2018-06-04",
          "2018-06-11",
          "2018-06-18",
          "2018-06-25",
          "2018-07-02",
          "2018-07-09",
          "2018-07-16",
          "2018-07-23",
          "2018-07-30",
          "2018-08-06",
          "2018-08-13",
          "2018-08-20",
          "2018-08-27",
          "2018-09-03",
          "2018-09-10",
          "2018-09-17",
          "2018-09-24",
          "2018-10-01",
          "2018-10-08",
          "2018-10-15",
          "2018-10-22",
          "2018-10-29",
          "2018-11-05",
          "2018-11-12",
          "2018-11-19",
          "2018-11-26",
          "2018-12-03",
          "2018-12-10",
          "2018-12-17",
          "2018-12-24",
          "2018-12-31",
          "2019-01-07",
          "2019-01-14",
          "2019-01-21",
          "2019-01-28",
          "2019-02-04",
          "2019-02-11",
          "2019-02-18",
          "2019-02-25",
          "2019-03-04",
          "2019-03-11",
          "2019-03-18",
          "2019-03-25",
          "2019-04-01",
          "2019-04-08",
          "2019-04-15",
          "2019-04-22",
          "2019-04-29",
          "2019-05-06",
          "2019-05-13",
          "2019-05-20",
          "2019-05-27",
          "2019-06-03",
          "2019-06-10",
          "2019-06-17",
          "2019-06-24",
          "2019-07-01",
          "2019-07-08",
          "2019-07-15",
          "2019-07-22",
          "2019-07-29",
          "2019-08-05",
          "2019-08-12",
          "2019-08-19",
          "2019-08-26",
          "2019-09-02",
          "2019-09-09",
          "2019-09-16",
          "2019-09-23",
          "2019-09-30",
          "2019-10-07",
          "2019-10-14",
          "2019-10-21",
          "2019-10-28",
          "2019-11-04",
          "2019-11-11",
          "2019-11-18",
          "2019-11-25",
          "2019-12-02",
          "2019-12-09",
          "2019-12-16",
          "2019-12-23",
          "2019-12-30",
          "2020-01-06",
          "2020-01-13",
          "2020-01-20",
          "2020-01-27",
          "2020-02-03",
          "2020-02-10",
          "2020-02-17",
          "2020-02-24",
          "2020-03-02",
          "2020-03-09",
          "2020-03-16",
          "2020-03-23",
          "2020-03-30",
          "2020-04-06",
          "2020-04-13",
          "2020-04-20",
          "2020-04-27",
          "2020-05-04",
          "2020-05-11",
          "2020-05-18",
          "2020-05-25",
          "2020-06-01",
          "2020-06-08",
          "2020-06-15",
          "2020-06-22",
          "2020-06-29",
          "2020-07-06",
          "2020-07-13",
          "2020-07-20",
          "2020-07-27",
          "2020-08-03",
          "2020-08-10",
          "2020-08-17",
          "2020-08-24",
          "2020-08-31",
          "2020-09-07",
          "2020-09-14",
          "2020-09-21",
          "2020-09-28",
          "2020-10-05",
          "2020-10-12",
          "2020-10-19",
          "2020-10-26",
          "2020-11-02",
          "2020-11-09",
          "2020-11-16",
          "2020-11-23",
          "2020-11-30",
          "2020-12-07",
          "2020-12-14",
          "2020-12-21",
          "2020-12-28",
          "2021-01-04",
          "2021-01-11",
          "2021-01-18",
          "2021-01-25",
          "2021-02-01",
          "2021-02-08",
          "2021-02-15",
          "2021-02-22",
          "2021-03-01",
          "2021-03-08",
          "2021-03-15",
          "2021-03-22",
          "2021-03-29",
          "2021-04-05",
          "2021-04-12",
          "2021-04-19",
          "2021-04-26",
          "2021-05-03",
          "2021-05-10",
          "2021-05-17",
          "2021-05-24",
          "2021-05-31",
          "2021-06-07",
          "2021-06-14",
          "2021-06-21",
          "2021-06-28",
          "2021-07-05",
          "2021-07-12",
          "2021-07-19",
          "2021-07-26",
          "2021-08-02",
          "2021-08-09",
          "2021-08-16",
          "2021-08-23",
          "2021-08-30",
          "2021-09-06",
          "2021-09-13",
          "2021-09-20",
          "2021-09-27",
          "2021-10-04",
          "2021-10-11",
          "2021-10-18",
          "2021-10-25",
          "2021-11-01",
          "2021-11-08",
          "2021-11-15",
          "2021-11-22",
          "2021-11-29",
          "2021-12-06",
          "2021-12-13",
          "2021-12-20",
          "2021-12-27",
          "2022-01-03",
          "2022-01-10",
          "2022-01-17",
          "2022-01-24",
          "2022-01-31",
          "2022-02-07",
          "2022-02-14",
          "2022-02-21",
          "2022-02-28",
          "2022-03-07",
          "2022-03-14",
          "2022-03-21",
          "2022-03-28",
          "2022-04-04",
          "2022-04-11",
          "2022-04-18",
          "2022-04-25",
          "2022-05-02",
          "2022-05-09",
          "2022-05-16",
          "2022-05-23",
          "2022-05-30",
          "2022-06-06",
          "2022-06-13",
          "2022-06-20",
          "2022-06-27",
          "2022-07-04",
          "2022-07-11",
          "2022-07-18",
          "2022-07-25",
          "2022-08-01",
          "2022-08-08",
          "2022-08-15",
          "2022-08-22",
          "2022-08-29",
          "2022-09-05",
          "2022-09-12",
          "2022-09-19",
          "2022-09-26",
          "2022-10-03",
          "2022-10-10",
          "2022-10-17",
          "2022-10-24",
          "2022-10-31",
          "2022-11-07",
          "2022-11-14",
          "2022-11-21",
          "2022-11-28",
          "2022-12-05",
          "2022-12-12",
          "2022-12-19",
          "2022-12-26",
          "2023-01-02",
          "2023-01-09",
          "2023-01-16",
          "2023-01-23",
          "2023-01-30",
          "2023-02-06",
          "2023-02-13",
          "2023-02-20",
          "2023-02-27",
          "2023-03-06",
          "2023-03-13",
          "2023-03-20",
          "2023-03-27",
          "2023-04-03",
          "2023-04-10",
          "2023-04-17",
          "2023-04-24",
          "2023-05-01",
          "2023-05-08",
          "2023-05-15",
          "2023-05-22",
          "2023-05-29",
          "2023-06-05",
          "2023-06-12",
          "2023-06-19",
          "2023-06-26",
          "2023-07-03",
          "2023-07-10",
          "2023-07-17",
          "2023-07-24",
          "2023-07-31",
          "2023-08-07",
          "2023-08-14",
          "2023-08-21",
          "2023-08-28",
          "2023-09-04",
          "2023-09-11",
          "2023-09-18",
          "2023-09-25",
          "2023-10-02",
          "2023-10-09",
          "2023-10-16",
          "2023-10-23",
          "2023-10-30",
          "2023-11-06",
          "2023-11-13",
          "2023-11-20",
          "2023-11-27",
          "2023-12-04",
          "2023-12-11",
          "2023-12-18",
          "2023-12-25",
          "2024-01-01",
          "2024-01-08",
          "2024-01-15",
          "2024-01-22",
          "2024-01-29",
          "2024-02-05",
          "2024-02-12",
          "2024-02-19",
          "2024-02-26",
          "2024-03-04",
          "2024-03-11",
          "2024-03-18",
          "2024-03-25",
          "2024-04-01",
          "2024-04-08",
          "2024-04-15",
          "2024-04-22",
          "2024-04-29",
          "2024-05-06",
          "2024-05-13",
          "2024-05-20",
          "2024-05-27",
          "2024-06-03",
          "2024-06-10",
          "2024-06-17",
          "2024-06-24",
          "2024-07-01",
          "2024-07-08",
          "2024-07-15",
          "2024-07-22",
          "2024-07-29",
          "2024-08-05",
          "2024-08-12",
          "2024-08-19",
          "2024-08-26",
          "2024-09-02",
          "2024-09-09",
          "2024-09-16",
          "2024-09-23",
          "2024-09-30",
          "2024-10-07",
          "2024-10-14",
          "2024-10-21",
          "2024-10-28",
          "2024-11-04",
          "2024-11-11",
          "2024-11-18",
          "2024-11-25",
          "2024-12-02",
          "2024-12-09",
          "2024-12-16",
          "2024-12-23",
          "2024-12-30",
          "2025-01-06",
          "2025-01-13",
          "2025-01-20",
          "2025-01-27",
          "2025-02-03"
         ],
         "xaxis": "x",
         "y": {
          "bdata": "AAAAAB57V0AAAABAzPlXQAAAAMAvEFhA////v370V0AAAADgLOVXQAAAAICMf1hAAAAA4Mz0WEAAAAAA/EZYQAAAAGCfZVhAAAAAIJmdWEAAAAAgR45YQP////+cNVlA////3/FvWUAAAACAyVdZQAAAAKD7YllAAAAAQKBgWUAAAABgG2dZQAAAAKD7YllA////H1xOWUABAAAgrutZQAAAAGBSd1pAAAAA4CR2WkAAAAAgqfRaQAAAAKAThFtAAAAAoAqHW0AAAACAo8dbQP///z97UFlAAAAAgLHOWEAAAACgnuFWQAEAAABXuVdAAAAAANpfV0AAAAAA3i9YQAEAAMCszldA/////yQ4V0AAAAAAKNhXQAEAAADfb1hAAAAA4LIOWUAAAABAIC5aQP///9+lVFpA////vwbHWkAAAACA1pVaQAAAAGDJy1tAAQAAIAanWkAAAACgR3JaQAAAAIDYAllAAAAAoM0YWUD////f3alYQAAAAEBYe1hAAAAAIJ8fV0AAAABgh+BVQAAAAMB1k1ZAAAAAYAtTVkAAAABgh+BVQAAAAICCPFVAAAAAoLsiVkAAAABgoDRWQAEAACCy8VZAAAAAYH3RVkAAAAAApBxXQAAAAICLplZAAAAA4OIUV0AAAACA1HZWQP///99B+FZAAAAAADYtWEABAAAAyw5YQAEAAODHllhAAAAAoF5rV0AAAADAOz9XQAAAAOCmXVdAAAAA4MwBV0AAAAAAtK1WQAAAAEC2EFdAAAAAoBRNVkAAAABg29ZWQAAAAKCwNVdAAAAAgKprV0AAAAAgG+5WQAAAAIBehFZAAAAAQCl9VkAAAACg1rlWQAAAAIDNnlZAAAAAwOlXVkAAAADAcyhWQAAAAIBMsFVAAAAAoLW4VUAAAAAgXeNVQAAAAKC7ylVAAAAAIIG0VUAAAABgA21VQAAAAADy1FVAAAAAYDUGVkAAAAAAGrJVQAAAAIBN7FZAAAAAYPINV0AAAABAyjBXQP////+QHVdAAAAAgKebWEABAABAsZJYQP///7/C3VhAAAAAYHWlWEAAAAAgocVZQAAAAEDujVlAAAAAYLd1WUAAAABAANlZQAAAAGCKFVpAAAAAQJTWWUABAAAAAwdaQAAAAGDAFlpA////v3JOWkD///8/EztaQP///9/tbVpAAAAAIO+EWkABAADgm9BaQAAAAICSn1pAAQAAABvFWkAAAADgLBBbQAAAAOBmVltAAAAAYNp7WkAAAACgnPBZQAEAAEA9bVlAAAAAIB+jWUAAAABAqFhZQAEAAAA3+lhAAAAAQI7zWED///8/761YQAAAAOBaIFlAAAAAIPluWEAAAADgdAlZQAAAAEBwg1lA////v3oyWkAAAABACKhZQAAAAIBjTFhA////37X9V0ABAABAAWZYQAAAAKCALlhA/////1AgV0AAAABgwHhXQAAAAKChfVdAAAAAIM17V0AAAABgSddXQAAAACA5M1dAAAAAgGyuV0AAAACg8WtXQAAAAAASgFdAAAAA4Iz2WEABAAAA06RYQAEAAOAHdFhA////PzcTWUAAAABgAdVYQAAAAAD4uFpAAAAAoB4ZWkAAAAAgzdFZQAEAAMB8zlpAAQAAAL8CW0AAAACAKY9aQP///x+I8VpAAAAAgPYaWkAAAABgDsJYQAAAAOCMlVlA/////9DBWUAAAACA6LtYQAAAAIDiJllAAQAA4Ie0WEAAAACAUapXQAAAAAAiH1hAAAAAYJkZWEAAAABgmRlYQP///9/VElhAAAAAgL3UV0AAAACgyEpYQAAAAKBYg1hA////P7P1WEAAAACAVotYQAAAAIC73FdAAAAAQMb4WEAAAACALyRaQAAAAEDeiVlAAAAAwM0rWUABAABA9SlZQAAAAEBAoVpAAAAAYPn8WkD///8foENbQAAAAIC6nltAAQAA4FdHW0ABAAAA8zpbQAEAAMDcGFtAAAAA4HAeW0D////fXd1aQAAAAKBjc1pAAAAAgAq6WkAAAACAW09cQAAAAKB9yVtAAAAAYAFDW0AAAAAA1MhcQAAAAIDzZltAAAAAAEjiW0D/////DJFcQAAAAGDgIFxAAAAAoCgiW0AAAABgfvVbQAEAACD2G1tAAAAAYIhfW0ABAAAAI21ZQP///x+ALVpA////38W9WkAAAABgo3tbQAAAAMAVF1tA/////zQaW0D///+/UidbQAAAAGBwNFtA////H+R3W0D////fBR5cQP///x+U0FtAAQAAIBbEW0AAAAAg6QtcQAAAAICVZ1pAAAAAwHUWW0ABAADAaA5cQP///9/9ul9AAAAAgCEoYEAAAAAgZxFhQAAAAODWYmBAAAAAYMhZYEAAAADAAnlgQAAAAKC/MmBAAAAA4FMbYEAAAADAsdZgQAAAAGBtR2FAAAAAYBUbYUAAAADAqAhhQAAAAMBoYGFAAAAAwE/IYUAAAABAQyphQAAAAIAVwWFAAAAAwLRkYUAAAADgeABhQAAAAGAnmGBAAAAAgDwpYEAAAACA4dhgQAAAAADWIGFAAAAAAMPwYEAAAADgFjxgQP///z8D519AAAAAoH76X0ABAADAyOpfQAAAAGC6EGBAAAAAwAoRYEAAAADgK0tgQAAAAGDg7mBAAAAAgLbBYUAAAABAdTNiQAAAAIDVmmJAAAAAoKkfYkAAAACAcfdhQAAAAADOImJAAAAAABb/YUAAAADgyhZiQAAAAABe22FAAAAAQDPSYUAAAAAg3EthQAAAAEDpE2FAAAAAgJJpYUAAAABgyjphQAAAAODFKGFAAAAAoLcNXUAAAABgQXdcQAAAAKA2UVlAAAAAQJI7VUD///8fUM5XQAAAAEAAL1dAAQAAAGPOWUAAAAAgC1VaQP///98h/VhAAAAAIJsNWkAAAADg/PRaQAAAAKAI7lpAAAAAoBslXUD///8/l/dcQAAAAGD/0l5A////3ymFXED///8fGD1cQAAAAMAx8VpAAAAAoOizW0AAAACgjnhdQAAAAKDvTF1AAAAAQDALXUAAAADg1OBcQAAAAOAFC2BAAAAAIP0dYEAAAACgoXhfQAAAAEBavGBAAAAAoCNMYEAAAABgjURgQAAAAKDcw19AAAAAgCifXkAAAACAfUNeQAAAAOAc3V5AAAAAoM1QX0AAAAAgKbJfQAAAAEBO8V1AAQAAQOV5X0AAAADAfRVhQAAAAEAna2FAAAAAILUqYkAAAAAgSghjQAAAAEBssmVAAAAAwPdYZUAAAAAAhXNlQAAAAKACX2ZAAAAAoE0QZkAAAABAIitlQAAAAKB9VWVAAAAAQMXDZEAAAADgYF5mQP///x8oLGdAAAAAABatZkAAAAAAdldnQAAAAIB9dWdAAAAAgCFYaED///8/15lnQAAAAODW9GZAAAAAoD9VZ0AAAABAHDNnQAEAACAyH2dA////HyyZZkD///8fAPhmQAAAAICz0mZAAAAAQJJyZUAAAACgekllQAAAAMAJD2ZAAAAAoJLgZUAAAAAA5eZlQAAAAGAcSmVAAAAAYI4FZkAAAAAgXN5lQAAAAKAl3GVAAAAAoOYjZkAAAADgsr9lQAAAAODnu2VAAAAAAP7eZUAAAACA2VtmQAAAAAB1n2VAAAAAACM+ZkAAAAAgUllmQAEAAEDxu2ZAAAAAgGWnZkAAAAAARrtlQAAAAOCWu2VAAAAAIKrSZUAAAABA0MllQAAAAGBI62RAAAAAQDjgZEAAAADgk69lQAAAAIDTtWNAAAAAQN0DY0AAAABAr0liQAAAAEDxDWJAAAAAgBbbYkAAAADgOl5iQAAAACAr+GJAAAAAIP8fY0AAAACg7XxjQAAAAKC/wmJAAAAAoIP2YEAAAADABh5hQAAAAMAuiWFAAAAAQKx0YkAAAABAarBiQAAAAMCRdmJAAAAAABdgYUAAAABgjURgQAAAAGDQUmFAAAAAoCUuYUAAAACAgOpgQAAAAIBYSGBAAAAAwBccYEAAAACg6TRdQAAAAGAjkVtAAQAAwGw8W0D///8fTIFaQAAAAEDkSllAAAAAQBr/WkAAAACgAtZaQAAAAGD4i1hA/////xRMV0ABAAAgjiVYQAAAAEDgvVdAAQAAwCysV0D///8/c4JXQAAAAIDbXVlAAAAAgIkzWkAAAAAgC1VaQAAAACCJBV5AAAAAACKrXUAAAACgZCtcQAAAAED0dVtA/////5BxXEAAAABgdbtaQAAAAOBKklhA////P3NLV0AAAAAAXP5XQAAAACAJU1dAAAAAYN4yWUD////fDSpaQAAAAKBZl1hAAAAAYHB2V0AAAACAgatWQAAAAOB2alhA////392NWEAAAABAZA9XQAAAAODEPlZAAAAA4Oe7VUAAAADAd3RVQAAAAKCHMVdAAAAAYPiLWEAAAABg541ZQP///78CDVtAAQAAIPpWW0AAAABgcq9aQAAAAKDn+1lAAAAAAN7EWEAAAACg+PlYQP///z9nG1dAAAAAIAMEV0AAAAAgpTtXQP///78eulhAAQAAQAGwWEAAAABglKtYQAAAAMC3llhAAQAAAPNPWUAAAACAxtJYQAAAAGCEt1ZAAAAAgA6PVkAAAABgm81VQAAAAOBjalZAAAAAYLmzVkAAAAAgKY1WQAAAAGCYwVVAAAAAgDEMVkAAAADAu+NVQAAAAEB44lVAAAAAAG+HVUAAAACgDUVVQAAAACDNT1VAAAAAoMH7VUAAAACATjpVQAAAAODvlVRAAAAAQDMpVEAAAABAaCVUQAAAAKBIIlVAAAAAoIsQVEAAAADA5gNUQAAAAKBie1RAAAAAIIbUVEAAAABADWlUQAAAACAql1NAAAAAoAoCVUAAAACAV8xVQAAAAAASQFdAAAAAgNG4V0D/////0NxWQAEAAED961ZAAAAAgLQnV0D///+/8oxWQAAAAOClXlZAAAAAYFaFVkAAAAAAdGJWQAAAAMBVDldAAAAAoDagV0AAAACgeRBYQAAAAECk2lpAAAAAYDymW0AAAABAarFaQP///z9vvFtAAQAAQA1VW0D///8/b7xbQAAAAKAPtVxAAAAAgLBQXkD////fQVRdQAAAACAXP1xAAAAAoEvmW0AAAAAA6O1bQAAAAGDkKFxAAAAAgLw1WkABAAAAo5RZQAEAACAiNllA////P3++WUABAAAgLihZQAAAAECaxFhA////v3pWWUABAABAeZlYQAAAAGAFR1hAAAAAoHkQWEAAAABAVNRXQAAAACAhYlZAAAAA4DBLVkAAAACAGXVVQAAAAMD8OVZAAAAAgEWKVkAAAABgzX5WQAAAAOBU41VAAAAAgKKJVkABAADgh1VXQAAAAGCI5VdAAAAAYLyuV0AAAABgvm1XQAAAAEB0NlhAAAAA4BanV0AAAAAAythXQAAAAKBSpVhA/////6CkXEAAAACg8shcQAAAAADqPF1AAAAAYMMNXUAAAACAwjVcQAEAACBK4ltA////PzPjW0AAAACAPcpbQAAAAKCZKVtAAAAAoEfBWkAAAACAPQpcQAEAAADXQ1xAAAAAgMIFXEA=",
          "dtype": "f8"
         },
         "yaxis": "y"
        },
        {
         "mode": "lines",
         "name": "Aroon Down",
         "type": "scatter",
         "x": [
          "2015-02-02",
          "2015-02-09",
          "2015-02-16",
          "2015-02-23",
          "2015-03-02",
          "2015-03-09",
          "2015-03-16",
          "2015-03-23",
          "2015-03-30",
          "2015-04-06",
          "2015-04-13",
          "2015-04-20",
          "2015-04-27",
          "2015-05-04",
          "2015-05-11",
          "2015-05-18",
          "2015-05-25",
          "2015-06-01",
          "2015-06-08",
          "2015-06-15",
          "2015-06-22",
          "2015-06-29",
          "2015-07-06",
          "2015-07-13",
          "2015-07-20",
          "2015-07-27",
          "2015-08-03",
          "2015-08-10",
          "2015-08-17",
          "2015-08-24",
          "2015-08-31",
          "2015-09-07",
          "2015-09-14",
          "2015-09-21",
          "2015-09-28",
          "2015-10-05",
          "2015-10-12",
          "2015-10-19",
          "2015-10-26",
          "2015-11-02",
          "2015-11-09",
          "2015-11-16",
          "2015-11-23",
          "2015-11-30",
          "2015-12-07",
          "2015-12-14",
          "2015-12-21",
          "2015-12-28",
          "2016-01-04",
          "2016-01-11",
          "2016-01-18",
          "2016-01-25",
          "2016-02-01",
          "2016-02-08",
          "2016-02-15",
          "2016-02-22",
          "2016-02-29",
          "2016-03-07",
          "2016-03-14",
          "2016-03-21",
          "2016-03-28",
          "2016-04-04",
          "2016-04-11",
          "2016-04-18",
          "2016-04-25",
          "2016-05-02",
          "2016-05-09",
          "2016-05-16",
          "2016-05-23",
          "2016-05-30",
          "2016-06-06",
          "2016-06-13",
          "2016-06-20",
          "2016-06-27",
          "2016-07-04",
          "2016-07-11",
          "2016-07-18",
          "2016-07-25",
          "2016-08-01",
          "2016-08-08",
          "2016-08-15",
          "2016-08-22",
          "2016-08-29",
          "2016-09-05",
          "2016-09-12",
          "2016-09-19",
          "2016-09-26",
          "2016-10-03",
          "2016-10-10",
          "2016-10-17",
          "2016-10-24",
          "2016-10-31",
          "2016-11-07",
          "2016-11-14",
          "2016-11-21",
          "2016-11-28",
          "2016-12-05",
          "2016-12-12",
          "2016-12-19",
          "2016-12-26",
          "2017-01-02",
          "2017-01-09",
          "2017-01-16",
          "2017-01-23",
          "2017-01-30",
          "2017-02-06",
          "2017-02-13",
          "2017-02-20",
          "2017-02-27",
          "2017-03-06",
          "2017-03-13",
          "2017-03-20",
          "2017-03-27",
          "2017-04-03",
          "2017-04-10",
          "2017-04-17",
          "2017-04-24",
          "2017-05-01",
          "2017-05-08",
          "2017-05-15",
          "2017-05-22",
          "2017-05-29",
          "2017-06-05",
          "2017-06-12",
          "2017-06-19",
          "2017-06-26",
          "2017-07-03",
          "2017-07-10",
          "2017-07-17",
          "2017-07-24",
          "2017-07-31",
          "2017-08-07",
          "2017-08-14",
          "2017-08-21",
          "2017-08-28",
          "2017-09-04",
          "2017-09-11",
          "2017-09-18",
          "2017-09-25",
          "2017-10-02",
          "2017-10-09",
          "2017-10-16",
          "2017-10-23",
          "2017-10-30",
          "2017-11-06",
          "2017-11-13",
          "2017-11-20",
          "2017-11-27",
          "2017-12-04",
          "2017-12-11",
          "2017-12-18",
          "2017-12-25",
          "2018-01-01",
          "2018-01-08",
          "2018-01-15",
          "2018-01-22",
          "2018-01-29",
          "2018-02-05",
          "2018-02-12",
          "2018-02-19",
          "2018-02-26",
          "2018-03-05",
          "2018-03-12",
          "2018-03-19",
          "2018-03-26",
          "2018-04-02",
          "2018-04-09",
          "2018-04-16",
          "2018-04-23",
          "2018-04-30",
          "2018-05-07",
          "2018-05-14",
          "2018-05-21",
          "2018-05-28",
          "2018-06-04",
          "2018-06-11",
          "2018-06-18",
          "2018-06-25",
          "2018-07-02",
          "2018-07-09",
          "2018-07-16",
          "2018-07-23",
          "2018-07-30",
          "2018-08-06",
          "2018-08-13",
          "2018-08-20",
          "2018-08-27",
          "2018-09-03",
          "2018-09-10",
          "2018-09-17",
          "2018-09-24",
          "2018-10-01",
          "2018-10-08",
          "2018-10-15",
          "2018-10-22",
          "2018-10-29",
          "2018-11-05",
          "2018-11-12",
          "2018-11-19",
          "2018-11-26",
          "2018-12-03",
          "2018-12-10",
          "2018-12-17",
          "2018-12-24",
          "2018-12-31",
          "2019-01-07",
          "2019-01-14",
          "2019-01-21",
          "2019-01-28",
          "2019-02-04",
          "2019-02-11",
          "2019-02-18",
          "2019-02-25",
          "2019-03-04",
          "2019-03-11",
          "2019-03-18",
          "2019-03-25",
          "2019-04-01",
          "2019-04-08",
          "2019-04-15",
          "2019-04-22",
          "2019-04-29",
          "2019-05-06",
          "2019-05-13",
          "2019-05-20",
          "2019-05-27",
          "2019-06-03",
          "2019-06-10",
          "2019-06-17",
          "2019-06-24",
          "2019-07-01",
          "2019-07-08",
          "2019-07-15",
          "2019-07-22",
          "2019-07-29",
          "2019-08-05",
          "2019-08-12",
          "2019-08-19",
          "2019-08-26",
          "2019-09-02",
          "2019-09-09",
          "2019-09-16",
          "2019-09-23",
          "2019-09-30",
          "2019-10-07",
          "2019-10-14",
          "2019-10-21",
          "2019-10-28",
          "2019-11-04",
          "2019-11-11",
          "2019-11-18",
          "2019-11-25",
          "2019-12-02",
          "2019-12-09",
          "2019-12-16",
          "2019-12-23",
          "2019-12-30",
          "2020-01-06",
          "2020-01-13",
          "2020-01-20",
          "2020-01-27",
          "2020-02-03",
          "2020-02-10",
          "2020-02-17",
          "2020-02-24",
          "2020-03-02",
          "2020-03-09",
          "2020-03-16",
          "2020-03-23",
          "2020-03-30",
          "2020-04-06",
          "2020-04-13",
          "2020-04-20",
          "2020-04-27",
          "2020-05-04",
          "2020-05-11",
          "2020-05-18",
          "2020-05-25",
          "2020-06-01",
          "2020-06-08",
          "2020-06-15",
          "2020-06-22",
          "2020-06-29",
          "2020-07-06",
          "2020-07-13",
          "2020-07-20",
          "2020-07-27",
          "2020-08-03",
          "2020-08-10",
          "2020-08-17",
          "2020-08-24",
          "2020-08-31",
          "2020-09-07",
          "2020-09-14",
          "2020-09-21",
          "2020-09-28",
          "2020-10-05",
          "2020-10-12",
          "2020-10-19",
          "2020-10-26",
          "2020-11-02",
          "2020-11-09",
          "2020-11-16",
          "2020-11-23",
          "2020-11-30",
          "2020-12-07",
          "2020-12-14",
          "2020-12-21",
          "2020-12-28",
          "2021-01-04",
          "2021-01-11",
          "2021-01-18",
          "2021-01-25",
          "2021-02-01",
          "2021-02-08",
          "2021-02-15",
          "2021-02-22",
          "2021-03-01",
          "2021-03-08",
          "2021-03-15",
          "2021-03-22",
          "2021-03-29",
          "2021-04-05",
          "2021-04-12",
          "2021-04-19",
          "2021-04-26",
          "2021-05-03",
          "2021-05-10",
          "2021-05-17",
          "2021-05-24",
          "2021-05-31",
          "2021-06-07",
          "2021-06-14",
          "2021-06-21",
          "2021-06-28",
          "2021-07-05",
          "2021-07-12",
          "2021-07-19",
          "2021-07-26",
          "2021-08-02",
          "2021-08-09",
          "2021-08-16",
          "2021-08-23",
          "2021-08-30",
          "2021-09-06",
          "2021-09-13",
          "2021-09-20",
          "2021-09-27",
          "2021-10-04",
          "2021-10-11",
          "2021-10-18",
          "2021-10-25",
          "2021-11-01",
          "2021-11-08",
          "2021-11-15",
          "2021-11-22",
          "2021-11-29",
          "2021-12-06",
          "2021-12-13",
          "2021-12-20",
          "2021-12-27",
          "2022-01-03",
          "2022-01-10",
          "2022-01-17",
          "2022-01-24",
          "2022-01-31",
          "2022-02-07",
          "2022-02-14",
          "2022-02-21",
          "2022-02-28",
          "2022-03-07",
          "2022-03-14",
          "2022-03-21",
          "2022-03-28",
          "2022-04-04",
          "2022-04-11",
          "2022-04-18",
          "2022-04-25",
          "2022-05-02",
          "2022-05-09",
          "2022-05-16",
          "2022-05-23",
          "2022-05-30",
          "2022-06-06",
          "2022-06-13",
          "2022-06-20",
          "2022-06-27",
          "2022-07-04",
          "2022-07-11",
          "2022-07-18",
          "2022-07-25",
          "2022-08-01",
          "2022-08-08",
          "2022-08-15",
          "2022-08-22",
          "2022-08-29",
          "2022-09-05",
          "2022-09-12",
          "2022-09-19",
          "2022-09-26",
          "2022-10-03",
          "2022-10-10",
          "2022-10-17",
          "2022-10-24",
          "2022-10-31",
          "2022-11-07",
          "2022-11-14",
          "2022-11-21",
          "2022-11-28",
          "2022-12-05",
          "2022-12-12",
          "2022-12-19",
          "2022-12-26",
          "2023-01-02",
          "2023-01-09",
          "2023-01-16",
          "2023-01-23",
          "2023-01-30",
          "2023-02-06",
          "2023-02-13",
          "2023-02-20",
          "2023-02-27",
          "2023-03-06",
          "2023-03-13",
          "2023-03-20",
          "2023-03-27",
          "2023-04-03",
          "2023-04-10",
          "2023-04-17",
          "2023-04-24",
          "2023-05-01",
          "2023-05-08",
          "2023-05-15",
          "2023-05-22",
          "2023-05-29",
          "2023-06-05",
          "2023-06-12",
          "2023-06-19",
          "2023-06-26",
          "2023-07-03",
          "2023-07-10",
          "2023-07-17",
          "2023-07-24",
          "2023-07-31",
          "2023-08-07",
          "2023-08-14",
          "2023-08-21",
          "2023-08-28",
          "2023-09-04",
          "2023-09-11",
          "2023-09-18",
          "2023-09-25",
          "2023-10-02",
          "2023-10-09",
          "2023-10-16",
          "2023-10-23",
          "2023-10-30",
          "2023-11-06",
          "2023-11-13",
          "2023-11-20",
          "2023-11-27",
          "2023-12-04",
          "2023-12-11",
          "2023-12-18",
          "2023-12-25",
          "2024-01-01",
          "2024-01-08",
          "2024-01-15",
          "2024-01-22",
          "2024-01-29",
          "2024-02-05",
          "2024-02-12",
          "2024-02-19",
          "2024-02-26",
          "2024-03-04",
          "2024-03-11",
          "2024-03-18",
          "2024-03-25",
          "2024-04-01",
          "2024-04-08",
          "2024-04-15",
          "2024-04-22",
          "2024-04-29",
          "2024-05-06",
          "2024-05-13",
          "2024-05-20",
          "2024-05-27",
          "2024-06-03",
          "2024-06-10",
          "2024-06-17",
          "2024-06-24",
          "2024-07-01",
          "2024-07-08",
          "2024-07-15",
          "2024-07-22",
          "2024-07-29",
          "2024-08-05",
          "2024-08-12",
          "2024-08-19",
          "2024-08-26",
          "2024-09-02",
          "2024-09-09",
          "2024-09-16",
          "2024-09-23",
          "2024-09-30",
          "2024-10-07",
          "2024-10-14",
          "2024-10-21",
          "2024-10-28",
          "2024-11-04",
          "2024-11-11",
          "2024-11-18",
          "2024-11-25",
          "2024-12-02",
          "2024-12-09",
          "2024-12-16",
          "2024-12-23",
          "2024-12-30",
          "2025-01-06",
          "2025-01-13",
          "2025-01-20",
          "2025-01-27",
          "2025-02-03"
         ],
         "xaxis": "x2",
         "y": {
          "bdata": "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",
          "dtype": "f8"
         },
         "yaxis": "y2"
        },
        {
         "mode": "lines",
         "name": "Aroon Up",
         "type": "scatter",
         "x": [
          "2015-02-02",
          "2015-02-09",
          "2015-02-16",
          "2015-02-23",
          "2015-03-02",
          "2015-03-09",
          "2015-03-16",
          "2015-03-23",
          "2015-03-30",
          "2015-04-06",
          "2015-04-13",
          "2015-04-20",
          "2015-04-27",
          "2015-05-04",
          "2015-05-11",
          "2015-05-18",
          "2015-05-25",
          "2015-06-01",
          "2015-06-08",
          "2015-06-15",
          "2015-06-22",
          "2015-06-29",
          "2015-07-06",
          "2015-07-13",
          "2015-07-20",
          "2015-07-27",
          "2015-08-03",
          "2015-08-10",
          "2015-08-17",
          "2015-08-24",
          "2015-08-31",
          "2015-09-07",
          "2015-09-14",
          "2015-09-21",
          "2015-09-28",
          "2015-10-05",
          "2015-10-12",
          "2015-10-19",
          "2015-10-26",
          "2015-11-02",
          "2015-11-09",
          "2015-11-16",
          "2015-11-23",
          "2015-11-30",
          "2015-12-07",
          "2015-12-14",
          "2015-12-21",
          "2015-12-28",
          "2016-01-04",
          "2016-01-11",
          "2016-01-18",
          "2016-01-25",
          "2016-02-01",
          "2016-02-08",
          "2016-02-15",
          "2016-02-22",
          "2016-02-29",
          "2016-03-07",
          "2016-03-14",
          "2016-03-21",
          "2016-03-28",
          "2016-04-04",
          "2016-04-11",
          "2016-04-18",
          "2016-04-25",
          "2016-05-02",
          "2016-05-09",
          "2016-05-16",
          "2016-05-23",
          "2016-05-30",
          "2016-06-06",
          "2016-06-13",
          "2016-06-20",
          "2016-06-27",
          "2016-07-04",
          "2016-07-11",
          "2016-07-18",
          "2016-07-25",
          "2016-08-01",
          "2016-08-08",
          "2016-08-15",
          "2016-08-22",
          "2016-08-29",
          "2016-09-05",
          "2016-09-12",
          "2016-09-19",
          "2016-09-26",
          "2016-10-03",
          "2016-10-10",
          "2016-10-17",
          "2016-10-24",
          "2016-10-31",
          "2016-11-07",
          "2016-11-14",
          "2016-11-21",
          "2016-11-28",
          "2016-12-05",
          "2016-12-12",
          "2016-12-19",
          "2016-12-26",
          "2017-01-02",
          "2017-01-09",
          "2017-01-16",
          "2017-01-23",
          "2017-01-30",
          "2017-02-06",
          "2017-02-13",
          "2017-02-20",
          "2017-02-27",
          "2017-03-06",
          "2017-03-13",
          "2017-03-20",
          "2017-03-27",
          "2017-04-03",
          "2017-04-10",
          "2017-04-17",
          "2017-04-24",
          "2017-05-01",
          "2017-05-08",
          "2017-05-15",
          "2017-05-22",
          "2017-05-29",
          "2017-06-05",
          "2017-06-12",
          "2017-06-19",
          "2017-06-26",
          "2017-07-03",
          "2017-07-10",
          "2017-07-17",
          "2017-07-24",
          "2017-07-31",
          "2017-08-07",
          "2017-08-14",
          "2017-08-21",
          "2017-08-28",
          "2017-09-04",
          "2017-09-11",
          "2017-09-18",
          "2017-09-25",
          "2017-10-02",
          "2017-10-09",
          "2017-10-16",
          "2017-10-23",
          "2017-10-30",
          "2017-11-06",
          "2017-11-13",
          "2017-11-20",
          "2017-11-27",
          "2017-12-04",
          "2017-12-11",
          "2017-12-18",
          "2017-12-25",
          "2018-01-01",
          "2018-01-08",
          "2018-01-15",
          "2018-01-22",
          "2018-01-29",
          "2018-02-05",
          "2018-02-12",
          "2018-02-19",
          "2018-02-26",
          "2018-03-05",
          "2018-03-12",
          "2018-03-19",
          "2018-03-26",
          "2018-04-02",
          "2018-04-09",
          "2018-04-16",
          "2018-04-23",
          "2018-04-30",
          "2018-05-07",
          "2018-05-14",
          "2018-05-21",
          "2018-05-28",
          "2018-06-04",
          "2018-06-11",
          "2018-06-18",
          "2018-06-25",
          "2018-07-02",
          "2018-07-09",
          "2018-07-16",
          "2018-07-23",
          "2018-07-30",
          "2018-08-06",
          "2018-08-13",
          "2018-08-20",
          "2018-08-27",
          "2018-09-03",
          "2018-09-10",
          "2018-09-17",
          "2018-09-24",
          "2018-10-01",
          "2018-10-08",
          "2018-10-15",
          "2018-10-22",
          "2018-10-29",
          "2018-11-05",
          "2018-11-12",
          "2018-11-19",
          "2018-11-26",
          "2018-12-03",
          "2018-12-10",
          "2018-12-17",
          "2018-12-24",
          "2018-12-31",
          "2019-01-07",
          "2019-01-14",
          "2019-01-21",
          "2019-01-28",
          "2019-02-04",
          "2019-02-11",
          "2019-02-18",
          "2019-02-25",
          "2019-03-04",
          "2019-03-11",
          "2019-03-18",
          "2019-03-25",
          "2019-04-01",
          "2019-04-08",
          "2019-04-15",
          "2019-04-22",
          "2019-04-29",
          "2019-05-06",
          "2019-05-13",
          "2019-05-20",
          "2019-05-27",
          "2019-06-03",
          "2019-06-10",
          "2019-06-17",
          "2019-06-24",
          "2019-07-01",
          "2019-07-08",
          "2019-07-15",
          "2019-07-22",
          "2019-07-29",
          "2019-08-05",
          "2019-08-12",
          "2019-08-19",
          "2019-08-26",
          "2019-09-02",
          "2019-09-09",
          "2019-09-16",
          "2019-09-23",
          "2019-09-30",
          "2019-10-07",
          "2019-10-14",
          "2019-10-21",
          "2019-10-28",
          "2019-11-04",
          "2019-11-11",
          "2019-11-18",
          "2019-11-25",
          "2019-12-02",
          "2019-12-09",
          "2019-12-16",
          "2019-12-23",
          "2019-12-30",
          "2020-01-06",
          "2020-01-13",
          "2020-01-20",
          "2020-01-27",
          "2020-02-03",
          "2020-02-10",
          "2020-02-17",
          "2020-02-24",
          "2020-03-02",
          "2020-03-09",
          "2020-03-16",
          "2020-03-23",
          "2020-03-30",
          "2020-04-06",
          "2020-04-13",
          "2020-04-20",
          "2020-04-27",
          "2020-05-04",
          "2020-05-11",
          "2020-05-18",
          "2020-05-25",
          "2020-06-01",
          "2020-06-08",
          "2020-06-15",
          "2020-06-22",
          "2020-06-29",
          "2020-07-06",
          "2020-07-13",
          "2020-07-20",
          "2020-07-27",
          "2020-08-03",
          "2020-08-10",
          "2020-08-17",
          "2020-08-24",
          "2020-08-31",
          "2020-09-07",
          "2020-09-14",
          "2020-09-21",
          "2020-09-28",
          "2020-10-05",
          "2020-10-12",
          "2020-10-19",
          "2020-10-26",
          "2020-11-02",
          "2020-11-09",
          "2020-11-16",
          "2020-11-23",
          "2020-11-30",
          "2020-12-07",
          "2020-12-14",
          "2020-12-21",
          "2020-12-28",
          "2021-01-04",
          "2021-01-11",
          "2021-01-18",
          "2021-01-25",
          "2021-02-01",
          "2021-02-08",
          "2021-02-15",
          "2021-02-22",
          "2021-03-01",
          "2021-03-08",
          "2021-03-15",
          "2021-03-22",
          "2021-03-29",
          "2021-04-05",
          "2021-04-12",
          "2021-04-19",
          "2021-04-26",
          "2021-05-03",
          "2021-05-10",
          "2021-05-17",
          "2021-05-24",
          "2021-05-31",
          "2021-06-07",
          "2021-06-14",
          "2021-06-21",
          "2021-06-28",
          "2021-07-05",
          "2021-07-12",
          "2021-07-19",
          "2021-07-26",
          "2021-08-02",
          "2021-08-09",
          "2021-08-16",
          "2021-08-23",
          "2021-08-30",
          "2021-09-06",
          "2021-09-13",
          "2021-09-20",
          "2021-09-27",
          "2021-10-04",
          "2021-10-11",
          "2021-10-18",
          "2021-10-25",
          "2021-11-01",
          "2021-11-08",
          "2021-11-15",
          "2021-11-22",
          "2021-11-29",
          "2021-12-06",
          "2021-12-13",
          "2021-12-20",
          "2021-12-27",
          "2022-01-03",
          "2022-01-10",
          "2022-01-17",
          "2022-01-24",
          "2022-01-31",
          "2022-02-07",
          "2022-02-14",
          "2022-02-21",
          "2022-02-28",
          "2022-03-07",
          "2022-03-14",
          "2022-03-21",
          "2022-03-28",
          "2022-04-04",
          "2022-04-11",
          "2022-04-18",
          "2022-04-25",
          "2022-05-02",
          "2022-05-09",
          "2022-05-16",
          "2022-05-23",
          "2022-05-30",
          "2022-06-06",
          "2022-06-13",
          "2022-06-20",
          "2022-06-27",
          "2022-07-04",
          "2022-07-11",
          "2022-07-18",
          "2022-07-25",
          "2022-08-01",
          "2022-08-08",
          "2022-08-15",
          "2022-08-22",
          "2022-08-29",
          "2022-09-05",
          "2022-09-12",
          "2022-09-19",
          "2022-09-26",
          "2022-10-03",
          "2022-10-10",
          "2022-10-17",
          "2022-10-24",
          "2022-10-31",
          "2022-11-07",
          "2022-11-14",
          "2022-11-21",
          "2022-11-28",
          "2022-12-05",
          "2022-12-12",
          "2022-12-19",
          "2022-12-26",
          "2023-01-02",
          "2023-01-09",
          "2023-01-16",
          "2023-01-23",
          "2023-01-30",
          "2023-02-06",
          "2023-02-13",
          "2023-02-20",
          "2023-02-27",
          "2023-03-06",
          "2023-03-13",
          "2023-03-20",
          "2023-03-27",
          "2023-04-03",
          "2023-04-10",
          "2023-04-17",
          "2023-04-24",
          "2023-05-01",
          "2023-05-08",
          "2023-05-15",
          "2023-05-22",
          "2023-05-29",
          "2023-06-05",
          "2023-06-12",
          "2023-06-19",
          "2023-06-26",
          "2023-07-03",
          "2023-07-10",
          "2023-07-17",
          "2023-07-24",
          "2023-07-31",
          "2023-08-07",
          "2023-08-14",
          "2023-08-21",
          "2023-08-28",
          "2023-09-04",
          "2023-09-11",
          "2023-09-18",
          "2023-09-25",
          "2023-10-02",
          "2023-10-09",
          "2023-10-16",
          "2023-10-23",
          "2023-10-30",
          "2023-11-06",
          "2023-11-13",
          "2023-11-20",
          "2023-11-27",
          "2023-12-04",
          "2023-12-11",
          "2023-12-18",
          "2023-12-25",
          "2024-01-01",
          "2024-01-08",
          "2024-01-15",
          "2024-01-22",
          "2024-01-29",
          "2024-02-05",
          "2024-02-12",
          "2024-02-19",
          "2024-02-26",
          "2024-03-04",
          "2024-03-11",
          "2024-03-18",
          "2024-03-25",
          "2024-04-01",
          "2024-04-08",
          "2024-04-15",
          "2024-04-22",
          "2024-04-29",
          "2024-05-06",
          "2024-05-13",
          "2024-05-20",
          "2024-05-27",
          "2024-06-03",
          "2024-06-10",
          "2024-06-17",
          "2024-06-24",
          "2024-07-01",
          "2024-07-08",
          "2024-07-15",
          "2024-07-22",
          "2024-07-29",
          "2024-08-05",
          "2024-08-12",
          "2024-08-19",
          "2024-08-26",
          "2024-09-02",
          "2024-09-09",
          "2024-09-16",
          "2024-09-23",
          "2024-09-30",
          "2024-10-07",
          "2024-10-14",
          "2024-10-21",
          "2024-10-28",
          "2024-11-04",
          "2024-11-11",
          "2024-11-18",
          "2024-11-25",
          "2024-12-02",
          "2024-12-09",
          "2024-12-16",
          "2024-12-23",
          "2024-12-30",
          "2025-01-06",
          "2025-01-13",
          "2025-01-20",
          "2025-01-27",
          "2025-02-03"
         ],
         "xaxis": "x2",
         "y": {
          "bdata": "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",
          "dtype": "f8"
         },
         "yaxis": "y2"
        }
       ],
       "layout": {
        "annotations": [
         {
          "font": {
           "size": 16
          },
          "showarrow": false,
          "text": "Disney Stock Price and Aroon Indicators",
          "x": 0.5,
          "xanchor": "center",
          "xref": "paper",
          "y": 1,
          "yanchor": "bottom",
          "yref": "paper"
         },
         {
          "font": {
           "size": 16
          },
          "showarrow": false,
          "text": "Date",
          "x": 0.5,
          "xanchor": "center",
          "xref": "paper",
          "y": 0,
          "yanchor": "top",
          "yref": "paper",
          "yshift": -30
         }
        ],
        "template": {
         "data": {
          "bar": [
           {
            "error_x": {
             "color": "#2a3f5f"
            },
            "error_y": {
             "color": "#2a3f5f"
            },
            "marker": {
             "line": {
              "color": "#E5ECF6",
              "width": 0.5
             },
             "pattern": {
              "fillmode": "overlay",
              "size": 10,
              "solidity": 0.2
             }
            },
            "type": "bar"
           }
          ],
          "barpolar": [
           {
            "marker": {
             "line": {
              "color": "#E5ECF6",
              "width": 0.5
             },
             "pattern": {
              "fillmode": "overlay",
              "size": 10,
              "solidity": 0.2
             }
            },
            "type": "barpolar"
           }
          ],
          "carpet": [
           {
            "aaxis": {
             "endlinecolor": "#2a3f5f",
             "gridcolor": "white",
             "linecolor": "white",
             "minorgridcolor": "white",
             "startlinecolor": "#2a3f5f"
            },
            "baxis": {
             "endlinecolor": "#2a3f5f",
             "gridcolor": "white",
             "linecolor": "white",
             "minorgridcolor": "white",
             "startlinecolor": "#2a3f5f"
            },
            "type": "carpet"
           }
          ],
          "choropleth": [
           {
            "colorbar": {
             "outlinewidth": 0,
             "ticks": ""
            },
            "type": "choropleth"
           }
          ],
          "contour": [
           {
            "colorbar": {
             "outlinewidth": 0,
             "ticks": ""
            },
            "colorscale": [
             [
              0,
              "#0d0887"
             ],
             [
              0.1111111111111111,
              "#46039f"
             ],
             [
              0.2222222222222222,
              "#7201a8"
             ],
             [
              0.3333333333333333,
              "#9c179e"
             ],
             [
              0.4444444444444444,
              "#bd3786"
             ],
             [
              0.5555555555555556,
              "#d8576b"
             ],
             [
              0.6666666666666666,
              "#ed7953"
             ],
             [
              0.7777777777777778,
              "#fb9f3a"
             ],
             [
              0.8888888888888888,
              "#fdca26"
             ],
             [
              1,
              "#f0f921"
             ]
            ],
            "type": "contour"
           }
          ],
          "contourcarpet": [
           {
            "colorbar": {
             "outlinewidth": 0,
             "ticks": ""
            },
            "type": "contourcarpet"
           }
          ],
          "heatmap": [
           {
            "colorbar": {
             "outlinewidth": 0,
             "ticks": ""
            },
            "colorscale": [
             [
              0,
              "#0d0887"
             ],
             [
              0.1111111111111111,
              "#46039f"
             ],
             [
              0.2222222222222222,
              "#7201a8"
             ],
             [
              0.3333333333333333,
              "#9c179e"
             ],
             [
              0.4444444444444444,
              "#bd3786"
             ],
             [
              0.5555555555555556,
              "#d8576b"
             ],
             [
              0.6666666666666666,
              "#ed7953"
             ],
             [
              0.7777777777777778,
              "#fb9f3a"
             ],
             [
              0.8888888888888888,
              "#fdca26"
             ],
             [
              1,
              "#f0f921"
             ]
            ],
            "type": "heatmap"
           }
          ],
          "histogram": [
           {
            "marker": {
             "pattern": {
              "fillmode": "overlay",
              "size": 10,
              "solidity": 0.2
             }
            },
            "type": "histogram"
           }
          ],
          "histogram2d": [
           {
            "colorbar": {
             "outlinewidth": 0,
             "ticks": ""
            },
            "colorscale": [
             [
              0,
              "#0d0887"
             ],
             [
              0.1111111111111111,
              "#46039f"
             ],
             [
              0.2222222222222222,
              "#7201a8"
             ],
             [
              0.3333333333333333,
              "#9c179e"
             ],
             [
              0.4444444444444444,
              "#bd3786"
             ],
             [
              0.5555555555555556,
              "#d8576b"
             ],
             [
              0.6666666666666666,
              "#ed7953"
             ],
             [
              0.7777777777777778,
              "#fb9f3a"
             ],
             [
              0.8888888888888888,
              "#fdca26"
             ],
             [
              1,
              "#f0f921"
             ]
            ],
            "type": "histogram2d"
           }
          ],
          "histogram2dcontour": [
           {
            "colorbar": {
             "outlinewidth": 0,
             "ticks": ""
            },
            "colorscale": [
             [
              0,
              "#0d0887"
             ],
             [
              0.1111111111111111,
              "#46039f"
             ],
             [
              0.2222222222222222,
              "#7201a8"
             ],
             [
              0.3333333333333333,
              "#9c179e"
             ],
             [
              0.4444444444444444,
              "#bd3786"
             ],
             [
              0.5555555555555556,
              "#d8576b"
             ],
             [
              0.6666666666666666,
              "#ed7953"
             ],
             [
              0.7777777777777778,
              "#fb9f3a"
             ],
             [
              0.8888888888888888,
              "#fdca26"
             ],
             [
              1,
              "#f0f921"
             ]
            ],
            "type": "histogram2dcontour"
           }
          ],
          "mesh3d": [
           {
            "colorbar": {
             "outlinewidth": 0,
             "ticks": ""
            },
            "type": "mesh3d"
           }
          ],
          "parcoords": [
           {
            "line": {
             "colorbar": {
              "outlinewidth": 0,
              "ticks": ""
             }
            },
            "type": "parcoords"
           }
          ],
          "pie": [
           {
            "automargin": true,
            "type": "pie"
           }
          ],
          "scatter": [
           {
            "fillpattern": {
             "fillmode": "overlay",
             "size": 10,
             "solidity": 0.2
            },
            "type": "scatter"
           }
          ],
          "scatter3d": [
           {
            "line": {
             "colorbar": {
              "outlinewidth": 0,
              "ticks": ""
             }
            },
            "marker": {
             "colorbar": {
              "outlinewidth": 0,
              "ticks": ""
             }
            },
            "type": "scatter3d"
           }
          ],
          "scattercarpet": [
           {
            "marker": {
             "colorbar": {
              "outlinewidth": 0,
              "ticks": ""
             }
            },
            "type": "scattercarpet"
           }
          ],
          "scattergeo": [
           {
            "marker": {
             "colorbar": {
              "outlinewidth": 0,
              "ticks": ""
             }
            },
            "type": "scattergeo"
           }
          ],
          "scattergl": [
           {
            "marker": {
             "colorbar": {
              "outlinewidth": 0,
              "ticks": ""
             }
            },
            "type": "scattergl"
           }
          ],
          "scattermap": [
           {
            "marker": {
             "colorbar": {
              "outlinewidth": 0,
              "ticks": ""
             }
            },
            "type": "scattermap"
           }
          ],
          "scattermapbox": [
           {
            "marker": {
             "colorbar": {
              "outlinewidth": 0,
              "ticks": ""
             }
            },
            "type": "scattermapbox"
           }
          ],
          "scatterpolar": [
           {
            "marker": {
             "colorbar": {
              "outlinewidth": 0,
              "ticks": ""
             }
            },
            "type": "scatterpolar"
           }
          ],
          "scatterpolargl": [
           {
            "marker": {
             "colorbar": {
              "outlinewidth": 0,
              "ticks": ""
             }
            },
            "type": "scatterpolargl"
           }
          ],
          "scatterternary": [
           {
            "marker": {
             "colorbar": {
              "outlinewidth": 0,
              "ticks": ""
             }
            },
            "type": "scatterternary"
           }
          ],
          "surface": [
           {
            "colorbar": {
             "outlinewidth": 0,
             "ticks": ""
            },
            "colorscale": [
             [
              0,
              "#0d0887"
             ],
             [
              0.1111111111111111,
              "#46039f"
             ],
             [
              0.2222222222222222,
              "#7201a8"
             ],
             [
              0.3333333333333333,
              "#9c179e"
             ],
             [
              0.4444444444444444,
              "#bd3786"
             ],
             [
              0.5555555555555556,
              "#d8576b"
             ],
             [
              0.6666666666666666,
              "#ed7953"
             ],
             [
              0.7777777777777778,
              "#fb9f3a"
             ],
             [
              0.8888888888888888,
              "#fdca26"
             ],
             [
              1,
              "#f0f921"
             ]
            ],
            "type": "surface"
           }
          ],
          "table": [
           {
            "cells": {
             "fill": {
              "color": "#EBF0F8"
             },
             "line": {
              "color": "white"
             }
            },
            "header": {
             "fill": {
              "color": "#C8D4E3"
             },
             "line": {
              "color": "white"
             }
            },
            "type": "table"
           }
          ]
         },
         "layout": {
          "annotationdefaults": {
           "arrowcolor": "#2a3f5f",
           "arrowhead": 0,
           "arrowwidth": 1
          },
          "autotypenumbers": "strict",
          "coloraxis": {
           "colorbar": {
            "outlinewidth": 0,
            "ticks": ""
           }
          },
          "colorscale": {
           "diverging": [
            [
             0,
             "#8e0152"
            ],
            [
             0.1,
             "#c51b7d"
            ],
            [
             0.2,
             "#de77ae"
            ],
            [
             0.3,
             "#f1b6da"
            ],
            [
             0.4,
             "#fde0ef"
            ],
            [
             0.5,
             "#f7f7f7"
            ],
            [
             0.6,
             "#e6f5d0"
            ],
            [
             0.7,
             "#b8e186"
            ],
            [
             0.8,
             "#7fbc41"
            ],
            [
             0.9,
             "#4d9221"
            ],
            [
             1,
             "#276419"
            ]
           ],
           "sequential": [
            [
             0,
             "#0d0887"
            ],
            [
             0.1111111111111111,
             "#46039f"
            ],
            [
             0.2222222222222222,
             "#7201a8"
            ],
            [
             0.3333333333333333,
             "#9c179e"
            ],
            [
             0.4444444444444444,
             "#bd3786"
            ],
            [
             0.5555555555555556,
             "#d8576b"
            ],
            [
             0.6666666666666666,
             "#ed7953"
            ],
            [
             0.7777777777777778,
             "#fb9f3a"
            ],
            [
             0.8888888888888888,
             "#fdca26"
            ],
            [
             1,
             "#f0f921"
            ]
           ],
           "sequentialminus": [
            [
             0,
             "#0d0887"
            ],
            [
             0.1111111111111111,
             "#46039f"
            ],
            [
             0.2222222222222222,
             "#7201a8"
            ],
            [
             0.3333333333333333,
             "#9c179e"
            ],
            [
             0.4444444444444444,
             "#bd3786"
            ],
            [
             0.5555555555555556,
             "#d8576b"
            ],
            [
             0.6666666666666666,
             "#ed7953"
            ],
            [
             0.7777777777777778,
             "#fb9f3a"
            ],
            [
             0.8888888888888888,
             "#fdca26"
            ],
            [
             1,
             "#f0f921"
            ]
           ]
          },
          "colorway": [
           "#636efa",
           "#EF553B",
           "#00cc96",
           "#ab63fa",
           "#FFA15A",
           "#19d3f3",
           "#FF6692",
           "#B6E880",
           "#FF97FF",
           "#FECB52"
          ],
          "font": {
           "color": "#2a3f5f"
          },
          "geo": {
           "bgcolor": "white",
           "lakecolor": "white",
           "landcolor": "#E5ECF6",
           "showlakes": true,
           "showland": true,
           "subunitcolor": "white"
          },
          "hoverlabel": {
           "align": "left"
          },
          "hovermode": "closest",
          "mapbox": {
           "style": "light"
          },
          "paper_bgcolor": "white",
          "plot_bgcolor": "#E5ECF6",
          "polar": {
           "angularaxis": {
            "gridcolor": "white",
            "linecolor": "white",
            "ticks": ""
           },
           "bgcolor": "#E5ECF6",
           "radialaxis": {
            "gridcolor": "white",
            "linecolor": "white",
            "ticks": ""
           }
          },
          "scene": {
           "xaxis": {
            "backgroundcolor": "#E5ECF6",
            "gridcolor": "white",
            "gridwidth": 2,
            "linecolor": "white",
            "showbackground": true,
            "ticks": "",
            "zerolinecolor": "white"
           },
           "yaxis": {
            "backgroundcolor": "#E5ECF6",
            "gridcolor": "white",
            "gridwidth": 2,
            "linecolor": "white",
            "showbackground": true,
            "ticks": "",
            "zerolinecolor": "white"
           },
           "zaxis": {
            "backgroundcolor": "#E5ECF6",
            "gridcolor": "white",
            "gridwidth": 2,
            "linecolor": "white",
            "showbackground": true,
            "ticks": "",
            "zerolinecolor": "white"
           }
          },
          "shapedefaults": {
           "line": {
            "color": "#2a3f5f"
           }
          },
          "ternary": {
           "aaxis": {
            "gridcolor": "white",
            "linecolor": "white",
            "ticks": ""
           },
           "baxis": {
            "gridcolor": "white",
            "linecolor": "white",
            "ticks": ""
           },
           "bgcolor": "#E5ECF6",
           "caxis": {
            "gridcolor": "white",
            "linecolor": "white",
            "ticks": ""
           }
          },
          "title": {
           "x": 0.05
          },
          "xaxis": {
           "automargin": true,
           "gridcolor": "white",
           "linecolor": "white",
           "ticks": "",
           "title": {
            "standoff": 15
           },
           "zerolinecolor": "white",
           "zerolinewidth": 2
          },
          "yaxis": {
           "automargin": true,
           "gridcolor": "white",
           "linecolor": "white",
           "ticks": "",
           "title": {
            "standoff": 15
           },
           "zerolinecolor": "white",
           "zerolinewidth": 2
          }
         }
        },
        "xaxis": {
         "anchor": "y",
         "domain": [
          0,
          1
         ],
         "matches": "x2",
         "showticklabels": false
        },
        "xaxis2": {
         "anchor": "y2",
         "domain": [
          0,
          1
         ]
        },
        "yaxis": {
         "anchor": "x",
         "domain": [
          0.625,
          1
         ],
         "title": {
          "text": "Stock Price ($USD)"
         }
        },
        "yaxis2": {
         "anchor": "x2",
         "domain": [
          0,
          0.375
         ]
        }
       }
      }
     },
     "metadata": {},
     "output_type": "display_data"
    }
   ],
   "source": [
    "figure6 = make_subplots(2, 1, shared_xaxes=True, x_title='Date', subplot_titles=['Disney Stock Price and Aroon Indicators'])\n",
    "\n",
    "figure6.add_trace(\n",
    "    go.Scatter(x=disDF.index, y=disDF['Close'], mode='lines', name='DISNEY'), 1, 1\n",
    ")\n",
    "figure6.add_trace(\n",
    "    go.Scatter(x=disDF.index, y=disDF['Aroon Down'], mode='lines', name='Aroon Down'), 2, 1\n",
    ")\n",
    "figure6.add_trace(\n",
    "    go.Scatter(x=disDF.index, y=disDF['Aroon Up'], mode='lines', name='Aroon Up'), 2, 1\n",
    ")\n",
    "figure6.update_yaxes(title_text=\"Stock Price ($USD)\", row=1, col=1)\n",
    "\n",
    "figure6.show()"
   ]
  },
  {
   "cell_type": "code",
   "execution_count": 75,
   "metadata": {},
   "outputs": [
    {
     "data": {
      "application/vnd.plotly.v1+json": {
       "config": {
        "plotlyServerURL": "https://plot.ly"
       },
       "data": [
        {
         "mode": "lines",
         "name": "Close Price",
         "type": "scatter",
         "x": [
          "2015-02-02",
          "2015-02-09",
          "2015-02-16",
          "2015-02-23",
          "2015-03-02",
          "2015-03-09",
          "2015-03-16",
          "2015-03-23",
          "2015-03-30",
          "2015-04-06",
          "2015-04-13",
          "2015-04-20",
          "2015-04-27",
          "2015-05-04",
          "2015-05-11",
          "2015-05-18",
          "2015-05-25",
          "2015-06-01",
          "2015-06-08",
          "2015-06-15",
          "2015-06-22",
          "2015-06-29",
          "2015-07-06",
          "2015-07-13",
          "2015-07-20",
          "2015-07-27",
          "2015-08-03",
          "2015-08-10",
          "2015-08-17",
          "2015-08-24",
          "2015-08-31",
          "2015-09-07",
          "2015-09-14",
          "2015-09-21",
          "2015-09-28",
          "2015-10-05",
          "2015-10-12",
          "2015-10-19",
          "2015-10-26",
          "2015-11-02",
          "2015-11-09",
          "2015-11-16",
          "2015-11-23",
          "2015-11-30",
          "2015-12-07",
          "2015-12-14",
          "2015-12-21",
          "2015-12-28",
          "2016-01-04",
          "2016-01-11",
          "2016-01-18",
          "2016-01-25",
          "2016-02-01",
          "2016-02-08",
          "2016-02-15",
          "2016-02-22",
          "2016-02-29",
          "2016-03-07",
          "2016-03-14",
          "2016-03-21",
          "2016-03-28",
          "2016-04-04",
          "2016-04-11",
          "2016-04-18",
          "2016-04-25",
          "2016-05-02",
          "2016-05-09",
          "2016-05-16",
          "2016-05-23",
          "2016-05-30",
          "2016-06-06",
          "2016-06-13",
          "2016-06-20",
          "2016-06-27",
          "2016-07-04",
          "2016-07-11",
          "2016-07-18",
          "2016-07-25",
          "2016-08-01",
          "2016-08-08",
          "2016-08-15",
          "2016-08-22",
          "2016-08-29",
          "2016-09-05",
          "2016-09-12",
          "2016-09-19",
          "2016-09-26",
          "2016-10-03",
          "2016-10-10",
          "2016-10-17",
          "2016-10-24",
          "2016-10-31",
          "2016-11-07",
          "2016-11-14",
          "2016-11-21",
          "2016-11-28",
          "2016-12-05",
          "2016-12-12",
          "2016-12-19",
          "2016-12-26",
          "2017-01-02",
          "2017-01-09",
          "2017-01-16",
          "2017-01-23",
          "2017-01-30",
          "2017-02-06",
          "2017-02-13",
          "2017-02-20",
          "2017-02-27",
          "2017-03-06",
          "2017-03-13",
          "2017-03-20",
          "2017-03-27",
          "2017-04-03",
          "2017-04-10",
          "2017-04-17",
          "2017-04-24",
          "2017-05-01",
          "2017-05-08",
          "2017-05-15",
          "2017-05-22",
          "2017-05-29",
          "2017-06-05",
          "2017-06-12",
          "2017-06-19",
          "2017-06-26",
          "2017-07-03",
          "2017-07-10",
          "2017-07-17",
          "2017-07-24",
          "2017-07-31",
          "2017-08-07",
          "2017-08-14",
          "2017-08-21",
          "2017-08-28",
          "2017-09-04",
          "2017-09-11",
          "2017-09-18",
          "2017-09-25",
          "2017-10-02",
          "2017-10-09",
          "2017-10-16",
          "2017-10-23",
          "2017-10-30",
          "2017-11-06",
          "2017-11-13",
          "2017-11-20",
          "2017-11-27",
          "2017-12-04",
          "2017-12-11",
          "2017-12-18",
          "2017-12-25",
          "2018-01-01",
          "2018-01-08",
          "2018-01-15",
          "2018-01-22",
          "2018-01-29",
          "2018-02-05",
          "2018-02-12",
          "2018-02-19",
          "2018-02-26",
          "2018-03-05",
          "2018-03-12",
          "2018-03-19",
          "2018-03-26",
          "2018-04-02",
          "2018-04-09",
          "2018-04-16",
          "2018-04-23",
          "2018-04-30",
          "2018-05-07",
          "2018-05-14",
          "2018-05-21",
          "2018-05-28",
          "2018-06-04",
          "2018-06-11",
          "2018-06-18",
          "2018-06-25",
          "2018-07-02",
          "2018-07-09",
          "2018-07-16",
          "2018-07-23",
          "2018-07-30",
          "2018-08-06",
          "2018-08-13",
          "2018-08-20",
          "2018-08-27",
          "2018-09-03",
          "2018-09-10",
          "2018-09-17",
          "2018-09-24",
          "2018-10-01",
          "2018-10-08",
          "2018-10-15",
          "2018-10-22",
          "2018-10-29",
          "2018-11-05",
          "2018-11-12",
          "2018-11-19",
          "2018-11-26",
          "2018-12-03",
          "2018-12-10",
          "2018-12-17",
          "2018-12-24",
          "2018-12-31",
          "2019-01-07",
          "2019-01-14",
          "2019-01-21",
          "2019-01-28",
          "2019-02-04",
          "2019-02-11",
          "2019-02-18",
          "2019-02-25",
          "2019-03-04",
          "2019-03-11",
          "2019-03-18",
          "2019-03-25",
          "2019-04-01",
          "2019-04-08",
          "2019-04-15",
          "2019-04-22",
          "2019-04-29",
          "2019-05-06",
          "2019-05-13",
          "2019-05-20",
          "2019-05-27",
          "2019-06-03",
          "2019-06-10",
          "2019-06-17",
          "2019-06-24",
          "2019-07-01",
          "2019-07-08",
          "2019-07-15",
          "2019-07-22",
          "2019-07-29",
          "2019-08-05",
          "2019-08-12",
          "2019-08-19",
          "2019-08-26",
          "2019-09-02",
          "2019-09-09",
          "2019-09-16",
          "2019-09-23",
          "2019-09-30",
          "2019-10-07",
          "2019-10-14",
          "2019-10-21",
          "2019-10-28",
          "2019-11-04",
          "2019-11-11",
          "2019-11-18",
          "2019-11-25",
          "2019-12-02",
          "2019-12-09",
          "2019-12-16",
          "2019-12-23",
          "2019-12-30",
          "2020-01-06",
          "2020-01-13",
          "2020-01-20",
          "2020-01-27",
          "2020-02-03",
          "2020-02-10",
          "2020-02-17",
          "2020-02-24",
          "2020-03-02",
          "2020-03-09",
          "2020-03-16",
          "2020-03-23",
          "2020-03-30",
          "2020-04-06",
          "2020-04-13",
          "2020-04-20",
          "2020-04-27",
          "2020-05-04",
          "2020-05-11",
          "2020-05-18",
          "2020-05-25",
          "2020-06-01",
          "2020-06-08",
          "2020-06-15",
          "2020-06-22",
          "2020-06-29",
          "2020-07-06",
          "2020-07-13",
          "2020-07-20",
          "2020-07-27",
          "2020-08-03",
          "2020-08-10",
          "2020-08-17",
          "2020-08-24",
          "2020-08-31",
          "2020-09-07",
          "2020-09-14",
          "2020-09-21",
          "2020-09-28",
          "2020-10-05",
          "2020-10-12",
          "2020-10-19",
          "2020-10-26",
          "2020-11-02",
          "2020-11-09",
          "2020-11-16",
          "2020-11-23",
          "2020-11-30",
          "2020-12-07",
          "2020-12-14",
          "2020-12-21",
          "2020-12-28",
          "2021-01-04",
          "2021-01-11",
          "2021-01-18",
          "2021-01-25",
          "2021-02-01",
          "2021-02-08",
          "2021-02-15",
          "2021-02-22",
          "2021-03-01",
          "2021-03-08",
          "2021-03-15",
          "2021-03-22",
          "2021-03-29",
          "2021-04-05",
          "2021-04-12",
          "2021-04-19",
          "2021-04-26",
          "2021-05-03",
          "2021-05-10",
          "2021-05-17",
          "2021-05-24",
          "2021-05-31",
          "2021-06-07",
          "2021-06-14",
          "2021-06-21",
          "2021-06-28",
          "2021-07-05",
          "2021-07-12",
          "2021-07-19",
          "2021-07-26",
          "2021-08-02",
          "2021-08-09",
          "2021-08-16",
          "2021-08-23",
          "2021-08-30",
          "2021-09-06",
          "2021-09-13",
          "2021-09-20",
          "2021-09-27",
          "2021-10-04",
          "2021-10-11",
          "2021-10-18",
          "2021-10-25",
          "2021-11-01",
          "2021-11-08",
          "2021-11-15",
          "2021-11-22",
          "2021-11-29",
          "2021-12-06",
          "2021-12-13",
          "2021-12-20",
          "2021-12-27",
          "2022-01-03",
          "2022-01-10",
          "2022-01-17",
          "2022-01-24",
          "2022-01-31",
          "2022-02-07",
          "2022-02-14",
          "2022-02-21",
          "2022-02-28",
          "2022-03-07",
          "2022-03-14",
          "2022-03-21",
          "2022-03-28",
          "2022-04-04",
          "2022-04-11",
          "2022-04-18",
          "2022-04-25",
          "2022-05-02",
          "2022-05-09",
          "2022-05-16",
          "2022-05-23",
          "2022-05-30",
          "2022-06-06",
          "2022-06-13",
          "2022-06-20",
          "2022-06-27",
          "2022-07-04",
          "2022-07-11",
          "2022-07-18",
          "2022-07-25",
          "2022-08-01",
          "2022-08-08",
          "2022-08-15",
          "2022-08-22",
          "2022-08-29",
          "2022-09-05",
          "2022-09-12",
          "2022-09-19",
          "2022-09-26",
          "2022-10-03",
          "2022-10-10",
          "2022-10-17",
          "2022-10-24",
          "2022-10-31",
          "2022-11-07",
          "2022-11-14",
          "2022-11-21",
          "2022-11-28",
          "2022-12-05",
          "2022-12-12",
          "2022-12-19",
          "2022-12-26",
          "2023-01-02",
          "2023-01-09",
          "2023-01-16",
          "2023-01-23",
          "2023-01-30",
          "2023-02-06",
          "2023-02-13",
          "2023-02-20",
          "2023-02-27",
          "2023-03-06",
          "2023-03-13",
          "2023-03-20",
          "2023-03-27",
          "2023-04-03",
          "2023-04-10",
          "2023-04-17",
          "2023-04-24",
          "2023-05-01",
          "2023-05-08",
          "2023-05-15",
          "2023-05-22",
          "2023-05-29",
          "2023-06-05",
          "2023-06-12",
          "2023-06-19",
          "2023-06-26",
          "2023-07-03",
          "2023-07-10",
          "2023-07-17",
          "2023-07-24",
          "2023-07-31",
          "2023-08-07",
          "2023-08-14",
          "2023-08-21",
          "2023-08-28",
          "2023-09-04",
          "2023-09-11",
          "2023-09-18",
          "2023-09-25",
          "2023-10-02",
          "2023-10-09",
          "2023-10-16",
          "2023-10-23",
          "2023-10-30",
          "2023-11-06",
          "2023-11-13",
          "2023-11-20",
          "2023-11-27",
          "2023-12-04",
          "2023-12-11",
          "2023-12-18",
          "2023-12-25",
          "2024-01-01",
          "2024-01-08",
          "2024-01-15",
          "2024-01-22",
          "2024-01-29",
          "2024-02-05",
          "2024-02-12",
          "2024-02-19",
          "2024-02-26",
          "2024-03-04",
          "2024-03-11",
          "2024-03-18",
          "2024-03-25",
          "2024-04-01",
          "2024-04-08",
          "2024-04-15",
          "2024-04-22",
          "2024-04-29",
          "2024-05-06",
          "2024-05-13",
          "2024-05-20",
          "2024-05-27",
          "2024-06-03",
          "2024-06-10",
          "2024-06-17",
          "2024-06-24",
          "2024-07-01",
          "2024-07-08",
          "2024-07-15",
          "2024-07-22",
          "2024-07-29",
          "2024-08-05",
          "2024-08-12",
          "2024-08-19",
          "2024-08-26",
          "2024-09-02",
          "2024-09-09",
          "2024-09-16",
          "2024-09-23",
          "2024-09-30",
          "2024-10-07",
          "2024-10-14",
          "2024-10-21",
          "2024-10-28",
          "2024-11-04",
          "2024-11-11",
          "2024-11-18",
          "2024-11-25",
          "2024-12-02",
          "2024-12-09",
          "2024-12-16",
          "2024-12-23",
          "2024-12-30",
          "2025-01-06",
          "2025-01-13",
          "2025-01-20",
          "2025-01-27",
          "2025-02-03"
         ],
         "xaxis": "x",
         "y": {
          "bdata": "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",
          "dtype": "f8"
         },
         "yaxis": "y"
        },
        {
         "mode": "lines",
         "name": "Simple Moving Average",
         "type": "scatter",
         "x": [
          "2015-02-02",
          "2015-02-09",
          "2015-02-16",
          "2015-02-23",
          "2015-03-02",
          "2015-03-09",
          "2015-03-16",
          "2015-03-23",
          "2015-03-30",
          "2015-04-06",
          "2015-04-13",
          "2015-04-20",
          "2015-04-27",
          "2015-05-04",
          "2015-05-11",
          "2015-05-18",
          "2015-05-25",
          "2015-06-01",
          "2015-06-08",
          "2015-06-15",
          "2015-06-22",
          "2015-06-29",
          "2015-07-06",
          "2015-07-13",
          "2015-07-20",
          "2015-07-27",
          "2015-08-03",
          "2015-08-10",
          "2015-08-17",
          "2015-08-24",
          "2015-08-31",
          "2015-09-07",
          "2015-09-14",
          "2015-09-21",
          "2015-09-28",
          "2015-10-05",
          "2015-10-12",
          "2015-10-19",
          "2015-10-26",
          "2015-11-02",
          "2015-11-09",
          "2015-11-16",
          "2015-11-23",
          "2015-11-30",
          "2015-12-07",
          "2015-12-14",
          "2015-12-21",
          "2015-12-28",
          "2016-01-04",
          "2016-01-11",
          "2016-01-18",
          "2016-01-25",
          "2016-02-01",
          "2016-02-08",
          "2016-02-15",
          "2016-02-22",
          "2016-02-29",
          "2016-03-07",
          "2016-03-14",
          "2016-03-21",
          "2016-03-28",
          "2016-04-04",
          "2016-04-11",
          "2016-04-18",
          "2016-04-25",
          "2016-05-02",
          "2016-05-09",
          "2016-05-16",
          "2016-05-23",
          "2016-05-30",
          "2016-06-06",
          "2016-06-13",
          "2016-06-20",
          "2016-06-27",
          "2016-07-04",
          "2016-07-11",
          "2016-07-18",
          "2016-07-25",
          "2016-08-01",
          "2016-08-08",
          "2016-08-15",
          "2016-08-22",
          "2016-08-29",
          "2016-09-05",
          "2016-09-12",
          "2016-09-19",
          "2016-09-26",
          "2016-10-03",
          "2016-10-10",
          "2016-10-17",
          "2016-10-24",
          "2016-10-31",
          "2016-11-07",
          "2016-11-14",
          "2016-11-21",
          "2016-11-28",
          "2016-12-05",
          "2016-12-12",
          "2016-12-19",
          "2016-12-26",
          "2017-01-02",
          "2017-01-09",
          "2017-01-16",
          "2017-01-23",
          "2017-01-30",
          "2017-02-06",
          "2017-02-13",
          "2017-02-20",
          "2017-02-27",
          "2017-03-06",
          "2017-03-13",
          "2017-03-20",
          "2017-03-27",
          "2017-04-03",
          "2017-04-10",
          "2017-04-17",
          "2017-04-24",
          "2017-05-01",
          "2017-05-08",
          "2017-05-15",
          "2017-05-22",
          "2017-05-29",
          "2017-06-05",
          "2017-06-12",
          "2017-06-19",
          "2017-06-26",
          "2017-07-03",
          "2017-07-10",
          "2017-07-17",
          "2017-07-24",
          "2017-07-31",
          "2017-08-07",
          "2017-08-14",
          "2017-08-21",
          "2017-08-28",
          "2017-09-04",
          "2017-09-11",
          "2017-09-18",
          "2017-09-25",
          "2017-10-02",
          "2017-10-09",
          "2017-10-16",
          "2017-10-23",
          "2017-10-30",
          "2017-11-06",
          "2017-11-13",
          "2017-11-20",
          "2017-11-27",
          "2017-12-04",
          "2017-12-11",
          "2017-12-18",
          "2017-12-25",
          "2018-01-01",
          "2018-01-08",
          "2018-01-15",
          "2018-01-22",
          "2018-01-29",
          "2018-02-05",
          "2018-02-12",
          "2018-02-19",
          "2018-02-26",
          "2018-03-05",
          "2018-03-12",
          "2018-03-19",
          "2018-03-26",
          "2018-04-02",
          "2018-04-09",
          "2018-04-16",
          "2018-04-23",
          "2018-04-30",
          "2018-05-07",
          "2018-05-14",
          "2018-05-21",
          "2018-05-28",
          "2018-06-04",
          "2018-06-11",
          "2018-06-18",
          "2018-06-25",
          "2018-07-02",
          "2018-07-09",
          "2018-07-16",
          "2018-07-23",
          "2018-07-30",
          "2018-08-06",
          "2018-08-13",
          "2018-08-20",
          "2018-08-27",
          "2018-09-03",
          "2018-09-10",
          "2018-09-17",
          "2018-09-24",
          "2018-10-01",
          "2018-10-08",
          "2018-10-15",
          "2018-10-22",
          "2018-10-29",
          "2018-11-05",
          "2018-11-12",
          "2018-11-19",
          "2018-11-26",
          "2018-12-03",
          "2018-12-10",
          "2018-12-17",
          "2018-12-24",
          "2018-12-31",
          "2019-01-07",
          "2019-01-14",
          "2019-01-21",
          "2019-01-28",
          "2019-02-04",
          "2019-02-11",
          "2019-02-18",
          "2019-02-25",
          "2019-03-04",
          "2019-03-11",
          "2019-03-18",
          "2019-03-25",
          "2019-04-01",
          "2019-04-08",
          "2019-04-15",
          "2019-04-22",
          "2019-04-29",
          "2019-05-06",
          "2019-05-13",
          "2019-05-20",
          "2019-05-27",
          "2019-06-03",
          "2019-06-10",
          "2019-06-17",
          "2019-06-24",
          "2019-07-01",
          "2019-07-08",
          "2019-07-15",
          "2019-07-22",
          "2019-07-29",
          "2019-08-05",
          "2019-08-12",
          "2019-08-19",
          "2019-08-26",
          "2019-09-02",
          "2019-09-09",
          "2019-09-16",
          "2019-09-23",
          "2019-09-30",
          "2019-10-07",
          "2019-10-14",
          "2019-10-21",
          "2019-10-28",
          "2019-11-04",
          "2019-11-11",
          "2019-11-18",
          "2019-11-25",
          "2019-12-02",
          "2019-12-09",
          "2019-12-16",
          "2019-12-23",
          "2019-12-30",
          "2020-01-06",
          "2020-01-13",
          "2020-01-20",
          "2020-01-27",
          "2020-02-03",
          "2020-02-10",
          "2020-02-17",
          "2020-02-24",
          "2020-03-02",
          "2020-03-09",
          "2020-03-16",
          "2020-03-23",
          "2020-03-30",
          "2020-04-06",
          "2020-04-13",
          "2020-04-20",
          "2020-04-27",
          "2020-05-04",
          "2020-05-11",
          "2020-05-18",
          "2020-05-25",
          "2020-06-01",
          "2020-06-08",
          "2020-06-15",
          "2020-06-22",
          "2020-06-29",
          "2020-07-06",
          "2020-07-13",
          "2020-07-20",
          "2020-07-27",
          "2020-08-03",
          "2020-08-10",
          "2020-08-17",
          "2020-08-24",
          "2020-08-31",
          "2020-09-07",
          "2020-09-14",
          "2020-09-21",
          "2020-09-28",
          "2020-10-05",
          "2020-10-12",
          "2020-10-19",
          "2020-10-26",
          "2020-11-02",
          "2020-11-09",
          "2020-11-16",
          "2020-11-23",
          "2020-11-30",
          "2020-12-07",
          "2020-12-14",
          "2020-12-21",
          "2020-12-28",
          "2021-01-04",
          "2021-01-11",
          "2021-01-18",
          "2021-01-25",
          "2021-02-01",
          "2021-02-08",
          "2021-02-15",
          "2021-02-22",
          "2021-03-01",
          "2021-03-08",
          "2021-03-15",
          "2021-03-22",
          "2021-03-29",
          "2021-04-05",
          "2021-04-12",
          "2021-04-19",
          "2021-04-26",
          "2021-05-03",
          "2021-05-10",
          "2021-05-17",
          "2021-05-24",
          "2021-05-31",
          "2021-06-07",
          "2021-06-14",
          "2021-06-21",
          "2021-06-28",
          "2021-07-05",
          "2021-07-12",
          "2021-07-19",
          "2021-07-26",
          "2021-08-02",
          "2021-08-09",
          "2021-08-16",
          "2021-08-23",
          "2021-08-30",
          "2021-09-06",
          "2021-09-13",
          "2021-09-20",
          "2021-09-27",
          "2021-10-04",
          "2021-10-11",
          "2021-10-18",
          "2021-10-25",
          "2021-11-01",
          "2021-11-08",
          "2021-11-15",
          "2021-11-22",
          "2021-11-29",
          "2021-12-06",
          "2021-12-13",
          "2021-12-20",
          "2021-12-27",
          "2022-01-03",
          "2022-01-10",
          "2022-01-17",
          "2022-01-24",
          "2022-01-31",
          "2022-02-07",
          "2022-02-14",
          "2022-02-21",
          "2022-02-28",
          "2022-03-07",
          "2022-03-14",
          "2022-03-21",
          "2022-03-28",
          "2022-04-04",
          "2022-04-11",
          "2022-04-18",
          "2022-04-25",
          "2022-05-02",
          "2022-05-09",
          "2022-05-16",
          "2022-05-23",
          "2022-05-30",
          "2022-06-06",
          "2022-06-13",
          "2022-06-20",
          "2022-06-27",
          "2022-07-04",
          "2022-07-11",
          "2022-07-18",
          "2022-07-25",
          "2022-08-01",
          "2022-08-08",
          "2022-08-15",
          "2022-08-22",
          "2022-08-29",
          "2022-09-05",
          "2022-09-12",
          "2022-09-19",
          "2022-09-26",
          "2022-10-03",
          "2022-10-10",
          "2022-10-17",
          "2022-10-24",
          "2022-10-31",
          "2022-11-07",
          "2022-11-14",
          "2022-11-21",
          "2022-11-28",
          "2022-12-05",
          "2022-12-12",
          "2022-12-19",
          "2022-12-26",
          "2023-01-02",
          "2023-01-09",
          "2023-01-16",
          "2023-01-23",
          "2023-01-30",
          "2023-02-06",
          "2023-02-13",
          "2023-02-20",
          "2023-02-27",
          "2023-03-06",
          "2023-03-13",
          "2023-03-20",
          "2023-03-27",
          "2023-04-03",
          "2023-04-10",
          "2023-04-17",
          "2023-04-24",
          "2023-05-01",
          "2023-05-08",
          "2023-05-15",
          "2023-05-22",
          "2023-05-29",
          "2023-06-05",
          "2023-06-12",
          "2023-06-19",
          "2023-06-26",
          "2023-07-03",
          "2023-07-10",
          "2023-07-17",
          "2023-07-24",
          "2023-07-31",
          "2023-08-07",
          "2023-08-14",
          "2023-08-21",
          "2023-08-28",
          "2023-09-04",
          "2023-09-11",
          "2023-09-18",
          "2023-09-25",
          "2023-10-02",
          "2023-10-09",
          "2023-10-16",
          "2023-10-23",
          "2023-10-30",
          "2023-11-06",
          "2023-11-13",
          "2023-11-20",
          "2023-11-27",
          "2023-12-04",
          "2023-12-11",
          "2023-12-18",
          "2023-12-25",
          "2024-01-01",
          "2024-01-08",
          "2024-01-15",
          "2024-01-22",
          "2024-01-29",
          "2024-02-05",
          "2024-02-12",
          "2024-02-19",
          "2024-02-26",
          "2024-03-04",
          "2024-03-11",
          "2024-03-18",
          "2024-03-25",
          "2024-04-01",
          "2024-04-08",
          "2024-04-15",
          "2024-04-22",
          "2024-04-29",
          "2024-05-06",
          "2024-05-13",
          "2024-05-20",
          "2024-05-27",
          "2024-06-03",
          "2024-06-10",
          "2024-06-17",
          "2024-06-24",
          "2024-07-01",
          "2024-07-08",
          "2024-07-15",
          "2024-07-22",
          "2024-07-29",
          "2024-08-05",
          "2024-08-12",
          "2024-08-19",
          "2024-08-26",
          "2024-09-02",
          "2024-09-09",
          "2024-09-16",
          "2024-09-23",
          "2024-09-30",
          "2024-10-07",
          "2024-10-14",
          "2024-10-21",
          "2024-10-28",
          "2024-11-04",
          "2024-11-11",
          "2024-11-18",
          "2024-11-25",
          "2024-12-02",
          "2024-12-09",
          "2024-12-16",
          "2024-12-23",
          "2024-12-30",
          "2025-01-06",
          "2025-01-13",
          "2025-01-20",
          "2025-01-27",
          "2025-02-03"
         ],
         "xaxis": "x",
         "y": {
          "bdata": "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",
          "dtype": "f8"
         },
         "yaxis": "y"
        },
        {
         "mode": "lines",
         "name": "Weighted Moving Average",
         "type": "scatter",
         "x": [
          "2015-02-02",
          "2015-02-09",
          "2015-02-16",
          "2015-02-23",
          "2015-03-02",
          "2015-03-09",
          "2015-03-16",
          "2015-03-23",
          "2015-03-30",
          "2015-04-06",
          "2015-04-13",
          "2015-04-20",
          "2015-04-27",
          "2015-05-04",
          "2015-05-11",
          "2015-05-18",
          "2015-05-25",
          "2015-06-01",
          "2015-06-08",
          "2015-06-15",
          "2015-06-22",
          "2015-06-29",
          "2015-07-06",
          "2015-07-13",
          "2015-07-20",
          "2015-07-27",
          "2015-08-03",
          "2015-08-10",
          "2015-08-17",
          "2015-08-24",
          "2015-08-31",
          "2015-09-07",
          "2015-09-14",
          "2015-09-21",
          "2015-09-28",
          "2015-10-05",
          "2015-10-12",
          "2015-10-19",
          "2015-10-26",
          "2015-11-02",
          "2015-11-09",
          "2015-11-16",
          "2015-11-23",
          "2015-11-30",
          "2015-12-07",
          "2015-12-14",
          "2015-12-21",
          "2015-12-28",
          "2016-01-04",
          "2016-01-11",
          "2016-01-18",
          "2016-01-25",
          "2016-02-01",
          "2016-02-08",
          "2016-02-15",
          "2016-02-22",
          "2016-02-29",
          "2016-03-07",
          "2016-03-14",
          "2016-03-21",
          "2016-03-28",
          "2016-04-04",
          "2016-04-11",
          "2016-04-18",
          "2016-04-25",
          "2016-05-02",
          "2016-05-09",
          "2016-05-16",
          "2016-05-23",
          "2016-05-30",
          "2016-06-06",
          "2016-06-13",
          "2016-06-20",
          "2016-06-27",
          "2016-07-04",
          "2016-07-11",
          "2016-07-18",
          "2016-07-25",
          "2016-08-01",
          "2016-08-08",
          "2016-08-15",
          "2016-08-22",
          "2016-08-29",
          "2016-09-05",
          "2016-09-12",
          "2016-09-19",
          "2016-09-26",
          "2016-10-03",
          "2016-10-10",
          "2016-10-17",
          "2016-10-24",
          "2016-10-31",
          "2016-11-07",
          "2016-11-14",
          "2016-11-21",
          "2016-11-28",
          "2016-12-05",
          "2016-12-12",
          "2016-12-19",
          "2016-12-26",
          "2017-01-02",
          "2017-01-09",
          "2017-01-16",
          "2017-01-23",
          "2017-01-30",
          "2017-02-06",
          "2017-02-13",
          "2017-02-20",
          "2017-02-27",
          "2017-03-06",
          "2017-03-13",
          "2017-03-20",
          "2017-03-27",
          "2017-04-03",
          "2017-04-10",
          "2017-04-17",
          "2017-04-24",
          "2017-05-01",
          "2017-05-08",
          "2017-05-15",
          "2017-05-22",
          "2017-05-29",
          "2017-06-05",
          "2017-06-12",
          "2017-06-19",
          "2017-06-26",
          "2017-07-03",
          "2017-07-10",
          "2017-07-17",
          "2017-07-24",
          "2017-07-31",
          "2017-08-07",
          "2017-08-14",
          "2017-08-21",
          "2017-08-28",
          "2017-09-04",
          "2017-09-11",
          "2017-09-18",
          "2017-09-25",
          "2017-10-02",
          "2017-10-09",
          "2017-10-16",
          "2017-10-23",
          "2017-10-30",
          "2017-11-06",
          "2017-11-13",
          "2017-11-20",
          "2017-11-27",
          "2017-12-04",
          "2017-12-11",
          "2017-12-18",
          "2017-12-25",
          "2018-01-01",
          "2018-01-08",
          "2018-01-15",
          "2018-01-22",
          "2018-01-29",
          "2018-02-05",
          "2018-02-12",
          "2018-02-19",
          "2018-02-26",
          "2018-03-05",
          "2018-03-12",
          "2018-03-19",
          "2018-03-26",
          "2018-04-02",
          "2018-04-09",
          "2018-04-16",
          "2018-04-23",
          "2018-04-30",
          "2018-05-07",
          "2018-05-14",
          "2018-05-21",
          "2018-05-28",
          "2018-06-04",
          "2018-06-11",
          "2018-06-18",
          "2018-06-25",
          "2018-07-02",
          "2018-07-09",
          "2018-07-16",
          "2018-07-23",
          "2018-07-30",
          "2018-08-06",
          "2018-08-13",
          "2018-08-20",
          "2018-08-27",
          "2018-09-03",
          "2018-09-10",
          "2018-09-17",
          "2018-09-24",
          "2018-10-01",
          "2018-10-08",
          "2018-10-15",
          "2018-10-22",
          "2018-10-29",
          "2018-11-05",
          "2018-11-12",
          "2018-11-19",
          "2018-11-26",
          "2018-12-03",
          "2018-12-10",
          "2018-12-17",
          "2018-12-24",
          "2018-12-31",
          "2019-01-07",
          "2019-01-14",
          "2019-01-21",
          "2019-01-28",
          "2019-02-04",
          "2019-02-11",
          "2019-02-18",
          "2019-02-25",
          "2019-03-04",
          "2019-03-11",
          "2019-03-18",
          "2019-03-25",
          "2019-04-01",
          "2019-04-08",
          "2019-04-15",
          "2019-04-22",
          "2019-04-29",
          "2019-05-06",
          "2019-05-13",
          "2019-05-20",
          "2019-05-27",
          "2019-06-03",
          "2019-06-10",
          "2019-06-17",
          "2019-06-24",
          "2019-07-01",
          "2019-07-08",
          "2019-07-15",
          "2019-07-22",
          "2019-07-29",
          "2019-08-05",
          "2019-08-12",
          "2019-08-19",
          "2019-08-26",
          "2019-09-02",
          "2019-09-09",
          "2019-09-16",
          "2019-09-23",
          "2019-09-30",
          "2019-10-07",
          "2019-10-14",
          "2019-10-21",
          "2019-10-28",
          "2019-11-04",
          "2019-11-11",
          "2019-11-18",
          "2019-11-25",
          "2019-12-02",
          "2019-12-09",
          "2019-12-16",
          "2019-12-23",
          "2019-12-30",
          "2020-01-06",
          "2020-01-13",
          "2020-01-20",
          "2020-01-27",
          "2020-02-03",
          "2020-02-10",
          "2020-02-17",
          "2020-02-24",
          "2020-03-02",
          "2020-03-09",
          "2020-03-16",
          "2020-03-23",
          "2020-03-30",
          "2020-04-06",
          "2020-04-13",
          "2020-04-20",
          "2020-04-27",
          "2020-05-04",
          "2020-05-11",
          "2020-05-18",
          "2020-05-25",
          "2020-06-01",
          "2020-06-08",
          "2020-06-15",
          "2020-06-22",
          "2020-06-29",
          "2020-07-06",
          "2020-07-13",
          "2020-07-20",
          "2020-07-27",
          "2020-08-03",
          "2020-08-10",
          "2020-08-17",
          "2020-08-24",
          "2020-08-31",
          "2020-09-07",
          "2020-09-14",
          "2020-09-21",
          "2020-09-28",
          "2020-10-05",
          "2020-10-12",
          "2020-10-19",
          "2020-10-26",
          "2020-11-02",
          "2020-11-09",
          "2020-11-16",
          "2020-11-23",
          "2020-11-30",
          "2020-12-07",
          "2020-12-14",
          "2020-12-21",
          "2020-12-28",
          "2021-01-04",
          "2021-01-11",
          "2021-01-18",
          "2021-01-25",
          "2021-02-01",
          "2021-02-08",
          "2021-02-15",
          "2021-02-22",
          "2021-03-01",
          "2021-03-08",
          "2021-03-15",
          "2021-03-22",
          "2021-03-29",
          "2021-04-05",
          "2021-04-12",
          "2021-04-19",
          "2021-04-26",
          "2021-05-03",
          "2021-05-10",
          "2021-05-17",
          "2021-05-24",
          "2021-05-31",
          "2021-06-07",
          "2021-06-14",
          "2021-06-21",
          "2021-06-28",
          "2021-07-05",
          "2021-07-12",
          "2021-07-19",
          "2021-07-26",
          "2021-08-02",
          "2021-08-09",
          "2021-08-16",
          "2021-08-23",
          "2021-08-30",
          "2021-09-06",
          "2021-09-13",
          "2021-09-20",
          "2021-09-27",
          "2021-10-04",
          "2021-10-11",
          "2021-10-18",
          "2021-10-25",
          "2021-11-01",
          "2021-11-08",
          "2021-11-15",
          "2021-11-22",
          "2021-11-29",
          "2021-12-06",
          "2021-12-13",
          "2021-12-20",
          "2021-12-27",
          "2022-01-03",
          "2022-01-10",
          "2022-01-17",
          "2022-01-24",
          "2022-01-31",
          "2022-02-07",
          "2022-02-14",
          "2022-02-21",
          "2022-02-28",
          "2022-03-07",
          "2022-03-14",
          "2022-03-21",
          "2022-03-28",
          "2022-04-04",
          "2022-04-11",
          "2022-04-18",
          "2022-04-25",
          "2022-05-02",
          "2022-05-09",
          "2022-05-16",
          "2022-05-23",
          "2022-05-30",
          "2022-06-06",
          "2022-06-13",
          "2022-06-20",
          "2022-06-27",
          "2022-07-04",
          "2022-07-11",
          "2022-07-18",
          "2022-07-25",
          "2022-08-01",
          "2022-08-08",
          "2022-08-15",
          "2022-08-22",
          "2022-08-29",
          "2022-09-05",
          "2022-09-12",
          "2022-09-19",
          "2022-09-26",
          "2022-10-03",
          "2022-10-10",
          "2022-10-17",
          "2022-10-24",
          "2022-10-31",
          "2022-11-07",
          "2022-11-14",
          "2022-11-21",
          "2022-11-28",
          "2022-12-05",
          "2022-12-12",
          "2022-12-19",
          "2022-12-26",
          "2023-01-02",
          "2023-01-09",
          "2023-01-16",
          "2023-01-23",
          "2023-01-30",
          "2023-02-06",
          "2023-02-13",
          "2023-02-20",
          "2023-02-27",
          "2023-03-06",
          "2023-03-13",
          "2023-03-20",
          "2023-03-27",
          "2023-04-03",
          "2023-04-10",
          "2023-04-17",
          "2023-04-24",
          "2023-05-01",
          "2023-05-08",
          "2023-05-15",
          "2023-05-22",
          "2023-05-29",
          "2023-06-05",
          "2023-06-12",
          "2023-06-19",
          "2023-06-26",
          "2023-07-03",
          "2023-07-10",
          "2023-07-17",
          "2023-07-24",
          "2023-07-31",
          "2023-08-07",
          "2023-08-14",
          "2023-08-21",
          "2023-08-28",
          "2023-09-04",
          "2023-09-11",
          "2023-09-18",
          "2023-09-25",
          "2023-10-02",
          "2023-10-09",
          "2023-10-16",
          "2023-10-23",
          "2023-10-30",
          "2023-11-06",
          "2023-11-13",
          "2023-11-20",
          "2023-11-27",
          "2023-12-04",
          "2023-12-11",
          "2023-12-18",
          "2023-12-25",
          "2024-01-01",
          "2024-01-08",
          "2024-01-15",
          "2024-01-22",
          "2024-01-29",
          "2024-02-05",
          "2024-02-12",
          "2024-02-19",
          "2024-02-26",
          "2024-03-04",
          "2024-03-11",
          "2024-03-18",
          "2024-03-25",
          "2024-04-01",
          "2024-04-08",
          "2024-04-15",
          "2024-04-22",
          "2024-04-29",
          "2024-05-06",
          "2024-05-13",
          "2024-05-20",
          "2024-05-27",
          "2024-06-03",
          "2024-06-10",
          "2024-06-17",
          "2024-06-24",
          "2024-07-01",
          "2024-07-08",
          "2024-07-15",
          "2024-07-22",
          "2024-07-29",
          "2024-08-05",
          "2024-08-12",
          "2024-08-19",
          "2024-08-26",
          "2024-09-02",
          "2024-09-09",
          "2024-09-16",
          "2024-09-23",
          "2024-09-30",
          "2024-10-07",
          "2024-10-14",
          "2024-10-21",
          "2024-10-28",
          "2024-11-04",
          "2024-11-11",
          "2024-11-18",
          "2024-11-25",
          "2024-12-02",
          "2024-12-09",
          "2024-12-16",
          "2024-12-23",
          "2024-12-30",
          "2025-01-06",
          "2025-01-13",
          "2025-01-20",
          "2025-01-27",
          "2025-02-03"
         ],
         "xaxis": "x",
         "y": {
          "bdata": "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",
          "dtype": "f8"
         },
         "yaxis": "y"
        }
       ],
       "layout": {
        "annotations": [
         {
          "font": {
           "size": 16
          },
          "showarrow": false,
          "text": "Exxon Mobile Price with Simple and Weight Moving Average",
          "x": 0.5,
          "xanchor": "center",
          "xref": "paper",
          "y": 1,
          "yanchor": "bottom",
          "yref": "paper"
         },
         {
          "font": {
           "size": 16
          },
          "showarrow": false,
          "text": "Date",
          "x": 0.5,
          "xanchor": "center",
          "xref": "paper",
          "y": 0,
          "yanchor": "top",
          "yref": "paper",
          "yshift": -30
         }
        ],
        "template": {
         "data": {
          "bar": [
           {
            "error_x": {
             "color": "#2a3f5f"
            },
            "error_y": {
             "color": "#2a3f5f"
            },
            "marker": {
             "line": {
              "color": "#E5ECF6",
              "width": 0.5
             },
             "pattern": {
              "fillmode": "overlay",
              "size": 10,
              "solidity": 0.2
             }
            },
            "type": "bar"
           }
          ],
          "barpolar": [
           {
            "marker": {
             "line": {
              "color": "#E5ECF6",
              "width": 0.5
             },
             "pattern": {
              "fillmode": "overlay",
              "size": 10,
              "solidity": 0.2
             }
            },
            "type": "barpolar"
           }
          ],
          "carpet": [
           {
            "aaxis": {
             "endlinecolor": "#2a3f5f",
             "gridcolor": "white",
             "linecolor": "white",
             "minorgridcolor": "white",
             "startlinecolor": "#2a3f5f"
            },
            "baxis": {
             "endlinecolor": "#2a3f5f",
             "gridcolor": "white",
             "linecolor": "white",
             "minorgridcolor": "white",
             "startlinecolor": "#2a3f5f"
            },
            "type": "carpet"
           }
          ],
          "choropleth": [
           {
            "colorbar": {
             "outlinewidth": 0,
             "ticks": ""
            },
            "type": "choropleth"
           }
          ],
          "contour": [
           {
            "colorbar": {
             "outlinewidth": 0,
             "ticks": ""
            },
            "colorscale": [
             [
              0,
              "#0d0887"
             ],
             [
              0.1111111111111111,
              "#46039f"
             ],
             [
              0.2222222222222222,
              "#7201a8"
             ],
             [
              0.3333333333333333,
              "#9c179e"
             ],
             [
              0.4444444444444444,
              "#bd3786"
             ],
             [
              0.5555555555555556,
              "#d8576b"
             ],
             [
              0.6666666666666666,
              "#ed7953"
             ],
             [
              0.7777777777777778,
              "#fb9f3a"
             ],
             [
              0.8888888888888888,
              "#fdca26"
             ],
             [
              1,
              "#f0f921"
             ]
            ],
            "type": "contour"
           }
          ],
          "contourcarpet": [
           {
            "colorbar": {
             "outlinewidth": 0,
             "ticks": ""
            },
            "type": "contourcarpet"
           }
          ],
          "heatmap": [
           {
            "colorbar": {
             "outlinewidth": 0,
             "ticks": ""
            },
            "colorscale": [
             [
              0,
              "#0d0887"
             ],
             [
              0.1111111111111111,
              "#46039f"
             ],
             [
              0.2222222222222222,
              "#7201a8"
             ],
             [
              0.3333333333333333,
              "#9c179e"
             ],
             [
              0.4444444444444444,
              "#bd3786"
             ],
             [
              0.5555555555555556,
              "#d8576b"
             ],
             [
              0.6666666666666666,
              "#ed7953"
             ],
             [
              0.7777777777777778,
              "#fb9f3a"
             ],
             [
              0.8888888888888888,
              "#fdca26"
             ],
             [
              1,
              "#f0f921"
             ]
            ],
            "type": "heatmap"
           }
          ],
          "histogram": [
           {
            "marker": {
             "pattern": {
              "fillmode": "overlay",
              "size": 10,
              "solidity": 0.2
             }
            },
            "type": "histogram"
           }
          ],
          "histogram2d": [
           {
            "colorbar": {
             "outlinewidth": 0,
             "ticks": ""
            },
            "colorscale": [
             [
              0,
              "#0d0887"
             ],
             [
              0.1111111111111111,
              "#46039f"
             ],
             [
              0.2222222222222222,
              "#7201a8"
             ],
             [
              0.3333333333333333,
              "#9c179e"
             ],
             [
              0.4444444444444444,
              "#bd3786"
             ],
             [
              0.5555555555555556,
              "#d8576b"
             ],
             [
              0.6666666666666666,
              "#ed7953"
             ],
             [
              0.7777777777777778,
              "#fb9f3a"
             ],
             [
              0.8888888888888888,
              "#fdca26"
             ],
             [
              1,
              "#f0f921"
             ]
            ],
            "type": "histogram2d"
           }
          ],
          "histogram2dcontour": [
           {
            "colorbar": {
             "outlinewidth": 0,
             "ticks": ""
            },
            "colorscale": [
             [
              0,
              "#0d0887"
             ],
             [
              0.1111111111111111,
              "#46039f"
             ],
             [
              0.2222222222222222,
              "#7201a8"
             ],
             [
              0.3333333333333333,
              "#9c179e"
             ],
             [
              0.4444444444444444,
              "#bd3786"
             ],
             [
              0.5555555555555556,
              "#d8576b"
             ],
             [
              0.6666666666666666,
              "#ed7953"
             ],
             [
              0.7777777777777778,
              "#fb9f3a"
             ],
             [
              0.8888888888888888,
              "#fdca26"
             ],
             [
              1,
              "#f0f921"
             ]
            ],
            "type": "histogram2dcontour"
           }
          ],
          "mesh3d": [
           {
            "colorbar": {
             "outlinewidth": 0,
             "ticks": ""
            },
            "type": "mesh3d"
           }
          ],
          "parcoords": [
           {
            "line": {
             "colorbar": {
              "outlinewidth": 0,
              "ticks": ""
             }
            },
            "type": "parcoords"
           }
          ],
          "pie": [
           {
            "automargin": true,
            "type": "pie"
           }
          ],
          "scatter": [
           {
            "fillpattern": {
             "fillmode": "overlay",
             "size": 10,
             "solidity": 0.2
            },
            "type": "scatter"
           }
          ],
          "scatter3d": [
           {
            "line": {
             "colorbar": {
              "outlinewidth": 0,
              "ticks": ""
             }
            },
            "marker": {
             "colorbar": {
              "outlinewidth": 0,
              "ticks": ""
             }
            },
            "type": "scatter3d"
           }
          ],
          "scattercarpet": [
           {
            "marker": {
             "colorbar": {
              "outlinewidth": 0,
              "ticks": ""
             }
            },
            "type": "scattercarpet"
           }
          ],
          "scattergeo": [
           {
            "marker": {
             "colorbar": {
              "outlinewidth": 0,
              "ticks": ""
             }
            },
            "type": "scattergeo"
           }
          ],
          "scattergl": [
           {
            "marker": {
             "colorbar": {
              "outlinewidth": 0,
              "ticks": ""
             }
            },
            "type": "scattergl"
           }
          ],
          "scattermap": [
           {
            "marker": {
             "colorbar": {
              "outlinewidth": 0,
              "ticks": ""
             }
            },
            "type": "scattermap"
           }
          ],
          "scattermapbox": [
           {
            "marker": {
             "colorbar": {
              "outlinewidth": 0,
              "ticks": ""
             }
            },
            "type": "scattermapbox"
           }
          ],
          "scatterpolar": [
           {
            "marker": {
             "colorbar": {
              "outlinewidth": 0,
              "ticks": ""
             }
            },
            "type": "scatterpolar"
           }
          ],
          "scatterpolargl": [
           {
            "marker": {
             "colorbar": {
              "outlinewidth": 0,
              "ticks": ""
             }
            },
            "type": "scatterpolargl"
           }
          ],
          "scatterternary": [
           {
            "marker": {
             "colorbar": {
              "outlinewidth": 0,
              "ticks": ""
             }
            },
            "type": "scatterternary"
           }
          ],
          "surface": [
           {
            "colorbar": {
             "outlinewidth": 0,
             "ticks": ""
            },
            "colorscale": [
             [
              0,
              "#0d0887"
             ],
             [
              0.1111111111111111,
              "#46039f"
             ],
             [
              0.2222222222222222,
              "#7201a8"
             ],
             [
              0.3333333333333333,
              "#9c179e"
             ],
             [
              0.4444444444444444,
              "#bd3786"
             ],
             [
              0.5555555555555556,
              "#d8576b"
             ],
             [
              0.6666666666666666,
              "#ed7953"
             ],
             [
              0.7777777777777778,
              "#fb9f3a"
             ],
             [
              0.8888888888888888,
              "#fdca26"
             ],
             [
              1,
              "#f0f921"
             ]
            ],
            "type": "surface"
           }
          ],
          "table": [
           {
            "cells": {
             "fill": {
              "color": "#EBF0F8"
             },
             "line": {
              "color": "white"
             }
            },
            "header": {
             "fill": {
              "color": "#C8D4E3"
             },
             "line": {
              "color": "white"
             }
            },
            "type": "table"
           }
          ]
         },
         "layout": {
          "annotationdefaults": {
           "arrowcolor": "#2a3f5f",
           "arrowhead": 0,
           "arrowwidth": 1
          },
          "autotypenumbers": "strict",
          "coloraxis": {
           "colorbar": {
            "outlinewidth": 0,
            "ticks": ""
           }
          },
          "colorscale": {
           "diverging": [
            [
             0,
             "#8e0152"
            ],
            [
             0.1,
             "#c51b7d"
            ],
            [
             0.2,
             "#de77ae"
            ],
            [
             0.3,
             "#f1b6da"
            ],
            [
             0.4,
             "#fde0ef"
            ],
            [
             0.5,
             "#f7f7f7"
            ],
            [
             0.6,
             "#e6f5d0"
            ],
            [
             0.7,
             "#b8e186"
            ],
            [
             0.8,
             "#7fbc41"
            ],
            [
             0.9,
             "#4d9221"
            ],
            [
             1,
             "#276419"
            ]
           ],
           "sequential": [
            [
             0,
             "#0d0887"
            ],
            [
             0.1111111111111111,
             "#46039f"
            ],
            [
             0.2222222222222222,
             "#7201a8"
            ],
            [
             0.3333333333333333,
             "#9c179e"
            ],
            [
             0.4444444444444444,
             "#bd3786"
            ],
            [
             0.5555555555555556,
             "#d8576b"
            ],
            [
             0.6666666666666666,
             "#ed7953"
            ],
            [
             0.7777777777777778,
             "#fb9f3a"
            ],
            [
             0.8888888888888888,
             "#fdca26"
            ],
            [
             1,
             "#f0f921"
            ]
           ],
           "sequentialminus": [
            [
             0,
             "#0d0887"
            ],
            [
             0.1111111111111111,
             "#46039f"
            ],
            [
             0.2222222222222222,
             "#7201a8"
            ],
            [
             0.3333333333333333,
             "#9c179e"
            ],
            [
             0.4444444444444444,
             "#bd3786"
            ],
            [
             0.5555555555555556,
             "#d8576b"
            ],
            [
             0.6666666666666666,
             "#ed7953"
            ],
            [
             0.7777777777777778,
             "#fb9f3a"
            ],
            [
             0.8888888888888888,
             "#fdca26"
            ],
            [
             1,
             "#f0f921"
            ]
           ]
          },
          "colorway": [
           "#636efa",
           "#EF553B",
           "#00cc96",
           "#ab63fa",
           "#FFA15A",
           "#19d3f3",
           "#FF6692",
           "#B6E880",
           "#FF97FF",
           "#FECB52"
          ],
          "font": {
           "color": "#2a3f5f"
          },
          "geo": {
           "bgcolor": "white",
           "lakecolor": "white",
           "landcolor": "#E5ECF6",
           "showlakes": true,
           "showland": true,
           "subunitcolor": "white"
          },
          "hoverlabel": {
           "align": "left"
          },
          "hovermode": "closest",
          "mapbox": {
           "style": "light"
          },
          "paper_bgcolor": "white",
          "plot_bgcolor": "#E5ECF6",
          "polar": {
           "angularaxis": {
            "gridcolor": "white",
            "linecolor": "white",
            "ticks": ""
           },
           "bgcolor": "#E5ECF6",
           "radialaxis": {
            "gridcolor": "white",
            "linecolor": "white",
            "ticks": ""
           }
          },
          "scene": {
           "xaxis": {
            "backgroundcolor": "#E5ECF6",
            "gridcolor": "white",
            "gridwidth": 2,
            "linecolor": "white",
            "showbackground": true,
            "ticks": "",
            "zerolinecolor": "white"
           },
           "yaxis": {
            "backgroundcolor": "#E5ECF6",
            "gridcolor": "white",
            "gridwidth": 2,
            "linecolor": "white",
            "showbackground": true,
            "ticks": "",
            "zerolinecolor": "white"
           },
           "zaxis": {
            "backgroundcolor": "#E5ECF6",
            "gridcolor": "white",
            "gridwidth": 2,
            "linecolor": "white",
            "showbackground": true,
            "ticks": "",
            "zerolinecolor": "white"
           }
          },
          "shapedefaults": {
           "line": {
            "color": "#2a3f5f"
           }
          },
          "ternary": {
           "aaxis": {
            "gridcolor": "white",
            "linecolor": "white",
            "ticks": ""
           },
           "baxis": {
            "gridcolor": "white",
            "linecolor": "white",
            "ticks": ""
           },
           "bgcolor": "#E5ECF6",
           "caxis": {
            "gridcolor": "white",
            "linecolor": "white",
            "ticks": ""
           }
          },
          "title": {
           "x": 0.05
          },
          "xaxis": {
           "automargin": true,
           "gridcolor": "white",
           "linecolor": "white",
           "ticks": "",
           "title": {
            "standoff": 15
           },
           "zerolinecolor": "white",
           "zerolinewidth": 2
          },
          "yaxis": {
           "automargin": true,
           "gridcolor": "white",
           "linecolor": "white",
           "ticks": "",
           "title": {
            "standoff": 15
           },
           "zerolinecolor": "white",
           "zerolinewidth": 2
          }
         }
        },
        "xaxis": {
         "anchor": "y",
         "domain": [
          0,
          1
         ]
        },
        "yaxis": {
         "anchor": "x",
         "domain": [
          0,
          1
         ]
        }
       }
      }
     },
     "metadata": {},
     "output_type": "display_data"
    }
   ],
   "source": [
    "figure7 = make_subplots(1, 1, shared_xaxes=True, x_title='Date', subplot_titles=['Exxon Mobile Price with Simple and Weight Moving Average'])\n",
    "\n",
    "figure7.add_trace(\n",
    "    go.Scatter(x=xomDF.index, y=xomDF['Close'], mode='lines', name='Close Price'), 1, 1\n",
    ")\n",
    "\n",
    "figure7.add_trace(\n",
    "    go.Scatter(x=xomDF.index, y=xomDF['SMA'], mode='lines', name='Simple Moving Average'), 1, 1\n",
    ")\n",
    "\n",
    "figure7.add_trace(\n",
    "    go.Scatter(x=xomDF.index, y=xomDF['WMA'], mode='lines', name='Weighted Moving Average'), 1, 1\n",
    ")\n",
    "\n",
    "figure7.show()"
   ]
  },
  {
   "cell_type": "code",
   "execution_count": 76,
   "metadata": {},
   "outputs": [
    {
     "data": {
      "application/vnd.plotly.v1+json": {
       "config": {
        "plotlyServerURL": "https://plot.ly"
       },
       "data": [
        {
         "mode": "lines",
         "name": "BofA",
         "type": "scatter",
         "x": [
          "2015-02-02",
          "2015-02-09",
          "2015-02-16",
          "2015-02-23",
          "2015-03-02",
          "2015-03-09",
          "2015-03-16",
          "2015-03-23",
          "2015-03-30",
          "2015-04-06",
          "2015-04-13",
          "2015-04-20",
          "2015-04-27",
          "2015-05-04",
          "2015-05-11",
          "2015-05-18",
          "2015-05-25",
          "2015-06-01",
          "2015-06-08",
          "2015-06-15",
          "2015-06-22",
          "2015-06-29",
          "2015-07-06",
          "2015-07-13",
          "2015-07-20",
          "2015-07-27",
          "2015-08-03",
          "2015-08-10",
          "2015-08-17",
          "2015-08-24",
          "2015-08-31",
          "2015-09-07",
          "2015-09-14",
          "2015-09-21",
          "2015-09-28",
          "2015-10-05",
          "2015-10-12",
          "2015-10-19",
          "2015-10-26",
          "2015-11-02",
          "2015-11-09",
          "2015-11-16",
          "2015-11-23",
          "2015-11-30",
          "2015-12-07",
          "2015-12-14",
          "2015-12-21",
          "2015-12-28",
          "2016-01-04",
          "2016-01-11",
          "2016-01-18",
          "2016-01-25",
          "2016-02-01",
          "2016-02-08",
          "2016-02-15",
          "2016-02-22",
          "2016-02-29",
          "2016-03-07",
          "2016-03-14",
          "2016-03-21",
          "2016-03-28",
          "2016-04-04",
          "2016-04-11",
          "2016-04-18",
          "2016-04-25",
          "2016-05-02",
          "2016-05-09",
          "2016-05-16",
          "2016-05-23",
          "2016-05-30",
          "2016-06-06",
          "2016-06-13",
          "2016-06-20",
          "2016-06-27",
          "2016-07-04",
          "2016-07-11",
          "2016-07-18",
          "2016-07-25",
          "2016-08-01",
          "2016-08-08",
          "2016-08-15",
          "2016-08-22",
          "2016-08-29",
          "2016-09-05",
          "2016-09-12",
          "2016-09-19",
          "2016-09-26",
          "2016-10-03",
          "2016-10-10",
          "2016-10-17",
          "2016-10-24",
          "2016-10-31",
          "2016-11-07",
          "2016-11-14",
          "2016-11-21",
          "2016-11-28",
          "2016-12-05",
          "2016-12-12",
          "2016-12-19",
          "2016-12-26",
          "2017-01-02",
          "2017-01-09",
          "2017-01-16",
          "2017-01-23",
          "2017-01-30",
          "2017-02-06",
          "2017-02-13",
          "2017-02-20",
          "2017-02-27",
          "2017-03-06",
          "2017-03-13",
          "2017-03-20",
          "2017-03-27",
          "2017-04-03",
          "2017-04-10",
          "2017-04-17",
          "2017-04-24",
          "2017-05-01",
          "2017-05-08",
          "2017-05-15",
          "2017-05-22",
          "2017-05-29",
          "2017-06-05",
          "2017-06-12",
          "2017-06-19",
          "2017-06-26",
          "2017-07-03",
          "2017-07-10",
          "2017-07-17",
          "2017-07-24",
          "2017-07-31",
          "2017-08-07",
          "2017-08-14",
          "2017-08-21",
          "2017-08-28",
          "2017-09-04",
          "2017-09-11",
          "2017-09-18",
          "2017-09-25",
          "2017-10-02",
          "2017-10-09",
          "2017-10-16",
          "2017-10-23",
          "2017-10-30",
          "2017-11-06",
          "2017-11-13",
          "2017-11-20",
          "2017-11-27",
          "2017-12-04",
          "2017-12-11",
          "2017-12-18",
          "2017-12-25",
          "2018-01-01",
          "2018-01-08",
          "2018-01-15",
          "2018-01-22",
          "2018-01-29",
          "2018-02-05",
          "2018-02-12",
          "2018-02-19",
          "2018-02-26",
          "2018-03-05",
          "2018-03-12",
          "2018-03-19",
          "2018-03-26",
          "2018-04-02",
          "2018-04-09",
          "2018-04-16",
          "2018-04-23",
          "2018-04-30",
          "2018-05-07",
          "2018-05-14",
          "2018-05-21",
          "2018-05-28",
          "2018-06-04",
          "2018-06-11",
          "2018-06-18",
          "2018-06-25",
          "2018-07-02",
          "2018-07-09",
          "2018-07-16",
          "2018-07-23",
          "2018-07-30",
          "2018-08-06",
          "2018-08-13",
          "2018-08-20",
          "2018-08-27",
          "2018-09-03",
          "2018-09-10",
          "2018-09-17",
          "2018-09-24",
          "2018-10-01",
          "2018-10-08",
          "2018-10-15",
          "2018-10-22",
          "2018-10-29",
          "2018-11-05",
          "2018-11-12",
          "2018-11-19",
          "2018-11-26",
          "2018-12-03",
          "2018-12-10",
          "2018-12-17",
          "2018-12-24",
          "2018-12-31",
          "2019-01-07",
          "2019-01-14",
          "2019-01-21",
          "2019-01-28",
          "2019-02-04",
          "2019-02-11",
          "2019-02-18",
          "2019-02-25",
          "2019-03-04",
          "2019-03-11",
          "2019-03-18",
          "2019-03-25",
          "2019-04-01",
          "2019-04-08",
          "2019-04-15",
          "2019-04-22",
          "2019-04-29",
          "2019-05-06",
          "2019-05-13",
          "2019-05-20",
          "2019-05-27",
          "2019-06-03",
          "2019-06-10",
          "2019-06-17",
          "2019-06-24",
          "2019-07-01",
          "2019-07-08",
          "2019-07-15",
          "2019-07-22",
          "2019-07-29",
          "2019-08-05",
          "2019-08-12",
          "2019-08-19",
          "2019-08-26",
          "2019-09-02",
          "2019-09-09",
          "2019-09-16",
          "2019-09-23",
          "2019-09-30",
          "2019-10-07",
          "2019-10-14",
          "2019-10-21",
          "2019-10-28",
          "2019-11-04",
          "2019-11-11",
          "2019-11-18",
          "2019-11-25",
          "2019-12-02",
          "2019-12-09",
          "2019-12-16",
          "2019-12-23",
          "2019-12-30",
          "2020-01-06",
          "2020-01-13",
          "2020-01-20",
          "2020-01-27",
          "2020-02-03",
          "2020-02-10",
          "2020-02-17",
          "2020-02-24",
          "2020-03-02",
          "2020-03-09",
          "2020-03-16",
          "2020-03-23",
          "2020-03-30",
          "2020-04-06",
          "2020-04-13",
          "2020-04-20",
          "2020-04-27",
          "2020-05-04",
          "2020-05-11",
          "2020-05-18",
          "2020-05-25",
          "2020-06-01",
          "2020-06-08",
          "2020-06-15",
          "2020-06-22",
          "2020-06-29",
          "2020-07-06",
          "2020-07-13",
          "2020-07-20",
          "2020-07-27",
          "2020-08-03",
          "2020-08-10",
          "2020-08-17",
          "2020-08-24",
          "2020-08-31",
          "2020-09-07",
          "2020-09-14",
          "2020-09-21",
          "2020-09-28",
          "2020-10-05",
          "2020-10-12",
          "2020-10-19",
          "2020-10-26",
          "2020-11-02",
          "2020-11-09",
          "2020-11-16",
          "2020-11-23",
          "2020-11-30",
          "2020-12-07",
          "2020-12-14",
          "2020-12-21",
          "2020-12-28",
          "2021-01-04",
          "2021-01-11",
          "2021-01-18",
          "2021-01-25",
          "2021-02-01",
          "2021-02-08",
          "2021-02-15",
          "2021-02-22",
          "2021-03-01",
          "2021-03-08",
          "2021-03-15",
          "2021-03-22",
          "2021-03-29",
          "2021-04-05",
          "2021-04-12",
          "2021-04-19",
          "2021-04-26",
          "2021-05-03",
          "2021-05-10",
          "2021-05-17",
          "2021-05-24",
          "2021-05-31",
          "2021-06-07",
          "2021-06-14",
          "2021-06-21",
          "2021-06-28",
          "2021-07-05",
          "2021-07-12",
          "2021-07-19",
          "2021-07-26",
          "2021-08-02",
          "2021-08-09",
          "2021-08-16",
          "2021-08-23",
          "2021-08-30",
          "2021-09-06",
          "2021-09-13",
          "2021-09-20",
          "2021-09-27",
          "2021-10-04",
          "2021-10-11",
          "2021-10-18",
          "2021-10-25",
          "2021-11-01",
          "2021-11-08",
          "2021-11-15",
          "2021-11-22",
          "2021-11-29",
          "2021-12-06",
          "2021-12-13",
          "2021-12-20",
          "2021-12-27",
          "2022-01-03",
          "2022-01-10",
          "2022-01-17",
          "2022-01-24",
          "2022-01-31",
          "2022-02-07",
          "2022-02-14",
          "2022-02-21",
          "2022-02-28",
          "2022-03-07",
          "2022-03-14",
          "2022-03-21",
          "2022-03-28",
          "2022-04-04",
          "2022-04-11",
          "2022-04-18",
          "2022-04-25",
          "2022-05-02",
          "2022-05-09",
          "2022-05-16",
          "2022-05-23",
          "2022-05-30",
          "2022-06-06",
          "2022-06-13",
          "2022-06-20",
          "2022-06-27",
          "2022-07-04",
          "2022-07-11",
          "2022-07-18",
          "2022-07-25",
          "2022-08-01",
          "2022-08-08",
          "2022-08-15",
          "2022-08-22",
          "2022-08-29",
          "2022-09-05",
          "2022-09-12",
          "2022-09-19",
          "2022-09-26",
          "2022-10-03",
          "2022-10-10",
          "2022-10-17",
          "2022-10-24",
          "2022-10-31",
          "2022-11-07",
          "2022-11-14",
          "2022-11-21",
          "2022-11-28",
          "2022-12-05",
          "2022-12-12",
          "2022-12-19",
          "2022-12-26",
          "2023-01-02",
          "2023-01-09",
          "2023-01-16",
          "2023-01-23",
          "2023-01-30",
          "2023-02-06",
          "2023-02-13",
          "2023-02-20",
          "2023-02-27",
          "2023-03-06",
          "2023-03-13",
          "2023-03-20",
          "2023-03-27",
          "2023-04-03",
          "2023-04-10",
          "2023-04-17",
          "2023-04-24",
          "2023-05-01",
          "2023-05-08",
          "2023-05-15",
          "2023-05-22",
          "2023-05-29",
          "2023-06-05",
          "2023-06-12",
          "2023-06-19",
          "2023-06-26",
          "2023-07-03",
          "2023-07-10",
          "2023-07-17",
          "2023-07-24",
          "2023-07-31",
          "2023-08-07",
          "2023-08-14",
          "2023-08-21",
          "2023-08-28",
          "2023-09-04",
          "2023-09-11",
          "2023-09-18",
          "2023-09-25",
          "2023-10-02",
          "2023-10-09",
          "2023-10-16",
          "2023-10-23",
          "2023-10-30",
          "2023-11-06",
          "2023-11-13",
          "2023-11-20",
          "2023-11-27",
          "2023-12-04",
          "2023-12-11",
          "2023-12-18",
          "2023-12-25",
          "2024-01-01",
          "2024-01-08",
          "2024-01-15",
          "2024-01-22",
          "2024-01-29",
          "2024-02-05",
          "2024-02-12",
          "2024-02-19",
          "2024-02-26",
          "2024-03-04",
          "2024-03-11",
          "2024-03-18",
          "2024-03-25",
          "2024-04-01",
          "2024-04-08",
          "2024-04-15",
          "2024-04-22",
          "2024-04-29",
          "2024-05-06",
          "2024-05-13",
          "2024-05-20",
          "2024-05-27",
          "2024-06-03",
          "2024-06-10",
          "2024-06-17",
          "2024-06-24",
          "2024-07-01",
          "2024-07-08",
          "2024-07-15",
          "2024-07-22",
          "2024-07-29",
          "2024-08-05",
          "2024-08-12",
          "2024-08-19",
          "2024-08-26",
          "2024-09-02",
          "2024-09-09",
          "2024-09-16",
          "2024-09-23",
          "2024-09-30",
          "2024-10-07",
          "2024-10-14",
          "2024-10-21",
          "2024-10-28",
          "2024-11-04",
          "2024-11-11",
          "2024-11-18",
          "2024-11-25",
          "2024-12-02",
          "2024-12-09",
          "2024-12-16",
          "2024-12-23",
          "2024-12-30",
          "2025-01-06",
          "2025-01-13",
          "2025-01-20",
          "2025-01-27",
          "2025-02-03"
         ],
         "xaxis": "x",
         "y": {
          "bdata": "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",
          "dtype": "f8"
         },
         "yaxis": "y"
        },
        {
         "mode": "lines",
         "name": "Money Flow Index",
         "type": "scatter",
         "x": [
          "2015-02-02",
          "2015-02-09",
          "2015-02-16",
          "2015-02-23",
          "2015-03-02",
          "2015-03-09",
          "2015-03-16",
          "2015-03-23",
          "2015-03-30",
          "2015-04-06",
          "2015-04-13",
          "2015-04-20",
          "2015-04-27",
          "2015-05-04",
          "2015-05-11",
          "2015-05-18",
          "2015-05-25",
          "2015-06-01",
          "2015-06-08",
          "2015-06-15",
          "2015-06-22",
          "2015-06-29",
          "2015-07-06",
          "2015-07-13",
          "2015-07-20",
          "2015-07-27",
          "2015-08-03",
          "2015-08-10",
          "2015-08-17",
          "2015-08-24",
          "2015-08-31",
          "2015-09-07",
          "2015-09-14",
          "2015-09-21",
          "2015-09-28",
          "2015-10-05",
          "2015-10-12",
          "2015-10-19",
          "2015-10-26",
          "2015-11-02",
          "2015-11-09",
          "2015-11-16",
          "2015-11-23",
          "2015-11-30",
          "2015-12-07",
          "2015-12-14",
          "2015-12-21",
          "2015-12-28",
          "2016-01-04",
          "2016-01-11",
          "2016-01-18",
          "2016-01-25",
          "2016-02-01",
          "2016-02-08",
          "2016-02-15",
          "2016-02-22",
          "2016-02-29",
          "2016-03-07",
          "2016-03-14",
          "2016-03-21",
          "2016-03-28",
          "2016-04-04",
          "2016-04-11",
          "2016-04-18",
          "2016-04-25",
          "2016-05-02",
          "2016-05-09",
          "2016-05-16",
          "2016-05-23",
          "2016-05-30",
          "2016-06-06",
          "2016-06-13",
          "2016-06-20",
          "2016-06-27",
          "2016-07-04",
          "2016-07-11",
          "2016-07-18",
          "2016-07-25",
          "2016-08-01",
          "2016-08-08",
          "2016-08-15",
          "2016-08-22",
          "2016-08-29",
          "2016-09-05",
          "2016-09-12",
          "2016-09-19",
          "2016-09-26",
          "2016-10-03",
          "2016-10-10",
          "2016-10-17",
          "2016-10-24",
          "2016-10-31",
          "2016-11-07",
          "2016-11-14",
          "2016-11-21",
          "2016-11-28",
          "2016-12-05",
          "2016-12-12",
          "2016-12-19",
          "2016-12-26",
          "2017-01-02",
          "2017-01-09",
          "2017-01-16",
          "2017-01-23",
          "2017-01-30",
          "2017-02-06",
          "2017-02-13",
          "2017-02-20",
          "2017-02-27",
          "2017-03-06",
          "2017-03-13",
          "2017-03-20",
          "2017-03-27",
          "2017-04-03",
          "2017-04-10",
          "2017-04-17",
          "2017-04-24",
          "2017-05-01",
          "2017-05-08",
          "2017-05-15",
          "2017-05-22",
          "2017-05-29",
          "2017-06-05",
          "2017-06-12",
          "2017-06-19",
          "2017-06-26",
          "2017-07-03",
          "2017-07-10",
          "2017-07-17",
          "2017-07-24",
          "2017-07-31",
          "2017-08-07",
          "2017-08-14",
          "2017-08-21",
          "2017-08-28",
          "2017-09-04",
          "2017-09-11",
          "2017-09-18",
          "2017-09-25",
          "2017-10-02",
          "2017-10-09",
          "2017-10-16",
          "2017-10-23",
          "2017-10-30",
          "2017-11-06",
          "2017-11-13",
          "2017-11-20",
          "2017-11-27",
          "2017-12-04",
          "2017-12-11",
          "2017-12-18",
          "2017-12-25",
          "2018-01-01",
          "2018-01-08",
          "2018-01-15",
          "2018-01-22",
          "2018-01-29",
          "2018-02-05",
          "2018-02-12",
          "2018-02-19",
          "2018-02-26",
          "2018-03-05",
          "2018-03-12",
          "2018-03-19",
          "2018-03-26",
          "2018-04-02",
          "2018-04-09",
          "2018-04-16",
          "2018-04-23",
          "2018-04-30",
          "2018-05-07",
          "2018-05-14",
          "2018-05-21",
          "2018-05-28",
          "2018-06-04",
          "2018-06-11",
          "2018-06-18",
          "2018-06-25",
          "2018-07-02",
          "2018-07-09",
          "2018-07-16",
          "2018-07-23",
          "2018-07-30",
          "2018-08-06",
          "2018-08-13",
          "2018-08-20",
          "2018-08-27",
          "2018-09-03",
          "2018-09-10",
          "2018-09-17",
          "2018-09-24",
          "2018-10-01",
          "2018-10-08",
          "2018-10-15",
          "2018-10-22",
          "2018-10-29",
          "2018-11-05",
          "2018-11-12",
          "2018-11-19",
          "2018-11-26",
          "2018-12-03",
          "2018-12-10",
          "2018-12-17",
          "2018-12-24",
          "2018-12-31",
          "2019-01-07",
          "2019-01-14",
          "2019-01-21",
          "2019-01-28",
          "2019-02-04",
          "2019-02-11",
          "2019-02-18",
          "2019-02-25",
          "2019-03-04",
          "2019-03-11",
          "2019-03-18",
          "2019-03-25",
          "2019-04-01",
          "2019-04-08",
          "2019-04-15",
          "2019-04-22",
          "2019-04-29",
          "2019-05-06",
          "2019-05-13",
          "2019-05-20",
          "2019-05-27",
          "2019-06-03",
          "2019-06-10",
          "2019-06-17",
          "2019-06-24",
          "2019-07-01",
          "2019-07-08",
          "2019-07-15",
          "2019-07-22",
          "2019-07-29",
          "2019-08-05",
          "2019-08-12",
          "2019-08-19",
          "2019-08-26",
          "2019-09-02",
          "2019-09-09",
          "2019-09-16",
          "2019-09-23",
          "2019-09-30",
          "2019-10-07",
          "2019-10-14",
          "2019-10-21",
          "2019-10-28",
          "2019-11-04",
          "2019-11-11",
          "2019-11-18",
          "2019-11-25",
          "2019-12-02",
          "2019-12-09",
          "2019-12-16",
          "2019-12-23",
          "2019-12-30",
          "2020-01-06",
          "2020-01-13",
          "2020-01-20",
          "2020-01-27",
          "2020-02-03",
          "2020-02-10",
          "2020-02-17",
          "2020-02-24",
          "2020-03-02",
          "2020-03-09",
          "2020-03-16",
          "2020-03-23",
          "2020-03-30",
          "2020-04-06",
          "2020-04-13",
          "2020-04-20",
          "2020-04-27",
          "2020-05-04",
          "2020-05-11",
          "2020-05-18",
          "2020-05-25",
          "2020-06-01",
          "2020-06-08",
          "2020-06-15",
          "2020-06-22",
          "2020-06-29",
          "2020-07-06",
          "2020-07-13",
          "2020-07-20",
          "2020-07-27",
          "2020-08-03",
          "2020-08-10",
          "2020-08-17",
          "2020-08-24",
          "2020-08-31",
          "2020-09-07",
          "2020-09-14",
          "2020-09-21",
          "2020-09-28",
          "2020-10-05",
          "2020-10-12",
          "2020-10-19",
          "2020-10-26",
          "2020-11-02",
          "2020-11-09",
          "2020-11-16",
          "2020-11-23",
          "2020-11-30",
          "2020-12-07",
          "2020-12-14",
          "2020-12-21",
          "2020-12-28",
          "2021-01-04",
          "2021-01-11",
          "2021-01-18",
          "2021-01-25",
          "2021-02-01",
          "2021-02-08",
          "2021-02-15",
          "2021-02-22",
          "2021-03-01",
          "2021-03-08",
          "2021-03-15",
          "2021-03-22",
          "2021-03-29",
          "2021-04-05",
          "2021-04-12",
          "2021-04-19",
          "2021-04-26",
          "2021-05-03",
          "2021-05-10",
          "2021-05-17",
          "2021-05-24",
          "2021-05-31",
          "2021-06-07",
          "2021-06-14",
          "2021-06-21",
          "2021-06-28",
          "2021-07-05",
          "2021-07-12",
          "2021-07-19",
          "2021-07-26",
          "2021-08-02",
          "2021-08-09",
          "2021-08-16",
          "2021-08-23",
          "2021-08-30",
          "2021-09-06",
          "2021-09-13",
          "2021-09-20",
          "2021-09-27",
          "2021-10-04",
          "2021-10-11",
          "2021-10-18",
          "2021-10-25",
          "2021-11-01",
          "2021-11-08",
          "2021-11-15",
          "2021-11-22",
          "2021-11-29",
          "2021-12-06",
          "2021-12-13",
          "2021-12-20",
          "2021-12-27",
          "2022-01-03",
          "2022-01-10",
          "2022-01-17",
          "2022-01-24",
          "2022-01-31",
          "2022-02-07",
          "2022-02-14",
          "2022-02-21",
          "2022-02-28",
          "2022-03-07",
          "2022-03-14",
          "2022-03-21",
          "2022-03-28",
          "2022-04-04",
          "2022-04-11",
          "2022-04-18",
          "2022-04-25",
          "2022-05-02",
          "2022-05-09",
          "2022-05-16",
          "2022-05-23",
          "2022-05-30",
          "2022-06-06",
          "2022-06-13",
          "2022-06-20",
          "2022-06-27",
          "2022-07-04",
          "2022-07-11",
          "2022-07-18",
          "2022-07-25",
          "2022-08-01",
          "2022-08-08",
          "2022-08-15",
          "2022-08-22",
          "2022-08-29",
          "2022-09-05",
          "2022-09-12",
          "2022-09-19",
          "2022-09-26",
          "2022-10-03",
          "2022-10-10",
          "2022-10-17",
          "2022-10-24",
          "2022-10-31",
          "2022-11-07",
          "2022-11-14",
          "2022-11-21",
          "2022-11-28",
          "2022-12-05",
          "2022-12-12",
          "2022-12-19",
          "2022-12-26",
          "2023-01-02",
          "2023-01-09",
          "2023-01-16",
          "2023-01-23",
          "2023-01-30",
          "2023-02-06",
          "2023-02-13",
          "2023-02-20",
          "2023-02-27",
          "2023-03-06",
          "2023-03-13",
          "2023-03-20",
          "2023-03-27",
          "2023-04-03",
          "2023-04-10",
          "2023-04-17",
          "2023-04-24",
          "2023-05-01",
          "2023-05-08",
          "2023-05-15",
          "2023-05-22",
          "2023-05-29",
          "2023-06-05",
          "2023-06-12",
          "2023-06-19",
          "2023-06-26",
          "2023-07-03",
          "2023-07-10",
          "2023-07-17",
          "2023-07-24",
          "2023-07-31",
          "2023-08-07",
          "2023-08-14",
          "2023-08-21",
          "2023-08-28",
          "2023-09-04",
          "2023-09-11",
          "2023-09-18",
          "2023-09-25",
          "2023-10-02",
          "2023-10-09",
          "2023-10-16",
          "2023-10-23",
          "2023-10-30",
          "2023-11-06",
          "2023-11-13",
          "2023-11-20",
          "2023-11-27",
          "2023-12-04",
          "2023-12-11",
          "2023-12-18",
          "2023-12-25",
          "2024-01-01",
          "2024-01-08",
          "2024-01-15",
          "2024-01-22",
          "2024-01-29",
          "2024-02-05",
          "2024-02-12",
          "2024-02-19",
          "2024-02-26",
          "2024-03-04",
          "2024-03-11",
          "2024-03-18",
          "2024-03-25",
          "2024-04-01",
          "2024-04-08",
          "2024-04-15",
          "2024-04-22",
          "2024-04-29",
          "2024-05-06",
          "2024-05-13",
          "2024-05-20",
          "2024-05-27",
          "2024-06-03",
          "2024-06-10",
          "2024-06-17",
          "2024-06-24",
          "2024-07-01",
          "2024-07-08",
          "2024-07-15",
          "2024-07-22",
          "2024-07-29",
          "2024-08-05",
          "2024-08-12",
          "2024-08-19",
          "2024-08-26",
          "2024-09-02",
          "2024-09-09",
          "2024-09-16",
          "2024-09-23",
          "2024-09-30",
          "2024-10-07",
          "2024-10-14",
          "2024-10-21",
          "2024-10-28",
          "2024-11-04",
          "2024-11-11",
          "2024-11-18",
          "2024-11-25",
          "2024-12-02",
          "2024-12-09",
          "2024-12-16",
          "2024-12-23",
          "2024-12-30",
          "2025-01-06",
          "2025-01-13",
          "2025-01-20",
          "2025-01-27",
          "2025-02-03"
         ],
         "xaxis": "x2",
         "y": {
          "bdata": "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",
          "dtype": "f8"
         },
         "yaxis": "y2"
        },
        {
         "mode": "lines",
         "name": "Top Threshold",
         "type": "scatter",
         "x": [
          "2015-02-02",
          "2015-02-09",
          "2015-02-16",
          "2015-02-23",
          "2015-03-02",
          "2015-03-09",
          "2015-03-16",
          "2015-03-23",
          "2015-03-30",
          "2015-04-06",
          "2015-04-13",
          "2015-04-20",
          "2015-04-27",
          "2015-05-04",
          "2015-05-11",
          "2015-05-18",
          "2015-05-25",
          "2015-06-01",
          "2015-06-08",
          "2015-06-15",
          "2015-06-22",
          "2015-06-29",
          "2015-07-06",
          "2015-07-13",
          "2015-07-20",
          "2015-07-27",
          "2015-08-03",
          "2015-08-10",
          "2015-08-17",
          "2015-08-24",
          "2015-08-31",
          "2015-09-07",
          "2015-09-14",
          "2015-09-21",
          "2015-09-28",
          "2015-10-05",
          "2015-10-12",
          "2015-10-19",
          "2015-10-26",
          "2015-11-02",
          "2015-11-09",
          "2015-11-16",
          "2015-11-23",
          "2015-11-30",
          "2015-12-07",
          "2015-12-14",
          "2015-12-21",
          "2015-12-28",
          "2016-01-04",
          "2016-01-11",
          "2016-01-18",
          "2016-01-25",
          "2016-02-01",
          "2016-02-08",
          "2016-02-15",
          "2016-02-22",
          "2016-02-29",
          "2016-03-07",
          "2016-03-14",
          "2016-03-21",
          "2016-03-28",
          "2016-04-04",
          "2016-04-11",
          "2016-04-18",
          "2016-04-25",
          "2016-05-02",
          "2016-05-09",
          "2016-05-16",
          "2016-05-23",
          "2016-05-30",
          "2016-06-06",
          "2016-06-13",
          "2016-06-20",
          "2016-06-27",
          "2016-07-04",
          "2016-07-11",
          "2016-07-18",
          "2016-07-25",
          "2016-08-01",
          "2016-08-08",
          "2016-08-15",
          "2016-08-22",
          "2016-08-29",
          "2016-09-05",
          "2016-09-12",
          "2016-09-19",
          "2016-09-26",
          "2016-10-03",
          "2016-10-10",
          "2016-10-17",
          "2016-10-24",
          "2016-10-31",
          "2016-11-07",
          "2016-11-14",
          "2016-11-21",
          "2016-11-28",
          "2016-12-05",
          "2016-12-12",
          "2016-12-19",
          "2016-12-26",
          "2017-01-02",
          "2017-01-09",
          "2017-01-16",
          "2017-01-23",
          "2017-01-30",
          "2017-02-06",
          "2017-02-13",
          "2017-02-20",
          "2017-02-27",
          "2017-03-06",
          "2017-03-13",
          "2017-03-20",
          "2017-03-27",
          "2017-04-03",
          "2017-04-10",
          "2017-04-17",
          "2017-04-24",
          "2017-05-01",
          "2017-05-08",
          "2017-05-15",
          "2017-05-22",
          "2017-05-29",
          "2017-06-05",
          "2017-06-12",
          "2017-06-19",
          "2017-06-26",
          "2017-07-03",
          "2017-07-10",
          "2017-07-17",
          "2017-07-24",
          "2017-07-31",
          "2017-08-07",
          "2017-08-14",
          "2017-08-21",
          "2017-08-28",
          "2017-09-04",
          "2017-09-11",
          "2017-09-18",
          "2017-09-25",
          "2017-10-02",
          "2017-10-09",
          "2017-10-16",
          "2017-10-23",
          "2017-10-30",
          "2017-11-06",
          "2017-11-13",
          "2017-11-20",
          "2017-11-27",
          "2017-12-04",
          "2017-12-11",
          "2017-12-18",
          "2017-12-25",
          "2018-01-01",
          "2018-01-08",
          "2018-01-15",
          "2018-01-22",
          "2018-01-29",
          "2018-02-05",
          "2018-02-12",
          "2018-02-19",
          "2018-02-26",
          "2018-03-05",
          "2018-03-12",
          "2018-03-19",
          "2018-03-26",
          "2018-04-02",
          "2018-04-09",
          "2018-04-16",
          "2018-04-23",
          "2018-04-30",
          "2018-05-07",
          "2018-05-14",
          "2018-05-21",
          "2018-05-28",
          "2018-06-04",
          "2018-06-11",
          "2018-06-18",
          "2018-06-25",
          "2018-07-02",
          "2018-07-09",
          "2018-07-16",
          "2018-07-23",
          "2018-07-30",
          "2018-08-06",
          "2018-08-13",
          "2018-08-20",
          "2018-08-27",
          "2018-09-03",
          "2018-09-10",
          "2018-09-17",
          "2018-09-24",
          "2018-10-01",
          "2018-10-08",
          "2018-10-15",
          "2018-10-22",
          "2018-10-29",
          "2018-11-05",
          "2018-11-12",
          "2018-11-19",
          "2018-11-26",
          "2018-12-03",
          "2018-12-10",
          "2018-12-17",
          "2018-12-24",
          "2018-12-31",
          "2019-01-07",
          "2019-01-14",
          "2019-01-21",
          "2019-01-28",
          "2019-02-04",
          "2019-02-11",
          "2019-02-18",
          "2019-02-25",
          "2019-03-04",
          "2019-03-11",
          "2019-03-18",
          "2019-03-25",
          "2019-04-01",
          "2019-04-08",
          "2019-04-15",
          "2019-04-22",
          "2019-04-29",
          "2019-05-06",
          "2019-05-13",
          "2019-05-20",
          "2019-05-27",
          "2019-06-03",
          "2019-06-10",
          "2019-06-17",
          "2019-06-24",
          "2019-07-01",
          "2019-07-08",
          "2019-07-15",
          "2019-07-22",
          "2019-07-29",
          "2019-08-05",
          "2019-08-12",
          "2019-08-19",
          "2019-08-26",
          "2019-09-02",
          "2019-09-09",
          "2019-09-16",
          "2019-09-23",
          "2019-09-30",
          "2019-10-07",
          "2019-10-14",
          "2019-10-21",
          "2019-10-28",
          "2019-11-04",
          "2019-11-11",
          "2019-11-18",
          "2019-11-25",
          "2019-12-02",
          "2019-12-09",
          "2019-12-16",
          "2019-12-23",
          "2019-12-30",
          "2020-01-06",
          "2020-01-13",
          "2020-01-20",
          "2020-01-27",
          "2020-02-03",
          "2020-02-10",
          "2020-02-17",
          "2020-02-24",
          "2020-03-02",
          "2020-03-09",
          "2020-03-16",
          "2020-03-23",
          "2020-03-30",
          "2020-04-06",
          "2020-04-13",
          "2020-04-20",
          "2020-04-27",
          "2020-05-04",
          "2020-05-11",
          "2020-05-18",
          "2020-05-25",
          "2020-06-01",
          "2020-06-08",
          "2020-06-15",
          "2020-06-22",
          "2020-06-29",
          "2020-07-06",
          "2020-07-13",
          "2020-07-20",
          "2020-07-27",
          "2020-08-03",
          "2020-08-10",
          "2020-08-17",
          "2020-08-24",
          "2020-08-31",
          "2020-09-07",
          "2020-09-14",
          "2020-09-21",
          "2020-09-28",
          "2020-10-05",
          "2020-10-12",
          "2020-10-19",
          "2020-10-26",
          "2020-11-02",
          "2020-11-09",
          "2020-11-16",
          "2020-11-23",
          "2020-11-30",
          "2020-12-07",
          "2020-12-14",
          "2020-12-21",
          "2020-12-28",
          "2021-01-04",
          "2021-01-11",
          "2021-01-18",
          "2021-01-25",
          "2021-02-01",
          "2021-02-08",
          "2021-02-15",
          "2021-02-22",
          "2021-03-01",
          "2021-03-08",
          "2021-03-15",
          "2021-03-22",
          "2021-03-29",
          "2021-04-05",
          "2021-04-12",
          "2021-04-19",
          "2021-04-26",
          "2021-05-03",
          "2021-05-10",
          "2021-05-17",
          "2021-05-24",
          "2021-05-31",
          "2021-06-07",
          "2021-06-14",
          "2021-06-21",
          "2021-06-28",
          "2021-07-05",
          "2021-07-12",
          "2021-07-19",
          "2021-07-26",
          "2021-08-02",
          "2021-08-09",
          "2021-08-16",
          "2021-08-23",
          "2021-08-30",
          "2021-09-06",
          "2021-09-13",
          "2021-09-20",
          "2021-09-27",
          "2021-10-04",
          "2021-10-11",
          "2021-10-18",
          "2021-10-25",
          "2021-11-01",
          "2021-11-08",
          "2021-11-15",
          "2021-11-22",
          "2021-11-29",
          "2021-12-06",
          "2021-12-13",
          "2021-12-20",
          "2021-12-27",
          "2022-01-03",
          "2022-01-10",
          "2022-01-17",
          "2022-01-24",
          "2022-01-31",
          "2022-02-07",
          "2022-02-14",
          "2022-02-21",
          "2022-02-28",
          "2022-03-07",
          "2022-03-14",
          "2022-03-21",
          "2022-03-28",
          "2022-04-04",
          "2022-04-11",
          "2022-04-18",
          "2022-04-25",
          "2022-05-02",
          "2022-05-09",
          "2022-05-16",
          "2022-05-23",
          "2022-05-30",
          "2022-06-06",
          "2022-06-13",
          "2022-06-20",
          "2022-06-27",
          "2022-07-04",
          "2022-07-11",
          "2022-07-18",
          "2022-07-25",
          "2022-08-01",
          "2022-08-08",
          "2022-08-15",
          "2022-08-22",
          "2022-08-29",
          "2022-09-05",
          "2022-09-12",
          "2022-09-19",
          "2022-09-26",
          "2022-10-03",
          "2022-10-10",
          "2022-10-17",
          "2022-10-24",
          "2022-10-31",
          "2022-11-07",
          "2022-11-14",
          "2022-11-21",
          "2022-11-28",
          "2022-12-05",
          "2022-12-12",
          "2022-12-19",
          "2022-12-26",
          "2023-01-02",
          "2023-01-09",
          "2023-01-16",
          "2023-01-23",
          "2023-01-30",
          "2023-02-06",
          "2023-02-13",
          "2023-02-20",
          "2023-02-27",
          "2023-03-06",
          "2023-03-13",
          "2023-03-20",
          "2023-03-27",
          "2023-04-03",
          "2023-04-10",
          "2023-04-17",
          "2023-04-24",
          "2023-05-01",
          "2023-05-08",
          "2023-05-15",
          "2023-05-22",
          "2023-05-29",
          "2023-06-05",
          "2023-06-12",
          "2023-06-19",
          "2023-06-26",
          "2023-07-03",
          "2023-07-10",
          "2023-07-17",
          "2023-07-24",
          "2023-07-31",
          "2023-08-07",
          "2023-08-14",
          "2023-08-21",
          "2023-08-28",
          "2023-09-04",
          "2023-09-11",
          "2023-09-18",
          "2023-09-25",
          "2023-10-02",
          "2023-10-09",
          "2023-10-16",
          "2023-10-23",
          "2023-10-30",
          "2023-11-06",
          "2023-11-13",
          "2023-11-20",
          "2023-11-27",
          "2023-12-04",
          "2023-12-11",
          "2023-12-18",
          "2023-12-25",
          "2024-01-01",
          "2024-01-08",
          "2024-01-15",
          "2024-01-22",
          "2024-01-29",
          "2024-02-05",
          "2024-02-12",
          "2024-02-19",
          "2024-02-26",
          "2024-03-04",
          "2024-03-11",
          "2024-03-18",
          "2024-03-25",
          "2024-04-01",
          "2024-04-08",
          "2024-04-15",
          "2024-04-22",
          "2024-04-29",
          "2024-05-06",
          "2024-05-13",
          "2024-05-20",
          "2024-05-27",
          "2024-06-03",
          "2024-06-10",
          "2024-06-17",
          "2024-06-24",
          "2024-07-01",
          "2024-07-08",
          "2024-07-15",
          "2024-07-22",
          "2024-07-29",
          "2024-08-05",
          "2024-08-12",
          "2024-08-19",
          "2024-08-26",
          "2024-09-02",
          "2024-09-09",
          "2024-09-16",
          "2024-09-23",
          "2024-09-30",
          "2024-10-07",
          "2024-10-14",
          "2024-10-21",
          "2024-10-28",
          "2024-11-04",
          "2024-11-11",
          "2024-11-18",
          "2024-11-25",
          "2024-12-02",
          "2024-12-09",
          "2024-12-16",
          "2024-12-23",
          "2024-12-30",
          "2025-01-06",
          "2025-01-13",
          "2025-01-20",
          "2025-01-27",
          "2025-02-03"
         ],
         "xaxis": "x2",
         "y": {
          "bdata": "WlpaWlpaWlpaWlpaWlpaWlpaWlpaWlpaWlpaWlpaWlpaWlpaWlpaWlpaWlpaWlpaWlpaWlpaWlpaWlpaWlpaWlpaWlpaWlpaWlpaWlpaWlpaWlpaWlpaWlpaWlpaWlpaWlpaWlpaWlpaWlpaWlpaWlpaWlpaWlpaWlpaWlpaWlpaWlpaWlpaWlpaWlpaWlpaWlpaWlpaWlpaWlpaWlpaWlpaWlpaWlpaWlpaWlpaWlpaWlpaWlpaWlpaWlpaWlpaWlpaWlpaWlpaWlpaWlpaWlpaWlpaWlpaWlpaWlpaWlpaWlpaWlpaWlpaWlpaWlpaWlpaWlpaWlpaWlpaWlpaWlpaWlpaWlpaWlpaWlpaWlpaWlpaWlpaWlpaWlpaWlpaWlpaWlpaWlpaWlpaWlpaWlpaWlpaWlpaWlpaWlpaWlpaWlpaWlpaWlpaWlpaWlpaWlpaWlpaWlpaWlpaWlpaWlpaWlpaWlpaWlpaWlpaWlpaWlpaWlpaWlpaWlpaWlpaWlpaWlpaWlpaWlpaWlpaWlpaWlpaWlpaWlpaWlpaWlpaWlpaWlpaWlpaWlpaWlpaWlpaWlpaWlpaWlpaWlpaWlpaWlpaWlpaWlpaWlpaWlpaWlpaWlpaWlpaWlpaWlpaWlpaWlpaWlpaWlpaWlpaWlpaWlpaWlpaWlpaWlpaWlpaWlpaWlpaWlpaWg==",
          "dtype": "i1"
         },
         "yaxis": "y2"
        },
        {
         "mode": "lines",
         "name": "Bottom Threshold",
         "type": "scatter",
         "x": [
          "2015-02-02",
          "2015-02-09",
          "2015-02-16",
          "2015-02-23",
          "2015-03-02",
          "2015-03-09",
          "2015-03-16",
          "2015-03-23",
          "2015-03-30",
          "2015-04-06",
          "2015-04-13",
          "2015-04-20",
          "2015-04-27",
          "2015-05-04",
          "2015-05-11",
          "2015-05-18",
          "2015-05-25",
          "2015-06-01",
          "2015-06-08",
          "2015-06-15",
          "2015-06-22",
          "2015-06-29",
          "2015-07-06",
          "2015-07-13",
          "2015-07-20",
          "2015-07-27",
          "2015-08-03",
          "2015-08-10",
          "2015-08-17",
          "2015-08-24",
          "2015-08-31",
          "2015-09-07",
          "2015-09-14",
          "2015-09-21",
          "2015-09-28",
          "2015-10-05",
          "2015-10-12",
          "2015-10-19",
          "2015-10-26",
          "2015-11-02",
          "2015-11-09",
          "2015-11-16",
          "2015-11-23",
          "2015-11-30",
          "2015-12-07",
          "2015-12-14",
          "2015-12-21",
          "2015-12-28",
          "2016-01-04",
          "2016-01-11",
          "2016-01-18",
          "2016-01-25",
          "2016-02-01",
          "2016-02-08",
          "2016-02-15",
          "2016-02-22",
          "2016-02-29",
          "2016-03-07",
          "2016-03-14",
          "2016-03-21",
          "2016-03-28",
          "2016-04-04",
          "2016-04-11",
          "2016-04-18",
          "2016-04-25",
          "2016-05-02",
          "2016-05-09",
          "2016-05-16",
          "2016-05-23",
          "2016-05-30",
          "2016-06-06",
          "2016-06-13",
          "2016-06-20",
          "2016-06-27",
          "2016-07-04",
          "2016-07-11",
          "2016-07-18",
          "2016-07-25",
          "2016-08-01",
          "2016-08-08",
          "2016-08-15",
          "2016-08-22",
          "2016-08-29",
          "2016-09-05",
          "2016-09-12",
          "2016-09-19",
          "2016-09-26",
          "2016-10-03",
          "2016-10-10",
          "2016-10-17",
          "2016-10-24",
          "2016-10-31",
          "2016-11-07",
          "2016-11-14",
          "2016-11-21",
          "2016-11-28",
          "2016-12-05",
          "2016-12-12",
          "2016-12-19",
          "2016-12-26",
          "2017-01-02",
          "2017-01-09",
          "2017-01-16",
          "2017-01-23",
          "2017-01-30",
          "2017-02-06",
          "2017-02-13",
          "2017-02-20",
          "2017-02-27",
          "2017-03-06",
          "2017-03-13",
          "2017-03-20",
          "2017-03-27",
          "2017-04-03",
          "2017-04-10",
          "2017-04-17",
          "2017-04-24",
          "2017-05-01",
          "2017-05-08",
          "2017-05-15",
          "2017-05-22",
          "2017-05-29",
          "2017-06-05",
          "2017-06-12",
          "2017-06-19",
          "2017-06-26",
          "2017-07-03",
          "2017-07-10",
          "2017-07-17",
          "2017-07-24",
          "2017-07-31",
          "2017-08-07",
          "2017-08-14",
          "2017-08-21",
          "2017-08-28",
          "2017-09-04",
          "2017-09-11",
          "2017-09-18",
          "2017-09-25",
          "2017-10-02",
          "2017-10-09",
          "2017-10-16",
          "2017-10-23",
          "2017-10-30",
          "2017-11-06",
          "2017-11-13",
          "2017-11-20",
          "2017-11-27",
          "2017-12-04",
          "2017-12-11",
          "2017-12-18",
          "2017-12-25",
          "2018-01-01",
          "2018-01-08",
          "2018-01-15",
          "2018-01-22",
          "2018-01-29",
          "2018-02-05",
          "2018-02-12",
          "2018-02-19",
          "2018-02-26",
          "2018-03-05",
          "2018-03-12",
          "2018-03-19",
          "2018-03-26",
          "2018-04-02",
          "2018-04-09",
          "2018-04-16",
          "2018-04-23",
          "2018-04-30",
          "2018-05-07",
          "2018-05-14",
          "2018-05-21",
          "2018-05-28",
          "2018-06-04",
          "2018-06-11",
          "2018-06-18",
          "2018-06-25",
          "2018-07-02",
          "2018-07-09",
          "2018-07-16",
          "2018-07-23",
          "2018-07-30",
          "2018-08-06",
          "2018-08-13",
          "2018-08-20",
          "2018-08-27",
          "2018-09-03",
          "2018-09-10",
          "2018-09-17",
          "2018-09-24",
          "2018-10-01",
          "2018-10-08",
          "2018-10-15",
          "2018-10-22",
          "2018-10-29",
          "2018-11-05",
          "2018-11-12",
          "2018-11-19",
          "2018-11-26",
          "2018-12-03",
          "2018-12-10",
          "2018-12-17",
          "2018-12-24",
          "2018-12-31",
          "2019-01-07",
          "2019-01-14",
          "2019-01-21",
          "2019-01-28",
          "2019-02-04",
          "2019-02-11",
          "2019-02-18",
          "2019-02-25",
          "2019-03-04",
          "2019-03-11",
          "2019-03-18",
          "2019-03-25",
          "2019-04-01",
          "2019-04-08",
          "2019-04-15",
          "2019-04-22",
          "2019-04-29",
          "2019-05-06",
          "2019-05-13",
          "2019-05-20",
          "2019-05-27",
          "2019-06-03",
          "2019-06-10",
          "2019-06-17",
          "2019-06-24",
          "2019-07-01",
          "2019-07-08",
          "2019-07-15",
          "2019-07-22",
          "2019-07-29",
          "2019-08-05",
          "2019-08-12",
          "2019-08-19",
          "2019-08-26",
          "2019-09-02",
          "2019-09-09",
          "2019-09-16",
          "2019-09-23",
          "2019-09-30",
          "2019-10-07",
          "2019-10-14",
          "2019-10-21",
          "2019-10-28",
          "2019-11-04",
          "2019-11-11",
          "2019-11-18",
          "2019-11-25",
          "2019-12-02",
          "2019-12-09",
          "2019-12-16",
          "2019-12-23",
          "2019-12-30",
          "2020-01-06",
          "2020-01-13",
          "2020-01-20",
          "2020-01-27",
          "2020-02-03",
          "2020-02-10",
          "2020-02-17",
          "2020-02-24",
          "2020-03-02",
          "2020-03-09",
          "2020-03-16",
          "2020-03-23",
          "2020-03-30",
          "2020-04-06",
          "2020-04-13",
          "2020-04-20",
          "2020-04-27",
          "2020-05-04",
          "2020-05-11",
          "2020-05-18",
          "2020-05-25",
          "2020-06-01",
          "2020-06-08",
          "2020-06-15",
          "2020-06-22",
          "2020-06-29",
          "2020-07-06",
          "2020-07-13",
          "2020-07-20",
          "2020-07-27",
          "2020-08-03",
          "2020-08-10",
          "2020-08-17",
          "2020-08-24",
          "2020-08-31",
          "2020-09-07",
          "2020-09-14",
          "2020-09-21",
          "2020-09-28",
          "2020-10-05",
          "2020-10-12",
          "2020-10-19",
          "2020-10-26",
          "2020-11-02",
          "2020-11-09",
          "2020-11-16",
          "2020-11-23",
          "2020-11-30",
          "2020-12-07",
          "2020-12-14",
          "2020-12-21",
          "2020-12-28",
          "2021-01-04",
          "2021-01-11",
          "2021-01-18",
          "2021-01-25",
          "2021-02-01",
          "2021-02-08",
          "2021-02-15",
          "2021-02-22",
          "2021-03-01",
          "2021-03-08",
          "2021-03-15",
          "2021-03-22",
          "2021-03-29",
          "2021-04-05",
          "2021-04-12",
          "2021-04-19",
          "2021-04-26",
          "2021-05-03",
          "2021-05-10",
          "2021-05-17",
          "2021-05-24",
          "2021-05-31",
          "2021-06-07",
          "2021-06-14",
          "2021-06-21",
          "2021-06-28",
          "2021-07-05",
          "2021-07-12",
          "2021-07-19",
          "2021-07-26",
          "2021-08-02",
          "2021-08-09",
          "2021-08-16",
          "2021-08-23",
          "2021-08-30",
          "2021-09-06",
          "2021-09-13",
          "2021-09-20",
          "2021-09-27",
          "2021-10-04",
          "2021-10-11",
          "2021-10-18",
          "2021-10-25",
          "2021-11-01",
          "2021-11-08",
          "2021-11-15",
          "2021-11-22",
          "2021-11-29",
          "2021-12-06",
          "2021-12-13",
          "2021-12-20",
          "2021-12-27",
          "2022-01-03",
          "2022-01-10",
          "2022-01-17",
          "2022-01-24",
          "2022-01-31",
          "2022-02-07",
          "2022-02-14",
          "2022-02-21",
          "2022-02-28",
          "2022-03-07",
          "2022-03-14",
          "2022-03-21",
          "2022-03-28",
          "2022-04-04",
          "2022-04-11",
          "2022-04-18",
          "2022-04-25",
          "2022-05-02",
          "2022-05-09",
          "2022-05-16",
          "2022-05-23",
          "2022-05-30",
          "2022-06-06",
          "2022-06-13",
          "2022-06-20",
          "2022-06-27",
          "2022-07-04",
          "2022-07-11",
          "2022-07-18",
          "2022-07-25",
          "2022-08-01",
          "2022-08-08",
          "2022-08-15",
          "2022-08-22",
          "2022-08-29",
          "2022-09-05",
          "2022-09-12",
          "2022-09-19",
          "2022-09-26",
          "2022-10-03",
          "2022-10-10",
          "2022-10-17",
          "2022-10-24",
          "2022-10-31",
          "2022-11-07",
          "2022-11-14",
          "2022-11-21",
          "2022-11-28",
          "2022-12-05",
          "2022-12-12",
          "2022-12-19",
          "2022-12-26",
          "2023-01-02",
          "2023-01-09",
          "2023-01-16",
          "2023-01-23",
          "2023-01-30",
          "2023-02-06",
          "2023-02-13",
          "2023-02-20",
          "2023-02-27",
          "2023-03-06",
          "2023-03-13",
          "2023-03-20",
          "2023-03-27",
          "2023-04-03",
          "2023-04-10",
          "2023-04-17",
          "2023-04-24",
          "2023-05-01",
          "2023-05-08",
          "2023-05-15",
          "2023-05-22",
          "2023-05-29",
          "2023-06-05",
          "2023-06-12",
          "2023-06-19",
          "2023-06-26",
          "2023-07-03",
          "2023-07-10",
          "2023-07-17",
          "2023-07-24",
          "2023-07-31",
          "2023-08-07",
          "2023-08-14",
          "2023-08-21",
          "2023-08-28",
          "2023-09-04",
          "2023-09-11",
          "2023-09-18",
          "2023-09-25",
          "2023-10-02",
          "2023-10-09",
          "2023-10-16",
          "2023-10-23",
          "2023-10-30",
          "2023-11-06",
          "2023-11-13",
          "2023-11-20",
          "2023-11-27",
          "2023-12-04",
          "2023-12-11",
          "2023-12-18",
          "2023-12-25",
          "2024-01-01",
          "2024-01-08",
          "2024-01-15",
          "2024-01-22",
          "2024-01-29",
          "2024-02-05",
          "2024-02-12",
          "2024-02-19",
          "2024-02-26",
          "2024-03-04",
          "2024-03-11",
          "2024-03-18",
          "2024-03-25",
          "2024-04-01",
          "2024-04-08",
          "2024-04-15",
          "2024-04-22",
          "2024-04-29",
          "2024-05-06",
          "2024-05-13",
          "2024-05-20",
          "2024-05-27",
          "2024-06-03",
          "2024-06-10",
          "2024-06-17",
          "2024-06-24",
          "2024-07-01",
          "2024-07-08",
          "2024-07-15",
          "2024-07-22",
          "2024-07-29",
          "2024-08-05",
          "2024-08-12",
          "2024-08-19",
          "2024-08-26",
          "2024-09-02",
          "2024-09-09",
          "2024-09-16",
          "2024-09-23",
          "2024-09-30",
          "2024-10-07",
          "2024-10-14",
          "2024-10-21",
          "2024-10-28",
          "2024-11-04",
          "2024-11-11",
          "2024-11-18",
          "2024-11-25",
          "2024-12-02",
          "2024-12-09",
          "2024-12-16",
          "2024-12-23",
          "2024-12-30",
          "2025-01-06",
          "2025-01-13",
          "2025-01-20",
          "2025-01-27",
          "2025-02-03"
         ],
         "xaxis": "x2",
         "y": {
          "bdata": "CgoKCgoKCgoKCgoKCgoKCgoKCgoKCgoKCgoKCgoKCgoKCgoKCgoKCgoKCgoKCgoKCgoKCgoKCgoKCgoKCgoKCgoKCgoKCgoKCgoKCgoKCgoKCgoKCgoKCgoKCgoKCgoKCgoKCgoKCgoKCgoKCgoKCgoKCgoKCgoKCgoKCgoKCgoKCgoKCgoKCgoKCgoKCgoKCgoKCgoKCgoKCgoKCgoKCgoKCgoKCgoKCgoKCgoKCgoKCgoKCgoKCgoKCgoKCgoKCgoKCgoKCgoKCgoKCgoKCgoKCgoKCgoKCgoKCgoKCgoKCgoKCgoKCgoKCgoKCgoKCgoKCgoKCgoKCgoKCgoKCgoKCgoKCgoKCgoKCgoKCgoKCgoKCgoKCgoKCgoKCgoKCgoKCgoKCgoKCgoKCgoKCgoKCgoKCgoKCgoKCgoKCgoKCgoKCgoKCgoKCgoKCgoKCgoKCgoKCgoKCgoKCgoKCgoKCgoKCgoKCgoKCgoKCgoKCgoKCgoKCgoKCgoKCgoKCgoKCgoKCgoKCgoKCgoKCgoKCgoKCgoKCgoKCgoKCgoKCgoKCgoKCgoKCgoKCgoKCgoKCgoKCgoKCgoKCgoKCgoKCgoKCgoKCgoKCgoKCgoKCgoKCgoKCgoKCgoKCgoKCgoKCgoKCgoKCgoKCgoKCgoKCgoKCgoKCgoKCgoKCgoKCgoKCgoKCgoKCg==",
          "dtype": "i1"
         },
         "yaxis": "y2"
        }
       ],
       "layout": {
        "annotations": [
         {
          "font": {
           "size": 16
          },
          "showarrow": false,
          "text": "BofA Stock Price and MFI",
          "x": 0.5,
          "xanchor": "center",
          "xref": "paper",
          "y": 1,
          "yanchor": "bottom",
          "yref": "paper"
         },
         {
          "font": {
           "size": 16
          },
          "showarrow": false,
          "text": "Date",
          "x": 0.5,
          "xanchor": "center",
          "xref": "paper",
          "y": 0,
          "yanchor": "top",
          "yref": "paper",
          "yshift": -30
         }
        ],
        "template": {
         "data": {
          "bar": [
           {
            "error_x": {
             "color": "#2a3f5f"
            },
            "error_y": {
             "color": "#2a3f5f"
            },
            "marker": {
             "line": {
              "color": "#E5ECF6",
              "width": 0.5
             },
             "pattern": {
              "fillmode": "overlay",
              "size": 10,
              "solidity": 0.2
             }
            },
            "type": "bar"
           }
          ],
          "barpolar": [
           {
            "marker": {
             "line": {
              "color": "#E5ECF6",
              "width": 0.5
             },
             "pattern": {
              "fillmode": "overlay",
              "size": 10,
              "solidity": 0.2
             }
            },
            "type": "barpolar"
           }
          ],
          "carpet": [
           {
            "aaxis": {
             "endlinecolor": "#2a3f5f",
             "gridcolor": "white",
             "linecolor": "white",
             "minorgridcolor": "white",
             "startlinecolor": "#2a3f5f"
            },
            "baxis": {
             "endlinecolor": "#2a3f5f",
             "gridcolor": "white",
             "linecolor": "white",
             "minorgridcolor": "white",
             "startlinecolor": "#2a3f5f"
            },
            "type": "carpet"
           }
          ],
          "choropleth": [
           {
            "colorbar": {
             "outlinewidth": 0,
             "ticks": ""
            },
            "type": "choropleth"
           }
          ],
          "contour": [
           {
            "colorbar": {
             "outlinewidth": 0,
             "ticks": ""
            },
            "colorscale": [
             [
              0,
              "#0d0887"
             ],
             [
              0.1111111111111111,
              "#46039f"
             ],
             [
              0.2222222222222222,
              "#7201a8"
             ],
             [
              0.3333333333333333,
              "#9c179e"
             ],
             [
              0.4444444444444444,
              "#bd3786"
             ],
             [
              0.5555555555555556,
              "#d8576b"
             ],
             [
              0.6666666666666666,
              "#ed7953"
             ],
             [
              0.7777777777777778,
              "#fb9f3a"
             ],
             [
              0.8888888888888888,
              "#fdca26"
             ],
             [
              1,
              "#f0f921"
             ]
            ],
            "type": "contour"
           }
          ],
          "contourcarpet": [
           {
            "colorbar": {
             "outlinewidth": 0,
             "ticks": ""
            },
            "type": "contourcarpet"
           }
          ],
          "heatmap": [
           {
            "colorbar": {
             "outlinewidth": 0,
             "ticks": ""
            },
            "colorscale": [
             [
              0,
              "#0d0887"
             ],
             [
              0.1111111111111111,
              "#46039f"
             ],
             [
              0.2222222222222222,
              "#7201a8"
             ],
             [
              0.3333333333333333,
              "#9c179e"
             ],
             [
              0.4444444444444444,
              "#bd3786"
             ],
             [
              0.5555555555555556,
              "#d8576b"
             ],
             [
              0.6666666666666666,
              "#ed7953"
             ],
             [
              0.7777777777777778,
              "#fb9f3a"
             ],
             [
              0.8888888888888888,
              "#fdca26"
             ],
             [
              1,
              "#f0f921"
             ]
            ],
            "type": "heatmap"
           }
          ],
          "histogram": [
           {
            "marker": {
             "pattern": {
              "fillmode": "overlay",
              "size": 10,
              "solidity": 0.2
             }
            },
            "type": "histogram"
           }
          ],
          "histogram2d": [
           {
            "colorbar": {
             "outlinewidth": 0,
             "ticks": ""
            },
            "colorscale": [
             [
              0,
              "#0d0887"
             ],
             [
              0.1111111111111111,
              "#46039f"
             ],
             [
              0.2222222222222222,
              "#7201a8"
             ],
             [
              0.3333333333333333,
              "#9c179e"
             ],
             [
              0.4444444444444444,
              "#bd3786"
             ],
             [
              0.5555555555555556,
              "#d8576b"
             ],
             [
              0.6666666666666666,
              "#ed7953"
             ],
             [
              0.7777777777777778,
              "#fb9f3a"
             ],
             [
              0.8888888888888888,
              "#fdca26"
             ],
             [
              1,
              "#f0f921"
             ]
            ],
            "type": "histogram2d"
           }
          ],
          "histogram2dcontour": [
           {
            "colorbar": {
             "outlinewidth": 0,
             "ticks": ""
            },
            "colorscale": [
             [
              0,
              "#0d0887"
             ],
             [
              0.1111111111111111,
              "#46039f"
             ],
             [
              0.2222222222222222,
              "#7201a8"
             ],
             [
              0.3333333333333333,
              "#9c179e"
             ],
             [
              0.4444444444444444,
              "#bd3786"
             ],
             [
              0.5555555555555556,
              "#d8576b"
             ],
             [
              0.6666666666666666,
              "#ed7953"
             ],
             [
              0.7777777777777778,
              "#fb9f3a"
             ],
             [
              0.8888888888888888,
              "#fdca26"
             ],
             [
              1,
              "#f0f921"
             ]
            ],
            "type": "histogram2dcontour"
           }
          ],
          "mesh3d": [
           {
            "colorbar": {
             "outlinewidth": 0,
             "ticks": ""
            },
            "type": "mesh3d"
           }
          ],
          "parcoords": [
           {
            "line": {
             "colorbar": {
              "outlinewidth": 0,
              "ticks": ""
             }
            },
            "type": "parcoords"
           }
          ],
          "pie": [
           {
            "automargin": true,
            "type": "pie"
           }
          ],
          "scatter": [
           {
            "fillpattern": {
             "fillmode": "overlay",
             "size": 10,
             "solidity": 0.2
            },
            "type": "scatter"
           }
          ],
          "scatter3d": [
           {
            "line": {
             "colorbar": {
              "outlinewidth": 0,
              "ticks": ""
             }
            },
            "marker": {
             "colorbar": {
              "outlinewidth": 0,
              "ticks": ""
             }
            },
            "type": "scatter3d"
           }
          ],
          "scattercarpet": [
           {
            "marker": {
             "colorbar": {
              "outlinewidth": 0,
              "ticks": ""
             }
            },
            "type": "scattercarpet"
           }
          ],
          "scattergeo": [
           {
            "marker": {
             "colorbar": {
              "outlinewidth": 0,
              "ticks": ""
             }
            },
            "type": "scattergeo"
           }
          ],
          "scattergl": [
           {
            "marker": {
             "colorbar": {
              "outlinewidth": 0,
              "ticks": ""
             }
            },
            "type": "scattergl"
           }
          ],
          "scattermap": [
           {
            "marker": {
             "colorbar": {
              "outlinewidth": 0,
              "ticks": ""
             }
            },
            "type": "scattermap"
           }
          ],
          "scattermapbox": [
           {
            "marker": {
             "colorbar": {
              "outlinewidth": 0,
              "ticks": ""
             }
            },
            "type": "scattermapbox"
           }
          ],
          "scatterpolar": [
           {
            "marker": {
             "colorbar": {
              "outlinewidth": 0,
              "ticks": ""
             }
            },
            "type": "scatterpolar"
           }
          ],
          "scatterpolargl": [
           {
            "marker": {
             "colorbar": {
              "outlinewidth": 0,
              "ticks": ""
             }
            },
            "type": "scatterpolargl"
           }
          ],
          "scatterternary": [
           {
            "marker": {
             "colorbar": {
              "outlinewidth": 0,
              "ticks": ""
             }
            },
            "type": "scatterternary"
           }
          ],
          "surface": [
           {
            "colorbar": {
             "outlinewidth": 0,
             "ticks": ""
            },
            "colorscale": [
             [
              0,
              "#0d0887"
             ],
             [
              0.1111111111111111,
              "#46039f"
             ],
             [
              0.2222222222222222,
              "#7201a8"
             ],
             [
              0.3333333333333333,
              "#9c179e"
             ],
             [
              0.4444444444444444,
              "#bd3786"
             ],
             [
              0.5555555555555556,
              "#d8576b"
             ],
             [
              0.6666666666666666,
              "#ed7953"
             ],
             [
              0.7777777777777778,
              "#fb9f3a"
             ],
             [
              0.8888888888888888,
              "#fdca26"
             ],
             [
              1,
              "#f0f921"
             ]
            ],
            "type": "surface"
           }
          ],
          "table": [
           {
            "cells": {
             "fill": {
              "color": "#EBF0F8"
             },
             "line": {
              "color": "white"
             }
            },
            "header": {
             "fill": {
              "color": "#C8D4E3"
             },
             "line": {
              "color": "white"
             }
            },
            "type": "table"
           }
          ]
         },
         "layout": {
          "annotationdefaults": {
           "arrowcolor": "#2a3f5f",
           "arrowhead": 0,
           "arrowwidth": 1
          },
          "autotypenumbers": "strict",
          "coloraxis": {
           "colorbar": {
            "outlinewidth": 0,
            "ticks": ""
           }
          },
          "colorscale": {
           "diverging": [
            [
             0,
             "#8e0152"
            ],
            [
             0.1,
             "#c51b7d"
            ],
            [
             0.2,
             "#de77ae"
            ],
            [
             0.3,
             "#f1b6da"
            ],
            [
             0.4,
             "#fde0ef"
            ],
            [
             0.5,
             "#f7f7f7"
            ],
            [
             0.6,
             "#e6f5d0"
            ],
            [
             0.7,
             "#b8e186"
            ],
            [
             0.8,
             "#7fbc41"
            ],
            [
             0.9,
             "#4d9221"
            ],
            [
             1,
             "#276419"
            ]
           ],
           "sequential": [
            [
             0,
             "#0d0887"
            ],
            [
             0.1111111111111111,
             "#46039f"
            ],
            [
             0.2222222222222222,
             "#7201a8"
            ],
            [
             0.3333333333333333,
             "#9c179e"
            ],
            [
             0.4444444444444444,
             "#bd3786"
            ],
            [
             0.5555555555555556,
             "#d8576b"
            ],
            [
             0.6666666666666666,
             "#ed7953"
            ],
            [
             0.7777777777777778,
             "#fb9f3a"
            ],
            [
             0.8888888888888888,
             "#fdca26"
            ],
            [
             1,
             "#f0f921"
            ]
           ],
           "sequentialminus": [
            [
             0,
             "#0d0887"
            ],
            [
             0.1111111111111111,
             "#46039f"
            ],
            [
             0.2222222222222222,
             "#7201a8"
            ],
            [
             0.3333333333333333,
             "#9c179e"
            ],
            [
             0.4444444444444444,
             "#bd3786"
            ],
            [
             0.5555555555555556,
             "#d8576b"
            ],
            [
             0.6666666666666666,
             "#ed7953"
            ],
            [
             0.7777777777777778,
             "#fb9f3a"
            ],
            [
             0.8888888888888888,
             "#fdca26"
            ],
            [
             1,
             "#f0f921"
            ]
           ]
          },
          "colorway": [
           "#636efa",
           "#EF553B",
           "#00cc96",
           "#ab63fa",
           "#FFA15A",
           "#19d3f3",
           "#FF6692",
           "#B6E880",
           "#FF97FF",
           "#FECB52"
          ],
          "font": {
           "color": "#2a3f5f"
          },
          "geo": {
           "bgcolor": "white",
           "lakecolor": "white",
           "landcolor": "#E5ECF6",
           "showlakes": true,
           "showland": true,
           "subunitcolor": "white"
          },
          "hoverlabel": {
           "align": "left"
          },
          "hovermode": "closest",
          "mapbox": {
           "style": "light"
          },
          "paper_bgcolor": "white",
          "plot_bgcolor": "#E5ECF6",
          "polar": {
           "angularaxis": {
            "gridcolor": "white",
            "linecolor": "white",
            "ticks": ""
           },
           "bgcolor": "#E5ECF6",
           "radialaxis": {
            "gridcolor": "white",
            "linecolor": "white",
            "ticks": ""
           }
          },
          "scene": {
           "xaxis": {
            "backgroundcolor": "#E5ECF6",
            "gridcolor": "white",
            "gridwidth": 2,
            "linecolor": "white",
            "showbackground": true,
            "ticks": "",
            "zerolinecolor": "white"
           },
           "yaxis": {
            "backgroundcolor": "#E5ECF6",
            "gridcolor": "white",
            "gridwidth": 2,
            "linecolor": "white",
            "showbackground": true,
            "ticks": "",
            "zerolinecolor": "white"
           },
           "zaxis": {
            "backgroundcolor": "#E5ECF6",
            "gridcolor": "white",
            "gridwidth": 2,
            "linecolor": "white",
            "showbackground": true,
            "ticks": "",
            "zerolinecolor": "white"
           }
          },
          "shapedefaults": {
           "line": {
            "color": "#2a3f5f"
           }
          },
          "ternary": {
           "aaxis": {
            "gridcolor": "white",
            "linecolor": "white",
            "ticks": ""
           },
           "baxis": {
            "gridcolor": "white",
            "linecolor": "white",
            "ticks": ""
           },
           "bgcolor": "#E5ECF6",
           "caxis": {
            "gridcolor": "white",
            "linecolor": "white",
            "ticks": ""
           }
          },
          "title": {
           "x": 0.05
          },
          "xaxis": {
           "automargin": true,
           "gridcolor": "white",
           "linecolor": "white",
           "ticks": "",
           "title": {
            "standoff": 15
           },
           "zerolinecolor": "white",
           "zerolinewidth": 2
          },
          "yaxis": {
           "automargin": true,
           "gridcolor": "white",
           "linecolor": "white",
           "ticks": "",
           "title": {
            "standoff": 15
           },
           "zerolinecolor": "white",
           "zerolinewidth": 2
          }
         }
        },
        "xaxis": {
         "anchor": "y",
         "domain": [
          0,
          1
         ],
         "matches": "x2",
         "showticklabels": false
        },
        "xaxis2": {
         "anchor": "y2",
         "domain": [
          0,
          1
         ]
        },
        "yaxis": {
         "anchor": "x",
         "domain": [
          0.625,
          1
         ],
         "title": {
          "text": "Stock Price ($USD)"
         }
        },
        "yaxis2": {
         "anchor": "x2",
         "domain": [
          0,
          0.375
         ]
        }
       }
      }
     },
     "metadata": {},
     "output_type": "display_data"
    }
   ],
   "source": [
    "figure8 = make_subplots(2, 1, shared_xaxes=True, x_title='Date', subplot_titles=['BofA Stock Price and MFI'])\n",
    "\n",
    "figure8.add_trace(\n",
    "    go.Scatter(x=bacDF.index, y=bacDF['Close'], mode='lines', name='BofA'), 1, 1\n",
    ")\n",
    "\n",
    "figure8.add_trace(\n",
    "    go.Scatter(x=bacDF.index, y=bacDF['MFI'], mode='lines', name='Money Flow Index'), 2, 1\n",
    ")\n",
    "\n",
    "figure8.add_trace(\n",
    "    go.Scatter(x=bacDF.index, y=np.full(len(bacDF), 90), mode='lines', name='Top Threshold'), 2, 1\n",
    ")\n",
    "\n",
    "figure8.add_trace(\n",
    "    go.Scatter(x=bacDF.index, y=np.full(len(bacDF), 10) , mode='lines', name='Bottom Threshold'), 2, 1\n",
    ")\n",
    "\n",
    "figure8.update_yaxes(title_text=\"Stock Price ($USD)\", row=1, col=1)\n",
    "\n",
    "figure8.show()"
   ]
  },
  {
   "cell_type": "markdown",
   "metadata": {},
   "source": [
    "These charts help gain insight into some of the many stocks in the dataset. The first time series chart simply shows how the price has changed from the beginning to the end of the dataset. I used the patterns of some stocks (such as Disney's large drop) to create graphs later. One interesting thing was that certain stocks, such as Disney and Exxon Mobile had a pretty significant dip during the COVID-19 Pandemic, but the others did not. It would be interesting to investigate other stocks for this trend as well. This particular one can be explained because travel (Disney) and automobile usage (gas -> Exxon Mobile) dipped during the pandemic, but banks, tech, and retail remained relatively stable. \n",
    "\n",
    "I created a couple scatter plots to see if I could find any surface coorelations between variables. Unsurprisingly, there was no real visual correlation found. It's important to note that in the chart of Log Return vs. Date, the data appears almost perfectly distributed. This shows that there is no real trend with stock price returns (at least with the companies I selected) over time. This hints at the task of return prediction being extremely difficult. One other thing I found in the scatter plots was how much more volume NVIDIA sold compared to the other stocks I selected. Disney had the highest stock price, but a relatively low amount of volume traded.\n",
    "\n",
    "The next section plotted a few of the technical indicators against a company. Bollinger bands help show volatility. The wider the bands are, the more volatile a stock. Next are the Aroon Indicators. The Aroon indicators measure time since a high price (aroon up) and time since a low price (aroon down). They can help identify signals and entry points. When the indicators cross-over, it indicates a change in the trend of the stock. An Aroon Up above 50 and an Aroon low below 50 indicate a bullish trend and the opposite is also true. Next up are some moving averages. The simple moving average just averages out the price in a given timeperiod. The weighted moving average does the same, but gives recent prices more emphasis. Both can be used to identify trends in the market by smoothing out prices. Finally, the money flow index (MFI) shows when a stock is overbought (above 80-90) or oversold (below 10-20). It can help indicate market entry points."
   ]
  },
  {
   "cell_type": "markdown",
   "metadata": {},
   "source": [
    "# Basic Machine Learning Analysis\n",
    "---"
   ]
  },
  {
   "cell_type": "markdown",
   "metadata": {},
   "source": [
    "This section will examine some basic machine learning techniques such as Random Forest and Linear Regression. Based on the results of this section, the dataset may be further modified to improve performance (ie. Change the Y-variable from log returns to a binary classification of positive or negative return). The model will "
   ]
  },
  {
   "cell_type": "markdown",
   "metadata": {},
   "source": [
    "## Data Preperation"
   ]
  },
  {
   "cell_type": "code",
   "execution_count": 86,
   "metadata": {},
   "outputs": [],
   "source": [
    "from sklearn.model_selection import TimeSeriesSplit\n",
    "from sklearn.metrics import mean_squared_error\n",
    "from sklearn.linear_model import LinearRegression\n",
    "from sklearn.ensemble import RandomForestRegressor\n",
    "from sklearn.preprocessing import LabelEncoder\n",
    "from sklearn.preprocessing import StandardScaler\n",
    "from sklearn.metrics import mean_squared_error, r2_score"
   ]
  },
  {
   "cell_type": "code",
   "execution_count": 94,
   "metadata": {},
   "outputs": [],
   "source": [
    "# Convert tickers into embeddings to avoid losing information\n",
    "def add_company_embeddings(dataset):\n",
    "    X = dataset.copy()\n",
    "    \n",
    "    le = LabelEncoder()\n",
    "    X['Company_ID'] = le.fit_transform(X['Ticker'])\n",
    "    \n",
    "    X = X.drop('Ticker', axis=1)\n",
    "    \n",
    "    return X"
   ]
  },
  {
   "cell_type": "code",
   "execution_count": 124,
   "metadata": {},
   "outputs": [],
   "source": [
    "# Split the dataset into training and testing sets using TimeSeriesSplit\n",
    "def create_time_series_splits(dataset, n_splits=5):\n",
    "    dataset.sort_values(by='Date', ascending=True, inplace=True)\n",
    "    dataset = add_company_embeddings(dataset)\n",
    "    dataset.drop(['Date'], axis=1, inplace=True)\n",
    "\n",
    "    tscv = TimeSeriesSplit(n_splits=n_splits)\n",
    "\n",
    "    splits = []\n",
    "    for train_idx, test_idx in tscv.split(dataset):\n",
    "        train_data = dataset.iloc[train_idx]\n",
    "        test_data = dataset.iloc[test_idx]\n",
    "        splits.append((train_data, test_data))\n",
    "\n",
    "    return splits"
   ]
  },
  {
   "cell_type": "code",
   "execution_count": 126,
   "metadata": {},
   "outputs": [
    {
     "name": "stdout",
     "output_type": "stream",
     "text": [
      "[(             Open       High        Low      Close     Volume  Log Return  \\\n",
      "19046   25.424533  25.983572  25.101705  25.322172   173100.0   -0.004653   \n",
      "20325    4.364500   4.395000   3.800000   3.975000   164108.0   -0.109503   \n",
      "20324    3.919735   3.923176   3.468913   3.534300  1593187.0    0.000974   \n",
      "20323   12.644451  12.680960  12.425393  12.522752  9151000.0   -0.010634   \n",
      "20322   93.804106  95.428384  91.943426  92.126442  5760200.0   -0.029203   \n",
      "...           ...        ...        ...        ...        ...         ...   \n",
      "183848  35.453049  36.869850  35.354202  36.375618  1709130.0    0.026619   \n",
      "183789  46.777038  47.269428  46.777038  47.269428     3300.0    0.010471   \n",
      "183787  40.420385  43.508983  40.017523  42.927074  1223800.0    0.067951   \n",
      "183756   1.570000   1.690000   1.550000   1.570000    83000.0   -0.012658   \n",
      "183755   4.700000   5.100000   4.550000   5.050000   887700.0    0.071826   \n",
      "\n",
      "              SMA        WMA   BB_Upper   BB_Lower        MFI  Aroon Up  \\\n",
      "19046   25.047373  25.220097  25.925027  24.169719  60.458654     100.0   \n",
      "20325    3.750800   3.954527   4.903371   2.598229  55.774034      30.0   \n",
      "20324    3.272410   3.328943   3.636527   2.908294  91.491052     100.0   \n",
      "20323   12.572877  12.573490  12.822369  12.323385  37.264407      70.0   \n",
      "20322   94.495074  94.798620  98.377005  90.613143  37.992548      70.0   \n",
      "...           ...        ...        ...        ...        ...       ...   \n",
      "183848  35.451400  35.396135  36.662152  34.240648  40.861402      40.0   \n",
      "183789  46.689394  47.089662  49.005689  44.373098  40.257335      80.0   \n",
      "183787  41.935959  41.981409  43.930520  39.941397  45.722332      40.0   \n",
      "183756   1.618000   1.587091   1.810416   1.425584  43.939137       0.0   \n",
      "183755   5.221000   5.065273   5.953309   4.488691  45.605172      10.0   \n",
      "\n",
      "        Aroon Down  Aroon Real  Company_ID  \n",
      "19046         30.0        70.0        1650  \n",
      "20325         10.0        20.0          24  \n",
      "20324         10.0        90.0         444  \n",
      "20323         50.0        20.0        1230  \n",
      "20322         20.0        50.0        1168  \n",
      "...            ...         ...         ...  \n",
      "183848        70.0       -30.0        1596  \n",
      "183789        10.0        70.0         802  \n",
      "183787        90.0       -50.0         637  \n",
      "183756        50.0       -50.0         228  \n",
      "183755        90.0       -80.0         171  \n",
      "\n",
      "[165841 rows x 15 columns],               Open        High         Low       Close      Volume  \\\n",
      "183754   16.698314   17.592512   16.651948   17.208338  20336500.0   \n",
      "183753   18.049999   18.900000   17.799999   18.700001    803900.0   \n",
      "183752  163.586436  168.039854  163.068004  168.014359  24260700.0   \n",
      "183751    8.209319    9.135548    7.994823    8.482312    171700.0   \n",
      "183750   35.370201   37.690181   35.341675   36.872482  19822500.0   \n",
      "...            ...         ...         ...         ...         ...   \n",
      "351631   37.449821   38.037118   35.678151   36.470997  24834600.0   \n",
      "351630    0.790000    0.800000    0.700000    0.770000   6506900.0   \n",
      "351629  135.474861  136.837275  133.535313  134.121902   2856000.0   \n",
      "351628   81.591969   82.332246   79.983785   80.749588   4577000.0   \n",
      "351627    9.271140    9.344545    9.271140    9.337205     87800.0   \n",
      "\n",
      "        Log Return         SMA         WMA    BB_Upper    BB_Lower        MFI  \\\n",
      "183754    0.030483   17.478213   17.207551   18.903997   16.052429  31.685534   \n",
      "183753    0.046520   17.998000   18.407091   20.416757   15.579243  41.271110   \n",
      "183752    0.030559  157.935812  160.317556  168.292378  147.579246  70.418310   \n",
      "183751    0.041062    7.584345    7.769993    8.571540    6.597151  61.226134   \n",
      "183750    0.064435   34.077096   33.889008   38.801754   29.352437  49.319451   \n",
      "...            ...         ...         ...         ...         ...        ...   \n",
      "351631   -0.030658   38.531418   37.707337   42.722519   34.340318  21.915362   \n",
      "351630   -0.025642    1.027000    0.942909    1.355152    0.698848  20.604593   \n",
      "351629   -0.006755  133.650259  134.389257  139.252672  128.047846  40.416154   \n",
      "351628   -0.009334   76.098616   77.147375   82.529743   69.667489  80.103735   \n",
      "351627    0.006309    9.309358    9.318788    9.397138    9.221579  54.874242   \n",
      "\n",
      "        Aroon Up  Aroon Down  Aroon Real  Company_ID  \n",
      "183754       0.0        60.0       -60.0         982  \n",
      "183753      80.0        50.0        30.0         111  \n",
      "183752     100.0        50.0        50.0         495  \n",
      "183751     100.0        10.0        90.0          14  \n",
      "183750      20.0        50.0       -30.0        1515  \n",
      "...          ...         ...         ...         ...  \n",
      "351631       0.0        60.0       -60.0           0  \n",
      "351630      20.0       100.0       -80.0        1728  \n",
      "351629      80.0        40.0        40.0         110  \n",
      "351628     100.0        40.0        60.0         342  \n",
      "351627       0.0        20.0       -20.0        1895  \n",
      "\n",
      "[165839 rows x 15 columns]), (              Open        High         Low       Close      Volume  \\\n",
      "19046    25.424533   25.983572   25.101705   25.322172    173100.0   \n",
      "20325     4.364500    4.395000    3.800000    3.975000    164108.0   \n",
      "20324     3.919735    3.923176    3.468913    3.534300   1593187.0   \n",
      "20323    12.644451   12.680960   12.425393   12.522752   9151000.0   \n",
      "20322    93.804106   95.428384   91.943426   92.126442   5760200.0   \n",
      "...            ...         ...         ...         ...         ...   \n",
      "351631   37.449821   38.037118   35.678151   36.470997  24834600.0   \n",
      "351630    0.790000    0.800000    0.700000    0.770000   6506900.0   \n",
      "351629  135.474861  136.837275  133.535313  134.121902   2856000.0   \n",
      "351628   81.591969   82.332246   79.983785   80.749588   4577000.0   \n",
      "351627    9.271140    9.344545    9.271140    9.337205     87800.0   \n",
      "\n",
      "        Log Return         SMA         WMA    BB_Upper    BB_Lower        MFI  \\\n",
      "19046    -0.004653   25.047373   25.220097   25.925027   24.169719  60.458654   \n",
      "20325    -0.109503    3.750800    3.954527    4.903371    2.598229  55.774034   \n",
      "20324     0.000974    3.272410    3.328943    3.636527    2.908294  91.491052   \n",
      "20323    -0.010634   12.572877   12.573490   12.822369   12.323385  37.264407   \n",
      "20322    -0.029203   94.495074   94.798620   98.377005   90.613143  37.992548   \n",
      "...            ...         ...         ...         ...         ...        ...   \n",
      "351631   -0.030658   38.531418   37.707337   42.722519   34.340318  21.915362   \n",
      "351630   -0.025642    1.027000    0.942909    1.355152    0.698848  20.604593   \n",
      "351629   -0.006755  133.650259  134.389257  139.252672  128.047846  40.416154   \n",
      "351628   -0.009334   76.098616   77.147375   82.529743   69.667489  80.103735   \n",
      "351627    0.006309    9.309358    9.318788    9.397138    9.221579  54.874242   \n",
      "\n",
      "        Aroon Up  Aroon Down  Aroon Real  Company_ID  \n",
      "19046      100.0        30.0        70.0        1650  \n",
      "20325       30.0        10.0        20.0          24  \n",
      "20324      100.0        10.0        90.0         444  \n",
      "20323       70.0        50.0        20.0        1230  \n",
      "20322       70.0        20.0        50.0        1168  \n",
      "...          ...         ...         ...         ...  \n",
      "351631       0.0        60.0       -60.0           0  \n",
      "351630      20.0       100.0       -80.0        1728  \n",
      "351629      80.0        40.0        40.0         110  \n",
      "351628     100.0        40.0        60.0         342  \n",
      "351627       0.0        20.0       -20.0        1895  \n",
      "\n",
      "[331680 rows x 15 columns],               Open        High         Low       Close      Volume  \\\n",
      "351626  158.372701  160.990570  152.588601  153.234222   4967600.0   \n",
      "351625  111.032093  114.169576  108.843599  109.114738  52687600.0   \n",
      "351624   23.027075   28.598141   22.377118   27.762482   3983210.0   \n",
      "351623   32.499602   32.798863   31.336767   31.550524  19752300.0   \n",
      "351622    1.384530    1.504007    1.377502    1.489951    105200.0   \n",
      "...            ...         ...         ...         ...         ...   \n",
      "517693   44.410855   45.098868   33.131290   34.565460   2056700.0   \n",
      "517692   21.709725   23.016879   18.281874   19.159403    192200.0   \n",
      "517691   24.537632   24.537632   22.360907   22.360907       900.0   \n",
      "517690   95.500000   99.431000   89.879997   92.389999  43235100.0   \n",
      "517689    1.050000    1.200000    0.800000    1.000000     26000.0   \n",
      "\n",
      "        Log Return         SMA         WMA    BB_Upper    BB_Lower        MFI  \\\n",
      "351626   -0.035270  153.737459  154.279610  163.362771  144.112147  65.679594   \n",
      "351625   -0.012436  105.107050  106.803714  112.755829   97.458271  75.053960   \n",
      "351624    0.187015   25.311212   24.990454   28.719441   21.902983  70.156840   \n",
      "351623   -0.027794   30.236429   30.707316   32.503650   27.969209  67.900164   \n",
      "351622    0.088728    1.305112    1.349900    1.537532    1.072693  89.153651   \n",
      "...            ...         ...         ...         ...         ...        ...   \n",
      "517693   -0.262343   71.766320   59.739680  121.727909   21.804730  18.926924   \n",
      "517692   -0.138350   28.505705   26.112502   38.415966   18.595443  16.556023   \n",
      "517691   -0.140147   26.207811   24.979427   31.480164   20.935459  11.455948   \n",
      "517690   -0.011729  107.682999  102.428727  131.606219   83.759779  42.270382   \n",
      "517689    0.105361    1.242000    1.126000    1.714508    0.769492  39.065346   \n",
      "\n",
      "        Aroon Up  Aroon Down  Aroon Real  Company_ID  \n",
      "351626      90.0        40.0        50.0        1509  \n",
      "351625     100.0         0.0       100.0         498  \n",
      "351624      30.0         0.0        30.0        1295  \n",
      "351623     100.0        40.0        60.0         945  \n",
      "351622      50.0         0.0        50.0        1703  \n",
      "...          ...         ...         ...         ...  \n",
      "517693      40.0        80.0       -40.0         766  \n",
      "517692      10.0       100.0       -90.0        1610  \n",
      "517691       0.0        70.0       -70.0        1451  \n",
      "517690      40.0        90.0       -50.0        1444  \n",
      "517689      10.0        80.0       -70.0        1968  \n",
      "\n",
      "[165839 rows x 15 columns]), (             Open       High        Low      Close      Volume  Log Return  \\\n",
      "19046   25.424533  25.983572  25.101705  25.322172    173100.0   -0.004653   \n",
      "20325    4.364500   4.395000   3.800000   3.975000    164108.0   -0.109503   \n",
      "20324    3.919735   3.923176   3.468913   3.534300   1593187.0    0.000974   \n",
      "20323   12.644451  12.680960  12.425393  12.522752   9151000.0   -0.010634   \n",
      "20322   93.804106  95.428384  91.943426  92.126442   5760200.0   -0.029203   \n",
      "...           ...        ...        ...        ...         ...         ...   \n",
      "517693  44.410855  45.098868  33.131290  34.565460   2056700.0   -0.262343   \n",
      "517692  21.709725  23.016879  18.281874  19.159403    192200.0   -0.138350   \n",
      "517691  24.537632  24.537632  22.360907  22.360907       900.0   -0.140147   \n",
      "517690  95.500000  99.431000  89.879997  92.389999  43235100.0   -0.011729   \n",
      "517689   1.050000   1.200000   0.800000   1.000000     26000.0    0.105361   \n",
      "\n",
      "               SMA         WMA    BB_Upper   BB_Lower        MFI  Aroon Up  \\\n",
      "19046    25.047373   25.220097   25.925027  24.169719  60.458654     100.0   \n",
      "20325     3.750800    3.954527    4.903371   2.598229  55.774034      30.0   \n",
      "20324     3.272410    3.328943    3.636527   2.908294  91.491052     100.0   \n",
      "20323    12.572877   12.573490   12.822369  12.323385  37.264407      70.0   \n",
      "20322    94.495074   94.798620   98.377005  90.613143  37.992548      70.0   \n",
      "...            ...         ...         ...        ...        ...       ...   \n",
      "517693   71.766320   59.739680  121.727909  21.804730  18.926924      40.0   \n",
      "517692   28.505705   26.112502   38.415966  18.595443  16.556023      10.0   \n",
      "517691   26.207811   24.979427   31.480164  20.935459  11.455948       0.0   \n",
      "517690  107.682999  102.428727  131.606219  83.759779  42.270382      40.0   \n",
      "517689    1.242000    1.126000    1.714508   0.769492  39.065346      10.0   \n",
      "\n",
      "        Aroon Down  Aroon Real  Company_ID  \n",
      "19046         30.0        70.0        1650  \n",
      "20325         10.0        20.0          24  \n",
      "20324         10.0        90.0         444  \n",
      "20323         50.0        20.0        1230  \n",
      "20322         20.0        50.0        1168  \n",
      "...            ...         ...         ...  \n",
      "517693        80.0       -40.0         766  \n",
      "517692       100.0       -90.0        1610  \n",
      "517691        70.0       -70.0        1451  \n",
      "517690        90.0       -50.0        1444  \n",
      "517689        80.0       -70.0        1968  \n",
      "\n",
      "[497519 rows x 15 columns],              Open       High        Low      Close      Volume  Log Return  \\\n",
      "517688  12.990000  14.240000   9.320000  10.400000   2691100.0   -0.254195   \n",
      "517700  53.200001  78.000000  40.000000  46.200001    175355.0   -0.110542   \n",
      "517687  20.850000  20.950001  16.350000  17.799999     68560.0   -0.177158   \n",
      "517715  15.721996  16.657924  14.156875  14.345634    119900.0   -0.115832   \n",
      "517717  40.170879  40.170879  35.126007  35.126007      5600.0   -0.134200   \n",
      "...           ...        ...        ...        ...         ...         ...   \n",
      "683788   0.090000   0.096000   0.070000   0.070000    362748.0   -0.236765   \n",
      "683787  19.549510  19.549510  18.227657  18.317106   1106000.0   -0.058484   \n",
      "683786   3.375415   3.393087   3.251709   3.313562    105000.0   -0.015873   \n",
      "683785  45.189162  45.189162  42.655750  42.655750       800.0   -0.057695   \n",
      "683797  92.063592  92.101774  85.582398  86.193291  14407000.0   -0.062980   \n",
      "\n",
      "              SMA        WMA    BB_Upper   BB_Lower        MFI  Aroon Up  \\\n",
      "517688  27.615000  21.888727   50.664327   4.565673   8.664753       0.0   \n",
      "517700  55.985600  63.583418  138.972535 -27.001335  39.027142      50.0   \n",
      "517687  18.390000  19.429091   30.077070   6.702930  87.512509      60.0   \n",
      "517715  16.561895  15.882961   19.754945  13.368846  15.049885       0.0   \n",
      "517717  47.258101  44.304013   59.258559  35.257644   3.001822       0.0   \n",
      "...           ...        ...         ...        ...        ...       ...   \n",
      "683788   0.072444   0.070750    0.093401   0.051487  63.177555     100.0   \n",
      "683787  19.685671  19.728046   21.234510  18.136832  75.737753      80.0   \n",
      "683786   3.412717   3.397271    3.528786   3.296649  45.834793      70.0   \n",
      "683785  44.261245  44.616113   47.637856  40.884634  89.610624      50.0   \n",
      "683797  88.741745  89.215646   93.046298  84.437192  38.208861      70.0   \n",
      "\n",
      "        Aroon Down  Aroon Real  Company_ID  \n",
      "517688        80.0       -80.0         727  \n",
      "517700        50.0         0.0        1266  \n",
      "517687        50.0        10.0        1678  \n",
      "517715        70.0       -70.0        1919  \n",
      "517717       100.0      -100.0        1213  \n",
      "...            ...         ...         ...  \n",
      "683788        80.0        20.0         220  \n",
      "683787        30.0        50.0        1329  \n",
      "683786         0.0        70.0         139  \n",
      "683785        30.0        20.0        1314  \n",
      "683797        50.0        20.0        1376  \n",
      "\n",
      "[165839 rows x 15 columns]), (             Open       High        Low      Close      Volume  Log Return  \\\n",
      "19046   25.424533  25.983572  25.101705  25.322172    173100.0   -0.004653   \n",
      "20325    4.364500   4.395000   3.800000   3.975000    164108.0   -0.109503   \n",
      "20324    3.919735   3.923176   3.468913   3.534300   1593187.0    0.000974   \n",
      "20323   12.644451  12.680960  12.425393  12.522752   9151000.0   -0.010634   \n",
      "20322   93.804106  95.428384  91.943426  92.126442   5760200.0   -0.029203   \n",
      "...           ...        ...        ...        ...         ...         ...   \n",
      "683788   0.090000   0.096000   0.070000   0.070000    362748.0   -0.236765   \n",
      "683787  19.549510  19.549510  18.227657  18.317106   1106000.0   -0.058484   \n",
      "683786   3.375415   3.393087   3.251709   3.313562    105000.0   -0.015873   \n",
      "683785  45.189162  45.189162  42.655750  42.655750       800.0   -0.057695   \n",
      "683797  92.063592  92.101774  85.582398  86.193291  14407000.0   -0.062980   \n",
      "\n",
      "              SMA        WMA   BB_Upper   BB_Lower        MFI  Aroon Up  \\\n",
      "19046   25.047373  25.220097  25.925027  24.169719  60.458654     100.0   \n",
      "20325    3.750800   3.954527   4.903371   2.598229  55.774034      30.0   \n",
      "20324    3.272410   3.328943   3.636527   2.908294  91.491052     100.0   \n",
      "20323   12.572877  12.573490  12.822369  12.323385  37.264407      70.0   \n",
      "20322   94.495074  94.798620  98.377005  90.613143  37.992548      70.0   \n",
      "...           ...        ...        ...        ...        ...       ...   \n",
      "683788   0.072444   0.070750   0.093401   0.051487  63.177555     100.0   \n",
      "683787  19.685671  19.728046  21.234510  18.136832  75.737753      80.0   \n",
      "683786   3.412717   3.397271   3.528786   3.296649  45.834793      70.0   \n",
      "683785  44.261245  44.616113  47.637856  40.884634  89.610624      50.0   \n",
      "683797  88.741745  89.215646  93.046298  84.437192  38.208861      70.0   \n",
      "\n",
      "        Aroon Down  Aroon Real  Company_ID  \n",
      "19046         30.0        70.0        1650  \n",
      "20325         10.0        20.0          24  \n",
      "20324         10.0        90.0         444  \n",
      "20323         50.0        20.0        1230  \n",
      "20322         20.0        50.0        1168  \n",
      "...            ...         ...         ...  \n",
      "683788        80.0        20.0         220  \n",
      "683787        30.0        50.0        1329  \n",
      "683786         0.0        70.0         139  \n",
      "683785        30.0        20.0        1314  \n",
      "683797        50.0        20.0        1376  \n",
      "\n",
      "[663358 rows x 15 columns],               Open        High         Low       Close      Volume  \\\n",
      "683812    8.150000    8.800000    7.780000    8.100000   2054900.0   \n",
      "683813  170.699997  174.100006  156.500000  158.449997      8000.0   \n",
      "683814   85.252973   87.759844   81.675858   86.053246   1102700.0   \n",
      "683841    7.800000    7.890000    7.290000    7.600000     42700.0   \n",
      "683840   12.494887   12.537387   12.384388   12.435388    106200.0   \n",
      "...            ...         ...         ...         ...         ...   \n",
      "848258   46.696473   49.555643   46.508498   49.456711  14023900.0   \n",
      "848257   54.299344   58.442908   52.508067   57.183105   3330800.0   \n",
      "848256   15.962807   16.406438   15.661773   15.851900  20485100.0   \n",
      "848255   15.088027   15.544674   14.752529   15.069387   1011400.0   \n",
      "848254   21.966843   21.966843   21.966843   21.966843         0.0   \n",
      "\n",
      "        Log Return         SMA         WMA    BB_Upper    BB_Lower        MFI  \\\n",
      "683812   -0.001234    7.767000    7.864545    8.441214    7.092786  77.274722   \n",
      "683813   -0.084204  203.684999  190.651090  259.491533  147.878465  52.265905   \n",
      "683814    0.009230   75.424103   79.323604   90.842796   60.005409  77.476392   \n",
      "683841   -0.018253    8.326000    8.042182    9.600683    7.051317  21.898589   \n",
      "683840   -0.000413   12.300902   12.303033   12.604576   11.997228  48.267217   \n",
      "...            ...         ...         ...         ...         ...        ...   \n",
      "848258    0.073016   45.071002   46.298583   50.370425   39.771579  56.830127   \n",
      "848257    0.053379   56.383093   56.919342   60.632316   52.133871  58.530097   \n",
      "848256   -0.005482   15.504914   15.652983   16.540843   14.468985  52.630690   \n",
      "848255    0.004338   15.469450   15.526375   16.967614   13.971287  41.599578   \n",
      "848254    0.000000   22.565019   22.533002   25.005109   20.124929  26.874645   \n",
      "\n",
      "        Aroon Up  Aroon Down  Aroon Real  Company_ID  \n",
      "683812     100.0         0.0       100.0         621  \n",
      "683813      40.0       100.0       -60.0         208  \n",
      "683814     100.0        20.0        80.0        1810  \n",
      "683841      30.0       100.0       -70.0        1585  \n",
      "683840      20.0        70.0       -50.0        1154  \n",
      "...          ...         ...         ...         ...  \n",
      "848258       0.0        20.0       -20.0        1673  \n",
      "848257      80.0        20.0        60.0        1420  \n",
      "848256      80.0        50.0        30.0        1230  \n",
      "848255       0.0        20.0       -20.0         814  \n",
      "848254      80.0        40.0        40.0        1116  \n",
      "\n",
      "[165839 rows x 15 columns]), (             Open       High        Low      Close      Volume  Log Return  \\\n",
      "19046   25.424533  25.983572  25.101705  25.322172    173100.0   -0.004653   \n",
      "20325    4.364500   4.395000   3.800000   3.975000    164108.0   -0.109503   \n",
      "20324    3.919735   3.923176   3.468913   3.534300   1593187.0    0.000974   \n",
      "20323   12.644451  12.680960  12.425393  12.522752   9151000.0   -0.010634   \n",
      "20322   93.804106  95.428384  91.943426  92.126442   5760200.0   -0.029203   \n",
      "...           ...        ...        ...        ...         ...         ...   \n",
      "848258  46.696473  49.555643  46.508498  49.456711  14023900.0    0.073016   \n",
      "848257  54.299344  58.442908  52.508067  57.183105   3330800.0    0.053379   \n",
      "848256  15.962807  16.406438  15.661773  15.851900  20485100.0   -0.005482   \n",
      "848255  15.088027  15.544674  14.752529  15.069387   1011400.0    0.004338   \n",
      "848254  21.966843  21.966843  21.966843  21.966843         0.0    0.000000   \n",
      "\n",
      "              SMA        WMA   BB_Upper   BB_Lower        MFI  Aroon Up  \\\n",
      "19046   25.047373  25.220097  25.925027  24.169719  60.458654     100.0   \n",
      "20325    3.750800   3.954527   4.903371   2.598229  55.774034      30.0   \n",
      "20324    3.272410   3.328943   3.636527   2.908294  91.491052     100.0   \n",
      "20323   12.572877  12.573490  12.822369  12.323385  37.264407      70.0   \n",
      "20322   94.495074  94.798620  98.377005  90.613143  37.992548      70.0   \n",
      "...           ...        ...        ...        ...        ...       ...   \n",
      "848258  45.071002  46.298583  50.370425  39.771579  56.830127       0.0   \n",
      "848257  56.383093  56.919342  60.632316  52.133871  58.530097      80.0   \n",
      "848256  15.504914  15.652983  16.540843  14.468985  52.630690      80.0   \n",
      "848255  15.469450  15.526375  16.967614  13.971287  41.599578       0.0   \n",
      "848254  22.565019  22.533002  25.005109  20.124929  26.874645      80.0   \n",
      "\n",
      "        Aroon Down  Aroon Real  Company_ID  \n",
      "19046         30.0        70.0        1650  \n",
      "20325         10.0        20.0          24  \n",
      "20324         10.0        90.0         444  \n",
      "20323         50.0        20.0        1230  \n",
      "20322         20.0        50.0        1168  \n",
      "...            ...         ...         ...  \n",
      "848258        20.0       -20.0        1673  \n",
      "848257        20.0        60.0        1420  \n",
      "848256        50.0        30.0        1230  \n",
      "848255        20.0       -20.0         814  \n",
      "848254        40.0        40.0        1116  \n",
      "\n",
      "[829197 rows x 15 columns],                Open        High         Low       Close      Volume  \\\n",
      "848253    11.289803   13.221195   11.289803   12.878654     15858.0   \n",
      "848252     4.534676    4.653529    4.516391    4.616959     73000.0   \n",
      "848251     2.746112    2.781206    2.746112    2.772433    418600.0   \n",
      "848250    58.783023   63.514266   58.783023   63.279175   5167200.0   \n",
      "848249    58.462909   58.606178   57.087537   57.517342  69977100.0   \n",
      "...             ...         ...         ...         ...         ...   \n",
      "1013553   46.900002   48.700001   46.349998   48.650002   4558486.0   \n",
      "1013552   10.320000   10.960000   10.320000   10.620000    114976.0   \n",
      "1013551  349.440002  358.630005  330.489990  339.839996   2050593.0   \n",
      "1013549    7.410000    7.600000    6.150100    6.330000    274559.0   \n",
      "1014879    1.430000    1.543200    1.383000    1.390000     45912.0   \n",
      "\n",
      "         Log Return         SMA         WMA    BB_Upper    BB_Lower  \\\n",
      "848253     0.131671   12.559063   12.379617   13.801053   11.317072   \n",
      "848252     0.020001    4.567177    4.561456    4.649355    4.485000   \n",
      "848251     0.013358    2.747268    2.760609    2.825266    2.669270   \n",
      "848250     0.071872   58.255039   59.015618   62.079061   54.431016   \n",
      "848249    -0.016143   58.866053   58.296454   61.663980   56.068126   \n",
      "...             ...         ...         ...         ...         ...   \n",
      "1013553    0.044340   47.233000   46.813818   50.765603   43.700396   \n",
      "1013552    0.021235   10.080782   10.255839   10.998021    9.163543   \n",
      "1013551   -0.044065  346.264996  345.213817  362.517769  330.012224   \n",
      "1013549   -0.169603    7.608000    7.471091    8.557265    6.658735   \n",
      "1014879   -0.021353    1.539000    1.483818    1.787427    1.290573   \n",
      "\n",
      "               MFI  Aroon Up  Aroon Down  Aroon Real  Company_ID  \n",
      "848253   75.752572      20.0        70.0       -50.0         315  \n",
      "848252   39.084631       0.0        20.0       -20.0        1565  \n",
      "848251   64.250790      70.0         0.0        70.0        1385  \n",
      "848250   74.498449     100.0         0.0       100.0        1402  \n",
      "848249   32.514105      10.0        60.0       -50.0         991  \n",
      "...            ...       ...         ...         ...         ...  \n",
      "1013553  26.170197      10.0        80.0       -70.0        1412  \n",
      "1013552  48.678631      80.0        30.0        50.0         421  \n",
      "1013551  30.745227       0.0        70.0       -70.0        1620  \n",
      "1013549  17.825524      10.0       100.0       -90.0         501  \n",
      "1014879  53.320113      20.0        90.0       -70.0         123  \n",
      "\n",
      "[165839 rows x 15 columns])]\n"
     ]
    }
   ],
   "source": [
    "dataset = pd.read_csv('modified_dataset.csv')\n",
    "dataset.dropna(inplace=True)\n",
    "\n",
    "dataset.head() \n",
    "\n",
    "splits = create_time_series_splits(dataset)\n",
    "\n",
    "X = dataset.drop(['Log Return', 'Date'], axis=1)\n",
    "y = dataset['Log Return']\n",
    "\n",
    "print(splits)"
   ]
  },
  {
   "cell_type": "code",
   "execution_count": 133,
   "metadata": {},
   "outputs": [],
   "source": [
    "def train_evaluate_model(model, splits):\n",
    "\n",
    "    results = []\n",
    "\n",
    "    for fold, (train_data, test_data) in enumerate(splits):\n",
    "\n",
    "        X_train = train_data.drop(['Log Return'], axis=1)\n",
    "        y_train = train_data['Log Return']\n",
    "        X_test = test_data.drop(['Log Return'], axis=1)\n",
    "        y_test = test_data['Log Return']\n",
    "\n",
    "        scaler = StandardScaler()\n",
    "        X_train_scaled = scaler.fit_transform(X_train)\n",
    "        X_test_scaled = scaler.transform(X_test)\n",
    "\n",
    "        model.fit(X_train_scaled, y_train)\n",
    "        y_pred = model.predict(X_test_scaled)\n",
    "        \n",
    "        mse = mean_squared_error(y_test, y_pred)\n",
    "        r2 = r2_score(y_test, y_pred)\n",
    "\n",
    "        results.append({\n",
    "            'x_train': X_train,\n",
    "            'y_train': y_train,\n",
    "            'x_test': X_test,\n",
    "            'y_test': y_test,\n",
    "            'fold': fold,\n",
    "            'mse': mse,\n",
    "            'r2': r2\n",
    "        })\n",
    "\n",
    "    return results"
   ]
  },
  {
   "cell_type": "code",
   "execution_count": 128,
   "metadata": {},
   "outputs": [],
   "source": [
    "linear_model = LinearRegression()\n",
    "random_forest_model = RandomForestRegressor(n_estimators=100, random_state=42)\n",
    "\n",
    "linear_results = train_evaluate_model(linear_model, X, y, splits)\n",
    "random_forest_results = train_evaluate_model(random_forest_model, X, y, splits)"
   ]
  },
  {
   "cell_type": "code",
   "execution_count": 131,
   "metadata": {},
   "outputs": [
    {
     "name": "stdout",
     "output_type": "stream",
     "text": [
      "[{'fold': 0, 'mse': 0.012579180500415617, 'r2': -0.01116467439655322}, {'fold': 1, 'mse': 0.01215065944419776, 'r2': 0.012643252661893145}, {'fold': 2, 'mse': 0.013860193842440685, 'r2': 0.010609898654502126}, {'fold': 3, 'mse': 0.008939176628481075, 'r2': 0.009798591939795598}, {'fold': 4, 'mse': 0.013448188396385423, 'r2': 0.012519889441254928}]\n",
      "Average Linear Regression MSE: 0.012195479762384113\n",
      "Average Linear Regression R2: 0.006881391660178515\n"
     ]
    }
   ],
   "source": [
    "print(linear_results)\n",
    "avg_mse = sum([result['mse'] for result in linear_results]) / len(linear_results)\n",
    "avg_r2 = sum([result['r2'] for result in linear_results]) / len(linear_results)\n",
    "print(f\"Average Linear Regression MSE: {avg_mse}\")\n",
    "print(f\"Average Linear Regression R2: {avg_r2}\")"
   ]
  },
  {
   "cell_type": "code",
   "execution_count": 132,
   "metadata": {},
   "outputs": [
    {
     "name": "stdout",
     "output_type": "stream",
     "text": [
      "[{'fold': 0, 'mse': 0.00815039373772071, 'r2': 0.3448388605494793}, {'fold': 1, 'mse': 0.0071814533024290896, 'r2': 0.4164385557499223}, {'fold': 2, 'mse': 0.007285122334435854, 'r2': 0.47996196830154936}, {'fold': 3, 'mse': 0.004103743504889685, 'r2': 0.5454242861794587}, {'fold': 4, 'mse': 0.006747354176119099, 'r2': 0.5045519997619952}]\n",
      "Average Random Forest MSE: 0.006693613411118887\n",
      "Average Random Forest R2: 0.458243134108481\n"
     ]
    }
   ],
   "source": [
    "print(random_forest_results)\n",
    "avg_mse = sum([result['mse'] for result in random_forest_results]) / len(random_forest_results)\n",
    "avg_r2 = sum([result['r2'] for result in random_forest_results]) / len(random_forest_results)\n",
    "print(f\"Average Random Forest MSE: {avg_mse}\")\n",
    "print(f\"Average Random Forest R2: {avg_r2}\")\n"
   ]
  },
  {
   "cell_type": "markdown",
   "metadata": {},
   "source": [
    "# Surprises\n",
    "---"
   ]
  },
  {
   "cell_type": "markdown",
   "metadata": {},
   "source": [
    "Based on this extremely initial analysis, it seems as if the Random Forest model above performed considerably well compared to my expectations. The Linear Regression model performed quite poorly. Given that the prediction task involved log returns, which are numerically small in this dataset with weekly intervals, a MSE of <= 0.01 would be a good indicator of model performance. The Random Forest model finished with an average MSE of 0.006 compared to 0.012 for Linear Regression. Looking at R-Squared, 0.6% of the variance in the data was explained by the Linear Regression model, where was 45% of the variance was explained by the Random Forest model. Given the volatility and difficulty of predicting stock data, I believe the Random Forest model performed very well for a simple model.\n",
    "\n",
    "One of my greatest concerns for this analysis is the risk of overfitting the model, such that it performs well on the given data, but poorly in a real world environment. This will be something to look out for as additional models are evaluated."
   ]
  },
  {
   "cell_type": "markdown",
   "metadata": {},
   "source": [
    "# Next Steps\n",
    "---"
   ]
  },
  {
   "cell_type": "markdown",
   "metadata": {},
   "source": [
    "Time was one of the biggest constraints in this analysis. I underestimated the amount of time it would take to finish training and evaluating the two simple models above on my laptop (the final iteration had a runtime of ~99 minutes). There are a few immediate next steps in this analysis, along with long-term goals. \n",
    "\n",
    "The inital next steps are:\n",
    "1. Create a baseline model (random walk?) to compare results against\n",
    "2. Create visualizations of the model predictions versus actual log returns\n",
    "\n",
    "Long term goals include:\n",
    "1. Adding additional features such as 'Month' or 'Quarter' to extract potential seasonal patterns in the data the current models may have missed\n",
    "1. Adding additional models into the analysis to examine their performance (include advanced methods like ARIMA)\n",
    "3. Exploring different Y-variables such as converting the problem into a classification task and using 'Positive' and 'Negative' values to predict of the stock price went up or down based on the previous week"
   ]
  }
 ],
 "metadata": {
  "kernelspec": {
   "display_name": "venv",
   "language": "python",
   "name": "python3"
  },
  "language_info": {
   "codemirror_mode": {
    "name": "ipython",
    "version": 3
   },
   "file_extension": ".py",
   "mimetype": "text/x-python",
   "name": "python",
   "nbconvert_exporter": "python",
   "pygments_lexer": "ipython3",
   "version": "3.13.2"
  }
 },
 "nbformat": 4,
 "nbformat_minor": 2
}
